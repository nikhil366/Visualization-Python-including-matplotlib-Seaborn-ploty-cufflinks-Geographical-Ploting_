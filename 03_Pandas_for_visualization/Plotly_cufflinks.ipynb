{
 "metadata": {
  "language_info": {
   "codemirror_mode": {
    "name": "ipython",
    "version": 3
   },
   "file_extension": ".py",
   "mimetype": "text/x-python",
   "name": "python",
   "nbconvert_exporter": "python",
   "pygments_lexer": "ipython3",
   "version": "3.8.5-final"
  },
  "orig_nbformat": 2,
  "kernelspec": {
   "name": "python38564bitad64ff2a05ed49fbb3fe6c793326e6a2",
   "display_name": "Python 3.8.5 64-bit",
   "language": "python"
  }
 },
 "nbformat": 4,
 "nbformat_minor": 2,
 "cells": [
  {
   "source": [
    "# Plotly\n",
    "* Plotly's Python graphing library makes interactive, publication-quality graphs. Examples of how to make line plots, scatter plots, area charts, bar charts, error bars, box plots, histograms, heatmaps, subplots, multiple-axes, polar charts, and bubble charts.\n",
    "* via plotly we can make interactive 3D plots.\n",
    "## Using Cufflinks and iplot()\n",
    "\n",
    "* scatter\n",
    "* bar\n",
    "* box\n",
    "* spread\n",
    "* ratio\n",
    "* heatmap\n",
    "* surface\n",
    "* histogram\n",
    "* bubble"
   ],
   "cell_type": "markdown",
   "metadata": {}
  },
  {
   "cell_type": "code",
   "execution_count": 1,
   "metadata": {},
   "outputs": [
    {
     "output_type": "display_data",
     "data": {
      "text/html": "        <script type=\"text/javascript\">\n        window.PlotlyConfig = {MathJaxConfig: 'local'};\n        if (window.MathJax) {MathJax.Hub.Config({SVG: {font: \"STIX-Web\"}});}\n        if (typeof require !== 'undefined') {\n        require.undef(\"plotly\");\n        requirejs.config({\n            paths: {\n                'plotly': ['https://cdn.plot.ly/plotly-latest.min']\n            }\n        });\n        require(['plotly'], function(Plotly) {\n            window._Plotly = Plotly;\n        });\n        }\n        </script>\n        "
     },
     "metadata": {}
    }
   ],
   "source": [
    "import numpy as np\n",
    "import pandas as pd\n",
    "%matplotlib inline\n",
    "from plotly import __version__\n",
    "import cufflinks as cf\n",
    "import plotly.graph_objs as go\n",
    "from  plotly.offline import plot\n",
    "import chart_studio.plotly as py\n",
    "import cufflinks as cf\n",
    "cf.go_offline()\n",
    "from plotly.offline import download_plotlyjs, init_notebook_mode, plot,iplot\n",
    "'''plotly is an opensource lib to use and to start with plotly we have to connect plotly offline to to our working notebook'''\n",
    "from plotly.offline import download_plotlyjs, init_notebook_mode,plot,iplot"
   ]
  },
  {
   "cell_type": "code",
   "execution_count": 2,
   "metadata": {},
   "outputs": [
    {
     "output_type": "display_data",
     "data": {
      "text/html": "        <script type=\"text/javascript\">\n        window.PlotlyConfig = {MathJaxConfig: 'local'};\n        if (window.MathJax) {MathJax.Hub.Config({SVG: {font: \"STIX-Web\"}});}\n        if (typeof require !== 'undefined') {\n        require.undef(\"plotly\");\n        requirejs.config({\n            paths: {\n                'plotly': ['https://cdn.plot.ly/plotly-latest.min']\n            }\n        });\n        require(['plotly'], function(Plotly) {\n            window._Plotly = Plotly;\n        });\n        }\n        </script>\n        "
     },
     "metadata": {}
    }
   ],
   "source": [
    "# to connect plotly to notebook and use features of javascript for data visualize\n",
    "init_notebook_mode(connected=True)"
   ]
  },
  {
   "cell_type": "code",
   "execution_count": 3,
   "metadata": {},
   "outputs": [],
   "source": [
    "# Creating data from pandas Data frame\n",
    "df1 = pd.DataFrame(np.random.randn(100,4), columns='A B C D'.split())"
   ]
  },
  {
   "cell_type": "code",
   "execution_count": 4,
   "metadata": {},
   "outputs": [
    {
     "output_type": "execute_result",
     "data": {
      "text/plain": [
       "          A         B         C         D\n",
       "0 -1.603459  0.819234  2.413773  0.007402\n",
       "1  0.674452  0.760248 -0.712864 -1.437070\n",
       "2  0.168739  0.629410 -0.464414  1.859186\n",
       "3 -0.712084  0.039043 -0.015957  0.323463\n",
       "4  0.236177 -0.203002 -1.065064 -1.018683\n",
       "5  1.180677 -0.421775 -0.488247 -2.502978\n",
       "6 -0.924341 -0.005137 -0.467927 -1.317022\n",
       "7  0.324974 -0.602642  0.793577  1.284249\n",
       "8  0.241230 -0.519906 -1.288252  1.317656\n",
       "9 -1.371776  0.720611  1.180887 -1.519846"
      ],
      "text/html": "<div>\n<style scoped>\n    .dataframe tbody tr th:only-of-type {\n        vertical-align: middle;\n    }\n\n    .dataframe tbody tr th {\n        vertical-align: top;\n    }\n\n    .dataframe thead th {\n        text-align: right;\n    }\n</style>\n<table border=\"1\" class=\"dataframe\">\n  <thead>\n    <tr style=\"text-align: right;\">\n      <th></th>\n      <th>A</th>\n      <th>B</th>\n      <th>C</th>\n      <th>D</th>\n    </tr>\n  </thead>\n  <tbody>\n    <tr>\n      <th>0</th>\n      <td>-1.603459</td>\n      <td>0.819234</td>\n      <td>2.413773</td>\n      <td>0.007402</td>\n    </tr>\n    <tr>\n      <th>1</th>\n      <td>0.674452</td>\n      <td>0.760248</td>\n      <td>-0.712864</td>\n      <td>-1.437070</td>\n    </tr>\n    <tr>\n      <th>2</th>\n      <td>0.168739</td>\n      <td>0.629410</td>\n      <td>-0.464414</td>\n      <td>1.859186</td>\n    </tr>\n    <tr>\n      <th>3</th>\n      <td>-0.712084</td>\n      <td>0.039043</td>\n      <td>-0.015957</td>\n      <td>0.323463</td>\n    </tr>\n    <tr>\n      <th>4</th>\n      <td>0.236177</td>\n      <td>-0.203002</td>\n      <td>-1.065064</td>\n      <td>-1.018683</td>\n    </tr>\n    <tr>\n      <th>5</th>\n      <td>1.180677</td>\n      <td>-0.421775</td>\n      <td>-0.488247</td>\n      <td>-2.502978</td>\n    </tr>\n    <tr>\n      <th>6</th>\n      <td>-0.924341</td>\n      <td>-0.005137</td>\n      <td>-0.467927</td>\n      <td>-1.317022</td>\n    </tr>\n    <tr>\n      <th>7</th>\n      <td>0.324974</td>\n      <td>-0.602642</td>\n      <td>0.793577</td>\n      <td>1.284249</td>\n    </tr>\n    <tr>\n      <th>8</th>\n      <td>0.241230</td>\n      <td>-0.519906</td>\n      <td>-1.288252</td>\n      <td>1.317656</td>\n    </tr>\n    <tr>\n      <th>9</th>\n      <td>-1.371776</td>\n      <td>0.720611</td>\n      <td>1.180887</td>\n      <td>-1.519846</td>\n    </tr>\n  </tbody>\n</table>\n</div>"
     },
     "metadata": {},
     "execution_count": 4
    }
   ],
   "source": [
    "df1.head(10)"
   ]
  },
  {
   "cell_type": "code",
   "execution_count": 5,
   "metadata": {},
   "outputs": [
    {
     "output_type": "execute_result",
     "data": {
      "text/plain": [
       "  category  Values\n",
       "0        A      35\n",
       "1        B      45\n",
       "2        C      80"
      ],
      "text/html": "<div>\n<style scoped>\n    .dataframe tbody tr th:only-of-type {\n        vertical-align: middle;\n    }\n\n    .dataframe tbody tr th {\n        vertical-align: top;\n    }\n\n    .dataframe thead th {\n        text-align: right;\n    }\n</style>\n<table border=\"1\" class=\"dataframe\">\n  <thead>\n    <tr style=\"text-align: right;\">\n      <th></th>\n      <th>category</th>\n      <th>Values</th>\n    </tr>\n  </thead>\n  <tbody>\n    <tr>\n      <th>0</th>\n      <td>A</td>\n      <td>35</td>\n    </tr>\n    <tr>\n      <th>1</th>\n      <td>B</td>\n      <td>45</td>\n    </tr>\n    <tr>\n      <th>2</th>\n      <td>C</td>\n      <td>80</td>\n    </tr>\n  </tbody>\n</table>\n</div>"
     },
     "metadata": {},
     "execution_count": 5
    }
   ],
   "source": [
    "# creating Data frame via dict\n",
    "df2 = pd.DataFrame({'category':['A','B','C'], 'Values':[35,45,80]})\n",
    "df2"
   ]
  },
  {
   "cell_type": "code",
   "execution_count": 6,
   "metadata": {},
   "outputs": [
    {
     "output_type": "execute_result",
     "data": {
      "text/plain": [
       "<AxesSubplot:>"
      ]
     },
     "metadata": {},
     "execution_count": 6
    },
    {
     "output_type": "display_data",
     "data": {
      "text/plain": "<Figure size 432x288 with 1 Axes>",
      "image/svg+xml": "<?xml version=\"1.0\" encoding=\"utf-8\" standalone=\"no\"?>\n<!DOCTYPE svg PUBLIC \"-//W3C//DTD SVG 1.1//EN\"\n  \"http://www.w3.org/Graphics/SVG/1.1/DTD/svg11.dtd\">\n<!-- Created with matplotlib (https://matplotlib.org/) -->\n<svg height=\"248.518125pt\" version=\"1.1\" viewBox=\"0 0 370.942187 248.518125\" width=\"370.942187pt\" xmlns=\"http://www.w3.org/2000/svg\" xmlns:xlink=\"http://www.w3.org/1999/xlink\">\n <metadata>\n  <rdf:RDF xmlns:cc=\"http://creativecommons.org/ns#\" xmlns:dc=\"http://purl.org/dc/elements/1.1/\" xmlns:rdf=\"http://www.w3.org/1999/02/22-rdf-syntax-ns#\">\n   <cc:Work>\n    <dc:type rdf:resource=\"http://purl.org/dc/dcmitype/StillImage\"/>\n    <dc:date>2021-02-23T15:20:41.069961</dc:date>\n    <dc:format>image/svg+xml</dc:format>\n    <dc:creator>\n     <cc:Agent>\n      <dc:title>Matplotlib v3.3.4, https://matplotlib.org/</dc:title>\n     </cc:Agent>\n    </dc:creator>\n   </cc:Work>\n  </rdf:RDF>\n </metadata>\n <defs>\n  <style type=\"text/css\">*{stroke-linecap:butt;stroke-linejoin:round;}</style>\n </defs>\n <g id=\"figure_1\">\n  <g id=\"patch_1\">\n   <path d=\"M 0 248.518125 \nL 370.942187 248.518125 \nL 370.942187 0 \nL 0 0 \nz\n\" style=\"fill:none;\"/>\n  </g>\n  <g id=\"axes_1\">\n   <g id=\"patch_2\">\n    <path d=\"M 28.942188 224.64 \nL 363.742188 224.64 \nL 363.742188 7.2 \nL 28.942188 7.2 \nz\n\" style=\"fill:#ffffff;\"/>\n   </g>\n   <g id=\"matplotlib.axis_1\">\n    <g id=\"xtick_1\">\n     <g id=\"line2d_1\">\n      <defs>\n       <path d=\"M 0 0 \nL 0 3.5 \n\" id=\"m219016966c\" style=\"stroke:#000000;stroke-width:0.8;\"/>\n      </defs>\n      <g>\n       <use style=\"stroke:#000000;stroke-width:0.8;\" x=\"44.160369\" xlink:href=\"#m219016966c\" y=\"224.64\"/>\n      </g>\n     </g>\n     <g id=\"text_1\">\n      <!-- 0 -->\n      <g transform=\"translate(40.979119 239.238437)scale(0.1 -0.1)\">\n       <defs>\n        <path d=\"M 31.78125 66.40625 \nQ 24.171875 66.40625 20.328125 58.90625 \nQ 16.5 51.421875 16.5 36.375 \nQ 16.5 21.390625 20.328125 13.890625 \nQ 24.171875 6.390625 31.78125 6.390625 \nQ 39.453125 6.390625 43.28125 13.890625 \nQ 47.125 21.390625 47.125 36.375 \nQ 47.125 51.421875 43.28125 58.90625 \nQ 39.453125 66.40625 31.78125 66.40625 \nz\nM 31.78125 74.21875 \nQ 44.046875 74.21875 50.515625 64.515625 \nQ 56.984375 54.828125 56.984375 36.375 \nQ 56.984375 17.96875 50.515625 8.265625 \nQ 44.046875 -1.421875 31.78125 -1.421875 \nQ 19.53125 -1.421875 13.0625 8.265625 \nQ 6.59375 17.96875 6.59375 36.375 \nQ 6.59375 54.828125 13.0625 64.515625 \nQ 19.53125 74.21875 31.78125 74.21875 \nz\n\" id=\"DejaVuSans-48\"/>\n       </defs>\n       <use xlink:href=\"#DejaVuSans-48\"/>\n      </g>\n     </g>\n    </g>\n    <g id=\"xtick_2\">\n     <g id=\"line2d_2\">\n      <g>\n       <use style=\"stroke:#000000;stroke-width:0.8;\" x=\"105.647973\" xlink:href=\"#m219016966c\" y=\"224.64\"/>\n      </g>\n     </g>\n     <g id=\"text_2\">\n      <!-- 20 -->\n      <g transform=\"translate(99.285473 239.238437)scale(0.1 -0.1)\">\n       <defs>\n        <path d=\"M 19.1875 8.296875 \nL 53.609375 8.296875 \nL 53.609375 0 \nL 7.328125 0 \nL 7.328125 8.296875 \nQ 12.9375 14.109375 22.625 23.890625 \nQ 32.328125 33.6875 34.8125 36.53125 \nQ 39.546875 41.84375 41.421875 45.53125 \nQ 43.3125 49.21875 43.3125 52.78125 \nQ 43.3125 58.59375 39.234375 62.25 \nQ 35.15625 65.921875 28.609375 65.921875 \nQ 23.96875 65.921875 18.8125 64.3125 \nQ 13.671875 62.703125 7.8125 59.421875 \nL 7.8125 69.390625 \nQ 13.765625 71.78125 18.9375 73 \nQ 24.125 74.21875 28.421875 74.21875 \nQ 39.75 74.21875 46.484375 68.546875 \nQ 53.21875 62.890625 53.21875 53.421875 \nQ 53.21875 48.921875 51.53125 44.890625 \nQ 49.859375 40.875 45.40625 35.40625 \nQ 44.1875 33.984375 37.640625 27.21875 \nQ 31.109375 20.453125 19.1875 8.296875 \nz\n\" id=\"DejaVuSans-50\"/>\n       </defs>\n       <use xlink:href=\"#DejaVuSans-50\"/>\n       <use x=\"63.623047\" xlink:href=\"#DejaVuSans-48\"/>\n      </g>\n     </g>\n    </g>\n    <g id=\"xtick_3\">\n     <g id=\"line2d_3\">\n      <g>\n       <use style=\"stroke:#000000;stroke-width:0.8;\" x=\"167.135576\" xlink:href=\"#m219016966c\" y=\"224.64\"/>\n      </g>\n     </g>\n     <g id=\"text_3\">\n      <!-- 40 -->\n      <g transform=\"translate(160.773076 239.238437)scale(0.1 -0.1)\">\n       <defs>\n        <path d=\"M 37.796875 64.3125 \nL 12.890625 25.390625 \nL 37.796875 25.390625 \nz\nM 35.203125 72.90625 \nL 47.609375 72.90625 \nL 47.609375 25.390625 \nL 58.015625 25.390625 \nL 58.015625 17.1875 \nL 47.609375 17.1875 \nL 47.609375 0 \nL 37.796875 0 \nL 37.796875 17.1875 \nL 4.890625 17.1875 \nL 4.890625 26.703125 \nz\n\" id=\"DejaVuSans-52\"/>\n       </defs>\n       <use xlink:href=\"#DejaVuSans-52\"/>\n       <use x=\"63.623047\" xlink:href=\"#DejaVuSans-48\"/>\n      </g>\n     </g>\n    </g>\n    <g id=\"xtick_4\">\n     <g id=\"line2d_4\">\n      <g>\n       <use style=\"stroke:#000000;stroke-width:0.8;\" x=\"228.623179\" xlink:href=\"#m219016966c\" y=\"224.64\"/>\n      </g>\n     </g>\n     <g id=\"text_4\">\n      <!-- 60 -->\n      <g transform=\"translate(222.260679 239.238437)scale(0.1 -0.1)\">\n       <defs>\n        <path d=\"M 33.015625 40.375 \nQ 26.375 40.375 22.484375 35.828125 \nQ 18.609375 31.296875 18.609375 23.390625 \nQ 18.609375 15.53125 22.484375 10.953125 \nQ 26.375 6.390625 33.015625 6.390625 \nQ 39.65625 6.390625 43.53125 10.953125 \nQ 47.40625 15.53125 47.40625 23.390625 \nQ 47.40625 31.296875 43.53125 35.828125 \nQ 39.65625 40.375 33.015625 40.375 \nz\nM 52.59375 71.296875 \nL 52.59375 62.3125 \nQ 48.875 64.0625 45.09375 64.984375 \nQ 41.3125 65.921875 37.59375 65.921875 \nQ 27.828125 65.921875 22.671875 59.328125 \nQ 17.53125 52.734375 16.796875 39.40625 \nQ 19.671875 43.65625 24.015625 45.921875 \nQ 28.375 48.1875 33.59375 48.1875 \nQ 44.578125 48.1875 50.953125 41.515625 \nQ 57.328125 34.859375 57.328125 23.390625 \nQ 57.328125 12.15625 50.6875 5.359375 \nQ 44.046875 -1.421875 33.015625 -1.421875 \nQ 20.359375 -1.421875 13.671875 8.265625 \nQ 6.984375 17.96875 6.984375 36.375 \nQ 6.984375 53.65625 15.1875 63.9375 \nQ 23.390625 74.21875 37.203125 74.21875 \nQ 40.921875 74.21875 44.703125 73.484375 \nQ 48.484375 72.75 52.59375 71.296875 \nz\n\" id=\"DejaVuSans-54\"/>\n       </defs>\n       <use xlink:href=\"#DejaVuSans-54\"/>\n       <use x=\"63.623047\" xlink:href=\"#DejaVuSans-48\"/>\n      </g>\n     </g>\n    </g>\n    <g id=\"xtick_5\">\n     <g id=\"line2d_5\">\n      <g>\n       <use style=\"stroke:#000000;stroke-width:0.8;\" x=\"290.110783\" xlink:href=\"#m219016966c\" y=\"224.64\"/>\n      </g>\n     </g>\n     <g id=\"text_5\">\n      <!-- 80 -->\n      <g transform=\"translate(283.748283 239.238437)scale(0.1 -0.1)\">\n       <defs>\n        <path d=\"M 31.78125 34.625 \nQ 24.75 34.625 20.71875 30.859375 \nQ 16.703125 27.09375 16.703125 20.515625 \nQ 16.703125 13.921875 20.71875 10.15625 \nQ 24.75 6.390625 31.78125 6.390625 \nQ 38.8125 6.390625 42.859375 10.171875 \nQ 46.921875 13.96875 46.921875 20.515625 \nQ 46.921875 27.09375 42.890625 30.859375 \nQ 38.875 34.625 31.78125 34.625 \nz\nM 21.921875 38.8125 \nQ 15.578125 40.375 12.03125 44.71875 \nQ 8.5 49.078125 8.5 55.328125 \nQ 8.5 64.0625 14.71875 69.140625 \nQ 20.953125 74.21875 31.78125 74.21875 \nQ 42.671875 74.21875 48.875 69.140625 \nQ 55.078125 64.0625 55.078125 55.328125 \nQ 55.078125 49.078125 51.53125 44.71875 \nQ 48 40.375 41.703125 38.8125 \nQ 48.828125 37.15625 52.796875 32.3125 \nQ 56.78125 27.484375 56.78125 20.515625 \nQ 56.78125 9.90625 50.3125 4.234375 \nQ 43.84375 -1.421875 31.78125 -1.421875 \nQ 19.734375 -1.421875 13.25 4.234375 \nQ 6.78125 9.90625 6.78125 20.515625 \nQ 6.78125 27.484375 10.78125 32.3125 \nQ 14.796875 37.15625 21.921875 38.8125 \nz\nM 18.3125 54.390625 \nQ 18.3125 48.734375 21.84375 45.5625 \nQ 25.390625 42.390625 31.78125 42.390625 \nQ 38.140625 42.390625 41.71875 45.5625 \nQ 45.3125 48.734375 45.3125 54.390625 \nQ 45.3125 60.0625 41.71875 63.234375 \nQ 38.140625 66.40625 31.78125 66.40625 \nQ 25.390625 66.40625 21.84375 63.234375 \nQ 18.3125 60.0625 18.3125 54.390625 \nz\n\" id=\"DejaVuSans-56\"/>\n       </defs>\n       <use xlink:href=\"#DejaVuSans-56\"/>\n       <use x=\"63.623047\" xlink:href=\"#DejaVuSans-48\"/>\n      </g>\n     </g>\n    </g>\n    <g id=\"xtick_6\">\n     <g id=\"line2d_6\">\n      <g>\n       <use style=\"stroke:#000000;stroke-width:0.8;\" x=\"351.598386\" xlink:href=\"#m219016966c\" y=\"224.64\"/>\n      </g>\n     </g>\n     <g id=\"text_6\">\n      <!-- 100 -->\n      <g transform=\"translate(342.054636 239.238437)scale(0.1 -0.1)\">\n       <defs>\n        <path d=\"M 12.40625 8.296875 \nL 28.515625 8.296875 \nL 28.515625 63.921875 \nL 10.984375 60.40625 \nL 10.984375 69.390625 \nL 28.421875 72.90625 \nL 38.28125 72.90625 \nL 38.28125 8.296875 \nL 54.390625 8.296875 \nL 54.390625 0 \nL 12.40625 0 \nz\n\" id=\"DejaVuSans-49\"/>\n       </defs>\n       <use xlink:href=\"#DejaVuSans-49\"/>\n       <use x=\"63.623047\" xlink:href=\"#DejaVuSans-48\"/>\n       <use x=\"127.246094\" xlink:href=\"#DejaVuSans-48\"/>\n      </g>\n     </g>\n    </g>\n   </g>\n   <g id=\"matplotlib.axis_2\">\n    <g id=\"ytick_1\">\n     <g id=\"line2d_7\">\n      <defs>\n       <path d=\"M 0 0 \nL -3.5 0 \n\" id=\"m66ee663281\" style=\"stroke:#000000;stroke-width:0.8;\"/>\n      </defs>\n      <g>\n       <use style=\"stroke:#000000;stroke-width:0.8;\" x=\"28.942188\" xlink:href=\"#m66ee663281\" y=\"188.16476\"/>\n      </g>\n     </g>\n     <g id=\"text_7\">\n      <!-- −2 -->\n      <g transform=\"translate(7.2 191.963979)scale(0.1 -0.1)\">\n       <defs>\n        <path d=\"M 10.59375 35.5 \nL 73.1875 35.5 \nL 73.1875 27.203125 \nL 10.59375 27.203125 \nz\n\" id=\"DejaVuSans-8722\"/>\n       </defs>\n       <use xlink:href=\"#DejaVuSans-8722\"/>\n       <use x=\"83.789062\" xlink:href=\"#DejaVuSans-50\"/>\n      </g>\n     </g>\n    </g>\n    <g id=\"ytick_2\">\n     <g id=\"line2d_8\">\n      <g>\n       <use style=\"stroke:#000000;stroke-width:0.8;\" x=\"28.942188\" xlink:href=\"#m66ee663281\" y=\"149.404018\"/>\n      </g>\n     </g>\n     <g id=\"text_8\">\n      <!-- −1 -->\n      <g transform=\"translate(7.2 153.203237)scale(0.1 -0.1)\">\n       <use xlink:href=\"#DejaVuSans-8722\"/>\n       <use x=\"83.789062\" xlink:href=\"#DejaVuSans-49\"/>\n      </g>\n     </g>\n    </g>\n    <g id=\"ytick_3\">\n     <g id=\"line2d_9\">\n      <g>\n       <use style=\"stroke:#000000;stroke-width:0.8;\" x=\"28.942188\" xlink:href=\"#m66ee663281\" y=\"110.643277\"/>\n      </g>\n     </g>\n     <g id=\"text_9\">\n      <!-- 0 -->\n      <g transform=\"translate(15.579688 114.442496)scale(0.1 -0.1)\">\n       <use xlink:href=\"#DejaVuSans-48\"/>\n      </g>\n     </g>\n    </g>\n    <g id=\"ytick_4\">\n     <g id=\"line2d_10\">\n      <g>\n       <use style=\"stroke:#000000;stroke-width:0.8;\" x=\"28.942188\" xlink:href=\"#m66ee663281\" y=\"71.882535\"/>\n      </g>\n     </g>\n     <g id=\"text_10\">\n      <!-- 1 -->\n      <g transform=\"translate(15.579688 75.681754)scale(0.1 -0.1)\">\n       <use xlink:href=\"#DejaVuSans-49\"/>\n      </g>\n     </g>\n    </g>\n    <g id=\"ytick_5\">\n     <g id=\"line2d_11\">\n      <g>\n       <use style=\"stroke:#000000;stroke-width:0.8;\" x=\"28.942188\" xlink:href=\"#m66ee663281\" y=\"33.121793\"/>\n      </g>\n     </g>\n     <g id=\"text_11\">\n      <!-- 2 -->\n      <g transform=\"translate(15.579688 36.921012)scale(0.1 -0.1)\">\n       <use xlink:href=\"#DejaVuSans-50\"/>\n      </g>\n     </g>\n    </g>\n   </g>\n   <g id=\"line2d_12\">\n    <path clip-path=\"url(#p76b1e139df)\" d=\"M 44.160369 172.794543 \nL 47.234749 84.501025 \nL 50.30913 104.102827 \nL 53.38351 138.244173 \nL 56.45789 101.488888 \nL 59.53227 64.879349 \nL 62.60665 146.471403 \nL 65.68103 98.047027 \nL 68.755411 101.29302 \nL 71.829791 163.81433 \nL 74.904171 31.959995 \nL 77.978551 174.144168 \nL 81.052931 124.262992 \nL 84.127311 110.617402 \nL 87.201692 192.044213 \nL 90.276072 128.197445 \nL 93.350452 152.112725 \nL 96.424832 119.391536 \nL 99.499212 150.866294 \nL 102.573592 126.354357 \nL 105.647973 84.168022 \nL 108.722353 123.809014 \nL 111.796733 144.247147 \nL 114.871113 90.191427 \nL 117.945493 113.873157 \nL 121.019873 105.391909 \nL 124.094254 82.645403 \nL 127.168634 142.333 \nL 130.243014 57.384264 \nL 133.317394 132.570127 \nL 136.391774 95.472172 \nL 139.466154 104.41435 \nL 142.540535 117.857348 \nL 145.614915 131.728773 \nL 148.689295 141.157784 \nL 151.763675 58.232817 \nL 154.838055 148.221574 \nL 157.912435 127.543057 \nL 160.986816 115.238277 \nL 164.061196 180.502354 \nL 167.135576 178.749584 \nL 170.209956 124.407316 \nL 173.284336 148.358016 \nL 176.358716 44.075542 \nL 179.433097 150.96656 \nL 182.507477 75.964499 \nL 185.581857 129.296419 \nL 188.656237 117.624392 \nL 191.730617 125.7916 \nL 194.804997 94.31795 \nL 197.879378 75.994094 \nL 200.953758 99.021826 \nL 204.028138 118.028575 \nL 207.102518 75.284997 \nL 210.176898 109.561145 \nL 213.251278 190.096735 \nL 216.325659 39.123323 \nL 219.400039 39.48527 \nL 222.474419 93.146499 \nL 225.548799 161.62714 \nL 228.623179 87.234219 \nL 231.697559 103.018914 \nL 234.77194 118.286404 \nL 237.84632 151.049232 \nL 240.9207 160.70791 \nL 243.99508 107.534102 \nL 247.06946 78.155228 \nL 250.14384 159.954277 \nL 253.218221 96.177077 \nL 256.292601 108.597993 \nL 259.366981 186.904915 \nL 262.441361 75.666181 \nL 265.515741 101.340023 \nL 268.590121 112.747663 \nL 271.664502 129.949207 \nL 274.738882 166.938722 \nL 277.813262 147.150376 \nL 280.887642 128.177086 \nL 283.962022 85.093169 \nL 287.036402 129.448135 \nL 290.110783 87.250836 \nL 293.185163 131.337194 \nL 296.259543 147.292071 \nL 299.333923 146.242961 \nL 302.408303 129.345809 \nL 305.482683 52.658858 \nL 308.557064 115.220552 \nL 311.631444 98.260728 \nL 314.705824 160.461445 \nL 317.780204 133.642609 \nL 320.854584 41.245436 \nL 323.928964 94.933925 \nL 327.003345 37.868573 \nL 330.077725 110.12874 \nL 333.152105 196.335774 \nL 336.226485 93.018073 \nL 339.300865 130.392475 \nL 342.375245 147.971186 \nL 345.449626 155.697185 \nL 348.524006 156.205172 \n\" style=\"fill:none;stroke:#1f77b4;stroke-linecap:square;stroke-width:1.5;\"/>\n   </g>\n   <g id=\"line2d_13\">\n    <path clip-path=\"url(#p76b1e139df)\" d=\"M 44.160369 78.889174 \nL 47.234749 81.17549 \nL 50.30913 86.246878 \nL 53.38351 109.129948 \nL 56.45789 118.511801 \nL 59.53227 126.991602 \nL 62.60665 110.842394 \nL 65.68103 134.002114 \nL 68.755411 130.795225 \nL 71.829791 82.711851 \nL 74.904171 102.798372 \nL 77.978551 101.021176 \nL 81.052931 124.721179 \nL 84.127311 90.308239 \nL 87.201692 143.227272 \nL 90.276072 122.45429 \nL 93.350452 106.378465 \nL 96.424832 140.762696 \nL 99.499212 151.024235 \nL 102.573592 146.956688 \nL 105.647973 43.862291 \nL 108.722353 124.676977 \nL 111.796733 91.457403 \nL 114.871113 170.770173 \nL 117.945493 54.460855 \nL 121.019873 144.845218 \nL 124.094254 119.389298 \nL 127.168634 138.376044 \nL 130.243014 152.584509 \nL 133.317394 116.659848 \nL 136.391774 138.414073 \nL 139.466154 99.771977 \nL 142.540535 118.594187 \nL 145.614915 171.819157 \nL 148.689295 173.682585 \nL 151.763675 80.644653 \nL 154.838055 59.884116 \nL 157.912435 158.03138 \nL 160.986816 67.166772 \nL 164.061196 166.197036 \nL 167.135576 75.640725 \nL 170.209956 110.380543 \nL 173.284336 119.92616 \nL 176.358716 112.48824 \nL 179.433097 52.905934 \nL 182.507477 97.313502 \nL 185.581857 100.567123 \nL 188.656237 43.526873 \nL 191.730617 39.506376 \nL 194.804997 130.712022 \nL 197.879378 39.904531 \nL 200.953758 76.024999 \nL 204.028138 85.294649 \nL 207.102518 102.707725 \nL 210.176898 98.930509 \nL 213.251278 199.483779 \nL 216.325659 97.995953 \nL 219.400039 123.644024 \nL 222.474419 159.223286 \nL 225.548799 106.314374 \nL 228.623179 150.790645 \nL 231.697559 90.164944 \nL 234.77194 94.70896 \nL 237.84632 90.972704 \nL 240.9207 144.82973 \nL 243.99508 164.190207 \nL 247.06946 109.757767 \nL 250.14384 121.532804 \nL 253.218221 91.803032 \nL 256.292601 44.552613 \nL 259.366981 132.385861 \nL 262.441361 122.609306 \nL 265.515741 118.946623 \nL 268.590121 82.254514 \nL 271.664502 145.378977 \nL 274.738882 139.672249 \nL 277.813262 110.398516 \nL 280.887642 154.119547 \nL 283.962022 130.481636 \nL 287.036402 96.608051 \nL 290.110783 152.816959 \nL 293.185163 92.568055 \nL 296.259543 111.530793 \nL 299.333923 60.809931 \nL 302.408303 120.170361 \nL 305.482683 122.698022 \nL 308.557064 107.137981 \nL 311.631444 155.765815 \nL 314.705824 105.331371 \nL 317.780204 104.146561 \nL 320.854584 122.989958 \nL 323.928964 135.035219 \nL 327.003345 48.384955 \nL 330.077725 113.216279 \nL 333.152105 82.925457 \nL 336.226485 95.405156 \nL 339.300865 95.470958 \nL 342.375245 135.275944 \nL 345.449626 106.820844 \nL 348.524006 160.196259 \n\" style=\"fill:none;stroke:#ff7f0e;stroke-linecap:square;stroke-width:1.5;\"/>\n   </g>\n   <g id=\"line2d_14\">\n    <path clip-path=\"url(#p76b1e139df)\" d=\"M 44.160369 17.083636 \nL 47.234749 138.274418 \nL 50.30913 128.644293 \nL 53.38351 111.26178 \nL 56.45789 151.925951 \nL 59.53227 129.5681 \nL 62.60665 128.780475 \nL 65.68103 79.883651 \nL 68.755411 160.576891 \nL 71.829791 64.871218 \nL 74.904171 99.388 \nL 77.978551 113.074819 \nL 81.052931 109.832563 \nL 84.127311 96.847807 \nL 87.201692 119.879387 \nL 90.276072 101.979157 \nL 93.350452 102.969744 \nL 96.424832 40.275567 \nL 99.499212 22.079464 \nL 102.573592 65.86762 \nL 105.647973 124.98377 \nL 108.722353 54.996089 \nL 111.796733 150.520335 \nL 114.871113 83.7464 \nL 117.945493 126.326309 \nL 121.019873 97.745421 \nL 124.094254 154.303612 \nL 127.168634 214.756364 \nL 130.243014 146.222052 \nL 133.317394 152.002672 \nL 136.391774 77.348996 \nL 139.466154 46.035187 \nL 142.540535 181.398182 \nL 145.614915 119.697944 \nL 148.689295 144.527339 \nL 151.763675 88.893392 \nL 154.838055 122.599003 \nL 157.912435 191.011081 \nL 160.986816 108.73142 \nL 164.061196 127.701275 \nL 167.135576 210.803294 \nL 170.209956 98.777146 \nL 173.284336 131.735234 \nL 176.358716 50.982528 \nL 179.433097 136.119828 \nL 182.507477 146.252371 \nL 185.581857 93.935634 \nL 188.656237 89.09179 \nL 191.730617 93.99551 \nL 194.804997 93.991426 \nL 197.879378 100.718968 \nL 200.953758 63.810676 \nL 204.028138 179.280149 \nL 207.102518 56.77674 \nL 210.176898 70.638562 \nL 213.251278 109.866341 \nL 216.325659 148.538537 \nL 219.400039 99.239729 \nL 222.474419 40.411988 \nL 225.548799 125.956824 \nL 228.623179 145.923845 \nL 231.697559 156.145868 \nL 234.77194 115.513561 \nL 237.84632 136.827605 \nL 240.9207 114.498011 \nL 243.99508 123.921301 \nL 247.06946 164.539005 \nL 250.14384 211.624299 \nL 253.218221 126.616324 \nL 256.292601 116.198123 \nL 259.366981 129.733086 \nL 262.441361 114.921776 \nL 265.515741 114.316531 \nL 268.590121 38.785264 \nL 271.664502 127.163189 \nL 274.738882 54.40135 \nL 277.813262 136.17223 \nL 280.887642 73.326576 \nL 283.962022 161.429496 \nL 287.036402 78.612934 \nL 290.110783 75.553962 \nL 293.185163 55.499642 \nL 296.259543 164.044639 \nL 299.333923 128.500752 \nL 302.408303 109.140003 \nL 305.482683 91.412743 \nL 308.557064 120.618373 \nL 311.631444 36.498019 \nL 314.705824 91.711303 \nL 317.780204 115.791275 \nL 320.854584 80.126374 \nL 323.928964 206.538413 \nL 327.003345 100.540259 \nL 330.077725 175.864512 \nL 333.152105 77.212299 \nL 336.226485 64.130543 \nL 339.300865 150.381399 \nL 342.375245 127.36483 \nL 345.449626 117.739738 \nL 348.524006 57.433918 \n\" style=\"fill:none;stroke:#2ca02c;stroke-linecap:square;stroke-width:1.5;\"/>\n   </g>\n   <g id=\"line2d_15\">\n    <path clip-path=\"url(#p76b1e139df)\" d=\"M 44.160369 110.356376 \nL 47.234749 166.345182 \nL 50.30913 38.579857 \nL 53.38351 98.105615 \nL 56.45789 150.128176 \nL 59.53227 207.660568 \nL 62.60665 161.692032 \nL 65.68103 60.864819 \nL 68.755411 59.569948 \nL 71.829791 169.553649 \nL 74.904171 128.350631 \nL 77.978551 91.583723 \nL 81.052931 86.234382 \nL 84.127311 84.285794 \nL 87.201692 176.067701 \nL 90.276072 177.251444 \nL 93.350452 136.341234 \nL 96.424832 122.235586 \nL 99.499212 74.698976 \nL 102.573592 81.263652 \nL 105.647973 103.874077 \nL 108.722353 131.603421 \nL 111.796733 64.476218 \nL 114.871113 42.313327 \nL 117.945493 136.037073 \nL 121.019873 54.468176 \nL 124.094254 178.110578 \nL 127.168634 99.6371 \nL 130.243014 99.840919 \nL 133.317394 94.594623 \nL 136.391774 102.307287 \nL 139.466154 77.67462 \nL 142.540535 131.241515 \nL 145.614915 89.100459 \nL 148.689295 124.80245 \nL 151.763675 196.578224 \nL 154.838055 72.859254 \nL 157.912435 123.888203 \nL 160.986816 86.110592 \nL 164.061196 174.215973 \nL 167.135576 96.376294 \nL 170.209956 160.464243 \nL 173.284336 158.261027 \nL 176.358716 59.581876 \nL 179.433097 119.497959 \nL 182.507477 157.837666 \nL 185.581857 109.177299 \nL 188.656237 161.447525 \nL 191.730617 96.292384 \nL 194.804997 116.764497 \nL 197.879378 142.561065 \nL 200.953758 55.704617 \nL 204.028138 48.876199 \nL 207.102518 90.978729 \nL 210.176898 110.554731 \nL 213.251278 129.55319 \nL 216.325659 129.779983 \nL 219.400039 119.758452 \nL 222.474419 128.060891 \nL 225.548799 96.685816 \nL 228.623179 151.025925 \nL 231.697559 170.046545 \nL 234.77194 126.853025 \nL 237.84632 56.737791 \nL 240.9207 119.726567 \nL 243.99508 205.129088 \nL 247.06946 101.848534 \nL 250.14384 79.933587 \nL 253.218221 152.699715 \nL 256.292601 51.64883 \nL 259.366981 125.485992 \nL 262.441361 32.802637 \nL 265.515741 149.011949 \nL 268.590121 103.948555 \nL 271.664502 146.88219 \nL 274.738882 117.27439 \nL 277.813262 81.242169 \nL 280.887642 125.583185 \nL 283.962022 90.489489 \nL 287.036402 74.126708 \nL 290.110783 122.564098 \nL 293.185163 115.090023 \nL 296.259543 100.959831 \nL 299.333923 116.745948 \nL 302.408303 126.94032 \nL 305.482683 173.718494 \nL 308.557064 110.447763 \nL 311.631444 88.711112 \nL 314.705824 85.880247 \nL 317.780204 161.934896 \nL 320.854584 81.705692 \nL 323.928964 68.704082 \nL 327.003345 130.185622 \nL 330.077725 66.052252 \nL 333.152105 74.024137 \nL 336.226485 95.715334 \nL 339.300865 70.753986 \nL 342.375245 68.17131 \nL 345.449626 129.073043 \nL 348.524006 68.261317 \n\" style=\"fill:none;stroke:#d62728;stroke-linecap:square;stroke-width:1.5;\"/>\n   </g>\n   <g id=\"patch_3\">\n    <path d=\"M 28.942188 224.64 \nL 28.942188 7.2 \n\" style=\"fill:none;stroke:#000000;stroke-linecap:square;stroke-linejoin:miter;stroke-width:0.8;\"/>\n   </g>\n   <g id=\"patch_4\">\n    <path d=\"M 363.742188 224.64 \nL 363.742188 7.2 \n\" style=\"fill:none;stroke:#000000;stroke-linecap:square;stroke-linejoin:miter;stroke-width:0.8;\"/>\n   </g>\n   <g id=\"patch_5\">\n    <path d=\"M 28.942188 224.64 \nL 363.742188 224.64 \n\" style=\"fill:none;stroke:#000000;stroke-linecap:square;stroke-linejoin:miter;stroke-width:0.8;\"/>\n   </g>\n   <g id=\"patch_6\">\n    <path d=\"M 28.942188 7.2 \nL 363.742188 7.2 \n\" style=\"fill:none;stroke:#000000;stroke-linecap:square;stroke-linejoin:miter;stroke-width:0.8;\"/>\n   </g>\n   <g id=\"legend_1\">\n    <g id=\"patch_7\">\n     <path d=\"M 176.492188 219.64 \nL 216.192187 219.64 \nQ 218.192187 219.64 218.192187 217.64 \nL 218.192187 159.9275 \nQ 218.192187 157.9275 216.192187 157.9275 \nL 176.492188 157.9275 \nQ 174.492188 157.9275 174.492188 159.9275 \nL 174.492188 217.64 \nQ 174.492188 219.64 176.492188 219.64 \nz\n\" style=\"fill:#ffffff;opacity:0.8;stroke:#cccccc;stroke-linejoin:miter;\"/>\n    </g>\n    <g id=\"line2d_16\">\n     <path d=\"M 178.492188 166.025937 \nL 198.492188 166.025937 \n\" style=\"fill:none;stroke:#1f77b4;stroke-linecap:square;stroke-width:1.5;\"/>\n    </g>\n    <g id=\"line2d_17\"/>\n    <g id=\"text_12\">\n     <!-- A -->\n     <g transform=\"translate(206.492188 169.525937)scale(0.1 -0.1)\">\n      <defs>\n       <path d=\"M 34.1875 63.1875 \nL 20.796875 26.90625 \nL 47.609375 26.90625 \nz\nM 28.609375 72.90625 \nL 39.796875 72.90625 \nL 67.578125 0 \nL 57.328125 0 \nL 50.6875 18.703125 \nL 17.828125 18.703125 \nL 11.1875 0 \nL 0.78125 0 \nz\n\" id=\"DejaVuSans-65\"/>\n      </defs>\n      <use xlink:href=\"#DejaVuSans-65\"/>\n     </g>\n    </g>\n    <g id=\"line2d_18\">\n     <path d=\"M 178.492188 180.704062 \nL 198.492188 180.704062 \n\" style=\"fill:none;stroke:#ff7f0e;stroke-linecap:square;stroke-width:1.5;\"/>\n    </g>\n    <g id=\"line2d_19\"/>\n    <g id=\"text_13\">\n     <!-- B -->\n     <g transform=\"translate(206.492188 184.204062)scale(0.1 -0.1)\">\n      <defs>\n       <path d=\"M 19.671875 34.8125 \nL 19.671875 8.109375 \nL 35.5 8.109375 \nQ 43.453125 8.109375 47.28125 11.40625 \nQ 51.125 14.703125 51.125 21.484375 \nQ 51.125 28.328125 47.28125 31.5625 \nQ 43.453125 34.8125 35.5 34.8125 \nz\nM 19.671875 64.796875 \nL 19.671875 42.828125 \nL 34.28125 42.828125 \nQ 41.5 42.828125 45.03125 45.53125 \nQ 48.578125 48.25 48.578125 53.8125 \nQ 48.578125 59.328125 45.03125 62.0625 \nQ 41.5 64.796875 34.28125 64.796875 \nz\nM 9.8125 72.90625 \nL 35.015625 72.90625 \nQ 46.296875 72.90625 52.390625 68.21875 \nQ 58.5 63.53125 58.5 54.890625 \nQ 58.5 48.1875 55.375 44.234375 \nQ 52.25 40.28125 46.1875 39.3125 \nQ 53.46875 37.75 57.5 32.78125 \nQ 61.53125 27.828125 61.53125 20.40625 \nQ 61.53125 10.640625 54.890625 5.3125 \nQ 48.25 0 35.984375 0 \nL 9.8125 0 \nz\n\" id=\"DejaVuSans-66\"/>\n      </defs>\n      <use xlink:href=\"#DejaVuSans-66\"/>\n     </g>\n    </g>\n    <g id=\"line2d_20\">\n     <path d=\"M 178.492188 195.382187 \nL 198.492188 195.382187 \n\" style=\"fill:none;stroke:#2ca02c;stroke-linecap:square;stroke-width:1.5;\"/>\n    </g>\n    <g id=\"line2d_21\"/>\n    <g id=\"text_14\">\n     <!-- C -->\n     <g transform=\"translate(206.492188 198.882187)scale(0.1 -0.1)\">\n      <defs>\n       <path d=\"M 64.40625 67.28125 \nL 64.40625 56.890625 \nQ 59.421875 61.53125 53.78125 63.8125 \nQ 48.140625 66.109375 41.796875 66.109375 \nQ 29.296875 66.109375 22.65625 58.46875 \nQ 16.015625 50.828125 16.015625 36.375 \nQ 16.015625 21.96875 22.65625 14.328125 \nQ 29.296875 6.6875 41.796875 6.6875 \nQ 48.140625 6.6875 53.78125 8.984375 \nQ 59.421875 11.28125 64.40625 15.921875 \nL 64.40625 5.609375 \nQ 59.234375 2.09375 53.4375 0.328125 \nQ 47.65625 -1.421875 41.21875 -1.421875 \nQ 24.65625 -1.421875 15.125 8.703125 \nQ 5.609375 18.84375 5.609375 36.375 \nQ 5.609375 53.953125 15.125 64.078125 \nQ 24.65625 74.21875 41.21875 74.21875 \nQ 47.75 74.21875 53.53125 72.484375 \nQ 59.328125 70.75 64.40625 67.28125 \nz\n\" id=\"DejaVuSans-67\"/>\n      </defs>\n      <use xlink:href=\"#DejaVuSans-67\"/>\n     </g>\n    </g>\n    <g id=\"line2d_22\">\n     <path d=\"M 178.492188 210.060312 \nL 198.492188 210.060312 \n\" style=\"fill:none;stroke:#d62728;stroke-linecap:square;stroke-width:1.5;\"/>\n    </g>\n    <g id=\"line2d_23\"/>\n    <g id=\"text_15\">\n     <!-- D -->\n     <g transform=\"translate(206.492188 213.560312)scale(0.1 -0.1)\">\n      <defs>\n       <path d=\"M 19.671875 64.796875 \nL 19.671875 8.109375 \nL 31.59375 8.109375 \nQ 46.6875 8.109375 53.6875 14.9375 \nQ 60.6875 21.78125 60.6875 36.53125 \nQ 60.6875 51.171875 53.6875 57.984375 \nQ 46.6875 64.796875 31.59375 64.796875 \nz\nM 9.8125 72.90625 \nL 30.078125 72.90625 \nQ 51.265625 72.90625 61.171875 64.09375 \nQ 71.09375 55.28125 71.09375 36.53125 \nQ 71.09375 17.671875 61.125 8.828125 \nQ 51.171875 0 30.078125 0 \nL 9.8125 0 \nz\n\" id=\"DejaVuSans-68\"/>\n      </defs>\n      <use xlink:href=\"#DejaVuSans-68\"/>\n     </g>\n    </g>\n   </g>\n  </g>\n </g>\n <defs>\n  <clipPath id=\"p76b1e139df\">\n   <rect height=\"217.44\" width=\"334.8\" x=\"28.942188\" y=\"7.2\"/>\n  </clipPath>\n </defs>\n</svg>\n",
      "image/png": "[encoded data removed]"
     },
     "metadata": {
      "needs_background": "light"
     }
    }
   ],
   "source": [
    "# here in this we have a simple plot of pandas with matplot\n",
    "df1.plot()"
   ]
  },
  {
   "cell_type": "code",
   "execution_count": 7,
   "metadata": {},
   "outputs": [
    {
     "output_type": "display_data",
     "data": {
      "application/vnd.plotly.v1+json": {
       "config": {
        "linkText": "Export to plot.ly",
        "plotlyServerURL": "https://plot.ly",
        "showLink": true
       },
       "data": [
        {
         "line": {
          "color": "rgba(255, 153, 51, 1.0)",
          "dash": "solid",
          "shape": "linear",
          "width": 1.3
         },
         "mode": "lines",
         "name": "A",
         "text": "",
         "type": "scatter",
         "x": [
          0,
          1,
          2,
          3,
          4,
          5,
          6,
          7,
          8,
          9,
          10,
          11,
          12,
          13,
          14,
          15,
          16,
          17,
          18,
          19,
          20,
          21,
          22,
          23,
          24,
          25,
          26,
          27,
          28,
          29,
          30,
          31,
          32,
          33,
          34,
          35,
          36,
          37,
          38,
          39,
          40,
          41,
          42,
          43,
          44,
          45,
          46,
          47,
          48,
          49,
          50,
          51,
          52,
          53,
          54,
          55,
          56,
          57,
          58,
          59,
          60,
          61,
          62,
          63,
          64,
          65,
          66,
          67,
          68,
          69,
          70,
          71,
          72,
          73,
          74,
          75,
          76,
          77,
          78,
          79,
          80,
          81,
          82,
          83,
          84,
          85,
          86,
          87,
          88,
          89,
          90,
          91,
          92,
          93,
          94,
          95,
          96,
          97,
          98,
          99
         ],
         "y": [
          -1.6034591679105978,
          0.6744517866256291,
          0.16873903499098108,
          -0.7120838114462832,
          0.23617682794395775,
          1.180677289914722,
          -0.9243405825078829,
          0.3249744142267152,
          0.24123007955726194,
          -1.371775940963692,
          2.0299735784534514,
          -1.638278538950703,
          -0.35137910597764804,
          0.000667556043875359,
          -2.100087178780612,
          -0.4528852477762303,
          -1.0698827410677296,
          -0.22569897519992077,
          -1.0377256973062055,
          -0.40533486416227726,
          0.6830430283391952,
          -0.33966680639046704,
          -0.8669563151471675,
          0.527643417645511,
          -0.0833286510642639,
          0.13548161732522387,
          0.7223255346457207,
          -0.8175726858881641,
          1.374045254814651,
          -0.5656973754914506,
          0.39140389155072197,
          0.16070195849060673,
          -0.1861179756096024,
          -0.5439910419446394,
          -0.7872529205941025,
          1.3521531710461365,
          -0.969493749960735,
          -0.4360024968703549,
          -0.11854777642838966,
          -1.8023152962452222,
          -1.7570950411749429,
          -0.3551025680128556,
          -0.9730138683284136,
          1.7174009466336264,
          -1.0403124882430377,
          0.8946881797652224,
          -0.481238013126997,
          -0.1801078735119504,
          -0.3908161297782836,
          0.4211820003945261,
          0.8939246652280742,
          0.29982529050087176,
          -0.19053552055843878,
          0.9122188779991189,
          0.02791823589603473,
          -2.049843605469713,
          1.8451647391505106,
          1.835826771883997,
          0.4514046121545814,
          -1.3153479849431113,
          0.6039372964302147,
          0.1967032275194514,
          -0.19718733734199645,
          -1.0424453626339572,
          -1.291632485177539,
          0.08021453833866193,
          0.8381689241093387,
          -1.2721892786100386,
          0.3732178168113568,
          0.05276688734700252,
          -1.967496885033359,
          0.9023845846590755,
          0.24001744040925296,
          -0.05429170252464368,
          -0.49807948253119694,
          -1.452383083045118,
          -0.9418576074293369,
          -0.4523600116602419,
          0.6591749020229192,
          -0.48515217656054904,
          0.6035086074078894,
          -0.5338885854100055,
          -0.9455132299224919,
          -0.9184469295082123,
          -0.482512232189353,
          1.495957404481226,
          -0.11809049112544505,
          0.3194610816126905,
          -1.2852738670679296,
          -0.5933666650741988,
          1.7904157188996117,
          0.4052902765873968,
          1.8775364158770929,
          0.01327468426470117,
          -2.2108064327344157,
          0.4547179081726537,
          -0.5095154977877799,
          -0.9630339148296717,
          -1.1623592880536002,
          -1.1754650048720257
         ]
        },
        {
         "line": {
          "color": "rgba(55, 128, 191, 1.0)",
          "dash": "solid",
          "shape": "linear",
          "width": 1.3
         },
         "mode": "lines",
         "name": "B",
         "text": "",
         "type": "scatter",
         "x": [
          0,
          1,
          2,
          3,
          4,
          5,
          6,
          7,
          8,
          9,
          10,
          11,
          12,
          13,
          14,
          15,
          16,
          17,
          18,
          19,
          20,
          21,
          22,
          23,
          24,
          25,
          26,
          27,
          28,
          29,
          30,
          31,
          32,
          33,
          34,
          35,
          36,
          37,
          38,
          39,
          40,
          41,
          42,
          43,
          44,
          45,
          46,
          47,
          48,
          49,
          50,
          51,
          52,
          53,
          54,
          55,
          56,
          57,
          58,
          59,
          60,
          61,
          62,
          63,
          64,
          65,
          66,
          67,
          68,
          69,
          70,
          71,
          72,
          73,
          74,
          75,
          76,
          77,
          78,
          79,
          80,
          81,
          82,
          83,
          84,
          85,
          86,
          87,
          88,
          89,
          90,
          91,
          92,
          93,
          94,
          95,
          96,
          97,
          98,
          99
         ],
         "y": [
          0.8192336134801987,
          0.7602482743753068,
          0.6294100028786074,
          0.03904283596140118,
          -0.20300240870303762,
          -0.4217753477618602,
          -0.005137086974361876,
          -0.6026416600652672,
          -0.519906165020211,
          0.7206112252343626,
          0.20239306106194205,
          0.24824347008781414,
          -0.3632000207111838,
          0.5246297345959616,
          -0.8406442737890164,
          -0.30471587593055305,
          0.11002914869335803,
          -0.7770599281428845,
          -1.041800451056623,
          -0.9368605859558401,
          1.7229026947754391,
          -0.3620596398305359,
          0.4949821171328368,
          -1.5512318236277358,
          1.4494671490438522,
          -0.8823861526943375,
          -0.22564121684055144,
          -0.7154859681767155,
          -1.0820544326577435,
          -0.15522332326670543,
          -0.7164670995786423,
          0.2804719336161431,
          -0.2051279121244869,
          -1.5782948712181395,
          -1.6263700275222348,
          0.7739434861128113,
          1.3095508145895705,
          -1.2225798792362865,
          1.121663384493526,
          -1.4332480938692411,
          0.9030413351881482,
          0.006778345110963212,
          -0.23949189864348985,
          -0.04759875800248899,
          1.4895830215386634,
          0.34389886769741146,
          0.25995771804344314,
          1.7315562384553185,
          1.8352822475616812,
          -0.5177595834240207,
          1.8250101308281006,
          0.8931273429782042,
          0.653976849766924,
          0.2047316783716681,
          0.3021811973823506,
          -2.2920227763677037,
          0.3262921101530418,
          -0.3354101817456763,
          -1.2533302192795022,
          0.11168265476850534,
          -1.0357739867335003,
          0.528326646172122,
          0.4110942155465323,
          0.5074870135166899,
          -0.8819865735203064,
          -1.3814733121407319,
          0.022845539968953,
          -0.28094217851010267,
          0.48606511891207504,
          1.7050928660376112,
          -0.5609434522847258,
          -0.3087151772829456,
          -0.21422050977795287,
          0.732410209205975,
          -0.896156752315307,
          -0.748927157879648,
          0.006314657490310105,
          -1.1216573254922337,
          -0.5118157861492615,
          0.36209901117936405,
          -1.0880514683970912,
          0.46632807066648674,
          -0.022897289258460102,
          1.2856654258471698,
          -0.24579209518601375,
          -0.31100397594352286,
          0.0904341764974058,
          -1.1641298986673796,
          0.13704345571697643,
          0.1676107315041115,
          -0.3185357210445539,
          -0.6292950421730465,
          1.6062211256891819,
          -0.066381667278134,
          0.7151003365735614,
          0.3931328546294085,
          0.39143520976327495,
          -0.6355055797809678,
          0.09861609523459006,
          -1.2784322496774305
         ]
        },
        {
         "line": {
          "color": "rgba(50, 171, 96, 1.0)",
          "dash": "solid",
          "shape": "linear",
          "width": 1.3
         },
         "mode": "lines",
         "name": "C",
         "text": "",
         "type": "scatter",
         "x": [
          0,
          1,
          2,
          3,
          4,
          5,
          6,
          7,
          8,
          9,
          10,
          11,
          12,
          13,
          14,
          15,
          16,
          17,
          18,
          19,
          20,
          21,
          22,
          23,
          24,
          25,
          26,
          27,
          28,
          29,
          30,
          31,
          32,
          33,
          34,
          35,
          36,
          37,
          38,
          39,
          40,
          41,
          42,
          43,
          44,
          45,
          46,
          47,
          48,
          49,
          50,
          51,
          52,
          53,
          54,
          55,
          56,
          57,
          58,
          59,
          60,
          61,
          62,
          63,
          64,
          65,
          66,
          67,
          68,
          69,
          70,
          71,
          72,
          73,
          74,
          75,
          76,
          77,
          78,
          79,
          80,
          81,
          82,
          83,
          84,
          85,
          86,
          87,
          88,
          89,
          90,
          91,
          92,
          93,
          94,
          95,
          96,
          97,
          98,
          99
         ],
         "y": [
          2.413773226467551,
          -0.7128641051383859,
          -0.4644136139558775,
          -0.01595694663080215,
          -1.0650640833764218,
          -0.48824719587425885,
          -0.46792702899628724,
          0.7935768216181784,
          -1.2882522941089907,
          1.1808870677203653,
          0.29037826101094666,
          -0.06273209145717351,
          0.020915860572536787,
          0.3559134718066243,
          -0.23828516601864974,
          0.2235282271400536,
          0.19797177200515284,
          1.8154376537683254,
          2.2848843666910827,
          1.1551806091037926,
          -0.3699746848112576,
          1.435658491619278,
          -1.028800188537578,
          0.6939205836708525,
          -0.40461125110826474,
          0.3327556578954046,
          -1.12640609571732,
          -2.6860447566331986,
          -0.9179074972194138,
          -1.06704343280252,
          0.8589691278525239,
          1.6668434809952644,
          -1.8254270265450483,
          -0.2336040815855926,
          -0.8741850919768382,
          0.5611318101312296,
          -0.30844936946133,
          -2.0734330772879583,
          0.04932456760975603,
          -0.4400844067977491,
          -2.584058318333577,
          0.30613786549649014,
          -0.5441577295913987,
          1.5392055423948425,
          -0.6572771953504218,
          -0.9186896963179999,
          0.43104549104002376,
          0.5560132829638029,
          0.4295007204552606,
          0.4296060913696705,
          0.2560402303645244,
          1.208248313929545,
          -1.7707832610232104,
          1.3897189518615294,
          1.0320936445448918,
          0.02004439306689833,
          -0.9776711761697071,
          0.2942035576612603,
          1.8119180949403657,
          -0.3950788056218137,
          -0.910213972231028,
          -1.1739349903824625,
          -0.12564992211094936,
          -0.6755373400151659,
          -0.09944943527808983,
          -0.3425637260077509,
          -1.390472064931238,
          -2.605239681869079,
          -0.4120934341872476,
          -0.1433111350149596,
          -0.49250371960794603,
          -0.11038227569364245,
          -0.09476737702784671,
          1.8538864184662776,
          -0.4262021828358027,
          1.4510023307478104,
          -0.6586291189953202,
          0.9627447585438353,
          -1.3102489008195526,
          0.8263604082643905,
          0.9052797697023395,
          1.422667165070258,
          -1.3777177729561392,
          -0.4607103704274852,
          0.038783419380216726,
          0.4961343068085089,
          -0.257350508592742,
          1.912895753556617,
          0.4884316808865898,
          -0.13281473817269865,
          0.78731472054916,
          -2.474027384823861,
          0.26065077866571856,
          -1.6826622183155961,
          0.8624958193966548,
          1.1999959758197845,
          -1.0252157379675841,
          -0.431404358816828,
          -0.1830837371829216,
          1.3727642127169377
         ]
        },
        {
         "line": {
          "color": "rgba(128, 0, 128, 1.0)",
          "dash": "solid",
          "shape": "linear",
          "width": 1.3
         },
         "mode": "lines",
         "name": "D",
         "text": "",
         "type": "scatter",
         "x": [
          0,
          1,
          2,
          3,
          4,
          5,
          6,
          7,
          8,
          9,
          10,
          11,
          12,
          13,
          14,
          15,
          16,
          17,
          18,
          19,
          20,
          21,
          22,
          23,
          24,
          25,
          26,
          27,
          28,
          29,
          30,
          31,
          32,
          33,
          34,
          35,
          36,
          37,
          38,
          39,
          40,
          41,
          42,
          43,
          44,
          45,
          46,
          47,
          48,
          49,
          50,
          51,
          52,
          53,
          54,
          55,
          56,
          57,
          58,
          59,
          60,
          61,
          62,
          63,
          64,
          65,
          66,
          67,
          68,
          69,
          70,
          71,
          72,
          73,
          74,
          75,
          76,
          77,
          78,
          79,
          80,
          81,
          82,
          83,
          84,
          85,
          86,
          87,
          88,
          89,
          90,
          91,
          92,
          93,
          94,
          95,
          96,
          97,
          98,
          99
         ],
         "y": [
          0.007401829489414258,
          -1.4370701708241351,
          1.8591857898260413,
          0.3234628984355769,
          -1.0186827699736536,
          -2.5029781942582536,
          -1.3170221417895134,
          1.2842493614367703,
          1.3176561190796041,
          -1.51984636555648,
          -0.4568373373257365,
          0.4917231453636013,
          0.6297324020840347,
          0.6800046087257194,
          -1.6879043349963478,
          -1.7184440811410282,
          -0.6629893158933756,
          -0.2990734559154911,
          0.9273377980104158,
          0.7579737594959451,
          0.17464062389667698,
          -0.5407570581589365,
          1.1910778044072616,
          1.7628648760907555,
          -0.6551421684049624,
          1.4492782835504971,
          -1.740609136786402,
          0.28395166043367237,
          0.2786932639454531,
          0.41404403872693646,
          0.21506270134800523,
          0.8505682644777229,
          -0.5314201293607476,
          0.5557896304038229,
          -0.365296760714232,
          -2.217061474571356,
          0.9748013312221652,
          -0.34170981426661173,
          0.6329261017503135,
          -1.6401310490359202,
          0.3680781631778554,
          -1.285346047515693,
          -1.2285046196339122,
          1.3173483989518635,
          -0.22844460194279967,
          -1.217582191747272,
          0.037821191174498336,
          -1.3107140382302156,
          0.3702429826892917,
          -0.157923202464818,
          -0.8234566045410443,
          1.4173789736564744,
          1.5935473741277102,
          0.5073315634889328,
          0.0022844246709907154,
          -0.4878625159174958,
          -0.49371361576826533,
          -0.23516513649527385,
          -0.4493622502616095,
          0.36009271890851724,
          -1.0418440464224992,
          -1.53256274128827,
          -0.41820014868909544,
          1.3907238052547535,
          -0.23434252023843363,
          -2.437667783631158,
          0.2268982172156791,
          0.7922884933261074,
          -1.0850266622940754,
          1.5220154399440695,
          -0.3829316588565574,
          2.0082340018972378,
          -0.9898848749021504,
          0.17271913719835147,
          -0.9349385955128694,
          -0.17107806906005382,
          0.7585279879634922,
          -0.3854391811891404,
          0.519953625079641,
          0.9421019207472212,
          -0.30754883829157076,
          -0.1147229354317717,
          0.2498261281442703,
          -0.15744464120196575,
          -0.42045231527794225,
          -1.627296460821743,
          0.005044118144702033,
          0.5658345085132992,
          0.6388688318264979,
          -1.3232878742686391,
          0.7465694355165938,
          1.0820018623444183,
          -0.5041788231736237,
          1.1504172122250285,
          0.9447481604950453,
          0.38513046915252636,
          1.0291157820071175,
          1.0957470204235578,
          -0.47547506159373265,
          1.0934248802476974
         ]
        }
       ],
       "layout": {
        "legend": {
         "bgcolor": "#F5F6F9",
         "font": {
          "color": "#4D5663"
         }
        },
        "paper_bgcolor": "#F5F6F9",
        "plot_bgcolor": "#F5F6F9",
        "template": {
         "data": {
          "bar": [
           {
            "error_x": {
             "color": "#2a3f5f"
            },
            "error_y": {
             "color": "#2a3f5f"
            },
            "marker": {
             "line": {
              "color": "#E5ECF6",
              "width": 0.5
             }
            },
            "type": "bar"
           }
          ],
          "barpolar": [
           {
            "marker": {
             "line": {
              "color": "#E5ECF6",
              "width": 0.5
             }
            },
            "type": "barpolar"
           }
          ],
          "carpet": [
           {
            "aaxis": {
             "endlinecolor": "#2a3f5f",
             "gridcolor": "white",
             "linecolor": "white",
             "minorgridcolor": "white",
             "startlinecolor": "#2a3f5f"
            },
            "baxis": {
             "endlinecolor": "#2a3f5f",
             "gridcolor": "white",
             "linecolor": "white",
             "minorgridcolor": "white",
             "startlinecolor": "#2a3f5f"
            },
            "type": "carpet"
           }
          ],
          "choropleth": [
           {
            "colorbar": {
             "outlinewidth": 0,
             "ticks": ""
            },
            "type": "choropleth"
           }
          ],
          "contour": [
           {
            "colorbar": {
             "outlinewidth": 0,
             "ticks": ""
            },
            "colorscale": [
             [
              0,
              "#0d0887"
             ],
             [
              0.1111111111111111,
              "#46039f"
             ],
             [
              0.2222222222222222,
              "#7201a8"
             ],
             [
              0.3333333333333333,
              "#9c179e"
             ],
             [
              0.4444444444444444,
              "#bd3786"
             ],
             [
              0.5555555555555556,
              "#d8576b"
             ],
             [
              0.6666666666666666,
              "#ed7953"
             ],
             [
              0.7777777777777778,
              "#fb9f3a"
             ],
             [
              0.8888888888888888,
              "#fdca26"
             ],
             [
              1,
              "#f0f921"
             ]
            ],
            "type": "contour"
           }
          ],
          "contourcarpet": [
           {
            "colorbar": {
             "outlinewidth": 0,
             "ticks": ""
            },
            "type": "contourcarpet"
           }
          ],
          "heatmap": [
           {
            "colorbar": {
             "outlinewidth": 0,
             "ticks": ""
            },
            "colorscale": [
             [
              0,
              "#0d0887"
             ],
             [
              0.1111111111111111,
              "#46039f"
             ],
             [
              0.2222222222222222,
              "#7201a8"
             ],
             [
              0.3333333333333333,
              "#9c179e"
             ],
             [
              0.4444444444444444,
              "#bd3786"
             ],
             [
              0.5555555555555556,
              "#d8576b"
             ],
             [
              0.6666666666666666,
              "#ed7953"
             ],
             [
              0.7777777777777778,
              "#fb9f3a"
             ],
             [
              0.8888888888888888,
              "#fdca26"
             ],
             [
              1,
              "#f0f921"
             ]
            ],
            "type": "heatmap"
           }
          ],
          "heatmapgl": [
           {
            "colorbar": {
             "outlinewidth": 0,
             "ticks": ""
            },
            "colorscale": [
             [
              0,
              "#0d0887"
             ],
             [
              0.1111111111111111,
              "#46039f"
             ],
             [
              0.2222222222222222,
              "#7201a8"
             ],
             [
              0.3333333333333333,
              "#9c179e"
             ],
             [
              0.4444444444444444,
              "#bd3786"
             ],
             [
              0.5555555555555556,
              "#d8576b"
             ],
             [
              0.6666666666666666,
              "#ed7953"
             ],
             [
              0.7777777777777778,
              "#fb9f3a"
             ],
             [
              0.8888888888888888,
              "#fdca26"
             ],
             [
              1,
              "#f0f921"
             ]
            ],
            "type": "heatmapgl"
           }
          ],
          "histogram": [
           {
            "marker": {
             "colorbar": {
              "outlinewidth": 0,
              "ticks": ""
             }
            },
            "type": "histogram"
           }
          ],
          "histogram2d": [
           {
            "colorbar": {
             "outlinewidth": 0,
             "ticks": ""
            },
            "colorscale": [
             [
              0,
              "#0d0887"
             ],
             [
              0.1111111111111111,
              "#46039f"
             ],
             [
              0.2222222222222222,
              "#7201a8"
             ],
             [
              0.3333333333333333,
              "#9c179e"
             ],
             [
              0.4444444444444444,
              "#bd3786"
             ],
             [
              0.5555555555555556,
              "#d8576b"
             ],
             [
              0.6666666666666666,
              "#ed7953"
             ],
             [
              0.7777777777777778,
              "#fb9f3a"
             ],
             [
              0.8888888888888888,
              "#fdca26"
             ],
             [
              1,
              "#f0f921"
             ]
            ],
            "type": "histogram2d"
           }
          ],
          "histogram2dcontour": [
           {
            "colorbar": {
             "outlinewidth": 0,
             "ticks": ""
            },
            "colorscale": [
             [
              0,
              "#0d0887"
             ],
             [
              0.1111111111111111,
              "#46039f"
             ],
             [
              0.2222222222222222,
              "#7201a8"
             ],
             [
              0.3333333333333333,
              "#9c179e"
             ],
             [
              0.4444444444444444,
              "#bd3786"
             ],
             [
              0.5555555555555556,
              "#d8576b"
             ],
             [
              0.6666666666666666,
              "#ed7953"
             ],
             [
              0.7777777777777778,
              "#fb9f3a"
             ],
             [
              0.8888888888888888,
              "#fdca26"
             ],
             [
              1,
              "#f0f921"
             ]
            ],
            "type": "histogram2dcontour"
           }
          ],
          "mesh3d": [
           {
            "colorbar": {
             "outlinewidth": 0,
             "ticks": ""
            },
            "type": "mesh3d"
           }
          ],
          "parcoords": [
           {
            "line": {
             "colorbar": {
              "outlinewidth": 0,
              "ticks": ""
             }
            },
            "type": "parcoords"
           }
          ],
          "pie": [
           {
            "automargin": true,
            "type": "pie"
           }
          ],
          "scatter": [
           {
            "marker": {
             "colorbar": {
              "outlinewidth": 0,
              "ticks": ""
             }
            },
            "type": "scatter"
           }
          ],
          "scatter3d": [
           {
            "line": {
             "colorbar": {
              "outlinewidth": 0,
              "ticks": ""
             }
            },
            "marker": {
             "colorbar": {
              "outlinewidth": 0,
              "ticks": ""
             }
            },
            "type": "scatter3d"
           }
          ],
          "scattercarpet": [
           {
            "marker": {
             "colorbar": {
              "outlinewidth": 0,
              "ticks": ""
             }
            },
            "type": "scattercarpet"
           }
          ],
          "scattergeo": [
           {
            "marker": {
             "colorbar": {
              "outlinewidth": 0,
              "ticks": ""
             }
            },
            "type": "scattergeo"
           }
          ],
          "scattergl": [
           {
            "marker": {
             "colorbar": {
              "outlinewidth": 0,
              "ticks": ""
             }
            },
            "type": "scattergl"
           }
          ],
          "scattermapbox": [
           {
            "marker": {
             "colorbar": {
              "outlinewidth": 0,
              "ticks": ""
             }
            },
            "type": "scattermapbox"
           }
          ],
          "scatterpolar": [
           {
            "marker": {
             "colorbar": {
              "outlinewidth": 0,
              "ticks": ""
             }
            },
            "type": "scatterpolar"
           }
          ],
          "scatterpolargl": [
           {
            "marker": {
             "colorbar": {
              "outlinewidth": 0,
              "ticks": ""
             }
            },
            "type": "scatterpolargl"
           }
          ],
          "scatterternary": [
           {
            "marker": {
             "colorbar": {
              "outlinewidth": 0,
              "ticks": ""
             }
            },
            "type": "scatterternary"
           }
          ],
          "surface": [
           {
            "colorbar": {
             "outlinewidth": 0,
             "ticks": ""
            },
            "colorscale": [
             [
              0,
              "#0d0887"
             ],
             [
              0.1111111111111111,
              "#46039f"
             ],
             [
              0.2222222222222222,
              "#7201a8"
             ],
             [
              0.3333333333333333,
              "#9c179e"
             ],
             [
              0.4444444444444444,
              "#bd3786"
             ],
             [
              0.5555555555555556,
              "#d8576b"
             ],
             [
              0.6666666666666666,
              "#ed7953"
             ],
             [
              0.7777777777777778,
              "#fb9f3a"
             ],
             [
              0.8888888888888888,
              "#fdca26"
             ],
             [
              1,
              "#f0f921"
             ]
            ],
            "type": "surface"
           }
          ],
          "table": [
           {
            "cells": {
             "fill": {
              "color": "#EBF0F8"
             },
             "line": {
              "color": "white"
             }
            },
            "header": {
             "fill": {
              "color": "#C8D4E3"
             },
             "line": {
              "color": "white"
             }
            },
            "type": "table"
           }
          ]
         },
         "layout": {
          "annotationdefaults": {
           "arrowcolor": "#2a3f5f",
           "arrowhead": 0,
           "arrowwidth": 1
          },
          "autotypenumbers": "strict",
          "coloraxis": {
           "colorbar": {
            "outlinewidth": 0,
            "ticks": ""
           }
          },
          "colorscale": {
           "diverging": [
            [
             0,
             "#8e0152"
            ],
            [
             0.1,
             "#c51b7d"
            ],
            [
             0.2,
             "#de77ae"
            ],
            [
             0.3,
             "#f1b6da"
            ],
            [
             0.4,
             "#fde0ef"
            ],
            [
             0.5,
             "#f7f7f7"
            ],
            [
             0.6,
             "#e6f5d0"
            ],
            [
             0.7,
             "#b8e186"
            ],
            [
             0.8,
             "#7fbc41"
            ],
            [
             0.9,
             "#4d9221"
            ],
            [
             1,
             "#276419"
            ]
           ],
           "sequential": [
            [
             0,
             "#0d0887"
            ],
            [
             0.1111111111111111,
             "#46039f"
            ],
            [
             0.2222222222222222,
             "#7201a8"
            ],
            [
             0.3333333333333333,
             "#9c179e"
            ],
            [
             0.4444444444444444,
             "#bd3786"
            ],
            [
             0.5555555555555556,
             "#d8576b"
            ],
            [
             0.6666666666666666,
             "#ed7953"
            ],
            [
             0.7777777777777778,
             "#fb9f3a"
            ],
            [
             0.8888888888888888,
             "#fdca26"
            ],
            [
             1,
             "#f0f921"
            ]
           ],
           "sequentialminus": [
            [
             0,
             "#0d0887"
            ],
            [
             0.1111111111111111,
             "#46039f"
            ],
            [
             0.2222222222222222,
             "#7201a8"
            ],
            [
             0.3333333333333333,
             "#9c179e"
            ],
            [
             0.4444444444444444,
             "#bd3786"
            ],
            [
             0.5555555555555556,
             "#d8576b"
            ],
            [
             0.6666666666666666,
             "#ed7953"
            ],
            [
             0.7777777777777778,
             "#fb9f3a"
            ],
            [
             0.8888888888888888,
             "#fdca26"
            ],
            [
             1,
             "#f0f921"
            ]
           ]
          },
          "colorway": [
           "#636efa",
           "#EF553B",
           "#00cc96",
           "#ab63fa",
           "#FFA15A",
           "#19d3f3",
           "#FF6692",
           "#B6E880",
           "#FF97FF",
           "#FECB52"
          ],
          "font": {
           "color": "#2a3f5f"
          },
          "geo": {
           "bgcolor": "white",
           "lakecolor": "white",
           "landcolor": "#E5ECF6",
           "showlakes": true,
           "showland": true,
           "subunitcolor": "white"
          },
          "hoverlabel": {
           "align": "left"
          },
          "hovermode": "closest",
          "mapbox": {
           "style": "light"
          },
          "paper_bgcolor": "white",
          "plot_bgcolor": "#E5ECF6",
          "polar": {
           "angularaxis": {
            "gridcolor": "white",
            "linecolor": "white",
            "ticks": ""
           },
           "bgcolor": "#E5ECF6",
           "radialaxis": {
            "gridcolor": "white",
            "linecolor": "white",
            "ticks": ""
           }
          },
          "scene": {
           "xaxis": {
            "backgroundcolor": "#E5ECF6",
            "gridcolor": "white",
            "gridwidth": 2,
            "linecolor": "white",
            "showbackground": true,
            "ticks": "",
            "zerolinecolor": "white"
           },
           "yaxis": {
            "backgroundcolor": "#E5ECF6",
            "gridcolor": "white",
            "gridwidth": 2,
            "linecolor": "white",
            "showbackground": true,
            "ticks": "",
            "zerolinecolor": "white"
           },
           "zaxis": {
            "backgroundcolor": "#E5ECF6",
            "gridcolor": "white",
            "gridwidth": 2,
            "linecolor": "white",
            "showbackground": true,
            "ticks": "",
            "zerolinecolor": "white"
           }
          },
          "shapedefaults": {
           "line": {
            "color": "#2a3f5f"
           }
          },
          "ternary": {
           "aaxis": {
            "gridcolor": "white",
            "linecolor": "white",
            "ticks": ""
           },
           "baxis": {
            "gridcolor": "white",
            "linecolor": "white",
            "ticks": ""
           },
           "bgcolor": "#E5ECF6",
           "caxis": {
            "gridcolor": "white",
            "linecolor": "white",
            "ticks": ""
           }
          },
          "title": {
           "x": 0.05
          },
          "xaxis": {
           "automargin": true,
           "gridcolor": "white",
           "linecolor": "white",
           "ticks": "",
           "title": {
            "standoff": 15
           },
           "zerolinecolor": "white",
           "zerolinewidth": 2
          },
          "yaxis": {
           "automargin": true,
           "gridcolor": "white",
           "linecolor": "white",
           "ticks": "",
           "title": {
            "standoff": 15
           },
           "zerolinecolor": "white",
           "zerolinewidth": 2
          }
         }
        },
        "title": {
         "font": {
          "color": "#4D5663"
         }
        },
        "xaxis": {
         "gridcolor": "#E1E5ED",
         "showgrid": true,
         "tickfont": {
          "color": "#4D5663"
         },
         "title": {
          "font": {
           "color": "#4D5663"
          },
          "text": ""
         },
         "zerolinecolor": "#E1E5ED"
        },
        "yaxis": {
         "gridcolor": "#E1E5ED",
         "showgrid": true,
         "tickfont": {
          "color": "#4D5663"
         },
         "title": {
          "font": {
           "color": "#4D5663"
          },
          "text": ""
         },
         "zerolinecolor": "#E1E5ED"
        }
       }
      },
      "text/html": "<div>                            <div id=\"812c932d-1b12-4317-b5b0-9f75ae9a0289\" class=\"plotly-graph-div\" style=\"height:525px; width:100%;\"></div>            <script type=\"text/javascript\">                require([\"plotly\"], function(Plotly) {                    window.PLOTLYENV=window.PLOTLYENV || {};\n                    window.PLOTLYENV.BASE_URL='https://plot.ly';                                    if (document.getElementById(\"812c932d-1b12-4317-b5b0-9f75ae9a0289\")) {                    Plotly.newPlot(                        \"812c932d-1b12-4317-b5b0-9f75ae9a0289\",                        [{\"line\": {\"color\": \"rgba(255, 153, 51, 1.0)\", \"dash\": \"solid\", \"shape\": \"linear\", \"width\": 1.3}, \"mode\": \"lines\", \"name\": \"A\", \"text\": \"\", \"type\": \"scatter\", \"x\": [0, 1, 2, 3, 4, 5, 6, 7, 8, 9, 10, 11, 12, 13, 14, 15, 16, 17, 18, 19, 20, 21, 22, 23, 24, 25, 26, 27, 28, 29, 30, 31, 32, 33, 34, 35, 36, 37, 38, 39, 40, 41, 42, 43, 44, 45, 46, 47, 48, 49, 50, 51, 52, 53, 54, 55, 56, 57, 58, 59, 60, 61, 62, 63, 64, 65, 66, 67, 68, 69, 70, 71, 72, 73, 74, 75, 76, 77, 78, 79, 80, 81, 82, 83, 84, 85, 86, 87, 88, 89, 90, 91, 92, 93, 94, 95, 96, 97, 98, 99], \"y\": [-1.6034591679105978, 0.6744517866256291, 0.16873903499098108, -0.7120838114462832, 0.23617682794395775, 1.180677289914722, -0.9243405825078829, 0.3249744142267152, 0.24123007955726194, -1.371775940963692, 2.0299735784534514, -1.638278538950703, -0.35137910597764804, 0.000667556043875359, -2.100087178780612, -0.4528852477762303, -1.0698827410677296, -0.22569897519992077, -1.0377256973062055, -0.40533486416227726, 0.6830430283391952, -0.33966680639046704, -0.8669563151471675, 0.527643417645511, -0.0833286510642639, 0.13548161732522387, 0.7223255346457207, -0.8175726858881641, 1.374045254814651, -0.5656973754914506, 0.39140389155072197, 0.16070195849060673, -0.1861179756096024, -0.5439910419446394, -0.7872529205941025, 1.3521531710461365, -0.969493749960735, -0.4360024968703549, -0.11854777642838966, -1.8023152962452222, -1.7570950411749429, -0.3551025680128556, -0.9730138683284136, 1.7174009466336264, -1.0403124882430377, 0.8946881797652224, -0.481238013126997, -0.1801078735119504, -0.3908161297782836, 0.4211820003945261, 0.8939246652280742, 0.29982529050087176, -0.19053552055843878, 0.9122188779991189, 0.02791823589603473, -2.049843605469713, 1.8451647391505106, 1.835826771883997, 0.4514046121545814, -1.3153479849431113, 0.6039372964302147, 0.1967032275194514, -0.19718733734199645, -1.0424453626339572, -1.291632485177539, 0.08021453833866193, 0.8381689241093387, -1.2721892786100386, 0.3732178168113568, 0.05276688734700252, -1.967496885033359, 0.9023845846590755, 0.24001744040925296, -0.05429170252464368, -0.49807948253119694, -1.452383083045118, -0.9418576074293369, -0.4523600116602419, 0.6591749020229192, -0.48515217656054904, 0.6035086074078894, -0.5338885854100055, -0.9455132299224919, -0.9184469295082123, -0.482512232189353, 1.495957404481226, -0.11809049112544505, 0.3194610816126905, -1.2852738670679296, -0.5933666650741988, 1.7904157188996117, 0.4052902765873968, 1.8775364158770929, 0.01327468426470117, -2.2108064327344157, 0.4547179081726537, -0.5095154977877799, -0.9630339148296717, -1.1623592880536002, -1.1754650048720257]}, {\"line\": {\"color\": \"rgba(55, 128, 191, 1.0)\", \"dash\": \"solid\", \"shape\": \"linear\", \"width\": 1.3}, \"mode\": \"lines\", \"name\": \"B\", \"text\": \"\", \"type\": \"scatter\", \"x\": [0, 1, 2, 3, 4, 5, 6, 7, 8, 9, 10, 11, 12, 13, 14, 15, 16, 17, 18, 19, 20, 21, 22, 23, 24, 25, 26, 27, 28, 29, 30, 31, 32, 33, 34, 35, 36, 37, 38, 39, 40, 41, 42, 43, 44, 45, 46, 47, 48, 49, 50, 51, 52, 53, 54, 55, 56, 57, 58, 59, 60, 61, 62, 63, 64, 65, 66, 67, 68, 69, 70, 71, 72, 73, 74, 75, 76, 77, 78, 79, 80, 81, 82, 83, 84, 85, 86, 87, 88, 89, 90, 91, 92, 93, 94, 95, 96, 97, 98, 99], \"y\": [0.8192336134801987, 0.7602482743753068, 0.6294100028786074, 0.03904283596140118, -0.20300240870303762, -0.4217753477618602, -0.005137086974361876, -0.6026416600652672, -0.519906165020211, 0.7206112252343626, 0.20239306106194205, 0.24824347008781414, -0.3632000207111838, 0.5246297345959616, -0.8406442737890164, -0.30471587593055305, 0.11002914869335803, -0.7770599281428845, -1.041800451056623, -0.9368605859558401, 1.7229026947754391, -0.3620596398305359, 0.4949821171328368, -1.5512318236277358, 1.4494671490438522, -0.8823861526943375, -0.22564121684055144, -0.7154859681767155, -1.0820544326577435, -0.15522332326670543, -0.7164670995786423, 0.2804719336161431, -0.2051279121244869, -1.5782948712181395, -1.6263700275222348, 0.7739434861128113, 1.3095508145895705, -1.2225798792362865, 1.121663384493526, -1.4332480938692411, 0.9030413351881482, 0.006778345110963212, -0.23949189864348985, -0.04759875800248899, 1.4895830215386634, 0.34389886769741146, 0.25995771804344314, 1.7315562384553185, 1.8352822475616812, -0.5177595834240207, 1.8250101308281006, 0.8931273429782042, 0.653976849766924, 0.2047316783716681, 0.3021811973823506, -2.2920227763677037, 0.3262921101530418, -0.3354101817456763, -1.2533302192795022, 0.11168265476850534, -1.0357739867335003, 0.528326646172122, 0.4110942155465323, 0.5074870135166899, -0.8819865735203064, -1.3814733121407319, 0.022845539968953, -0.28094217851010267, 0.48606511891207504, 1.7050928660376112, -0.5609434522847258, -0.3087151772829456, -0.21422050977795287, 0.732410209205975, -0.896156752315307, -0.748927157879648, 0.006314657490310105, -1.1216573254922337, -0.5118157861492615, 0.36209901117936405, -1.0880514683970912, 0.46632807066648674, -0.022897289258460102, 1.2856654258471698, -0.24579209518601375, -0.31100397594352286, 0.0904341764974058, -1.1641298986673796, 0.13704345571697643, 0.1676107315041115, -0.3185357210445539, -0.6292950421730465, 1.6062211256891819, -0.066381667278134, 0.7151003365735614, 0.3931328546294085, 0.39143520976327495, -0.6355055797809678, 0.09861609523459006, -1.2784322496774305]}, {\"line\": {\"color\": \"rgba(50, 171, 96, 1.0)\", \"dash\": \"solid\", \"shape\": \"linear\", \"width\": 1.3}, \"mode\": \"lines\", \"name\": \"C\", \"text\": \"\", \"type\": \"scatter\", \"x\": [0, 1, 2, 3, 4, 5, 6, 7, 8, 9, 10, 11, 12, 13, 14, 15, 16, 17, 18, 19, 20, 21, 22, 23, 24, 25, 26, 27, 28, 29, 30, 31, 32, 33, 34, 35, 36, 37, 38, 39, 40, 41, 42, 43, 44, 45, 46, 47, 48, 49, 50, 51, 52, 53, 54, 55, 56, 57, 58, 59, 60, 61, 62, 63, 64, 65, 66, 67, 68, 69, 70, 71, 72, 73, 74, 75, 76, 77, 78, 79, 80, 81, 82, 83, 84, 85, 86, 87, 88, 89, 90, 91, 92, 93, 94, 95, 96, 97, 98, 99], \"y\": [2.413773226467551, -0.7128641051383859, -0.4644136139558775, -0.01595694663080215, -1.0650640833764218, -0.48824719587425885, -0.46792702899628724, 0.7935768216181784, -1.2882522941089907, 1.1808870677203653, 0.29037826101094666, -0.06273209145717351, 0.020915860572536787, 0.3559134718066243, -0.23828516601864974, 0.2235282271400536, 0.19797177200515284, 1.8154376537683254, 2.2848843666910827, 1.1551806091037926, -0.3699746848112576, 1.435658491619278, -1.028800188537578, 0.6939205836708525, -0.40461125110826474, 0.3327556578954046, -1.12640609571732, -2.6860447566331986, -0.9179074972194138, -1.06704343280252, 0.8589691278525239, 1.6668434809952644, -1.8254270265450483, -0.2336040815855926, -0.8741850919768382, 0.5611318101312296, -0.30844936946133, -2.0734330772879583, 0.04932456760975603, -0.4400844067977491, -2.584058318333577, 0.30613786549649014, -0.5441577295913987, 1.5392055423948425, -0.6572771953504218, -0.9186896963179999, 0.43104549104002376, 0.5560132829638029, 0.4295007204552606, 0.4296060913696705, 0.2560402303645244, 1.208248313929545, -1.7707832610232104, 1.3897189518615294, 1.0320936445448918, 0.02004439306689833, -0.9776711761697071, 0.2942035576612603, 1.8119180949403657, -0.3950788056218137, -0.910213972231028, -1.1739349903824625, -0.12564992211094936, -0.6755373400151659, -0.09944943527808983, -0.3425637260077509, -1.390472064931238, -2.605239681869079, -0.4120934341872476, -0.1433111350149596, -0.49250371960794603, -0.11038227569364245, -0.09476737702784671, 1.8538864184662776, -0.4262021828358027, 1.4510023307478104, -0.6586291189953202, 0.9627447585438353, -1.3102489008195526, 0.8263604082643905, 0.9052797697023395, 1.422667165070258, -1.3777177729561392, -0.4607103704274852, 0.038783419380216726, 0.4961343068085089, -0.257350508592742, 1.912895753556617, 0.4884316808865898, -0.13281473817269865, 0.78731472054916, -2.474027384823861, 0.26065077866571856, -1.6826622183155961, 0.8624958193966548, 1.1999959758197845, -1.0252157379675841, -0.431404358816828, -0.1830837371829216, 1.3727642127169377]}, {\"line\": {\"color\": \"rgba(128, 0, 128, 1.0)\", \"dash\": \"solid\", \"shape\": \"linear\", \"width\": 1.3}, \"mode\": \"lines\", \"name\": \"D\", \"text\": \"\", \"type\": \"scatter\", \"x\": [0, 1, 2, 3, 4, 5, 6, 7, 8, 9, 10, 11, 12, 13, 14, 15, 16, 17, 18, 19, 20, 21, 22, 23, 24, 25, 26, 27, 28, 29, 30, 31, 32, 33, 34, 35, 36, 37, 38, 39, 40, 41, 42, 43, 44, 45, 46, 47, 48, 49, 50, 51, 52, 53, 54, 55, 56, 57, 58, 59, 60, 61, 62, 63, 64, 65, 66, 67, 68, 69, 70, 71, 72, 73, 74, 75, 76, 77, 78, 79, 80, 81, 82, 83, 84, 85, 86, 87, 88, 89, 90, 91, 92, 93, 94, 95, 96, 97, 98, 99], \"y\": [0.007401829489414258, -1.4370701708241351, 1.8591857898260413, 0.3234628984355769, -1.0186827699736536, -2.5029781942582536, -1.3170221417895134, 1.2842493614367703, 1.3176561190796041, -1.51984636555648, -0.4568373373257365, 0.4917231453636013, 0.6297324020840347, 0.6800046087257194, -1.6879043349963478, -1.7184440811410282, -0.6629893158933756, -0.2990734559154911, 0.9273377980104158, 0.7579737594959451, 0.17464062389667698, -0.5407570581589365, 1.1910778044072616, 1.7628648760907555, -0.6551421684049624, 1.4492782835504971, -1.740609136786402, 0.28395166043367237, 0.2786932639454531, 0.41404403872693646, 0.21506270134800523, 0.8505682644777229, -0.5314201293607476, 0.5557896304038229, -0.365296760714232, -2.217061474571356, 0.9748013312221652, -0.34170981426661173, 0.6329261017503135, -1.6401310490359202, 0.3680781631778554, -1.285346047515693, -1.2285046196339122, 1.3173483989518635, -0.22844460194279967, -1.217582191747272, 0.037821191174498336, -1.3107140382302156, 0.3702429826892917, -0.157923202464818, -0.8234566045410443, 1.4173789736564744, 1.5935473741277102, 0.5073315634889328, 0.0022844246709907154, -0.4878625159174958, -0.49371361576826533, -0.23516513649527385, -0.4493622502616095, 0.36009271890851724, -1.0418440464224992, -1.53256274128827, -0.41820014868909544, 1.3907238052547535, -0.23434252023843363, -2.437667783631158, 0.2268982172156791, 0.7922884933261074, -1.0850266622940754, 1.5220154399440695, -0.3829316588565574, 2.0082340018972378, -0.9898848749021504, 0.17271913719835147, -0.9349385955128694, -0.17107806906005382, 0.7585279879634922, -0.3854391811891404, 0.519953625079641, 0.9421019207472212, -0.30754883829157076, -0.1147229354317717, 0.2498261281442703, -0.15744464120196575, -0.42045231527794225, -1.627296460821743, 0.005044118144702033, 0.5658345085132992, 0.6388688318264979, -1.3232878742686391, 0.7465694355165938, 1.0820018623444183, -0.5041788231736237, 1.1504172122250285, 0.9447481604950453, 0.38513046915252636, 1.0291157820071175, 1.0957470204235578, -0.47547506159373265, 1.0934248802476974]}],                        {\"legend\": {\"bgcolor\": \"#F5F6F9\", \"font\": {\"color\": \"#4D5663\"}}, \"paper_bgcolor\": \"#F5F6F9\", \"plot_bgcolor\": \"#F5F6F9\", \"template\": {\"data\": {\"bar\": [{\"error_x\": {\"color\": \"#2a3f5f\"}, \"error_y\": {\"color\": \"#2a3f5f\"}, \"marker\": {\"line\": {\"color\": \"#E5ECF6\", \"width\": 0.5}}, \"type\": \"bar\"}], \"barpolar\": [{\"marker\": {\"line\": {\"color\": \"#E5ECF6\", \"width\": 0.5}}, \"type\": \"barpolar\"}], \"carpet\": [{\"aaxis\": {\"endlinecolor\": \"#2a3f5f\", \"gridcolor\": \"white\", \"linecolor\": \"white\", \"minorgridcolor\": \"white\", \"startlinecolor\": \"#2a3f5f\"}, \"baxis\": {\"endlinecolor\": \"#2a3f5f\", \"gridcolor\": \"white\", \"linecolor\": \"white\", \"minorgridcolor\": \"white\", \"startlinecolor\": \"#2a3f5f\"}, \"type\": \"carpet\"}], \"choropleth\": [{\"colorbar\": {\"outlinewidth\": 0, \"ticks\": \"\"}, \"type\": \"choropleth\"}], \"contour\": [{\"colorbar\": {\"outlinewidth\": 0, \"ticks\": \"\"}, \"colorscale\": [[0.0, \"#0d0887\"], [0.1111111111111111, \"#46039f\"], [0.2222222222222222, \"#7201a8\"], [0.3333333333333333, \"#9c179e\"], [0.4444444444444444, \"#bd3786\"], [0.5555555555555556, \"#d8576b\"], [0.6666666666666666, \"#ed7953\"], [0.7777777777777778, \"#fb9f3a\"], [0.8888888888888888, \"#fdca26\"], [1.0, \"#f0f921\"]], \"type\": \"contour\"}], \"contourcarpet\": [{\"colorbar\": {\"outlinewidth\": 0, \"ticks\": \"\"}, \"type\": \"contourcarpet\"}], \"heatmap\": [{\"colorbar\": {\"outlinewidth\": 0, \"ticks\": \"\"}, \"colorscale\": [[0.0, \"#0d0887\"], [0.1111111111111111, \"#46039f\"], [0.2222222222222222, \"#7201a8\"], [0.3333333333333333, \"#9c179e\"], [0.4444444444444444, \"#bd3786\"], [0.5555555555555556, \"#d8576b\"], [0.6666666666666666, \"#ed7953\"], [0.7777777777777778, \"#fb9f3a\"], [0.8888888888888888, \"#fdca26\"], [1.0, \"#f0f921\"]], \"type\": \"heatmap\"}], \"heatmapgl\": [{\"colorbar\": {\"outlinewidth\": 0, \"ticks\": \"\"}, \"colorscale\": [[0.0, \"#0d0887\"], [0.1111111111111111, \"#46039f\"], [0.2222222222222222, \"#7201a8\"], [0.3333333333333333, \"#9c179e\"], [0.4444444444444444, \"#bd3786\"], [0.5555555555555556, \"#d8576b\"], [0.6666666666666666, \"#ed7953\"], [0.7777777777777778, \"#fb9f3a\"], [0.8888888888888888, \"#fdca26\"], [1.0, \"#f0f921\"]], \"type\": \"heatmapgl\"}], \"histogram\": [{\"marker\": {\"colorbar\": {\"outlinewidth\": 0, \"ticks\": \"\"}}, \"type\": \"histogram\"}], \"histogram2d\": [{\"colorbar\": {\"outlinewidth\": 0, \"ticks\": \"\"}, \"colorscale\": [[0.0, \"#0d0887\"], [0.1111111111111111, \"#46039f\"], [0.2222222222222222, \"#7201a8\"], [0.3333333333333333, \"#9c179e\"], [0.4444444444444444, \"#bd3786\"], [0.5555555555555556, \"#d8576b\"], [0.6666666666666666, \"#ed7953\"], [0.7777777777777778, \"#fb9f3a\"], [0.8888888888888888, \"#fdca26\"], [1.0, \"#f0f921\"]], \"type\": \"histogram2d\"}], \"histogram2dcontour\": [{\"colorbar\": {\"outlinewidth\": 0, \"ticks\": \"\"}, \"colorscale\": [[0.0, \"#0d0887\"], [0.1111111111111111, \"#46039f\"], [0.2222222222222222, \"#7201a8\"], [0.3333333333333333, \"#9c179e\"], [0.4444444444444444, \"#bd3786\"], [0.5555555555555556, \"#d8576b\"], [0.6666666666666666, \"#ed7953\"], [0.7777777777777778, \"#fb9f3a\"], [0.8888888888888888, \"#fdca26\"], [1.0, \"#f0f921\"]], \"type\": \"histogram2dcontour\"}], \"mesh3d\": [{\"colorbar\": {\"outlinewidth\": 0, \"ticks\": \"\"}, \"type\": \"mesh3d\"}], \"parcoords\": [{\"line\": {\"colorbar\": {\"outlinewidth\": 0, \"ticks\": \"\"}}, \"type\": \"parcoords\"}], \"pie\": [{\"automargin\": true, \"type\": \"pie\"}], \"scatter\": [{\"marker\": {\"colorbar\": {\"outlinewidth\": 0, \"ticks\": \"\"}}, \"type\": \"scatter\"}], \"scatter3d\": [{\"line\": {\"colorbar\": {\"outlinewidth\": 0, \"ticks\": \"\"}}, \"marker\": {\"colorbar\": {\"outlinewidth\": 0, \"ticks\": \"\"}}, \"type\": \"scatter3d\"}], \"scattercarpet\": [{\"marker\": {\"colorbar\": {\"outlinewidth\": 0, \"ticks\": \"\"}}, \"type\": \"scattercarpet\"}], \"scattergeo\": [{\"marker\": {\"colorbar\": {\"outlinewidth\": 0, \"ticks\": \"\"}}, \"type\": \"scattergeo\"}], \"scattergl\": [{\"marker\": {\"colorbar\": {\"outlinewidth\": 0, \"ticks\": \"\"}}, \"type\": \"scattergl\"}], \"scattermapbox\": [{\"marker\": {\"colorbar\": {\"outlinewidth\": 0, \"ticks\": \"\"}}, \"type\": \"scattermapbox\"}], \"scatterpolar\": [{\"marker\": {\"colorbar\": {\"outlinewidth\": 0, \"ticks\": \"\"}}, \"type\": \"scatterpolar\"}], \"scatterpolargl\": [{\"marker\": {\"colorbar\": {\"outlinewidth\": 0, \"ticks\": \"\"}}, \"type\": \"scatterpolargl\"}], \"scatterternary\": [{\"marker\": {\"colorbar\": {\"outlinewidth\": 0, \"ticks\": \"\"}}, \"type\": \"scatterternary\"}], \"surface\": [{\"colorbar\": {\"outlinewidth\": 0, \"ticks\": \"\"}, \"colorscale\": [[0.0, \"#0d0887\"], [0.1111111111111111, \"#46039f\"], [0.2222222222222222, \"#7201a8\"], [0.3333333333333333, \"#9c179e\"], [0.4444444444444444, \"#bd3786\"], [0.5555555555555556, \"#d8576b\"], [0.6666666666666666, \"#ed7953\"], [0.7777777777777778, \"#fb9f3a\"], [0.8888888888888888, \"#fdca26\"], [1.0, \"#f0f921\"]], \"type\": \"surface\"}], \"table\": [{\"cells\": {\"fill\": {\"color\": \"#EBF0F8\"}, \"line\": {\"color\": \"white\"}}, \"header\": {\"fill\": {\"color\": \"#C8D4E3\"}, \"line\": {\"color\": \"white\"}}, \"type\": \"table\"}]}, \"layout\": {\"annotationdefaults\": {\"arrowcolor\": \"#2a3f5f\", \"arrowhead\": 0, \"arrowwidth\": 1}, \"autotypenumbers\": \"strict\", \"coloraxis\": {\"colorbar\": {\"outlinewidth\": 0, \"ticks\": \"\"}}, \"colorscale\": {\"diverging\": [[0, \"#8e0152\"], [0.1, \"#c51b7d\"], [0.2, \"#de77ae\"], [0.3, \"#f1b6da\"], [0.4, \"#fde0ef\"], [0.5, \"#f7f7f7\"], [0.6, \"#e6f5d0\"], [0.7, \"#b8e186\"], [0.8, \"#7fbc41\"], [0.9, \"#4d9221\"], [1, \"#276419\"]], \"sequential\": [[0.0, \"#0d0887\"], [0.1111111111111111, \"#46039f\"], [0.2222222222222222, \"#7201a8\"], [0.3333333333333333, \"#9c179e\"], [0.4444444444444444, \"#bd3786\"], [0.5555555555555556, \"#d8576b\"], [0.6666666666666666, \"#ed7953\"], [0.7777777777777778, \"#fb9f3a\"], [0.8888888888888888, \"#fdca26\"], [1.0, \"#f0f921\"]], \"sequentialminus\": [[0.0, \"#0d0887\"], [0.1111111111111111, \"#46039f\"], [0.2222222222222222, \"#7201a8\"], [0.3333333333333333, \"#9c179e\"], [0.4444444444444444, \"#bd3786\"], [0.5555555555555556, \"#d8576b\"], [0.6666666666666666, \"#ed7953\"], [0.7777777777777778, \"#fb9f3a\"], [0.8888888888888888, \"#fdca26\"], [1.0, \"#f0f921\"]]}, \"colorway\": [\"#636efa\", \"#EF553B\", \"#00cc96\", \"#ab63fa\", \"#FFA15A\", \"#19d3f3\", \"#FF6692\", \"#B6E880\", \"#FF97FF\", \"#FECB52\"], \"font\": {\"color\": \"#2a3f5f\"}, \"geo\": {\"bgcolor\": \"white\", \"lakecolor\": \"white\", \"landcolor\": \"#E5ECF6\", \"showlakes\": true, \"showland\": true, \"subunitcolor\": \"white\"}, \"hoverlabel\": {\"align\": \"left\"}, \"hovermode\": \"closest\", \"mapbox\": {\"style\": \"light\"}, \"paper_bgcolor\": \"white\", \"plot_bgcolor\": \"#E5ECF6\", \"polar\": {\"angularaxis\": {\"gridcolor\": \"white\", \"linecolor\": \"white\", \"ticks\": \"\"}, \"bgcolor\": \"#E5ECF6\", \"radialaxis\": {\"gridcolor\": \"white\", \"linecolor\": \"white\", \"ticks\": \"\"}}, \"scene\": {\"xaxis\": {\"backgroundcolor\": \"#E5ECF6\", \"gridcolor\": \"white\", \"gridwidth\": 2, \"linecolor\": \"white\", \"showbackground\": true, \"ticks\": \"\", \"zerolinecolor\": \"white\"}, \"yaxis\": {\"backgroundcolor\": \"#E5ECF6\", \"gridcolor\": \"white\", \"gridwidth\": 2, \"linecolor\": \"white\", \"showbackground\": true, \"ticks\": \"\", \"zerolinecolor\": \"white\"}, \"zaxis\": {\"backgroundcolor\": \"#E5ECF6\", \"gridcolor\": \"white\", \"gridwidth\": 2, \"linecolor\": \"white\", \"showbackground\": true, \"ticks\": \"\", \"zerolinecolor\": \"white\"}}, \"shapedefaults\": {\"line\": {\"color\": \"#2a3f5f\"}}, \"ternary\": {\"aaxis\": {\"gridcolor\": \"white\", \"linecolor\": \"white\", \"ticks\": \"\"}, \"baxis\": {\"gridcolor\": \"white\", \"linecolor\": \"white\", \"ticks\": \"\"}, \"bgcolor\": \"#E5ECF6\", \"caxis\": {\"gridcolor\": \"white\", \"linecolor\": \"white\", \"ticks\": \"\"}}, \"title\": {\"x\": 0.05}, \"xaxis\": {\"automargin\": true, \"gridcolor\": \"white\", \"linecolor\": \"white\", \"ticks\": \"\", \"title\": {\"standoff\": 15}, \"zerolinecolor\": \"white\", \"zerolinewidth\": 2}, \"yaxis\": {\"automargin\": true, \"gridcolor\": \"white\", \"linecolor\": \"white\", \"ticks\": \"\", \"title\": {\"standoff\": 15}, \"zerolinecolor\": \"white\", \"zerolinewidth\": 2}}}, \"title\": {\"font\": {\"color\": \"#4D5663\"}}, \"xaxis\": {\"gridcolor\": \"#E1E5ED\", \"showgrid\": true, \"tickfont\": {\"color\": \"#4D5663\"}, \"title\": {\"font\": {\"color\": \"#4D5663\"}, \"text\": \"\"}, \"zerolinecolor\": \"#E1E5ED\"}, \"yaxis\": {\"gridcolor\": \"#E1E5ED\", \"showgrid\": true, \"tickfont\": {\"color\": \"#4D5663\"}, \"title\": {\"font\": {\"color\": \"#4D5663\"}, \"text\": \"\"}, \"zerolinecolor\": \"#E1E5ED\"}},                        {\"showLink\": true, \"linkText\": \"Export to plot.ly\", \"plotlyServerURL\": \"https://plot.ly\", \"responsive\": true}                    ).then(function(){\n                            \nvar gd = document.getElementById('812c932d-1b12-4317-b5b0-9f75ae9a0289');\nvar x = new MutationObserver(function (mutations, observer) {{\n        var display = window.getComputedStyle(gd).display;\n        if (!display || display === 'none') {{\n            console.log([gd, 'removed!']);\n            Plotly.purge(gd);\n            observer.disconnect();\n        }}\n}});\n\n// Listen for the removal of the full notebook cells\nvar notebookContainer = gd.closest('#notebook-container');\nif (notebookContainer) {{\n    x.observe(notebookContainer, {childList: true});\n}}\n\n// Listen for the clearing of the current output cell\nvar outputEl = gd.closest('.output');\nif (outputEl) {{\n    x.observe(outputEl, {childList: true});\n}}\n\n                        })                };                });            </script>        </div>"
     },
     "metadata": {}
    }
   ],
   "source": [
    "df1.iplot()"
   ]
  },
  {
   "source": [
    "## Scatter plot"
   ],
   "cell_type": "markdown",
   "metadata": {}
  },
  {
   "cell_type": "code",
   "execution_count": 8,
   "metadata": {},
   "outputs": [
    {
     "output_type": "display_data",
     "data": {
      "application/vnd.plotly.v1+json": {
       "config": {
        "linkText": "Export to plot.ly",
        "plotlyServerURL": "https://plot.ly",
        "showLink": true
       },
       "data": [
        {
         "line": {
          "color": "rgba(255, 153, 51, 1.0)",
          "dash": "solid",
          "shape": "linear",
          "width": 1.3
         },
         "marker": {
          "size": 10,
          "symbol": "circle"
         },
         "mode": "markers",
         "name": "B",
         "text": "",
         "type": "scatter",
         "x": [
          -1.6034591679105978,
          0.6744517866256291,
          0.16873903499098108,
          -0.7120838114462832,
          0.23617682794395775,
          1.180677289914722,
          -0.9243405825078829,
          0.3249744142267152,
          0.24123007955726194,
          -1.371775940963692,
          2.0299735784534514,
          -1.638278538950703,
          -0.35137910597764804,
          0.000667556043875359,
          -2.100087178780612,
          -0.4528852477762303,
          -1.0698827410677296,
          -0.22569897519992077,
          -1.0377256973062055,
          -0.40533486416227726,
          0.6830430283391952,
          -0.33966680639046704,
          -0.8669563151471675,
          0.527643417645511,
          -0.0833286510642639,
          0.13548161732522387,
          0.7223255346457207,
          -0.8175726858881641,
          1.374045254814651,
          -0.5656973754914506,
          0.39140389155072197,
          0.16070195849060673,
          -0.1861179756096024,
          -0.5439910419446394,
          -0.7872529205941025,
          1.3521531710461365,
          -0.969493749960735,
          -0.4360024968703549,
          -0.11854777642838966,
          -1.8023152962452222,
          -1.7570950411749429,
          -0.3551025680128556,
          -0.9730138683284136,
          1.7174009466336264,
          -1.0403124882430377,
          0.8946881797652224,
          -0.481238013126997,
          -0.1801078735119504,
          -0.3908161297782836,
          0.4211820003945261,
          0.8939246652280742,
          0.29982529050087176,
          -0.19053552055843878,
          0.9122188779991189,
          0.02791823589603473,
          -2.049843605469713,
          1.8451647391505106,
          1.835826771883997,
          0.4514046121545814,
          -1.3153479849431113,
          0.6039372964302147,
          0.1967032275194514,
          -0.19718733734199645,
          -1.0424453626339572,
          -1.291632485177539,
          0.08021453833866193,
          0.8381689241093387,
          -1.2721892786100386,
          0.3732178168113568,
          0.05276688734700252,
          -1.967496885033359,
          0.9023845846590755,
          0.24001744040925296,
          -0.05429170252464368,
          -0.49807948253119694,
          -1.452383083045118,
          -0.9418576074293369,
          -0.4523600116602419,
          0.6591749020229192,
          -0.48515217656054904,
          0.6035086074078894,
          -0.5338885854100055,
          -0.9455132299224919,
          -0.9184469295082123,
          -0.482512232189353,
          1.495957404481226,
          -0.11809049112544505,
          0.3194610816126905,
          -1.2852738670679296,
          -0.5933666650741988,
          1.7904157188996117,
          0.4052902765873968,
          1.8775364158770929,
          0.01327468426470117,
          -2.2108064327344157,
          0.4547179081726537,
          -0.5095154977877799,
          -0.9630339148296717,
          -1.1623592880536002,
          -1.1754650048720257
         ],
         "y": [
          0.8192336134801987,
          0.7602482743753068,
          0.6294100028786074,
          0.03904283596140118,
          -0.20300240870303762,
          -0.4217753477618602,
          -0.005137086974361876,
          -0.6026416600652672,
          -0.519906165020211,
          0.7206112252343626,
          0.20239306106194205,
          0.24824347008781414,
          -0.3632000207111838,
          0.5246297345959616,
          -0.8406442737890164,
          -0.30471587593055305,
          0.11002914869335803,
          -0.7770599281428845,
          -1.041800451056623,
          -0.9368605859558401,
          1.7229026947754391,
          -0.3620596398305359,
          0.4949821171328368,
          -1.5512318236277358,
          1.4494671490438522,
          -0.8823861526943375,
          -0.22564121684055144,
          -0.7154859681767155,
          -1.0820544326577435,
          -0.15522332326670543,
          -0.7164670995786423,
          0.2804719336161431,
          -0.2051279121244869,
          -1.5782948712181395,
          -1.6263700275222348,
          0.7739434861128113,
          1.3095508145895705,
          -1.2225798792362865,
          1.121663384493526,
          -1.4332480938692411,
          0.9030413351881482,
          0.006778345110963212,
          -0.23949189864348985,
          -0.04759875800248899,
          1.4895830215386634,
          0.34389886769741146,
          0.25995771804344314,
          1.7315562384553185,
          1.8352822475616812,
          -0.5177595834240207,
          1.8250101308281006,
          0.8931273429782042,
          0.653976849766924,
          0.2047316783716681,
          0.3021811973823506,
          -2.2920227763677037,
          0.3262921101530418,
          -0.3354101817456763,
          -1.2533302192795022,
          0.11168265476850534,
          -1.0357739867335003,
          0.528326646172122,
          0.4110942155465323,
          0.5074870135166899,
          -0.8819865735203064,
          -1.3814733121407319,
          0.022845539968953,
          -0.28094217851010267,
          0.48606511891207504,
          1.7050928660376112,
          -0.5609434522847258,
          -0.3087151772829456,
          -0.21422050977795287,
          0.732410209205975,
          -0.896156752315307,
          -0.748927157879648,
          0.006314657490310105,
          -1.1216573254922337,
          -0.5118157861492615,
          0.36209901117936405,
          -1.0880514683970912,
          0.46632807066648674,
          -0.022897289258460102,
          1.2856654258471698,
          -0.24579209518601375,
          -0.31100397594352286,
          0.0904341764974058,
          -1.1641298986673796,
          0.13704345571697643,
          0.1676107315041115,
          -0.3185357210445539,
          -0.6292950421730465,
          1.6062211256891819,
          -0.066381667278134,
          0.7151003365735614,
          0.3931328546294085,
          0.39143520976327495,
          -0.6355055797809678,
          0.09861609523459006,
          -1.2784322496774305
         ]
        }
       ],
       "layout": {
        "legend": {
         "bgcolor": "#F5F6F9",
         "font": {
          "color": "#4D5663"
         }
        },
        "paper_bgcolor": "#F5F6F9",
        "plot_bgcolor": "#F5F6F9",
        "template": {
         "data": {
          "bar": [
           {
            "error_x": {
             "color": "#2a3f5f"
            },
            "error_y": {
             "color": "#2a3f5f"
            },
            "marker": {
             "line": {
              "color": "#E5ECF6",
              "width": 0.5
             }
            },
            "type": "bar"
           }
          ],
          "barpolar": [
           {
            "marker": {
             "line": {
              "color": "#E5ECF6",
              "width": 0.5
             }
            },
            "type": "barpolar"
           }
          ],
          "carpet": [
           {
            "aaxis": {
             "endlinecolor": "#2a3f5f",
             "gridcolor": "white",
             "linecolor": "white",
             "minorgridcolor": "white",
             "startlinecolor": "#2a3f5f"
            },
            "baxis": {
             "endlinecolor": "#2a3f5f",
             "gridcolor": "white",
             "linecolor": "white",
             "minorgridcolor": "white",
             "startlinecolor": "#2a3f5f"
            },
            "type": "carpet"
           }
          ],
          "choropleth": [
           {
            "colorbar": {
             "outlinewidth": 0,
             "ticks": ""
            },
            "type": "choropleth"
           }
          ],
          "contour": [
           {
            "colorbar": {
             "outlinewidth": 0,
             "ticks": ""
            },
            "colorscale": [
             [
              0,
              "#0d0887"
             ],
             [
              0.1111111111111111,
              "#46039f"
             ],
             [
              0.2222222222222222,
              "#7201a8"
             ],
             [
              0.3333333333333333,
              "#9c179e"
             ],
             [
              0.4444444444444444,
              "#bd3786"
             ],
             [
              0.5555555555555556,
              "#d8576b"
             ],
             [
              0.6666666666666666,
              "#ed7953"
             ],
             [
              0.7777777777777778,
              "#fb9f3a"
             ],
             [
              0.8888888888888888,
              "#fdca26"
             ],
             [
              1,
              "#f0f921"
             ]
            ],
            "type": "contour"
           }
          ],
          "contourcarpet": [
           {
            "colorbar": {
             "outlinewidth": 0,
             "ticks": ""
            },
            "type": "contourcarpet"
           }
          ],
          "heatmap": [
           {
            "colorbar": {
             "outlinewidth": 0,
             "ticks": ""
            },
            "colorscale": [
             [
              0,
              "#0d0887"
             ],
             [
              0.1111111111111111,
              "#46039f"
             ],
             [
              0.2222222222222222,
              "#7201a8"
             ],
             [
              0.3333333333333333,
              "#9c179e"
             ],
             [
              0.4444444444444444,
              "#bd3786"
             ],
             [
              0.5555555555555556,
              "#d8576b"
             ],
             [
              0.6666666666666666,
              "#ed7953"
             ],
             [
              0.7777777777777778,
              "#fb9f3a"
             ],
             [
              0.8888888888888888,
              "#fdca26"
             ],
             [
              1,
              "#f0f921"
             ]
            ],
            "type": "heatmap"
           }
          ],
          "heatmapgl": [
           {
            "colorbar": {
             "outlinewidth": 0,
             "ticks": ""
            },
            "colorscale": [
             [
              0,
              "#0d0887"
             ],
             [
              0.1111111111111111,
              "#46039f"
             ],
             [
              0.2222222222222222,
              "#7201a8"
             ],
             [
              0.3333333333333333,
              "#9c179e"
             ],
             [
              0.4444444444444444,
              "#bd3786"
             ],
             [
              0.5555555555555556,
              "#d8576b"
             ],
             [
              0.6666666666666666,
              "#ed7953"
             ],
             [
              0.7777777777777778,
              "#fb9f3a"
             ],
             [
              0.8888888888888888,
              "#fdca26"
             ],
             [
              1,
              "#f0f921"
             ]
            ],
            "type": "heatmapgl"
           }
          ],
          "histogram": [
           {
            "marker": {
             "colorbar": {
              "outlinewidth": 0,
              "ticks": ""
             }
            },
            "type": "histogram"
           }
          ],
          "histogram2d": [
           {
            "colorbar": {
             "outlinewidth": 0,
             "ticks": ""
            },
            "colorscale": [
             [
              0,
              "#0d0887"
             ],
             [
              0.1111111111111111,
              "#46039f"
             ],
             [
              0.2222222222222222,
              "#7201a8"
             ],
             [
              0.3333333333333333,
              "#9c179e"
             ],
             [
              0.4444444444444444,
              "#bd3786"
             ],
             [
              0.5555555555555556,
              "#d8576b"
             ],
             [
              0.6666666666666666,
              "#ed7953"
             ],
             [
              0.7777777777777778,
              "#fb9f3a"
             ],
             [
              0.8888888888888888,
              "#fdca26"
             ],
             [
              1,
              "#f0f921"
             ]
            ],
            "type": "histogram2d"
           }
          ],
          "histogram2dcontour": [
           {
            "colorbar": {
             "outlinewidth": 0,
             "ticks": ""
            },
            "colorscale": [
             [
              0,
              "#0d0887"
             ],
             [
              0.1111111111111111,
              "#46039f"
             ],
             [
              0.2222222222222222,
              "#7201a8"
             ],
             [
              0.3333333333333333,
              "#9c179e"
             ],
             [
              0.4444444444444444,
              "#bd3786"
             ],
             [
              0.5555555555555556,
              "#d8576b"
             ],
             [
              0.6666666666666666,
              "#ed7953"
             ],
             [
              0.7777777777777778,
              "#fb9f3a"
             ],
             [
              0.8888888888888888,
              "#fdca26"
             ],
             [
              1,
              "#f0f921"
             ]
            ],
            "type": "histogram2dcontour"
           }
          ],
          "mesh3d": [
           {
            "colorbar": {
             "outlinewidth": 0,
             "ticks": ""
            },
            "type": "mesh3d"
           }
          ],
          "parcoords": [
           {
            "line": {
             "colorbar": {
              "outlinewidth": 0,
              "ticks": ""
             }
            },
            "type": "parcoords"
           }
          ],
          "pie": [
           {
            "automargin": true,
            "type": "pie"
           }
          ],
          "scatter": [
           {
            "marker": {
             "colorbar": {
              "outlinewidth": 0,
              "ticks": ""
             }
            },
            "type": "scatter"
           }
          ],
          "scatter3d": [
           {
            "line": {
             "colorbar": {
              "outlinewidth": 0,
              "ticks": ""
             }
            },
            "marker": {
             "colorbar": {
              "outlinewidth": 0,
              "ticks": ""
             }
            },
            "type": "scatter3d"
           }
          ],
          "scattercarpet": [
           {
            "marker": {
             "colorbar": {
              "outlinewidth": 0,
              "ticks": ""
             }
            },
            "type": "scattercarpet"
           }
          ],
          "scattergeo": [
           {
            "marker": {
             "colorbar": {
              "outlinewidth": 0,
              "ticks": ""
             }
            },
            "type": "scattergeo"
           }
          ],
          "scattergl": [
           {
            "marker": {
             "colorbar": {
              "outlinewidth": 0,
              "ticks": ""
             }
            },
            "type": "scattergl"
           }
          ],
          "scattermapbox": [
           {
            "marker": {
             "colorbar": {
              "outlinewidth": 0,
              "ticks": ""
             }
            },
            "type": "scattermapbox"
           }
          ],
          "scatterpolar": [
           {
            "marker": {
             "colorbar": {
              "outlinewidth": 0,
              "ticks": ""
             }
            },
            "type": "scatterpolar"
           }
          ],
          "scatterpolargl": [
           {
            "marker": {
             "colorbar": {
              "outlinewidth": 0,
              "ticks": ""
             }
            },
            "type": "scatterpolargl"
           }
          ],
          "scatterternary": [
           {
            "marker": {
             "colorbar": {
              "outlinewidth": 0,
              "ticks": ""
             }
            },
            "type": "scatterternary"
           }
          ],
          "surface": [
           {
            "colorbar": {
             "outlinewidth": 0,
             "ticks": ""
            },
            "colorscale": [
             [
              0,
              "#0d0887"
             ],
             [
              0.1111111111111111,
              "#46039f"
             ],
             [
              0.2222222222222222,
              "#7201a8"
             ],
             [
              0.3333333333333333,
              "#9c179e"
             ],
             [
              0.4444444444444444,
              "#bd3786"
             ],
             [
              0.5555555555555556,
              "#d8576b"
             ],
             [
              0.6666666666666666,
              "#ed7953"
             ],
             [
              0.7777777777777778,
              "#fb9f3a"
             ],
             [
              0.8888888888888888,
              "#fdca26"
             ],
             [
              1,
              "#f0f921"
             ]
            ],
            "type": "surface"
           }
          ],
          "table": [
           {
            "cells": {
             "fill": {
              "color": "#EBF0F8"
             },
             "line": {
              "color": "white"
             }
            },
            "header": {
             "fill": {
              "color": "#C8D4E3"
             },
             "line": {
              "color": "white"
             }
            },
            "type": "table"
           }
          ]
         },
         "layout": {
          "annotationdefaults": {
           "arrowcolor": "#2a3f5f",
           "arrowhead": 0,
           "arrowwidth": 1
          },
          "autotypenumbers": "strict",
          "coloraxis": {
           "colorbar": {
            "outlinewidth": 0,
            "ticks": ""
           }
          },
          "colorscale": {
           "diverging": [
            [
             0,
             "#8e0152"
            ],
            [
             0.1,
             "#c51b7d"
            ],
            [
             0.2,
             "#de77ae"
            ],
            [
             0.3,
             "#f1b6da"
            ],
            [
             0.4,
             "#fde0ef"
            ],
            [
             0.5,
             "#f7f7f7"
            ],
            [
             0.6,
             "#e6f5d0"
            ],
            [
             0.7,
             "#b8e186"
            ],
            [
             0.8,
             "#7fbc41"
            ],
            [
             0.9,
             "#4d9221"
            ],
            [
             1,
             "#276419"
            ]
           ],
           "sequential": [
            [
             0,
             "#0d0887"
            ],
            [
             0.1111111111111111,
             "#46039f"
            ],
            [
             0.2222222222222222,
             "#7201a8"
            ],
            [
             0.3333333333333333,
             "#9c179e"
            ],
            [
             0.4444444444444444,
             "#bd3786"
            ],
            [
             0.5555555555555556,
             "#d8576b"
            ],
            [
             0.6666666666666666,
             "#ed7953"
            ],
            [
             0.7777777777777778,
             "#fb9f3a"
            ],
            [
             0.8888888888888888,
             "#fdca26"
            ],
            [
             1,
             "#f0f921"
            ]
           ],
           "sequentialminus": [
            [
             0,
             "#0d0887"
            ],
            [
             0.1111111111111111,
             "#46039f"
            ],
            [
             0.2222222222222222,
             "#7201a8"
            ],
            [
             0.3333333333333333,
             "#9c179e"
            ],
            [
             0.4444444444444444,
             "#bd3786"
            ],
            [
             0.5555555555555556,
             "#d8576b"
            ],
            [
             0.6666666666666666,
             "#ed7953"
            ],
            [
             0.7777777777777778,
             "#fb9f3a"
            ],
            [
             0.8888888888888888,
             "#fdca26"
            ],
            [
             1,
             "#f0f921"
            ]
           ]
          },
          "colorway": [
           "#636efa",
           "#EF553B",
           "#00cc96",
           "#ab63fa",
           "#FFA15A",
           "#19d3f3",
           "#FF6692",
           "#B6E880",
           "#FF97FF",
           "#FECB52"
          ],
          "font": {
           "color": "#2a3f5f"
          },
          "geo": {
           "bgcolor": "white",
           "lakecolor": "white",
           "landcolor": "#E5ECF6",
           "showlakes": true,
           "showland": true,
           "subunitcolor": "white"
          },
          "hoverlabel": {
           "align": "left"
          },
          "hovermode": "closest",
          "mapbox": {
           "style": "light"
          },
          "paper_bgcolor": "white",
          "plot_bgcolor": "#E5ECF6",
          "polar": {
           "angularaxis": {
            "gridcolor": "white",
            "linecolor": "white",
            "ticks": ""
           },
           "bgcolor": "#E5ECF6",
           "radialaxis": {
            "gridcolor": "white",
            "linecolor": "white",
            "ticks": ""
           }
          },
          "scene": {
           "xaxis": {
            "backgroundcolor": "#E5ECF6",
            "gridcolor": "white",
            "gridwidth": 2,
            "linecolor": "white",
            "showbackground": true,
            "ticks": "",
            "zerolinecolor": "white"
           },
           "yaxis": {
            "backgroundcolor": "#E5ECF6",
            "gridcolor": "white",
            "gridwidth": 2,
            "linecolor": "white",
            "showbackground": true,
            "ticks": "",
            "zerolinecolor": "white"
           },
           "zaxis": {
            "backgroundcolor": "#E5ECF6",
            "gridcolor": "white",
            "gridwidth": 2,
            "linecolor": "white",
            "showbackground": true,
            "ticks": "",
            "zerolinecolor": "white"
           }
          },
          "shapedefaults": {
           "line": {
            "color": "#2a3f5f"
           }
          },
          "ternary": {
           "aaxis": {
            "gridcolor": "white",
            "linecolor": "white",
            "ticks": ""
           },
           "baxis": {
            "gridcolor": "white",
            "linecolor": "white",
            "ticks": ""
           },
           "bgcolor": "#E5ECF6",
           "caxis": {
            "gridcolor": "white",
            "linecolor": "white",
            "ticks": ""
           }
          },
          "title": {
           "x": 0.05
          },
          "xaxis": {
           "automargin": true,
           "gridcolor": "white",
           "linecolor": "white",
           "ticks": "",
           "title": {
            "standoff": 15
           },
           "zerolinecolor": "white",
           "zerolinewidth": 2
          },
          "yaxis": {
           "automargin": true,
           "gridcolor": "white",
           "linecolor": "white",
           "ticks": "",
           "title": {
            "standoff": 15
           },
           "zerolinecolor": "white",
           "zerolinewidth": 2
          }
         }
        },
        "title": {
         "font": {
          "color": "#4D5663"
         }
        },
        "xaxis": {
         "gridcolor": "#E1E5ED",
         "showgrid": true,
         "tickfont": {
          "color": "#4D5663"
         },
         "title": {
          "font": {
           "color": "#4D5663"
          },
          "text": ""
         },
         "zerolinecolor": "#E1E5ED"
        },
        "yaxis": {
         "gridcolor": "#E1E5ED",
         "showgrid": true,
         "tickfont": {
          "color": "#4D5663"
         },
         "title": {
          "font": {
           "color": "#4D5663"
          },
          "text": ""
         },
         "zerolinecolor": "#E1E5ED"
        }
       }
      },
      "text/html": "<div>                            <div id=\"cc8d2a84-b310-4ebc-8a2a-230747ffa381\" class=\"plotly-graph-div\" style=\"height:525px; width:100%;\"></div>            <script type=\"text/javascript\">                require([\"plotly\"], function(Plotly) {                    window.PLOTLYENV=window.PLOTLYENV || {};\n                    window.PLOTLYENV.BASE_URL='https://plot.ly';                                    if (document.getElementById(\"cc8d2a84-b310-4ebc-8a2a-230747ffa381\")) {                    Plotly.newPlot(                        \"cc8d2a84-b310-4ebc-8a2a-230747ffa381\",                        [{\"line\": {\"color\": \"rgba(255, 153, 51, 1.0)\", \"dash\": \"solid\", \"shape\": \"linear\", \"width\": 1.3}, \"marker\": {\"size\": 10, \"symbol\": \"circle\"}, \"mode\": \"markers\", \"name\": \"B\", \"text\": \"\", \"type\": \"scatter\", \"x\": [-1.6034591679105978, 0.6744517866256291, 0.16873903499098108, -0.7120838114462832, 0.23617682794395775, 1.180677289914722, -0.9243405825078829, 0.3249744142267152, 0.24123007955726194, -1.371775940963692, 2.0299735784534514, -1.638278538950703, -0.35137910597764804, 0.000667556043875359, -2.100087178780612, -0.4528852477762303, -1.0698827410677296, -0.22569897519992077, -1.0377256973062055, -0.40533486416227726, 0.6830430283391952, -0.33966680639046704, -0.8669563151471675, 0.527643417645511, -0.0833286510642639, 0.13548161732522387, 0.7223255346457207, -0.8175726858881641, 1.374045254814651, -0.5656973754914506, 0.39140389155072197, 0.16070195849060673, -0.1861179756096024, -0.5439910419446394, -0.7872529205941025, 1.3521531710461365, -0.969493749960735, -0.4360024968703549, -0.11854777642838966, -1.8023152962452222, -1.7570950411749429, -0.3551025680128556, -0.9730138683284136, 1.7174009466336264, -1.0403124882430377, 0.8946881797652224, -0.481238013126997, -0.1801078735119504, -0.3908161297782836, 0.4211820003945261, 0.8939246652280742, 0.29982529050087176, -0.19053552055843878, 0.9122188779991189, 0.02791823589603473, -2.049843605469713, 1.8451647391505106, 1.835826771883997, 0.4514046121545814, -1.3153479849431113, 0.6039372964302147, 0.1967032275194514, -0.19718733734199645, -1.0424453626339572, -1.291632485177539, 0.08021453833866193, 0.8381689241093387, -1.2721892786100386, 0.3732178168113568, 0.05276688734700252, -1.967496885033359, 0.9023845846590755, 0.24001744040925296, -0.05429170252464368, -0.49807948253119694, -1.452383083045118, -0.9418576074293369, -0.4523600116602419, 0.6591749020229192, -0.48515217656054904, 0.6035086074078894, -0.5338885854100055, -0.9455132299224919, -0.9184469295082123, -0.482512232189353, 1.495957404481226, -0.11809049112544505, 0.3194610816126905, -1.2852738670679296, -0.5933666650741988, 1.7904157188996117, 0.4052902765873968, 1.8775364158770929, 0.01327468426470117, -2.2108064327344157, 0.4547179081726537, -0.5095154977877799, -0.9630339148296717, -1.1623592880536002, -1.1754650048720257], \"y\": [0.8192336134801987, 0.7602482743753068, 0.6294100028786074, 0.03904283596140118, -0.20300240870303762, -0.4217753477618602, -0.005137086974361876, -0.6026416600652672, -0.519906165020211, 0.7206112252343626, 0.20239306106194205, 0.24824347008781414, -0.3632000207111838, 0.5246297345959616, -0.8406442737890164, -0.30471587593055305, 0.11002914869335803, -0.7770599281428845, -1.041800451056623, -0.9368605859558401, 1.7229026947754391, -0.3620596398305359, 0.4949821171328368, -1.5512318236277358, 1.4494671490438522, -0.8823861526943375, -0.22564121684055144, -0.7154859681767155, -1.0820544326577435, -0.15522332326670543, -0.7164670995786423, 0.2804719336161431, -0.2051279121244869, -1.5782948712181395, -1.6263700275222348, 0.7739434861128113, 1.3095508145895705, -1.2225798792362865, 1.121663384493526, -1.4332480938692411, 0.9030413351881482, 0.006778345110963212, -0.23949189864348985, -0.04759875800248899, 1.4895830215386634, 0.34389886769741146, 0.25995771804344314, 1.7315562384553185, 1.8352822475616812, -0.5177595834240207, 1.8250101308281006, 0.8931273429782042, 0.653976849766924, 0.2047316783716681, 0.3021811973823506, -2.2920227763677037, 0.3262921101530418, -0.3354101817456763, -1.2533302192795022, 0.11168265476850534, -1.0357739867335003, 0.528326646172122, 0.4110942155465323, 0.5074870135166899, -0.8819865735203064, -1.3814733121407319, 0.022845539968953, -0.28094217851010267, 0.48606511891207504, 1.7050928660376112, -0.5609434522847258, -0.3087151772829456, -0.21422050977795287, 0.732410209205975, -0.896156752315307, -0.748927157879648, 0.006314657490310105, -1.1216573254922337, -0.5118157861492615, 0.36209901117936405, -1.0880514683970912, 0.46632807066648674, -0.022897289258460102, 1.2856654258471698, -0.24579209518601375, -0.31100397594352286, 0.0904341764974058, -1.1641298986673796, 0.13704345571697643, 0.1676107315041115, -0.3185357210445539, -0.6292950421730465, 1.6062211256891819, -0.066381667278134, 0.7151003365735614, 0.3931328546294085, 0.39143520976327495, -0.6355055797809678, 0.09861609523459006, -1.2784322496774305]}],                        {\"legend\": {\"bgcolor\": \"#F5F6F9\", \"font\": {\"color\": \"#4D5663\"}}, \"paper_bgcolor\": \"#F5F6F9\", \"plot_bgcolor\": \"#F5F6F9\", \"template\": {\"data\": {\"bar\": [{\"error_x\": {\"color\": \"#2a3f5f\"}, \"error_y\": {\"color\": \"#2a3f5f\"}, \"marker\": {\"line\": {\"color\": \"#E5ECF6\", \"width\": 0.5}}, \"type\": \"bar\"}], \"barpolar\": [{\"marker\": {\"line\": {\"color\": \"#E5ECF6\", \"width\": 0.5}}, \"type\": \"barpolar\"}], \"carpet\": [{\"aaxis\": {\"endlinecolor\": \"#2a3f5f\", \"gridcolor\": \"white\", \"linecolor\": \"white\", \"minorgridcolor\": \"white\", \"startlinecolor\": \"#2a3f5f\"}, \"baxis\": {\"endlinecolor\": \"#2a3f5f\", \"gridcolor\": \"white\", \"linecolor\": \"white\", \"minorgridcolor\": \"white\", \"startlinecolor\": \"#2a3f5f\"}, \"type\": \"carpet\"}], \"choropleth\": [{\"colorbar\": {\"outlinewidth\": 0, \"ticks\": \"\"}, \"type\": \"choropleth\"}], \"contour\": [{\"colorbar\": {\"outlinewidth\": 0, \"ticks\": \"\"}, \"colorscale\": [[0.0, \"#0d0887\"], [0.1111111111111111, \"#46039f\"], [0.2222222222222222, \"#7201a8\"], [0.3333333333333333, \"#9c179e\"], [0.4444444444444444, \"#bd3786\"], [0.5555555555555556, \"#d8576b\"], [0.6666666666666666, \"#ed7953\"], [0.7777777777777778, \"#fb9f3a\"], [0.8888888888888888, \"#fdca26\"], [1.0, \"#f0f921\"]], \"type\": \"contour\"}], \"contourcarpet\": [{\"colorbar\": {\"outlinewidth\": 0, \"ticks\": \"\"}, \"type\": \"contourcarpet\"}], \"heatmap\": [{\"colorbar\": {\"outlinewidth\": 0, \"ticks\": \"\"}, \"colorscale\": [[0.0, \"#0d0887\"], [0.1111111111111111, \"#46039f\"], [0.2222222222222222, \"#7201a8\"], [0.3333333333333333, \"#9c179e\"], [0.4444444444444444, \"#bd3786\"], [0.5555555555555556, \"#d8576b\"], [0.6666666666666666, \"#ed7953\"], [0.7777777777777778, \"#fb9f3a\"], [0.8888888888888888, \"#fdca26\"], [1.0, \"#f0f921\"]], \"type\": \"heatmap\"}], \"heatmapgl\": [{\"colorbar\": {\"outlinewidth\": 0, \"ticks\": \"\"}, \"colorscale\": [[0.0, \"#0d0887\"], [0.1111111111111111, \"#46039f\"], [0.2222222222222222, \"#7201a8\"], [0.3333333333333333, \"#9c179e\"], [0.4444444444444444, \"#bd3786\"], [0.5555555555555556, \"#d8576b\"], [0.6666666666666666, \"#ed7953\"], [0.7777777777777778, \"#fb9f3a\"], [0.8888888888888888, \"#fdca26\"], [1.0, \"#f0f921\"]], \"type\": \"heatmapgl\"}], \"histogram\": [{\"marker\": {\"colorbar\": {\"outlinewidth\": 0, \"ticks\": \"\"}}, \"type\": \"histogram\"}], \"histogram2d\": [{\"colorbar\": {\"outlinewidth\": 0, \"ticks\": \"\"}, \"colorscale\": [[0.0, \"#0d0887\"], [0.1111111111111111, \"#46039f\"], [0.2222222222222222, \"#7201a8\"], [0.3333333333333333, \"#9c179e\"], [0.4444444444444444, \"#bd3786\"], [0.5555555555555556, \"#d8576b\"], [0.6666666666666666, \"#ed7953\"], [0.7777777777777778, \"#fb9f3a\"], [0.8888888888888888, \"#fdca26\"], [1.0, \"#f0f921\"]], \"type\": \"histogram2d\"}], \"histogram2dcontour\": [{\"colorbar\": {\"outlinewidth\": 0, \"ticks\": \"\"}, \"colorscale\": [[0.0, \"#0d0887\"], [0.1111111111111111, \"#46039f\"], [0.2222222222222222, \"#7201a8\"], [0.3333333333333333, \"#9c179e\"], [0.4444444444444444, \"#bd3786\"], [0.5555555555555556, \"#d8576b\"], [0.6666666666666666, \"#ed7953\"], [0.7777777777777778, \"#fb9f3a\"], [0.8888888888888888, \"#fdca26\"], [1.0, \"#f0f921\"]], \"type\": \"histogram2dcontour\"}], \"mesh3d\": [{\"colorbar\": {\"outlinewidth\": 0, \"ticks\": \"\"}, \"type\": \"mesh3d\"}], \"parcoords\": [{\"line\": {\"colorbar\": {\"outlinewidth\": 0, \"ticks\": \"\"}}, \"type\": \"parcoords\"}], \"pie\": [{\"automargin\": true, \"type\": \"pie\"}], \"scatter\": [{\"marker\": {\"colorbar\": {\"outlinewidth\": 0, \"ticks\": \"\"}}, \"type\": \"scatter\"}], \"scatter3d\": [{\"line\": {\"colorbar\": {\"outlinewidth\": 0, \"ticks\": \"\"}}, \"marker\": {\"colorbar\": {\"outlinewidth\": 0, \"ticks\": \"\"}}, \"type\": \"scatter3d\"}], \"scattercarpet\": [{\"marker\": {\"colorbar\": {\"outlinewidth\": 0, \"ticks\": \"\"}}, \"type\": \"scattercarpet\"}], \"scattergeo\": [{\"marker\": {\"colorbar\": {\"outlinewidth\": 0, \"ticks\": \"\"}}, \"type\": \"scattergeo\"}], \"scattergl\": [{\"marker\": {\"colorbar\": {\"outlinewidth\": 0, \"ticks\": \"\"}}, \"type\": \"scattergl\"}], \"scattermapbox\": [{\"marker\": {\"colorbar\": {\"outlinewidth\": 0, \"ticks\": \"\"}}, \"type\": \"scattermapbox\"}], \"scatterpolar\": [{\"marker\": {\"colorbar\": {\"outlinewidth\": 0, \"ticks\": \"\"}}, \"type\": \"scatterpolar\"}], \"scatterpolargl\": [{\"marker\": {\"colorbar\": {\"outlinewidth\": 0, \"ticks\": \"\"}}, \"type\": \"scatterpolargl\"}], \"scatterternary\": [{\"marker\": {\"colorbar\": {\"outlinewidth\": 0, \"ticks\": \"\"}}, \"type\": \"scatterternary\"}], \"surface\": [{\"colorbar\": {\"outlinewidth\": 0, \"ticks\": \"\"}, \"colorscale\": [[0.0, \"#0d0887\"], [0.1111111111111111, \"#46039f\"], [0.2222222222222222, \"#7201a8\"], [0.3333333333333333, \"#9c179e\"], [0.4444444444444444, \"#bd3786\"], [0.5555555555555556, \"#d8576b\"], [0.6666666666666666, \"#ed7953\"], [0.7777777777777778, \"#fb9f3a\"], [0.8888888888888888, \"#fdca26\"], [1.0, \"#f0f921\"]], \"type\": \"surface\"}], \"table\": [{\"cells\": {\"fill\": {\"color\": \"#EBF0F8\"}, \"line\": {\"color\": \"white\"}}, \"header\": {\"fill\": {\"color\": \"#C8D4E3\"}, \"line\": {\"color\": \"white\"}}, \"type\": \"table\"}]}, \"layout\": {\"annotationdefaults\": {\"arrowcolor\": \"#2a3f5f\", \"arrowhead\": 0, \"arrowwidth\": 1}, \"autotypenumbers\": \"strict\", \"coloraxis\": {\"colorbar\": {\"outlinewidth\": 0, \"ticks\": \"\"}}, \"colorscale\": {\"diverging\": [[0, \"#8e0152\"], [0.1, \"#c51b7d\"], [0.2, \"#de77ae\"], [0.3, \"#f1b6da\"], [0.4, \"#fde0ef\"], [0.5, \"#f7f7f7\"], [0.6, \"#e6f5d0\"], [0.7, \"#b8e186\"], [0.8, \"#7fbc41\"], [0.9, \"#4d9221\"], [1, \"#276419\"]], \"sequential\": [[0.0, \"#0d0887\"], [0.1111111111111111, \"#46039f\"], [0.2222222222222222, \"#7201a8\"], [0.3333333333333333, \"#9c179e\"], [0.4444444444444444, \"#bd3786\"], [0.5555555555555556, \"#d8576b\"], [0.6666666666666666, \"#ed7953\"], [0.7777777777777778, \"#fb9f3a\"], [0.8888888888888888, \"#fdca26\"], [1.0, \"#f0f921\"]], \"sequentialminus\": [[0.0, \"#0d0887\"], [0.1111111111111111, \"#46039f\"], [0.2222222222222222, \"#7201a8\"], [0.3333333333333333, \"#9c179e\"], [0.4444444444444444, \"#bd3786\"], [0.5555555555555556, \"#d8576b\"], [0.6666666666666666, \"#ed7953\"], [0.7777777777777778, \"#fb9f3a\"], [0.8888888888888888, \"#fdca26\"], [1.0, \"#f0f921\"]]}, \"colorway\": [\"#636efa\", \"#EF553B\", \"#00cc96\", \"#ab63fa\", \"#FFA15A\", \"#19d3f3\", \"#FF6692\", \"#B6E880\", \"#FF97FF\", \"#FECB52\"], \"font\": {\"color\": \"#2a3f5f\"}, \"geo\": {\"bgcolor\": \"white\", \"lakecolor\": \"white\", \"landcolor\": \"#E5ECF6\", \"showlakes\": true, \"showland\": true, \"subunitcolor\": \"white\"}, \"hoverlabel\": {\"align\": \"left\"}, \"hovermode\": \"closest\", \"mapbox\": {\"style\": \"light\"}, \"paper_bgcolor\": \"white\", \"plot_bgcolor\": \"#E5ECF6\", \"polar\": {\"angularaxis\": {\"gridcolor\": \"white\", \"linecolor\": \"white\", \"ticks\": \"\"}, \"bgcolor\": \"#E5ECF6\", \"radialaxis\": {\"gridcolor\": \"white\", \"linecolor\": \"white\", \"ticks\": \"\"}}, \"scene\": {\"xaxis\": {\"backgroundcolor\": \"#E5ECF6\", \"gridcolor\": \"white\", \"gridwidth\": 2, \"linecolor\": \"white\", \"showbackground\": true, \"ticks\": \"\", \"zerolinecolor\": \"white\"}, \"yaxis\": {\"backgroundcolor\": \"#E5ECF6\", \"gridcolor\": \"white\", \"gridwidth\": 2, \"linecolor\": \"white\", \"showbackground\": true, \"ticks\": \"\", \"zerolinecolor\": \"white\"}, \"zaxis\": {\"backgroundcolor\": \"#E5ECF6\", \"gridcolor\": \"white\", \"gridwidth\": 2, \"linecolor\": \"white\", \"showbackground\": true, \"ticks\": \"\", \"zerolinecolor\": \"white\"}}, \"shapedefaults\": {\"line\": {\"color\": \"#2a3f5f\"}}, \"ternary\": {\"aaxis\": {\"gridcolor\": \"white\", \"linecolor\": \"white\", \"ticks\": \"\"}, \"baxis\": {\"gridcolor\": \"white\", \"linecolor\": \"white\", \"ticks\": \"\"}, \"bgcolor\": \"#E5ECF6\", \"caxis\": {\"gridcolor\": \"white\", \"linecolor\": \"white\", \"ticks\": \"\"}}, \"title\": {\"x\": 0.05}, \"xaxis\": {\"automargin\": true, \"gridcolor\": \"white\", \"linecolor\": \"white\", \"ticks\": \"\", \"title\": {\"standoff\": 15}, \"zerolinecolor\": \"white\", \"zerolinewidth\": 2}, \"yaxis\": {\"automargin\": true, \"gridcolor\": \"white\", \"linecolor\": \"white\", \"ticks\": \"\", \"title\": {\"standoff\": 15}, \"zerolinecolor\": \"white\", \"zerolinewidth\": 2}}}, \"title\": {\"font\": {\"color\": \"#4D5663\"}}, \"xaxis\": {\"gridcolor\": \"#E1E5ED\", \"showgrid\": true, \"tickfont\": {\"color\": \"#4D5663\"}, \"title\": {\"font\": {\"color\": \"#4D5663\"}, \"text\": \"\"}, \"zerolinecolor\": \"#E1E5ED\"}, \"yaxis\": {\"gridcolor\": \"#E1E5ED\", \"showgrid\": true, \"tickfont\": {\"color\": \"#4D5663\"}, \"title\": {\"font\": {\"color\": \"#4D5663\"}, \"text\": \"\"}, \"zerolinecolor\": \"#E1E5ED\"}},                        {\"showLink\": true, \"linkText\": \"Export to plot.ly\", \"plotlyServerURL\": \"https://plot.ly\", \"responsive\": true}                    ).then(function(){\n                            \nvar gd = document.getElementById('cc8d2a84-b310-4ebc-8a2a-230747ffa381');\nvar x = new MutationObserver(function (mutations, observer) {{\n        var display = window.getComputedStyle(gd).display;\n        if (!display || display === 'none') {{\n            console.log([gd, 'removed!']);\n            Plotly.purge(gd);\n            observer.disconnect();\n        }}\n}});\n\n// Listen for the removal of the full notebook cells\nvar notebookContainer = gd.closest('#notebook-container');\nif (notebookContainer) {{\n    x.observe(notebookContainer, {childList: true});\n}}\n\n// Listen for the clearing of the current output cell\nvar outputEl = gd.closest('.output');\nif (outputEl) {{\n    x.observe(outputEl, {childList: true});\n}}\n\n                        })                };                });            </script>        </div>"
     },
     "metadata": {}
    }
   ],
   "source": [
    "df1.iplot(kind='scatter',x='A',y='B',mode='markers',size=10)"
   ]
  },
  {
   "source": [
    "## Bar Plots"
   ],
   "cell_type": "markdown",
   "metadata": {}
  },
  {
   "cell_type": "code",
   "execution_count": 10,
   "metadata": {},
   "outputs": [
    {
     "output_type": "display_data",
     "data": {
      "application/vnd.plotly.v1+json": {
       "config": {
        "linkText": "Export to plot.ly",
        "plotlyServerURL": "https://plot.ly",
        "showLink": true
       },
       "data": [
        {
         "marker": {
          "color": "rgba(255, 153, 51, 0.6)",
          "line": {
           "color": "rgba(255, 153, 51, 1.0)",
           "width": 1
          }
         },
         "name": "Values",
         "orientation": "v",
         "text": "",
         "type": "bar",
         "x": [
          "A",
          "B",
          "C"
         ],
         "y": [
          35,
          45,
          80
         ]
        }
       ],
       "layout": {
        "legend": {
         "bgcolor": "#F5F6F9",
         "font": {
          "color": "#4D5663"
         }
        },
        "paper_bgcolor": "#F5F6F9",
        "plot_bgcolor": "#F5F6F9",
        "template": {
         "data": {
          "bar": [
           {
            "error_x": {
             "color": "#2a3f5f"
            },
            "error_y": {
             "color": "#2a3f5f"
            },
            "marker": {
             "line": {
              "color": "#E5ECF6",
              "width": 0.5
             }
            },
            "type": "bar"
           }
          ],
          "barpolar": [
           {
            "marker": {
             "line": {
              "color": "#E5ECF6",
              "width": 0.5
             }
            },
            "type": "barpolar"
           }
          ],
          "carpet": [
           {
            "aaxis": {
             "endlinecolor": "#2a3f5f",
             "gridcolor": "white",
             "linecolor": "white",
             "minorgridcolor": "white",
             "startlinecolor": "#2a3f5f"
            },
            "baxis": {
             "endlinecolor": "#2a3f5f",
             "gridcolor": "white",
             "linecolor": "white",
             "minorgridcolor": "white",
             "startlinecolor": "#2a3f5f"
            },
            "type": "carpet"
           }
          ],
          "choropleth": [
           {
            "colorbar": {
             "outlinewidth": 0,
             "ticks": ""
            },
            "type": "choropleth"
           }
          ],
          "contour": [
           {
            "colorbar": {
             "outlinewidth": 0,
             "ticks": ""
            },
            "colorscale": [
             [
              0,
              "#0d0887"
             ],
             [
              0.1111111111111111,
              "#46039f"
             ],
             [
              0.2222222222222222,
              "#7201a8"
             ],
             [
              0.3333333333333333,
              "#9c179e"
             ],
             [
              0.4444444444444444,
              "#bd3786"
             ],
             [
              0.5555555555555556,
              "#d8576b"
             ],
             [
              0.6666666666666666,
              "#ed7953"
             ],
             [
              0.7777777777777778,
              "#fb9f3a"
             ],
             [
              0.8888888888888888,
              "#fdca26"
             ],
             [
              1,
              "#f0f921"
             ]
            ],
            "type": "contour"
           }
          ],
          "contourcarpet": [
           {
            "colorbar": {
             "outlinewidth": 0,
             "ticks": ""
            },
            "type": "contourcarpet"
           }
          ],
          "heatmap": [
           {
            "colorbar": {
             "outlinewidth": 0,
             "ticks": ""
            },
            "colorscale": [
             [
              0,
              "#0d0887"
             ],
             [
              0.1111111111111111,
              "#46039f"
             ],
             [
              0.2222222222222222,
              "#7201a8"
             ],
             [
              0.3333333333333333,
              "#9c179e"
             ],
             [
              0.4444444444444444,
              "#bd3786"
             ],
             [
              0.5555555555555556,
              "#d8576b"
             ],
             [
              0.6666666666666666,
              "#ed7953"
             ],
             [
              0.7777777777777778,
              "#fb9f3a"
             ],
             [
              0.8888888888888888,
              "#fdca26"
             ],
             [
              1,
              "#f0f921"
             ]
            ],
            "type": "heatmap"
           }
          ],
          "heatmapgl": [
           {
            "colorbar": {
             "outlinewidth": 0,
             "ticks": ""
            },
            "colorscale": [
             [
              0,
              "#0d0887"
             ],
             [
              0.1111111111111111,
              "#46039f"
             ],
             [
              0.2222222222222222,
              "#7201a8"
             ],
             [
              0.3333333333333333,
              "#9c179e"
             ],
             [
              0.4444444444444444,
              "#bd3786"
             ],
             [
              0.5555555555555556,
              "#d8576b"
             ],
             [
              0.6666666666666666,
              "#ed7953"
             ],
             [
              0.7777777777777778,
              "#fb9f3a"
             ],
             [
              0.8888888888888888,
              "#fdca26"
             ],
             [
              1,
              "#f0f921"
             ]
            ],
            "type": "heatmapgl"
           }
          ],
          "histogram": [
           {
            "marker": {
             "colorbar": {
              "outlinewidth": 0,
              "ticks": ""
             }
            },
            "type": "histogram"
           }
          ],
          "histogram2d": [
           {
            "colorbar": {
             "outlinewidth": 0,
             "ticks": ""
            },
            "colorscale": [
             [
              0,
              "#0d0887"
             ],
             [
              0.1111111111111111,
              "#46039f"
             ],
             [
              0.2222222222222222,
              "#7201a8"
             ],
             [
              0.3333333333333333,
              "#9c179e"
             ],
             [
              0.4444444444444444,
              "#bd3786"
             ],
             [
              0.5555555555555556,
              "#d8576b"
             ],
             [
              0.6666666666666666,
              "#ed7953"
             ],
             [
              0.7777777777777778,
              "#fb9f3a"
             ],
             [
              0.8888888888888888,
              "#fdca26"
             ],
             [
              1,
              "#f0f921"
             ]
            ],
            "type": "histogram2d"
           }
          ],
          "histogram2dcontour": [
           {
            "colorbar": {
             "outlinewidth": 0,
             "ticks": ""
            },
            "colorscale": [
             [
              0,
              "#0d0887"
             ],
             [
              0.1111111111111111,
              "#46039f"
             ],
             [
              0.2222222222222222,
              "#7201a8"
             ],
             [
              0.3333333333333333,
              "#9c179e"
             ],
             [
              0.4444444444444444,
              "#bd3786"
             ],
             [
              0.5555555555555556,
              "#d8576b"
             ],
             [
              0.6666666666666666,
              "#ed7953"
             ],
             [
              0.7777777777777778,
              "#fb9f3a"
             ],
             [
              0.8888888888888888,
              "#fdca26"
             ],
             [
              1,
              "#f0f921"
             ]
            ],
            "type": "histogram2dcontour"
           }
          ],
          "mesh3d": [
           {
            "colorbar": {
             "outlinewidth": 0,
             "ticks": ""
            },
            "type": "mesh3d"
           }
          ],
          "parcoords": [
           {
            "line": {
             "colorbar": {
              "outlinewidth": 0,
              "ticks": ""
             }
            },
            "type": "parcoords"
           }
          ],
          "pie": [
           {
            "automargin": true,
            "type": "pie"
           }
          ],
          "scatter": [
           {
            "marker": {
             "colorbar": {
              "outlinewidth": 0,
              "ticks": ""
             }
            },
            "type": "scatter"
           }
          ],
          "scatter3d": [
           {
            "line": {
             "colorbar": {
              "outlinewidth": 0,
              "ticks": ""
             }
            },
            "marker": {
             "colorbar": {
              "outlinewidth": 0,
              "ticks": ""
             }
            },
            "type": "scatter3d"
           }
          ],
          "scattercarpet": [
           {
            "marker": {
             "colorbar": {
              "outlinewidth": 0,
              "ticks": ""
             }
            },
            "type": "scattercarpet"
           }
          ],
          "scattergeo": [
           {
            "marker": {
             "colorbar": {
              "outlinewidth": 0,
              "ticks": ""
             }
            },
            "type": "scattergeo"
           }
          ],
          "scattergl": [
           {
            "marker": {
             "colorbar": {
              "outlinewidth": 0,
              "ticks": ""
             }
            },
            "type": "scattergl"
           }
          ],
          "scattermapbox": [
           {
            "marker": {
             "colorbar": {
              "outlinewidth": 0,
              "ticks": ""
             }
            },
            "type": "scattermapbox"
           }
          ],
          "scatterpolar": [
           {
            "marker": {
             "colorbar": {
              "outlinewidth": 0,
              "ticks": ""
             }
            },
            "type": "scatterpolar"
           }
          ],
          "scatterpolargl": [
           {
            "marker": {
             "colorbar": {
              "outlinewidth": 0,
              "ticks": ""
             }
            },
            "type": "scatterpolargl"
           }
          ],
          "scatterternary": [
           {
            "marker": {
             "colorbar": {
              "outlinewidth": 0,
              "ticks": ""
             }
            },
            "type": "scatterternary"
           }
          ],
          "surface": [
           {
            "colorbar": {
             "outlinewidth": 0,
             "ticks": ""
            },
            "colorscale": [
             [
              0,
              "#0d0887"
             ],
             [
              0.1111111111111111,
              "#46039f"
             ],
             [
              0.2222222222222222,
              "#7201a8"
             ],
             [
              0.3333333333333333,
              "#9c179e"
             ],
             [
              0.4444444444444444,
              "#bd3786"
             ],
             [
              0.5555555555555556,
              "#d8576b"
             ],
             [
              0.6666666666666666,
              "#ed7953"
             ],
             [
              0.7777777777777778,
              "#fb9f3a"
             ],
             [
              0.8888888888888888,
              "#fdca26"
             ],
             [
              1,
              "#f0f921"
             ]
            ],
            "type": "surface"
           }
          ],
          "table": [
           {
            "cells": {
             "fill": {
              "color": "#EBF0F8"
             },
             "line": {
              "color": "white"
             }
            },
            "header": {
             "fill": {
              "color": "#C8D4E3"
             },
             "line": {
              "color": "white"
             }
            },
            "type": "table"
           }
          ]
         },
         "layout": {
          "annotationdefaults": {
           "arrowcolor": "#2a3f5f",
           "arrowhead": 0,
           "arrowwidth": 1
          },
          "autotypenumbers": "strict",
          "coloraxis": {
           "colorbar": {
            "outlinewidth": 0,
            "ticks": ""
           }
          },
          "colorscale": {
           "diverging": [
            [
             0,
             "#8e0152"
            ],
            [
             0.1,
             "#c51b7d"
            ],
            [
             0.2,
             "#de77ae"
            ],
            [
             0.3,
             "#f1b6da"
            ],
            [
             0.4,
             "#fde0ef"
            ],
            [
             0.5,
             "#f7f7f7"
            ],
            [
             0.6,
             "#e6f5d0"
            ],
            [
             0.7,
             "#b8e186"
            ],
            [
             0.8,
             "#7fbc41"
            ],
            [
             0.9,
             "#4d9221"
            ],
            [
             1,
             "#276419"
            ]
           ],
           "sequential": [
            [
             0,
             "#0d0887"
            ],
            [
             0.1111111111111111,
             "#46039f"
            ],
            [
             0.2222222222222222,
             "#7201a8"
            ],
            [
             0.3333333333333333,
             "#9c179e"
            ],
            [
             0.4444444444444444,
             "#bd3786"
            ],
            [
             0.5555555555555556,
             "#d8576b"
            ],
            [
             0.6666666666666666,
             "#ed7953"
            ],
            [
             0.7777777777777778,
             "#fb9f3a"
            ],
            [
             0.8888888888888888,
             "#fdca26"
            ],
            [
             1,
             "#f0f921"
            ]
           ],
           "sequentialminus": [
            [
             0,
             "#0d0887"
            ],
            [
             0.1111111111111111,
             "#46039f"
            ],
            [
             0.2222222222222222,
             "#7201a8"
            ],
            [
             0.3333333333333333,
             "#9c179e"
            ],
            [
             0.4444444444444444,
             "#bd3786"
            ],
            [
             0.5555555555555556,
             "#d8576b"
            ],
            [
             0.6666666666666666,
             "#ed7953"
            ],
            [
             0.7777777777777778,
             "#fb9f3a"
            ],
            [
             0.8888888888888888,
             "#fdca26"
            ],
            [
             1,
             "#f0f921"
            ]
           ]
          },
          "colorway": [
           "#636efa",
           "#EF553B",
           "#00cc96",
           "#ab63fa",
           "#FFA15A",
           "#19d3f3",
           "#FF6692",
           "#B6E880",
           "#FF97FF",
           "#FECB52"
          ],
          "font": {
           "color": "#2a3f5f"
          },
          "geo": {
           "bgcolor": "white",
           "lakecolor": "white",
           "landcolor": "#E5ECF6",
           "showlakes": true,
           "showland": true,
           "subunitcolor": "white"
          },
          "hoverlabel": {
           "align": "left"
          },
          "hovermode": "closest",
          "mapbox": {
           "style": "light"
          },
          "paper_bgcolor": "white",
          "plot_bgcolor": "#E5ECF6",
          "polar": {
           "angularaxis": {
            "gridcolor": "white",
            "linecolor": "white",
            "ticks": ""
           },
           "bgcolor": "#E5ECF6",
           "radialaxis": {
            "gridcolor": "white",
            "linecolor": "white",
            "ticks": ""
           }
          },
          "scene": {
           "xaxis": {
            "backgroundcolor": "#E5ECF6",
            "gridcolor": "white",
            "gridwidth": 2,
            "linecolor": "white",
            "showbackground": true,
            "ticks": "",
            "zerolinecolor": "white"
           },
           "yaxis": {
            "backgroundcolor": "#E5ECF6",
            "gridcolor": "white",
            "gridwidth": 2,
            "linecolor": "white",
            "showbackground": true,
            "ticks": "",
            "zerolinecolor": "white"
           },
           "zaxis": {
            "backgroundcolor": "#E5ECF6",
            "gridcolor": "white",
            "gridwidth": 2,
            "linecolor": "white",
            "showbackground": true,
            "ticks": "",
            "zerolinecolor": "white"
           }
          },
          "shapedefaults": {
           "line": {
            "color": "#2a3f5f"
           }
          },
          "ternary": {
           "aaxis": {
            "gridcolor": "white",
            "linecolor": "white",
            "ticks": ""
           },
           "baxis": {
            "gridcolor": "white",
            "linecolor": "white",
            "ticks": ""
           },
           "bgcolor": "#E5ECF6",
           "caxis": {
            "gridcolor": "white",
            "linecolor": "white",
            "ticks": ""
           }
          },
          "title": {
           "x": 0.05
          },
          "xaxis": {
           "automargin": true,
           "gridcolor": "white",
           "linecolor": "white",
           "ticks": "",
           "title": {
            "standoff": 15
           },
           "zerolinecolor": "white",
           "zerolinewidth": 2
          },
          "yaxis": {
           "automargin": true,
           "gridcolor": "white",
           "linecolor": "white",
           "ticks": "",
           "title": {
            "standoff": 15
           },
           "zerolinecolor": "white",
           "zerolinewidth": 2
          }
         }
        },
        "title": {
         "font": {
          "color": "#4D5663"
         }
        },
        "xaxis": {
         "gridcolor": "#E1E5ED",
         "showgrid": true,
         "tickfont": {
          "color": "#4D5663"
         },
         "title": {
          "font": {
           "color": "#4D5663"
          },
          "text": ""
         },
         "zerolinecolor": "#E1E5ED"
        },
        "yaxis": {
         "gridcolor": "#E1E5ED",
         "showgrid": true,
         "tickfont": {
          "color": "#4D5663"
         },
         "title": {
          "font": {
           "color": "#4D5663"
          },
          "text": ""
         },
         "zerolinecolor": "#E1E5ED"
        }
       }
      },
      "text/html": "<div>                            <div id=\"5c3c06d2-946a-4b4d-91cb-4da29b1902fb\" class=\"plotly-graph-div\" style=\"height:525px; width:100%;\"></div>            <script type=\"text/javascript\">                require([\"plotly\"], function(Plotly) {                    window.PLOTLYENV=window.PLOTLYENV || {};\n                    window.PLOTLYENV.BASE_URL='https://plot.ly';                                    if (document.getElementById(\"5c3c06d2-946a-4b4d-91cb-4da29b1902fb\")) {                    Plotly.newPlot(                        \"5c3c06d2-946a-4b4d-91cb-4da29b1902fb\",                        [{\"marker\": {\"color\": \"rgba(255, 153, 51, 0.6)\", \"line\": {\"color\": \"rgba(255, 153, 51, 1.0)\", \"width\": 1}}, \"name\": \"Values\", \"orientation\": \"v\", \"text\": \"\", \"type\": \"bar\", \"x\": [\"A\", \"B\", \"C\"], \"y\": [35, 45, 80]}],                        {\"legend\": {\"bgcolor\": \"#F5F6F9\", \"font\": {\"color\": \"#4D5663\"}}, \"paper_bgcolor\": \"#F5F6F9\", \"plot_bgcolor\": \"#F5F6F9\", \"template\": {\"data\": {\"bar\": [{\"error_x\": {\"color\": \"#2a3f5f\"}, \"error_y\": {\"color\": \"#2a3f5f\"}, \"marker\": {\"line\": {\"color\": \"#E5ECF6\", \"width\": 0.5}}, \"type\": \"bar\"}], \"barpolar\": [{\"marker\": {\"line\": {\"color\": \"#E5ECF6\", \"width\": 0.5}}, \"type\": \"barpolar\"}], \"carpet\": [{\"aaxis\": {\"endlinecolor\": \"#2a3f5f\", \"gridcolor\": \"white\", \"linecolor\": \"white\", \"minorgridcolor\": \"white\", \"startlinecolor\": \"#2a3f5f\"}, \"baxis\": {\"endlinecolor\": \"#2a3f5f\", \"gridcolor\": \"white\", \"linecolor\": \"white\", \"minorgridcolor\": \"white\", \"startlinecolor\": \"#2a3f5f\"}, \"type\": \"carpet\"}], \"choropleth\": [{\"colorbar\": {\"outlinewidth\": 0, \"ticks\": \"\"}, \"type\": \"choropleth\"}], \"contour\": [{\"colorbar\": {\"outlinewidth\": 0, \"ticks\": \"\"}, \"colorscale\": [[0.0, \"#0d0887\"], [0.1111111111111111, \"#46039f\"], [0.2222222222222222, \"#7201a8\"], [0.3333333333333333, \"#9c179e\"], [0.4444444444444444, \"#bd3786\"], [0.5555555555555556, \"#d8576b\"], [0.6666666666666666, \"#ed7953\"], [0.7777777777777778, \"#fb9f3a\"], [0.8888888888888888, \"#fdca26\"], [1.0, \"#f0f921\"]], \"type\": \"contour\"}], \"contourcarpet\": [{\"colorbar\": {\"outlinewidth\": 0, \"ticks\": \"\"}, \"type\": \"contourcarpet\"}], \"heatmap\": [{\"colorbar\": {\"outlinewidth\": 0, \"ticks\": \"\"}, \"colorscale\": [[0.0, \"#0d0887\"], [0.1111111111111111, \"#46039f\"], [0.2222222222222222, \"#7201a8\"], [0.3333333333333333, \"#9c179e\"], [0.4444444444444444, \"#bd3786\"], [0.5555555555555556, \"#d8576b\"], [0.6666666666666666, \"#ed7953\"], [0.7777777777777778, \"#fb9f3a\"], [0.8888888888888888, \"#fdca26\"], [1.0, \"#f0f921\"]], \"type\": \"heatmap\"}], \"heatmapgl\": [{\"colorbar\": {\"outlinewidth\": 0, \"ticks\": \"\"}, \"colorscale\": [[0.0, \"#0d0887\"], [0.1111111111111111, \"#46039f\"], [0.2222222222222222, \"#7201a8\"], [0.3333333333333333, \"#9c179e\"], [0.4444444444444444, \"#bd3786\"], [0.5555555555555556, \"#d8576b\"], [0.6666666666666666, \"#ed7953\"], [0.7777777777777778, \"#fb9f3a\"], [0.8888888888888888, \"#fdca26\"], [1.0, \"#f0f921\"]], \"type\": \"heatmapgl\"}], \"histogram\": [{\"marker\": {\"colorbar\": {\"outlinewidth\": 0, \"ticks\": \"\"}}, \"type\": \"histogram\"}], \"histogram2d\": [{\"colorbar\": {\"outlinewidth\": 0, \"ticks\": \"\"}, \"colorscale\": [[0.0, \"#0d0887\"], [0.1111111111111111, \"#46039f\"], [0.2222222222222222, \"#7201a8\"], [0.3333333333333333, \"#9c179e\"], [0.4444444444444444, \"#bd3786\"], [0.5555555555555556, \"#d8576b\"], [0.6666666666666666, \"#ed7953\"], [0.7777777777777778, \"#fb9f3a\"], [0.8888888888888888, \"#fdca26\"], [1.0, \"#f0f921\"]], \"type\": \"histogram2d\"}], \"histogram2dcontour\": [{\"colorbar\": {\"outlinewidth\": 0, \"ticks\": \"\"}, \"colorscale\": [[0.0, \"#0d0887\"], [0.1111111111111111, \"#46039f\"], [0.2222222222222222, \"#7201a8\"], [0.3333333333333333, \"#9c179e\"], [0.4444444444444444, \"#bd3786\"], [0.5555555555555556, \"#d8576b\"], [0.6666666666666666, \"#ed7953\"], [0.7777777777777778, \"#fb9f3a\"], [0.8888888888888888, \"#fdca26\"], [1.0, \"#f0f921\"]], \"type\": \"histogram2dcontour\"}], \"mesh3d\": [{\"colorbar\": {\"outlinewidth\": 0, \"ticks\": \"\"}, \"type\": \"mesh3d\"}], \"parcoords\": [{\"line\": {\"colorbar\": {\"outlinewidth\": 0, \"ticks\": \"\"}}, \"type\": \"parcoords\"}], \"pie\": [{\"automargin\": true, \"type\": \"pie\"}], \"scatter\": [{\"marker\": {\"colorbar\": {\"outlinewidth\": 0, \"ticks\": \"\"}}, \"type\": \"scatter\"}], \"scatter3d\": [{\"line\": {\"colorbar\": {\"outlinewidth\": 0, \"ticks\": \"\"}}, \"marker\": {\"colorbar\": {\"outlinewidth\": 0, \"ticks\": \"\"}}, \"type\": \"scatter3d\"}], \"scattercarpet\": [{\"marker\": {\"colorbar\": {\"outlinewidth\": 0, \"ticks\": \"\"}}, \"type\": \"scattercarpet\"}], \"scattergeo\": [{\"marker\": {\"colorbar\": {\"outlinewidth\": 0, \"ticks\": \"\"}}, \"type\": \"scattergeo\"}], \"scattergl\": [{\"marker\": {\"colorbar\": {\"outlinewidth\": 0, \"ticks\": \"\"}}, \"type\": \"scattergl\"}], \"scattermapbox\": [{\"marker\": {\"colorbar\": {\"outlinewidth\": 0, \"ticks\": \"\"}}, \"type\": \"scattermapbox\"}], \"scatterpolar\": [{\"marker\": {\"colorbar\": {\"outlinewidth\": 0, \"ticks\": \"\"}}, \"type\": \"scatterpolar\"}], \"scatterpolargl\": [{\"marker\": {\"colorbar\": {\"outlinewidth\": 0, \"ticks\": \"\"}}, \"type\": \"scatterpolargl\"}], \"scatterternary\": [{\"marker\": {\"colorbar\": {\"outlinewidth\": 0, \"ticks\": \"\"}}, \"type\": \"scatterternary\"}], \"surface\": [{\"colorbar\": {\"outlinewidth\": 0, \"ticks\": \"\"}, \"colorscale\": [[0.0, \"#0d0887\"], [0.1111111111111111, \"#46039f\"], [0.2222222222222222, \"#7201a8\"], [0.3333333333333333, \"#9c179e\"], [0.4444444444444444, \"#bd3786\"], [0.5555555555555556, \"#d8576b\"], [0.6666666666666666, \"#ed7953\"], [0.7777777777777778, \"#fb9f3a\"], [0.8888888888888888, \"#fdca26\"], [1.0, \"#f0f921\"]], \"type\": \"surface\"}], \"table\": [{\"cells\": {\"fill\": {\"color\": \"#EBF0F8\"}, \"line\": {\"color\": \"white\"}}, \"header\": {\"fill\": {\"color\": \"#C8D4E3\"}, \"line\": {\"color\": \"white\"}}, \"type\": \"table\"}]}, \"layout\": {\"annotationdefaults\": {\"arrowcolor\": \"#2a3f5f\", \"arrowhead\": 0, \"arrowwidth\": 1}, \"autotypenumbers\": \"strict\", \"coloraxis\": {\"colorbar\": {\"outlinewidth\": 0, \"ticks\": \"\"}}, \"colorscale\": {\"diverging\": [[0, \"#8e0152\"], [0.1, \"#c51b7d\"], [0.2, \"#de77ae\"], [0.3, \"#f1b6da\"], [0.4, \"#fde0ef\"], [0.5, \"#f7f7f7\"], [0.6, \"#e6f5d0\"], [0.7, \"#b8e186\"], [0.8, \"#7fbc41\"], [0.9, \"#4d9221\"], [1, \"#276419\"]], \"sequential\": [[0.0, \"#0d0887\"], [0.1111111111111111, \"#46039f\"], [0.2222222222222222, \"#7201a8\"], [0.3333333333333333, \"#9c179e\"], [0.4444444444444444, \"#bd3786\"], [0.5555555555555556, \"#d8576b\"], [0.6666666666666666, \"#ed7953\"], [0.7777777777777778, \"#fb9f3a\"], [0.8888888888888888, \"#fdca26\"], [1.0, \"#f0f921\"]], \"sequentialminus\": [[0.0, \"#0d0887\"], [0.1111111111111111, \"#46039f\"], [0.2222222222222222, \"#7201a8\"], [0.3333333333333333, \"#9c179e\"], [0.4444444444444444, \"#bd3786\"], [0.5555555555555556, \"#d8576b\"], [0.6666666666666666, \"#ed7953\"], [0.7777777777777778, \"#fb9f3a\"], [0.8888888888888888, \"#fdca26\"], [1.0, \"#f0f921\"]]}, \"colorway\": [\"#636efa\", \"#EF553B\", \"#00cc96\", \"#ab63fa\", \"#FFA15A\", \"#19d3f3\", \"#FF6692\", \"#B6E880\", \"#FF97FF\", \"#FECB52\"], \"font\": {\"color\": \"#2a3f5f\"}, \"geo\": {\"bgcolor\": \"white\", \"lakecolor\": \"white\", \"landcolor\": \"#E5ECF6\", \"showlakes\": true, \"showland\": true, \"subunitcolor\": \"white\"}, \"hoverlabel\": {\"align\": \"left\"}, \"hovermode\": \"closest\", \"mapbox\": {\"style\": \"light\"}, \"paper_bgcolor\": \"white\", \"plot_bgcolor\": \"#E5ECF6\", \"polar\": {\"angularaxis\": {\"gridcolor\": \"white\", \"linecolor\": \"white\", \"ticks\": \"\"}, \"bgcolor\": \"#E5ECF6\", \"radialaxis\": {\"gridcolor\": \"white\", \"linecolor\": \"white\", \"ticks\": \"\"}}, \"scene\": {\"xaxis\": {\"backgroundcolor\": \"#E5ECF6\", \"gridcolor\": \"white\", \"gridwidth\": 2, \"linecolor\": \"white\", \"showbackground\": true, \"ticks\": \"\", \"zerolinecolor\": \"white\"}, \"yaxis\": {\"backgroundcolor\": \"#E5ECF6\", \"gridcolor\": \"white\", \"gridwidth\": 2, \"linecolor\": \"white\", \"showbackground\": true, \"ticks\": \"\", \"zerolinecolor\": \"white\"}, \"zaxis\": {\"backgroundcolor\": \"#E5ECF6\", \"gridcolor\": \"white\", \"gridwidth\": 2, \"linecolor\": \"white\", \"showbackground\": true, \"ticks\": \"\", \"zerolinecolor\": \"white\"}}, \"shapedefaults\": {\"line\": {\"color\": \"#2a3f5f\"}}, \"ternary\": {\"aaxis\": {\"gridcolor\": \"white\", \"linecolor\": \"white\", \"ticks\": \"\"}, \"baxis\": {\"gridcolor\": \"white\", \"linecolor\": \"white\", \"ticks\": \"\"}, \"bgcolor\": \"#E5ECF6\", \"caxis\": {\"gridcolor\": \"white\", \"linecolor\": \"white\", \"ticks\": \"\"}}, \"title\": {\"x\": 0.05}, \"xaxis\": {\"automargin\": true, \"gridcolor\": \"white\", \"linecolor\": \"white\", \"ticks\": \"\", \"title\": {\"standoff\": 15}, \"zerolinecolor\": \"white\", \"zerolinewidth\": 2}, \"yaxis\": {\"automargin\": true, \"gridcolor\": \"white\", \"linecolor\": \"white\", \"ticks\": \"\", \"title\": {\"standoff\": 15}, \"zerolinecolor\": \"white\", \"zerolinewidth\": 2}}}, \"title\": {\"font\": {\"color\": \"#4D5663\"}}, \"xaxis\": {\"gridcolor\": \"#E1E5ED\", \"showgrid\": true, \"tickfont\": {\"color\": \"#4D5663\"}, \"title\": {\"font\": {\"color\": \"#4D5663\"}, \"text\": \"\"}, \"zerolinecolor\": \"#E1E5ED\"}, \"yaxis\": {\"gridcolor\": \"#E1E5ED\", \"showgrid\": true, \"tickfont\": {\"color\": \"#4D5663\"}, \"title\": {\"font\": {\"color\": \"#4D5663\"}, \"text\": \"\"}, \"zerolinecolor\": \"#E1E5ED\"}},                        {\"showLink\": true, \"linkText\": \"Export to plot.ly\", \"plotlyServerURL\": \"https://plot.ly\", \"responsive\": true}                    ).then(function(){\n                            \nvar gd = document.getElementById('5c3c06d2-946a-4b4d-91cb-4da29b1902fb');\nvar x = new MutationObserver(function (mutations, observer) {{\n        var display = window.getComputedStyle(gd).display;\n        if (!display || display === 'none') {{\n            console.log([gd, 'removed!']);\n            Plotly.purge(gd);\n            observer.disconnect();\n        }}\n}});\n\n// Listen for the removal of the full notebook cells\nvar notebookContainer = gd.closest('#notebook-container');\nif (notebookContainer) {{\n    x.observe(notebookContainer, {childList: true});\n}}\n\n// Listen for the clearing of the current output cell\nvar outputEl = gd.closest('.output');\nif (outputEl) {{\n    x.observe(outputEl, {childList: true});\n}}\n\n                        })                };                });            </script>        </div>"
     },
     "metadata": {}
    }
   ],
   "source": [
    " value but when the number of categ# plotting bar plot on df2 here in the df2 we have limited number of category andory and value is increase then we have to do some schanges\n",
    "df2.iplot(kind='bar',x='category',y='Values')"
   ]
  },
  {
   "cell_type": "code",
   "execution_count": 14,
   "metadata": {},
   "outputs": [
    {
     "output_type": "display_data",
     "data": {
      "application/vnd.plotly.v1+json": {
       "config": {
        "linkText": "Export to plot.ly",
        "plotlyServerURL": "https://plot.ly",
        "showLink": true
       },
       "data": [
        {
         "marker": {
          "color": "rgba(255, 153, 51, 0.6)",
          "line": {
           "color": "rgba(255, 153, 51, 1.0)",
           "width": 1
          }
         },
         "name": "A",
         "orientation": "v",
         "text": "",
         "type": "bar",
         "x": [
          0,
          1,
          2,
          3,
          4,
          5,
          6,
          7,
          8,
          9,
          10,
          11,
          12,
          13,
          14,
          15,
          16,
          17,
          18,
          19,
          20,
          21,
          22,
          23,
          24,
          25,
          26,
          27,
          28,
          29,
          30,
          31,
          32,
          33,
          34,
          35,
          36,
          37,
          38,
          39,
          40,
          41,
          42,
          43,
          44,
          45,
          46,
          47,
          48,
          49,
          50,
          51,
          52,
          53,
          54,
          55,
          56,
          57,
          58,
          59,
          60,
          61,
          62,
          63,
          64,
          65,
          66,
          67,
          68,
          69,
          70,
          71,
          72,
          73,
          74,
          75,
          76,
          77,
          78,
          79,
          80,
          81,
          82,
          83,
          84,
          85,
          86,
          87,
          88,
          89,
          90,
          91,
          92,
          93,
          94,
          95,
          96,
          97,
          98,
          99
         ],
         "y": [
          -1.6034591679105978,
          0.6744517866256291,
          0.16873903499098108,
          -0.7120838114462832,
          0.23617682794395775,
          1.180677289914722,
          -0.9243405825078829,
          0.3249744142267152,
          0.24123007955726194,
          -1.371775940963692,
          2.0299735784534514,
          -1.638278538950703,
          -0.35137910597764804,
          0.000667556043875359,
          -2.100087178780612,
          -0.4528852477762303,
          -1.0698827410677296,
          -0.22569897519992077,
          -1.0377256973062055,
          -0.40533486416227726,
          0.6830430283391952,
          -0.33966680639046704,
          -0.8669563151471675,
          0.527643417645511,
          -0.0833286510642639,
          0.13548161732522387,
          0.7223255346457207,
          -0.8175726858881641,
          1.374045254814651,
          -0.5656973754914506,
          0.39140389155072197,
          0.16070195849060673,
          -0.1861179756096024,
          -0.5439910419446394,
          -0.7872529205941025,
          1.3521531710461365,
          -0.969493749960735,
          -0.4360024968703549,
          -0.11854777642838966,
          -1.8023152962452222,
          -1.7570950411749429,
          -0.3551025680128556,
          -0.9730138683284136,
          1.7174009466336264,
          -1.0403124882430377,
          0.8946881797652224,
          -0.481238013126997,
          -0.1801078735119504,
          -0.3908161297782836,
          0.4211820003945261,
          0.8939246652280742,
          0.29982529050087176,
          -0.19053552055843878,
          0.9122188779991189,
          0.02791823589603473,
          -2.049843605469713,
          1.8451647391505106,
          1.835826771883997,
          0.4514046121545814,
          -1.3153479849431113,
          0.6039372964302147,
          0.1967032275194514,
          -0.19718733734199645,
          -1.0424453626339572,
          -1.291632485177539,
          0.08021453833866193,
          0.8381689241093387,
          -1.2721892786100386,
          0.3732178168113568,
          0.05276688734700252,
          -1.967496885033359,
          0.9023845846590755,
          0.24001744040925296,
          -0.05429170252464368,
          -0.49807948253119694,
          -1.452383083045118,
          -0.9418576074293369,
          -0.4523600116602419,
          0.6591749020229192,
          -0.48515217656054904,
          0.6035086074078894,
          -0.5338885854100055,
          -0.9455132299224919,
          -0.9184469295082123,
          -0.482512232189353,
          1.495957404481226,
          -0.11809049112544505,
          0.3194610816126905,
          -1.2852738670679296,
          -0.5933666650741988,
          1.7904157188996117,
          0.4052902765873968,
          1.8775364158770929,
          0.01327468426470117,
          -2.2108064327344157,
          0.4547179081726537,
          -0.5095154977877799,
          -0.9630339148296717,
          -1.1623592880536002,
          -1.1754650048720257
         ]
        },
        {
         "marker": {
          "color": "rgba(55, 128, 191, 0.6)",
          "line": {
           "color": "rgba(55, 128, 191, 1.0)",
           "width": 1
          }
         },
         "name": "B",
         "orientation": "v",
         "text": "",
         "type": "bar",
         "x": [
          0,
          1,
          2,
          3,
          4,
          5,
          6,
          7,
          8,
          9,
          10,
          11,
          12,
          13,
          14,
          15,
          16,
          17,
          18,
          19,
          20,
          21,
          22,
          23,
          24,
          25,
          26,
          27,
          28,
          29,
          30,
          31,
          32,
          33,
          34,
          35,
          36,
          37,
          38,
          39,
          40,
          41,
          42,
          43,
          44,
          45,
          46,
          47,
          48,
          49,
          50,
          51,
          52,
          53,
          54,
          55,
          56,
          57,
          58,
          59,
          60,
          61,
          62,
          63,
          64,
          65,
          66,
          67,
          68,
          69,
          70,
          71,
          72,
          73,
          74,
          75,
          76,
          77,
          78,
          79,
          80,
          81,
          82,
          83,
          84,
          85,
          86,
          87,
          88,
          89,
          90,
          91,
          92,
          93,
          94,
          95,
          96,
          97,
          98,
          99
         ],
         "y": [
          0.8192336134801987,
          0.7602482743753068,
          0.6294100028786074,
          0.03904283596140118,
          -0.20300240870303762,
          -0.4217753477618602,
          -0.005137086974361876,
          -0.6026416600652672,
          -0.519906165020211,
          0.7206112252343626,
          0.20239306106194205,
          0.24824347008781414,
          -0.3632000207111838,
          0.5246297345959616,
          -0.8406442737890164,
          -0.30471587593055305,
          0.11002914869335803,
          -0.7770599281428845,
          -1.041800451056623,
          -0.9368605859558401,
          1.7229026947754391,
          -0.3620596398305359,
          0.4949821171328368,
          -1.5512318236277358,
          1.4494671490438522,
          -0.8823861526943375,
          -0.22564121684055144,
          -0.7154859681767155,
          -1.0820544326577435,
          -0.15522332326670543,
          -0.7164670995786423,
          0.2804719336161431,
          -0.2051279121244869,
          -1.5782948712181395,
          -1.6263700275222348,
          0.7739434861128113,
          1.3095508145895705,
          -1.2225798792362865,
          1.121663384493526,
          -1.4332480938692411,
          0.9030413351881482,
          0.006778345110963212,
          -0.23949189864348985,
          -0.04759875800248899,
          1.4895830215386634,
          0.34389886769741146,
          0.25995771804344314,
          1.7315562384553185,
          1.8352822475616812,
          -0.5177595834240207,
          1.8250101308281006,
          0.8931273429782042,
          0.653976849766924,
          0.2047316783716681,
          0.3021811973823506,
          -2.2920227763677037,
          0.3262921101530418,
          -0.3354101817456763,
          -1.2533302192795022,
          0.11168265476850534,
          -1.0357739867335003,
          0.528326646172122,
          0.4110942155465323,
          0.5074870135166899,
          -0.8819865735203064,
          -1.3814733121407319,
          0.022845539968953,
          -0.28094217851010267,
          0.48606511891207504,
          1.7050928660376112,
          -0.5609434522847258,
          -0.3087151772829456,
          -0.21422050977795287,
          0.732410209205975,
          -0.896156752315307,
          -0.748927157879648,
          0.006314657490310105,
          -1.1216573254922337,
          -0.5118157861492615,
          0.36209901117936405,
          -1.0880514683970912,
          0.46632807066648674,
          -0.022897289258460102,
          1.2856654258471698,
          -0.24579209518601375,
          -0.31100397594352286,
          0.0904341764974058,
          -1.1641298986673796,
          0.13704345571697643,
          0.1676107315041115,
          -0.3185357210445539,
          -0.6292950421730465,
          1.6062211256891819,
          -0.066381667278134,
          0.7151003365735614,
          0.3931328546294085,
          0.39143520976327495,
          -0.6355055797809678,
          0.09861609523459006,
          -1.2784322496774305
         ]
        },
        {
         "marker": {
          "color": "rgba(50, 171, 96, 0.6)",
          "line": {
           "color": "rgba(50, 171, 96, 1.0)",
           "width": 1
          }
         },
         "name": "C",
         "orientation": "v",
         "text": "",
         "type": "bar",
         "x": [
          0,
          1,
          2,
          3,
          4,
          5,
          6,
          7,
          8,
          9,
          10,
          11,
          12,
          13,
          14,
          15,
          16,
          17,
          18,
          19,
          20,
          21,
          22,
          23,
          24,
          25,
          26,
          27,
          28,
          29,
          30,
          31,
          32,
          33,
          34,
          35,
          36,
          37,
          38,
          39,
          40,
          41,
          42,
          43,
          44,
          45,
          46,
          47,
          48,
          49,
          50,
          51,
          52,
          53,
          54,
          55,
          56,
          57,
          58,
          59,
          60,
          61,
          62,
          63,
          64,
          65,
          66,
          67,
          68,
          69,
          70,
          71,
          72,
          73,
          74,
          75,
          76,
          77,
          78,
          79,
          80,
          81,
          82,
          83,
          84,
          85,
          86,
          87,
          88,
          89,
          90,
          91,
          92,
          93,
          94,
          95,
          96,
          97,
          98,
          99
         ],
         "y": [
          2.413773226467551,
          -0.7128641051383859,
          -0.4644136139558775,
          -0.01595694663080215,
          -1.0650640833764218,
          -0.48824719587425885,
          -0.46792702899628724,
          0.7935768216181784,
          -1.2882522941089907,
          1.1808870677203653,
          0.29037826101094666,
          -0.06273209145717351,
          0.020915860572536787,
          0.3559134718066243,
          -0.23828516601864974,
          0.2235282271400536,
          0.19797177200515284,
          1.8154376537683254,
          2.2848843666910827,
          1.1551806091037926,
          -0.3699746848112576,
          1.435658491619278,
          -1.028800188537578,
          0.6939205836708525,
          -0.40461125110826474,
          0.3327556578954046,
          -1.12640609571732,
          -2.6860447566331986,
          -0.9179074972194138,
          -1.06704343280252,
          0.8589691278525239,
          1.6668434809952644,
          -1.8254270265450483,
          -0.2336040815855926,
          -0.8741850919768382,
          0.5611318101312296,
          -0.30844936946133,
          -2.0734330772879583,
          0.04932456760975603,
          -0.4400844067977491,
          -2.584058318333577,
          0.30613786549649014,
          -0.5441577295913987,
          1.5392055423948425,
          -0.6572771953504218,
          -0.9186896963179999,
          0.43104549104002376,
          0.5560132829638029,
          0.4295007204552606,
          0.4296060913696705,
          0.2560402303645244,
          1.208248313929545,
          -1.7707832610232104,
          1.3897189518615294,
          1.0320936445448918,
          0.02004439306689833,
          -0.9776711761697071,
          0.2942035576612603,
          1.8119180949403657,
          -0.3950788056218137,
          -0.910213972231028,
          -1.1739349903824625,
          -0.12564992211094936,
          -0.6755373400151659,
          -0.09944943527808983,
          -0.3425637260077509,
          -1.390472064931238,
          -2.605239681869079,
          -0.4120934341872476,
          -0.1433111350149596,
          -0.49250371960794603,
          -0.11038227569364245,
          -0.09476737702784671,
          1.8538864184662776,
          -0.4262021828358027,
          1.4510023307478104,
          -0.6586291189953202,
          0.9627447585438353,
          -1.3102489008195526,
          0.8263604082643905,
          0.9052797697023395,
          1.422667165070258,
          -1.3777177729561392,
          -0.4607103704274852,
          0.038783419380216726,
          0.4961343068085089,
          -0.257350508592742,
          1.912895753556617,
          0.4884316808865898,
          -0.13281473817269865,
          0.78731472054916,
          -2.474027384823861,
          0.26065077866571856,
          -1.6826622183155961,
          0.8624958193966548,
          1.1999959758197845,
          -1.0252157379675841,
          -0.431404358816828,
          -0.1830837371829216,
          1.3727642127169377
         ]
        },
        {
         "marker": {
          "color": "rgba(128, 0, 128, 0.6)",
          "line": {
           "color": "rgba(128, 0, 128, 1.0)",
           "width": 1
          }
         },
         "name": "D",
         "orientation": "v",
         "text": "",
         "type": "bar",
         "x": [
          0,
          1,
          2,
          3,
          4,
          5,
          6,
          7,
          8,
          9,
          10,
          11,
          12,
          13,
          14,
          15,
          16,
          17,
          18,
          19,
          20,
          21,
          22,
          23,
          24,
          25,
          26,
          27,
          28,
          29,
          30,
          31,
          32,
          33,
          34,
          35,
          36,
          37,
          38,
          39,
          40,
          41,
          42,
          43,
          44,
          45,
          46,
          47,
          48,
          49,
          50,
          51,
          52,
          53,
          54,
          55,
          56,
          57,
          58,
          59,
          60,
          61,
          62,
          63,
          64,
          65,
          66,
          67,
          68,
          69,
          70,
          71,
          72,
          73,
          74,
          75,
          76,
          77,
          78,
          79,
          80,
          81,
          82,
          83,
          84,
          85,
          86,
          87,
          88,
          89,
          90,
          91,
          92,
          93,
          94,
          95,
          96,
          97,
          98,
          99
         ],
         "y": [
          0.007401829489414258,
          -1.4370701708241351,
          1.8591857898260413,
          0.3234628984355769,
          -1.0186827699736536,
          -2.5029781942582536,
          -1.3170221417895134,
          1.2842493614367703,
          1.3176561190796041,
          -1.51984636555648,
          -0.4568373373257365,
          0.4917231453636013,
          0.6297324020840347,
          0.6800046087257194,
          -1.6879043349963478,
          -1.7184440811410282,
          -0.6629893158933756,
          -0.2990734559154911,
          0.9273377980104158,
          0.7579737594959451,
          0.17464062389667698,
          -0.5407570581589365,
          1.1910778044072616,
          1.7628648760907555,
          -0.6551421684049624,
          1.4492782835504971,
          -1.740609136786402,
          0.28395166043367237,
          0.2786932639454531,
          0.41404403872693646,
          0.21506270134800523,
          0.8505682644777229,
          -0.5314201293607476,
          0.5557896304038229,
          -0.365296760714232,
          -2.217061474571356,
          0.9748013312221652,
          -0.34170981426661173,
          0.6329261017503135,
          -1.6401310490359202,
          0.3680781631778554,
          -1.285346047515693,
          -1.2285046196339122,
          1.3173483989518635,
          -0.22844460194279967,
          -1.217582191747272,
          0.037821191174498336,
          -1.3107140382302156,
          0.3702429826892917,
          -0.157923202464818,
          -0.8234566045410443,
          1.4173789736564744,
          1.5935473741277102,
          0.5073315634889328,
          0.0022844246709907154,
          -0.4878625159174958,
          -0.49371361576826533,
          -0.23516513649527385,
          -0.4493622502616095,
          0.36009271890851724,
          -1.0418440464224992,
          -1.53256274128827,
          -0.41820014868909544,
          1.3907238052547535,
          -0.23434252023843363,
          -2.437667783631158,
          0.2268982172156791,
          0.7922884933261074,
          -1.0850266622940754,
          1.5220154399440695,
          -0.3829316588565574,
          2.0082340018972378,
          -0.9898848749021504,
          0.17271913719835147,
          -0.9349385955128694,
          -0.17107806906005382,
          0.7585279879634922,
          -0.3854391811891404,
          0.519953625079641,
          0.9421019207472212,
          -0.30754883829157076,
          -0.1147229354317717,
          0.2498261281442703,
          -0.15744464120196575,
          -0.42045231527794225,
          -1.627296460821743,
          0.005044118144702033,
          0.5658345085132992,
          0.6388688318264979,
          -1.3232878742686391,
          0.7465694355165938,
          1.0820018623444183,
          -0.5041788231736237,
          1.1504172122250285,
          0.9447481604950453,
          0.38513046915252636,
          1.0291157820071175,
          1.0957470204235578,
          -0.47547506159373265,
          1.0934248802476974
         ]
        }
       ],
       "layout": {
        "legend": {
         "bgcolor": "#F5F6F9",
         "font": {
          "color": "#4D5663"
         }
        },
        "paper_bgcolor": "#F5F6F9",
        "plot_bgcolor": "#F5F6F9",
        "template": {
         "data": {
          "bar": [
           {
            "error_x": {
             "color": "#2a3f5f"
            },
            "error_y": {
             "color": "#2a3f5f"
            },
            "marker": {
             "line": {
              "color": "#E5ECF6",
              "width": 0.5
             }
            },
            "type": "bar"
           }
          ],
          "barpolar": [
           {
            "marker": {
             "line": {
              "color": "#E5ECF6",
              "width": 0.5
             }
            },
            "type": "barpolar"
           }
          ],
          "carpet": [
           {
            "aaxis": {
             "endlinecolor": "#2a3f5f",
             "gridcolor": "white",
             "linecolor": "white",
             "minorgridcolor": "white",
             "startlinecolor": "#2a3f5f"
            },
            "baxis": {
             "endlinecolor": "#2a3f5f",
             "gridcolor": "white",
             "linecolor": "white",
             "minorgridcolor": "white",
             "startlinecolor": "#2a3f5f"
            },
            "type": "carpet"
           }
          ],
          "choropleth": [
           {
            "colorbar": {
             "outlinewidth": 0,
             "ticks": ""
            },
            "type": "choropleth"
           }
          ],
          "contour": [
           {
            "colorbar": {
             "outlinewidth": 0,
             "ticks": ""
            },
            "colorscale": [
             [
              0,
              "#0d0887"
             ],
             [
              0.1111111111111111,
              "#46039f"
             ],
             [
              0.2222222222222222,
              "#7201a8"
             ],
             [
              0.3333333333333333,
              "#9c179e"
             ],
             [
              0.4444444444444444,
              "#bd3786"
             ],
             [
              0.5555555555555556,
              "#d8576b"
             ],
             [
              0.6666666666666666,
              "#ed7953"
             ],
             [
              0.7777777777777778,
              "#fb9f3a"
             ],
             [
              0.8888888888888888,
              "#fdca26"
             ],
             [
              1,
              "#f0f921"
             ]
            ],
            "type": "contour"
           }
          ],
          "contourcarpet": [
           {
            "colorbar": {
             "outlinewidth": 0,
             "ticks": ""
            },
            "type": "contourcarpet"
           }
          ],
          "heatmap": [
           {
            "colorbar": {
             "outlinewidth": 0,
             "ticks": ""
            },
            "colorscale": [
             [
              0,
              "#0d0887"
             ],
             [
              0.1111111111111111,
              "#46039f"
             ],
             [
              0.2222222222222222,
              "#7201a8"
             ],
             [
              0.3333333333333333,
              "#9c179e"
             ],
             [
              0.4444444444444444,
              "#bd3786"
             ],
             [
              0.5555555555555556,
              "#d8576b"
             ],
             [
              0.6666666666666666,
              "#ed7953"
             ],
             [
              0.7777777777777778,
              "#fb9f3a"
             ],
             [
              0.8888888888888888,
              "#fdca26"
             ],
             [
              1,
              "#f0f921"
             ]
            ],
            "type": "heatmap"
           }
          ],
          "heatmapgl": [
           {
            "colorbar": {
             "outlinewidth": 0,
             "ticks": ""
            },
            "colorscale": [
             [
              0,
              "#0d0887"
             ],
             [
              0.1111111111111111,
              "#46039f"
             ],
             [
              0.2222222222222222,
              "#7201a8"
             ],
             [
              0.3333333333333333,
              "#9c179e"
             ],
             [
              0.4444444444444444,
              "#bd3786"
             ],
             [
              0.5555555555555556,
              "#d8576b"
             ],
             [
              0.6666666666666666,
              "#ed7953"
             ],
             [
              0.7777777777777778,
              "#fb9f3a"
             ],
             [
              0.8888888888888888,
              "#fdca26"
             ],
             [
              1,
              "#f0f921"
             ]
            ],
            "type": "heatmapgl"
           }
          ],
          "histogram": [
           {
            "marker": {
             "colorbar": {
              "outlinewidth": 0,
              "ticks": ""
             }
            },
            "type": "histogram"
           }
          ],
          "histogram2d": [
           {
            "colorbar": {
             "outlinewidth": 0,
             "ticks": ""
            },
            "colorscale": [
             [
              0,
              "#0d0887"
             ],
             [
              0.1111111111111111,
              "#46039f"
             ],
             [
              0.2222222222222222,
              "#7201a8"
             ],
             [
              0.3333333333333333,
              "#9c179e"
             ],
             [
              0.4444444444444444,
              "#bd3786"
             ],
             [
              0.5555555555555556,
              "#d8576b"
             ],
             [
              0.6666666666666666,
              "#ed7953"
             ],
             [
              0.7777777777777778,
              "#fb9f3a"
             ],
             [
              0.8888888888888888,
              "#fdca26"
             ],
             [
              1,
              "#f0f921"
             ]
            ],
            "type": "histogram2d"
           }
          ],
          "histogram2dcontour": [
           {
            "colorbar": {
             "outlinewidth": 0,
             "ticks": ""
            },
            "colorscale": [
             [
              0,
              "#0d0887"
             ],
             [
              0.1111111111111111,
              "#46039f"
             ],
             [
              0.2222222222222222,
              "#7201a8"
             ],
             [
              0.3333333333333333,
              "#9c179e"
             ],
             [
              0.4444444444444444,
              "#bd3786"
             ],
             [
              0.5555555555555556,
              "#d8576b"
             ],
             [
              0.6666666666666666,
              "#ed7953"
             ],
             [
              0.7777777777777778,
              "#fb9f3a"
             ],
             [
              0.8888888888888888,
              "#fdca26"
             ],
             [
              1,
              "#f0f921"
             ]
            ],
            "type": "histogram2dcontour"
           }
          ],
          "mesh3d": [
           {
            "colorbar": {
             "outlinewidth": 0,
             "ticks": ""
            },
            "type": "mesh3d"
           }
          ],
          "parcoords": [
           {
            "line": {
             "colorbar": {
              "outlinewidth": 0,
              "ticks": ""
             }
            },
            "type": "parcoords"
           }
          ],
          "pie": [
           {
            "automargin": true,
            "type": "pie"
           }
          ],
          "scatter": [
           {
            "marker": {
             "colorbar": {
              "outlinewidth": 0,
              "ticks": ""
             }
            },
            "type": "scatter"
           }
          ],
          "scatter3d": [
           {
            "line": {
             "colorbar": {
              "outlinewidth": 0,
              "ticks": ""
             }
            },
            "marker": {
             "colorbar": {
              "outlinewidth": 0,
              "ticks": ""
             }
            },
            "type": "scatter3d"
           }
          ],
          "scattercarpet": [
           {
            "marker": {
             "colorbar": {
              "outlinewidth": 0,
              "ticks": ""
             }
            },
            "type": "scattercarpet"
           }
          ],
          "scattergeo": [
           {
            "marker": {
             "colorbar": {
              "outlinewidth": 0,
              "ticks": ""
             }
            },
            "type": "scattergeo"
           }
          ],
          "scattergl": [
           {
            "marker": {
             "colorbar": {
              "outlinewidth": 0,
              "ticks": ""
             }
            },
            "type": "scattergl"
           }
          ],
          "scattermapbox": [
           {
            "marker": {
             "colorbar": {
              "outlinewidth": 0,
              "ticks": ""
             }
            },
            "type": "scattermapbox"
           }
          ],
          "scatterpolar": [
           {
            "marker": {
             "colorbar": {
              "outlinewidth": 0,
              "ticks": ""
             }
            },
            "type": "scatterpolar"
           }
          ],
          "scatterpolargl": [
           {
            "marker": {
             "colorbar": {
              "outlinewidth": 0,
              "ticks": ""
             }
            },
            "type": "scatterpolargl"
           }
          ],
          "scatterternary": [
           {
            "marker": {
             "colorbar": {
              "outlinewidth": 0,
              "ticks": ""
             }
            },
            "type": "scatterternary"
           }
          ],
          "surface": [
           {
            "colorbar": {
             "outlinewidth": 0,
             "ticks": ""
            },
            "colorscale": [
             [
              0,
              "#0d0887"
             ],
             [
              0.1111111111111111,
              "#46039f"
             ],
             [
              0.2222222222222222,
              "#7201a8"
             ],
             [
              0.3333333333333333,
              "#9c179e"
             ],
             [
              0.4444444444444444,
              "#bd3786"
             ],
             [
              0.5555555555555556,
              "#d8576b"
             ],
             [
              0.6666666666666666,
              "#ed7953"
             ],
             [
              0.7777777777777778,
              "#fb9f3a"
             ],
             [
              0.8888888888888888,
              "#fdca26"
             ],
             [
              1,
              "#f0f921"
             ]
            ],
            "type": "surface"
           }
          ],
          "table": [
           {
            "cells": {
             "fill": {
              "color": "#EBF0F8"
             },
             "line": {
              "color": "white"
             }
            },
            "header": {
             "fill": {
              "color": "#C8D4E3"
             },
             "line": {
              "color": "white"
             }
            },
            "type": "table"
           }
          ]
         },
         "layout": {
          "annotationdefaults": {
           "arrowcolor": "#2a3f5f",
           "arrowhead": 0,
           "arrowwidth": 1
          },
          "autotypenumbers": "strict",
          "coloraxis": {
           "colorbar": {
            "outlinewidth": 0,
            "ticks": ""
           }
          },
          "colorscale": {
           "diverging": [
            [
             0,
             "#8e0152"
            ],
            [
             0.1,
             "#c51b7d"
            ],
            [
             0.2,
             "#de77ae"
            ],
            [
             0.3,
             "#f1b6da"
            ],
            [
             0.4,
             "#fde0ef"
            ],
            [
             0.5,
             "#f7f7f7"
            ],
            [
             0.6,
             "#e6f5d0"
            ],
            [
             0.7,
             "#b8e186"
            ],
            [
             0.8,
             "#7fbc41"
            ],
            [
             0.9,
             "#4d9221"
            ],
            [
             1,
             "#276419"
            ]
           ],
           "sequential": [
            [
             0,
             "#0d0887"
            ],
            [
             0.1111111111111111,
             "#46039f"
            ],
            [
             0.2222222222222222,
             "#7201a8"
            ],
            [
             0.3333333333333333,
             "#9c179e"
            ],
            [
             0.4444444444444444,
             "#bd3786"
            ],
            [
             0.5555555555555556,
             "#d8576b"
            ],
            [
             0.6666666666666666,
             "#ed7953"
            ],
            [
             0.7777777777777778,
             "#fb9f3a"
            ],
            [
             0.8888888888888888,
             "#fdca26"
            ],
            [
             1,
             "#f0f921"
            ]
           ],
           "sequentialminus": [
            [
             0,
             "#0d0887"
            ],
            [
             0.1111111111111111,
             "#46039f"
            ],
            [
             0.2222222222222222,
             "#7201a8"
            ],
            [
             0.3333333333333333,
             "#9c179e"
            ],
            [
             0.4444444444444444,
             "#bd3786"
            ],
            [
             0.5555555555555556,
             "#d8576b"
            ],
            [
             0.6666666666666666,
             "#ed7953"
            ],
            [
             0.7777777777777778,
             "#fb9f3a"
            ],
            [
             0.8888888888888888,
             "#fdca26"
            ],
            [
             1,
             "#f0f921"
            ]
           ]
          },
          "colorway": [
           "#636efa",
           "#EF553B",
           "#00cc96",
           "#ab63fa",
           "#FFA15A",
           "#19d3f3",
           "#FF6692",
           "#B6E880",
           "#FF97FF",
           "#FECB52"
          ],
          "font": {
           "color": "#2a3f5f"
          },
          "geo": {
           "bgcolor": "white",
           "lakecolor": "white",
           "landcolor": "#E5ECF6",
           "showlakes": true,
           "showland": true,
           "subunitcolor": "white"
          },
          "hoverlabel": {
           "align": "left"
          },
          "hovermode": "closest",
          "mapbox": {
           "style": "light"
          },
          "paper_bgcolor": "white",
          "plot_bgcolor": "#E5ECF6",
          "polar": {
           "angularaxis": {
            "gridcolor": "white",
            "linecolor": "white",
            "ticks": ""
           },
           "bgcolor": "#E5ECF6",
           "radialaxis": {
            "gridcolor": "white",
            "linecolor": "white",
            "ticks": ""
           }
          },
          "scene": {
           "xaxis": {
            "backgroundcolor": "#E5ECF6",
            "gridcolor": "white",
            "gridwidth": 2,
            "linecolor": "white",
            "showbackground": true,
            "ticks": "",
            "zerolinecolor": "white"
           },
           "yaxis": {
            "backgroundcolor": "#E5ECF6",
            "gridcolor": "white",
            "gridwidth": 2,
            "linecolor": "white",
            "showbackground": true,
            "ticks": "",
            "zerolinecolor": "white"
           },
           "zaxis": {
            "backgroundcolor": "#E5ECF6",
            "gridcolor": "white",
            "gridwidth": 2,
            "linecolor": "white",
            "showbackground": true,
            "ticks": "",
            "zerolinecolor": "white"
           }
          },
          "shapedefaults": {
           "line": {
            "color": "#2a3f5f"
           }
          },
          "ternary": {
           "aaxis": {
            "gridcolor": "white",
            "linecolor": "white",
            "ticks": ""
           },
           "baxis": {
            "gridcolor": "white",
            "linecolor": "white",
            "ticks": ""
           },
           "bgcolor": "#E5ECF6",
           "caxis": {
            "gridcolor": "white",
            "linecolor": "white",
            "ticks": ""
           }
          },
          "title": {
           "x": 0.05
          },
          "xaxis": {
           "automargin": true,
           "gridcolor": "white",
           "linecolor": "white",
           "ticks": "",
           "title": {
            "standoff": 15
           },
           "zerolinecolor": "white",
           "zerolinewidth": 2
          },
          "yaxis": {
           "automargin": true,
           "gridcolor": "white",
           "linecolor": "white",
           "ticks": "",
           "title": {
            "standoff": 15
           },
           "zerolinecolor": "white",
           "zerolinewidth": 2
          }
         }
        },
        "title": {
         "font": {
          "color": "#4D5663"
         }
        },
        "xaxis": {
         "gridcolor": "#E1E5ED",
         "showgrid": true,
         "tickfont": {
          "color": "#4D5663"
         },
         "title": {
          "font": {
           "color": "#4D5663"
          },
          "text": ""
         },
         "zerolinecolor": "#E1E5ED"
        },
        "yaxis": {
         "gridcolor": "#E1E5ED",
         "showgrid": true,
         "tickfont": {
          "color": "#4D5663"
         },
         "title": {
          "font": {
           "color": "#4D5663"
          },
          "text": ""
         },
         "zerolinecolor": "#E1E5ED"
        }
       }
      },
      "text/html": "<div>                            <div id=\"546932fc-a4b1-4076-b904-7afb428e95ae\" class=\"plotly-graph-div\" style=\"height:525px; width:100%;\"></div>            <script type=\"text/javascript\">                require([\"plotly\"], function(Plotly) {                    window.PLOTLYENV=window.PLOTLYENV || {};\n                    window.PLOTLYENV.BASE_URL='https://plot.ly';                                    if (document.getElementById(\"546932fc-a4b1-4076-b904-7afb428e95ae\")) {                    Plotly.newPlot(                        \"546932fc-a4b1-4076-b904-7afb428e95ae\",                        [{\"marker\": {\"color\": \"rgba(255, 153, 51, 0.6)\", \"line\": {\"color\": \"rgba(255, 153, 51, 1.0)\", \"width\": 1}}, \"name\": \"A\", \"orientation\": \"v\", \"text\": \"\", \"type\": \"bar\", \"x\": [0, 1, 2, 3, 4, 5, 6, 7, 8, 9, 10, 11, 12, 13, 14, 15, 16, 17, 18, 19, 20, 21, 22, 23, 24, 25, 26, 27, 28, 29, 30, 31, 32, 33, 34, 35, 36, 37, 38, 39, 40, 41, 42, 43, 44, 45, 46, 47, 48, 49, 50, 51, 52, 53, 54, 55, 56, 57, 58, 59, 60, 61, 62, 63, 64, 65, 66, 67, 68, 69, 70, 71, 72, 73, 74, 75, 76, 77, 78, 79, 80, 81, 82, 83, 84, 85, 86, 87, 88, 89, 90, 91, 92, 93, 94, 95, 96, 97, 98, 99], \"y\": [-1.6034591679105978, 0.6744517866256291, 0.16873903499098108, -0.7120838114462832, 0.23617682794395775, 1.180677289914722, -0.9243405825078829, 0.3249744142267152, 0.24123007955726194, -1.371775940963692, 2.0299735784534514, -1.638278538950703, -0.35137910597764804, 0.000667556043875359, -2.100087178780612, -0.4528852477762303, -1.0698827410677296, -0.22569897519992077, -1.0377256973062055, -0.40533486416227726, 0.6830430283391952, -0.33966680639046704, -0.8669563151471675, 0.527643417645511, -0.0833286510642639, 0.13548161732522387, 0.7223255346457207, -0.8175726858881641, 1.374045254814651, -0.5656973754914506, 0.39140389155072197, 0.16070195849060673, -0.1861179756096024, -0.5439910419446394, -0.7872529205941025, 1.3521531710461365, -0.969493749960735, -0.4360024968703549, -0.11854777642838966, -1.8023152962452222, -1.7570950411749429, -0.3551025680128556, -0.9730138683284136, 1.7174009466336264, -1.0403124882430377, 0.8946881797652224, -0.481238013126997, -0.1801078735119504, -0.3908161297782836, 0.4211820003945261, 0.8939246652280742, 0.29982529050087176, -0.19053552055843878, 0.9122188779991189, 0.02791823589603473, -2.049843605469713, 1.8451647391505106, 1.835826771883997, 0.4514046121545814, -1.3153479849431113, 0.6039372964302147, 0.1967032275194514, -0.19718733734199645, -1.0424453626339572, -1.291632485177539, 0.08021453833866193, 0.8381689241093387, -1.2721892786100386, 0.3732178168113568, 0.05276688734700252, -1.967496885033359, 0.9023845846590755, 0.24001744040925296, -0.05429170252464368, -0.49807948253119694, -1.452383083045118, -0.9418576074293369, -0.4523600116602419, 0.6591749020229192, -0.48515217656054904, 0.6035086074078894, -0.5338885854100055, -0.9455132299224919, -0.9184469295082123, -0.482512232189353, 1.495957404481226, -0.11809049112544505, 0.3194610816126905, -1.2852738670679296, -0.5933666650741988, 1.7904157188996117, 0.4052902765873968, 1.8775364158770929, 0.01327468426470117, -2.2108064327344157, 0.4547179081726537, -0.5095154977877799, -0.9630339148296717, -1.1623592880536002, -1.1754650048720257]}, {\"marker\": {\"color\": \"rgba(55, 128, 191, 0.6)\", \"line\": {\"color\": \"rgba(55, 128, 191, 1.0)\", \"width\": 1}}, \"name\": \"B\", \"orientation\": \"v\", \"text\": \"\", \"type\": \"bar\", \"x\": [0, 1, 2, 3, 4, 5, 6, 7, 8, 9, 10, 11, 12, 13, 14, 15, 16, 17, 18, 19, 20, 21, 22, 23, 24, 25, 26, 27, 28, 29, 30, 31, 32, 33, 34, 35, 36, 37, 38, 39, 40, 41, 42, 43, 44, 45, 46, 47, 48, 49, 50, 51, 52, 53, 54, 55, 56, 57, 58, 59, 60, 61, 62, 63, 64, 65, 66, 67, 68, 69, 70, 71, 72, 73, 74, 75, 76, 77, 78, 79, 80, 81, 82, 83, 84, 85, 86, 87, 88, 89, 90, 91, 92, 93, 94, 95, 96, 97, 98, 99], \"y\": [0.8192336134801987, 0.7602482743753068, 0.6294100028786074, 0.03904283596140118, -0.20300240870303762, -0.4217753477618602, -0.005137086974361876, -0.6026416600652672, -0.519906165020211, 0.7206112252343626, 0.20239306106194205, 0.24824347008781414, -0.3632000207111838, 0.5246297345959616, -0.8406442737890164, -0.30471587593055305, 0.11002914869335803, -0.7770599281428845, -1.041800451056623, -0.9368605859558401, 1.7229026947754391, -0.3620596398305359, 0.4949821171328368, -1.5512318236277358, 1.4494671490438522, -0.8823861526943375, -0.22564121684055144, -0.7154859681767155, -1.0820544326577435, -0.15522332326670543, -0.7164670995786423, 0.2804719336161431, -0.2051279121244869, -1.5782948712181395, -1.6263700275222348, 0.7739434861128113, 1.3095508145895705, -1.2225798792362865, 1.121663384493526, -1.4332480938692411, 0.9030413351881482, 0.006778345110963212, -0.23949189864348985, -0.04759875800248899, 1.4895830215386634, 0.34389886769741146, 0.25995771804344314, 1.7315562384553185, 1.8352822475616812, -0.5177595834240207, 1.8250101308281006, 0.8931273429782042, 0.653976849766924, 0.2047316783716681, 0.3021811973823506, -2.2920227763677037, 0.3262921101530418, -0.3354101817456763, -1.2533302192795022, 0.11168265476850534, -1.0357739867335003, 0.528326646172122, 0.4110942155465323, 0.5074870135166899, -0.8819865735203064, -1.3814733121407319, 0.022845539968953, -0.28094217851010267, 0.48606511891207504, 1.7050928660376112, -0.5609434522847258, -0.3087151772829456, -0.21422050977795287, 0.732410209205975, -0.896156752315307, -0.748927157879648, 0.006314657490310105, -1.1216573254922337, -0.5118157861492615, 0.36209901117936405, -1.0880514683970912, 0.46632807066648674, -0.022897289258460102, 1.2856654258471698, -0.24579209518601375, -0.31100397594352286, 0.0904341764974058, -1.1641298986673796, 0.13704345571697643, 0.1676107315041115, -0.3185357210445539, -0.6292950421730465, 1.6062211256891819, -0.066381667278134, 0.7151003365735614, 0.3931328546294085, 0.39143520976327495, -0.6355055797809678, 0.09861609523459006, -1.2784322496774305]}, {\"marker\": {\"color\": \"rgba(50, 171, 96, 0.6)\", \"line\": {\"color\": \"rgba(50, 171, 96, 1.0)\", \"width\": 1}}, \"name\": \"C\", \"orientation\": \"v\", \"text\": \"\", \"type\": \"bar\", \"x\": [0, 1, 2, 3, 4, 5, 6, 7, 8, 9, 10, 11, 12, 13, 14, 15, 16, 17, 18, 19, 20, 21, 22, 23, 24, 25, 26, 27, 28, 29, 30, 31, 32, 33, 34, 35, 36, 37, 38, 39, 40, 41, 42, 43, 44, 45, 46, 47, 48, 49, 50, 51, 52, 53, 54, 55, 56, 57, 58, 59, 60, 61, 62, 63, 64, 65, 66, 67, 68, 69, 70, 71, 72, 73, 74, 75, 76, 77, 78, 79, 80, 81, 82, 83, 84, 85, 86, 87, 88, 89, 90, 91, 92, 93, 94, 95, 96, 97, 98, 99], \"y\": [2.413773226467551, -0.7128641051383859, -0.4644136139558775, -0.01595694663080215, -1.0650640833764218, -0.48824719587425885, -0.46792702899628724, 0.7935768216181784, -1.2882522941089907, 1.1808870677203653, 0.29037826101094666, -0.06273209145717351, 0.020915860572536787, 0.3559134718066243, -0.23828516601864974, 0.2235282271400536, 0.19797177200515284, 1.8154376537683254, 2.2848843666910827, 1.1551806091037926, -0.3699746848112576, 1.435658491619278, -1.028800188537578, 0.6939205836708525, -0.40461125110826474, 0.3327556578954046, -1.12640609571732, -2.6860447566331986, -0.9179074972194138, -1.06704343280252, 0.8589691278525239, 1.6668434809952644, -1.8254270265450483, -0.2336040815855926, -0.8741850919768382, 0.5611318101312296, -0.30844936946133, -2.0734330772879583, 0.04932456760975603, -0.4400844067977491, -2.584058318333577, 0.30613786549649014, -0.5441577295913987, 1.5392055423948425, -0.6572771953504218, -0.9186896963179999, 0.43104549104002376, 0.5560132829638029, 0.4295007204552606, 0.4296060913696705, 0.2560402303645244, 1.208248313929545, -1.7707832610232104, 1.3897189518615294, 1.0320936445448918, 0.02004439306689833, -0.9776711761697071, 0.2942035576612603, 1.8119180949403657, -0.3950788056218137, -0.910213972231028, -1.1739349903824625, -0.12564992211094936, -0.6755373400151659, -0.09944943527808983, -0.3425637260077509, -1.390472064931238, -2.605239681869079, -0.4120934341872476, -0.1433111350149596, -0.49250371960794603, -0.11038227569364245, -0.09476737702784671, 1.8538864184662776, -0.4262021828358027, 1.4510023307478104, -0.6586291189953202, 0.9627447585438353, -1.3102489008195526, 0.8263604082643905, 0.9052797697023395, 1.422667165070258, -1.3777177729561392, -0.4607103704274852, 0.038783419380216726, 0.4961343068085089, -0.257350508592742, 1.912895753556617, 0.4884316808865898, -0.13281473817269865, 0.78731472054916, -2.474027384823861, 0.26065077866571856, -1.6826622183155961, 0.8624958193966548, 1.1999959758197845, -1.0252157379675841, -0.431404358816828, -0.1830837371829216, 1.3727642127169377]}, {\"marker\": {\"color\": \"rgba(128, 0, 128, 0.6)\", \"line\": {\"color\": \"rgba(128, 0, 128, 1.0)\", \"width\": 1}}, \"name\": \"D\", \"orientation\": \"v\", \"text\": \"\", \"type\": \"bar\", \"x\": [0, 1, 2, 3, 4, 5, 6, 7, 8, 9, 10, 11, 12, 13, 14, 15, 16, 17, 18, 19, 20, 21, 22, 23, 24, 25, 26, 27, 28, 29, 30, 31, 32, 33, 34, 35, 36, 37, 38, 39, 40, 41, 42, 43, 44, 45, 46, 47, 48, 49, 50, 51, 52, 53, 54, 55, 56, 57, 58, 59, 60, 61, 62, 63, 64, 65, 66, 67, 68, 69, 70, 71, 72, 73, 74, 75, 76, 77, 78, 79, 80, 81, 82, 83, 84, 85, 86, 87, 88, 89, 90, 91, 92, 93, 94, 95, 96, 97, 98, 99], \"y\": [0.007401829489414258, -1.4370701708241351, 1.8591857898260413, 0.3234628984355769, -1.0186827699736536, -2.5029781942582536, -1.3170221417895134, 1.2842493614367703, 1.3176561190796041, -1.51984636555648, -0.4568373373257365, 0.4917231453636013, 0.6297324020840347, 0.6800046087257194, -1.6879043349963478, -1.7184440811410282, -0.6629893158933756, -0.2990734559154911, 0.9273377980104158, 0.7579737594959451, 0.17464062389667698, -0.5407570581589365, 1.1910778044072616, 1.7628648760907555, -0.6551421684049624, 1.4492782835504971, -1.740609136786402, 0.28395166043367237, 0.2786932639454531, 0.41404403872693646, 0.21506270134800523, 0.8505682644777229, -0.5314201293607476, 0.5557896304038229, -0.365296760714232, -2.217061474571356, 0.9748013312221652, -0.34170981426661173, 0.6329261017503135, -1.6401310490359202, 0.3680781631778554, -1.285346047515693, -1.2285046196339122, 1.3173483989518635, -0.22844460194279967, -1.217582191747272, 0.037821191174498336, -1.3107140382302156, 0.3702429826892917, -0.157923202464818, -0.8234566045410443, 1.4173789736564744, 1.5935473741277102, 0.5073315634889328, 0.0022844246709907154, -0.4878625159174958, -0.49371361576826533, -0.23516513649527385, -0.4493622502616095, 0.36009271890851724, -1.0418440464224992, -1.53256274128827, -0.41820014868909544, 1.3907238052547535, -0.23434252023843363, -2.437667783631158, 0.2268982172156791, 0.7922884933261074, -1.0850266622940754, 1.5220154399440695, -0.3829316588565574, 2.0082340018972378, -0.9898848749021504, 0.17271913719835147, -0.9349385955128694, -0.17107806906005382, 0.7585279879634922, -0.3854391811891404, 0.519953625079641, 0.9421019207472212, -0.30754883829157076, -0.1147229354317717, 0.2498261281442703, -0.15744464120196575, -0.42045231527794225, -1.627296460821743, 0.005044118144702033, 0.5658345085132992, 0.6388688318264979, -1.3232878742686391, 0.7465694355165938, 1.0820018623444183, -0.5041788231736237, 1.1504172122250285, 0.9447481604950453, 0.38513046915252636, 1.0291157820071175, 1.0957470204235578, -0.47547506159373265, 1.0934248802476974]}],                        {\"legend\": {\"bgcolor\": \"#F5F6F9\", \"font\": {\"color\": \"#4D5663\"}}, \"paper_bgcolor\": \"#F5F6F9\", \"plot_bgcolor\": \"#F5F6F9\", \"template\": {\"data\": {\"bar\": [{\"error_x\": {\"color\": \"#2a3f5f\"}, \"error_y\": {\"color\": \"#2a3f5f\"}, \"marker\": {\"line\": {\"color\": \"#E5ECF6\", \"width\": 0.5}}, \"type\": \"bar\"}], \"barpolar\": [{\"marker\": {\"line\": {\"color\": \"#E5ECF6\", \"width\": 0.5}}, \"type\": \"barpolar\"}], \"carpet\": [{\"aaxis\": {\"endlinecolor\": \"#2a3f5f\", \"gridcolor\": \"white\", \"linecolor\": \"white\", \"minorgridcolor\": \"white\", \"startlinecolor\": \"#2a3f5f\"}, \"baxis\": {\"endlinecolor\": \"#2a3f5f\", \"gridcolor\": \"white\", \"linecolor\": \"white\", \"minorgridcolor\": \"white\", \"startlinecolor\": \"#2a3f5f\"}, \"type\": \"carpet\"}], \"choropleth\": [{\"colorbar\": {\"outlinewidth\": 0, \"ticks\": \"\"}, \"type\": \"choropleth\"}], \"contour\": [{\"colorbar\": {\"outlinewidth\": 0, \"ticks\": \"\"}, \"colorscale\": [[0.0, \"#0d0887\"], [0.1111111111111111, \"#46039f\"], [0.2222222222222222, \"#7201a8\"], [0.3333333333333333, \"#9c179e\"], [0.4444444444444444, \"#bd3786\"], [0.5555555555555556, \"#d8576b\"], [0.6666666666666666, \"#ed7953\"], [0.7777777777777778, \"#fb9f3a\"], [0.8888888888888888, \"#fdca26\"], [1.0, \"#f0f921\"]], \"type\": \"contour\"}], \"contourcarpet\": [{\"colorbar\": {\"outlinewidth\": 0, \"ticks\": \"\"}, \"type\": \"contourcarpet\"}], \"heatmap\": [{\"colorbar\": {\"outlinewidth\": 0, \"ticks\": \"\"}, \"colorscale\": [[0.0, \"#0d0887\"], [0.1111111111111111, \"#46039f\"], [0.2222222222222222, \"#7201a8\"], [0.3333333333333333, \"#9c179e\"], [0.4444444444444444, \"#bd3786\"], [0.5555555555555556, \"#d8576b\"], [0.6666666666666666, \"#ed7953\"], [0.7777777777777778, \"#fb9f3a\"], [0.8888888888888888, \"#fdca26\"], [1.0, \"#f0f921\"]], \"type\": \"heatmap\"}], \"heatmapgl\": [{\"colorbar\": {\"outlinewidth\": 0, \"ticks\": \"\"}, \"colorscale\": [[0.0, \"#0d0887\"], [0.1111111111111111, \"#46039f\"], [0.2222222222222222, \"#7201a8\"], [0.3333333333333333, \"#9c179e\"], [0.4444444444444444, \"#bd3786\"], [0.5555555555555556, \"#d8576b\"], [0.6666666666666666, \"#ed7953\"], [0.7777777777777778, \"#fb9f3a\"], [0.8888888888888888, \"#fdca26\"], [1.0, \"#f0f921\"]], \"type\": \"heatmapgl\"}], \"histogram\": [{\"marker\": {\"colorbar\": {\"outlinewidth\": 0, \"ticks\": \"\"}}, \"type\": \"histogram\"}], \"histogram2d\": [{\"colorbar\": {\"outlinewidth\": 0, \"ticks\": \"\"}, \"colorscale\": [[0.0, \"#0d0887\"], [0.1111111111111111, \"#46039f\"], [0.2222222222222222, \"#7201a8\"], [0.3333333333333333, \"#9c179e\"], [0.4444444444444444, \"#bd3786\"], [0.5555555555555556, \"#d8576b\"], [0.6666666666666666, \"#ed7953\"], [0.7777777777777778, \"#fb9f3a\"], [0.8888888888888888, \"#fdca26\"], [1.0, \"#f0f921\"]], \"type\": \"histogram2d\"}], \"histogram2dcontour\": [{\"colorbar\": {\"outlinewidth\": 0, \"ticks\": \"\"}, \"colorscale\": [[0.0, \"#0d0887\"], [0.1111111111111111, \"#46039f\"], [0.2222222222222222, \"#7201a8\"], [0.3333333333333333, \"#9c179e\"], [0.4444444444444444, \"#bd3786\"], [0.5555555555555556, \"#d8576b\"], [0.6666666666666666, \"#ed7953\"], [0.7777777777777778, \"#fb9f3a\"], [0.8888888888888888, \"#fdca26\"], [1.0, \"#f0f921\"]], \"type\": \"histogram2dcontour\"}], \"mesh3d\": [{\"colorbar\": {\"outlinewidth\": 0, \"ticks\": \"\"}, \"type\": \"mesh3d\"}], \"parcoords\": [{\"line\": {\"colorbar\": {\"outlinewidth\": 0, \"ticks\": \"\"}}, \"type\": \"parcoords\"}], \"pie\": [{\"automargin\": true, \"type\": \"pie\"}], \"scatter\": [{\"marker\": {\"colorbar\": {\"outlinewidth\": 0, \"ticks\": \"\"}}, \"type\": \"scatter\"}], \"scatter3d\": [{\"line\": {\"colorbar\": {\"outlinewidth\": 0, \"ticks\": \"\"}}, \"marker\": {\"colorbar\": {\"outlinewidth\": 0, \"ticks\": \"\"}}, \"type\": \"scatter3d\"}], \"scattercarpet\": [{\"marker\": {\"colorbar\": {\"outlinewidth\": 0, \"ticks\": \"\"}}, \"type\": \"scattercarpet\"}], \"scattergeo\": [{\"marker\": {\"colorbar\": {\"outlinewidth\": 0, \"ticks\": \"\"}}, \"type\": \"scattergeo\"}], \"scattergl\": [{\"marker\": {\"colorbar\": {\"outlinewidth\": 0, \"ticks\": \"\"}}, \"type\": \"scattergl\"}], \"scattermapbox\": [{\"marker\": {\"colorbar\": {\"outlinewidth\": 0, \"ticks\": \"\"}}, \"type\": \"scattermapbox\"}], \"scatterpolar\": [{\"marker\": {\"colorbar\": {\"outlinewidth\": 0, \"ticks\": \"\"}}, \"type\": \"scatterpolar\"}], \"scatterpolargl\": [{\"marker\": {\"colorbar\": {\"outlinewidth\": 0, \"ticks\": \"\"}}, \"type\": \"scatterpolargl\"}], \"scatterternary\": [{\"marker\": {\"colorbar\": {\"outlinewidth\": 0, \"ticks\": \"\"}}, \"type\": \"scatterternary\"}], \"surface\": [{\"colorbar\": {\"outlinewidth\": 0, \"ticks\": \"\"}, \"colorscale\": [[0.0, \"#0d0887\"], [0.1111111111111111, \"#46039f\"], [0.2222222222222222, \"#7201a8\"], [0.3333333333333333, \"#9c179e\"], [0.4444444444444444, \"#bd3786\"], [0.5555555555555556, \"#d8576b\"], [0.6666666666666666, \"#ed7953\"], [0.7777777777777778, \"#fb9f3a\"], [0.8888888888888888, \"#fdca26\"], [1.0, \"#f0f921\"]], \"type\": \"surface\"}], \"table\": [{\"cells\": {\"fill\": {\"color\": \"#EBF0F8\"}, \"line\": {\"color\": \"white\"}}, \"header\": {\"fill\": {\"color\": \"#C8D4E3\"}, \"line\": {\"color\": \"white\"}}, \"type\": \"table\"}]}, \"layout\": {\"annotationdefaults\": {\"arrowcolor\": \"#2a3f5f\", \"arrowhead\": 0, \"arrowwidth\": 1}, \"autotypenumbers\": \"strict\", \"coloraxis\": {\"colorbar\": {\"outlinewidth\": 0, \"ticks\": \"\"}}, \"colorscale\": {\"diverging\": [[0, \"#8e0152\"], [0.1, \"#c51b7d\"], [0.2, \"#de77ae\"], [0.3, \"#f1b6da\"], [0.4, \"#fde0ef\"], [0.5, \"#f7f7f7\"], [0.6, \"#e6f5d0\"], [0.7, \"#b8e186\"], [0.8, \"#7fbc41\"], [0.9, \"#4d9221\"], [1, \"#276419\"]], \"sequential\": [[0.0, \"#0d0887\"], [0.1111111111111111, \"#46039f\"], [0.2222222222222222, \"#7201a8\"], [0.3333333333333333, \"#9c179e\"], [0.4444444444444444, \"#bd3786\"], [0.5555555555555556, \"#d8576b\"], [0.6666666666666666, \"#ed7953\"], [0.7777777777777778, \"#fb9f3a\"], [0.8888888888888888, \"#fdca26\"], [1.0, \"#f0f921\"]], \"sequentialminus\": [[0.0, \"#0d0887\"], [0.1111111111111111, \"#46039f\"], [0.2222222222222222, \"#7201a8\"], [0.3333333333333333, \"#9c179e\"], [0.4444444444444444, \"#bd3786\"], [0.5555555555555556, \"#d8576b\"], [0.6666666666666666, \"#ed7953\"], [0.7777777777777778, \"#fb9f3a\"], [0.8888888888888888, \"#fdca26\"], [1.0, \"#f0f921\"]]}, \"colorway\": [\"#636efa\", \"#EF553B\", \"#00cc96\", \"#ab63fa\", \"#FFA15A\", \"#19d3f3\", \"#FF6692\", \"#B6E880\", \"#FF97FF\", \"#FECB52\"], \"font\": {\"color\": \"#2a3f5f\"}, \"geo\": {\"bgcolor\": \"white\", \"lakecolor\": \"white\", \"landcolor\": \"#E5ECF6\", \"showlakes\": true, \"showland\": true, \"subunitcolor\": \"white\"}, \"hoverlabel\": {\"align\": \"left\"}, \"hovermode\": \"closest\", \"mapbox\": {\"style\": \"light\"}, \"paper_bgcolor\": \"white\", \"plot_bgcolor\": \"#E5ECF6\", \"polar\": {\"angularaxis\": {\"gridcolor\": \"white\", \"linecolor\": \"white\", \"ticks\": \"\"}, \"bgcolor\": \"#E5ECF6\", \"radialaxis\": {\"gridcolor\": \"white\", \"linecolor\": \"white\", \"ticks\": \"\"}}, \"scene\": {\"xaxis\": {\"backgroundcolor\": \"#E5ECF6\", \"gridcolor\": \"white\", \"gridwidth\": 2, \"linecolor\": \"white\", \"showbackground\": true, \"ticks\": \"\", \"zerolinecolor\": \"white\"}, \"yaxis\": {\"backgroundcolor\": \"#E5ECF6\", \"gridcolor\": \"white\", \"gridwidth\": 2, \"linecolor\": \"white\", \"showbackground\": true, \"ticks\": \"\", \"zerolinecolor\": \"white\"}, \"zaxis\": {\"backgroundcolor\": \"#E5ECF6\", \"gridcolor\": \"white\", \"gridwidth\": 2, \"linecolor\": \"white\", \"showbackground\": true, \"ticks\": \"\", \"zerolinecolor\": \"white\"}}, \"shapedefaults\": {\"line\": {\"color\": \"#2a3f5f\"}}, \"ternary\": {\"aaxis\": {\"gridcolor\": \"white\", \"linecolor\": \"white\", \"ticks\": \"\"}, \"baxis\": {\"gridcolor\": \"white\", \"linecolor\": \"white\", \"ticks\": \"\"}, \"bgcolor\": \"#E5ECF6\", \"caxis\": {\"gridcolor\": \"white\", \"linecolor\": \"white\", \"ticks\": \"\"}}, \"title\": {\"x\": 0.05}, \"xaxis\": {\"automargin\": true, \"gridcolor\": \"white\", \"linecolor\": \"white\", \"ticks\": \"\", \"title\": {\"standoff\": 15}, \"zerolinecolor\": \"white\", \"zerolinewidth\": 2}, \"yaxis\": {\"automargin\": true, \"gridcolor\": \"white\", \"linecolor\": \"white\", \"ticks\": \"\", \"title\": {\"standoff\": 15}, \"zerolinecolor\": \"white\", \"zerolinewidth\": 2}}}, \"title\": {\"font\": {\"color\": \"#4D5663\"}}, \"xaxis\": {\"gridcolor\": \"#E1E5ED\", \"showgrid\": true, \"tickfont\": {\"color\": \"#4D5663\"}, \"title\": {\"font\": {\"color\": \"#4D5663\"}, \"text\": \"\"}, \"zerolinecolor\": \"#E1E5ED\"}, \"yaxis\": {\"gridcolor\": \"#E1E5ED\", \"showgrid\": true, \"tickfont\": {\"color\": \"#4D5663\"}, \"title\": {\"font\": {\"color\": \"#4D5663\"}, \"text\": \"\"}, \"zerolinecolor\": \"#E1E5ED\"}},                        {\"showLink\": true, \"linkText\": \"Export to plot.ly\", \"plotlyServerURL\": \"https://plot.ly\", \"responsive\": true}                    ).then(function(){\n                            \nvar gd = document.getElementById('546932fc-a4b1-4076-b904-7afb428e95ae');\nvar x = new MutationObserver(function (mutations, observer) {{\n        var display = window.getComputedStyle(gd).display;\n        if (!display || display === 'none') {{\n            console.log([gd, 'removed!']);\n            Plotly.purge(gd);\n            observer.disconnect();\n        }}\n}});\n\n// Listen for the removal of the full notebook cells\nvar notebookContainer = gd.closest('#notebook-container');\nif (notebookContainer) {{\n    x.observe(notebookContainer, {childList: true});\n}}\n\n// Listen for the clearing of the current output cell\nvar outputEl = gd.closest('.output');\nif (outputEl) {{\n    x.observe(outputEl, {childList: true});\n}}\n\n                        })                };                });            </script>        </div>"
     },
     "metadata": {}
    }
   ],
   "source": [
    "# In df1 iplot data are showing in cluster way or not in proper way so for proper data visualization we can do few changes\n",
    "df1.iplot(kind = 'bar')"
   ]
  },
  {
   "cell_type": "code",
   "execution_count": 13,
   "metadata": {},
   "outputs": [
    {
     "output_type": "display_data",
     "data": {
      "application/vnd.plotly.v1+json": {
       "config": {
        "linkText": "Export to plot.ly",
        "plotlyServerURL": "https://plot.ly",
        "showLink": true
       },
       "data": [
        {
         "marker": {
          "color": "rgba(255, 153, 51, 0.6)",
          "line": {
           "color": "rgba(255, 153, 51, 1.0)",
           "width": 1
          }
         },
         "name": "None",
         "orientation": "v",
         "text": "",
         "type": "bar",
         "x": [
          "A",
          "B",
          "C",
          "D"
         ],
         "y": [
          100,
          100,
          100,
          100
         ]
        }
       ],
       "layout": {
        "legend": {
         "bgcolor": "#F5F6F9",
         "font": {
          "color": "#4D5663"
         }
        },
        "paper_bgcolor": "#F5F6F9",
        "plot_bgcolor": "#F5F6F9",
        "template": {
         "data": {
          "bar": [
           {
            "error_x": {
             "color": "#2a3f5f"
            },
            "error_y": {
             "color": "#2a3f5f"
            },
            "marker": {
             "line": {
              "color": "#E5ECF6",
              "width": 0.5
             }
            },
            "type": "bar"
           }
          ],
          "barpolar": [
           {
            "marker": {
             "line": {
              "color": "#E5ECF6",
              "width": 0.5
             }
            },
            "type": "barpolar"
           }
          ],
          "carpet": [
           {
            "aaxis": {
             "endlinecolor": "#2a3f5f",
             "gridcolor": "white",
             "linecolor": "white",
             "minorgridcolor": "white",
             "startlinecolor": "#2a3f5f"
            },
            "baxis": {
             "endlinecolor": "#2a3f5f",
             "gridcolor": "white",
             "linecolor": "white",
             "minorgridcolor": "white",
             "startlinecolor": "#2a3f5f"
            },
            "type": "carpet"
           }
          ],
          "choropleth": [
           {
            "colorbar": {
             "outlinewidth": 0,
             "ticks": ""
            },
            "type": "choropleth"
           }
          ],
          "contour": [
           {
            "colorbar": {
             "outlinewidth": 0,
             "ticks": ""
            },
            "colorscale": [
             [
              0,
              "#0d0887"
             ],
             [
              0.1111111111111111,
              "#46039f"
             ],
             [
              0.2222222222222222,
              "#7201a8"
             ],
             [
              0.3333333333333333,
              "#9c179e"
             ],
             [
              0.4444444444444444,
              "#bd3786"
             ],
             [
              0.5555555555555556,
              "#d8576b"
             ],
             [
              0.6666666666666666,
              "#ed7953"
             ],
             [
              0.7777777777777778,
              "#fb9f3a"
             ],
             [
              0.8888888888888888,
              "#fdca26"
             ],
             [
              1,
              "#f0f921"
             ]
            ],
            "type": "contour"
           }
          ],
          "contourcarpet": [
           {
            "colorbar": {
             "outlinewidth": 0,
             "ticks": ""
            },
            "type": "contourcarpet"
           }
          ],
          "heatmap": [
           {
            "colorbar": {
             "outlinewidth": 0,
             "ticks": ""
            },
            "colorscale": [
             [
              0,
              "#0d0887"
             ],
             [
              0.1111111111111111,
              "#46039f"
             ],
             [
              0.2222222222222222,
              "#7201a8"
             ],
             [
              0.3333333333333333,
              "#9c179e"
             ],
             [
              0.4444444444444444,
              "#bd3786"
             ],
             [
              0.5555555555555556,
              "#d8576b"
             ],
             [
              0.6666666666666666,
              "#ed7953"
             ],
             [
              0.7777777777777778,
              "#fb9f3a"
             ],
             [
              0.8888888888888888,
              "#fdca26"
             ],
             [
              1,
              "#f0f921"
             ]
            ],
            "type": "heatmap"
           }
          ],
          "heatmapgl": [
           {
            "colorbar": {
             "outlinewidth": 0,
             "ticks": ""
            },
            "colorscale": [
             [
              0,
              "#0d0887"
             ],
             [
              0.1111111111111111,
              "#46039f"
             ],
             [
              0.2222222222222222,
              "#7201a8"
             ],
             [
              0.3333333333333333,
              "#9c179e"
             ],
             [
              0.4444444444444444,
              "#bd3786"
             ],
             [
              0.5555555555555556,
              "#d8576b"
             ],
             [
              0.6666666666666666,
              "#ed7953"
             ],
             [
              0.7777777777777778,
              "#fb9f3a"
             ],
             [
              0.8888888888888888,
              "#fdca26"
             ],
             [
              1,
              "#f0f921"
             ]
            ],
            "type": "heatmapgl"
           }
          ],
          "histogram": [
           {
            "marker": {
             "colorbar": {
              "outlinewidth": 0,
              "ticks": ""
             }
            },
            "type": "histogram"
           }
          ],
          "histogram2d": [
           {
            "colorbar": {
             "outlinewidth": 0,
             "ticks": ""
            },
            "colorscale": [
             [
              0,
              "#0d0887"
             ],
             [
              0.1111111111111111,
              "#46039f"
             ],
             [
              0.2222222222222222,
              "#7201a8"
             ],
             [
              0.3333333333333333,
              "#9c179e"
             ],
             [
              0.4444444444444444,
              "#bd3786"
             ],
             [
              0.5555555555555556,
              "#d8576b"
             ],
             [
              0.6666666666666666,
              "#ed7953"
             ],
             [
              0.7777777777777778,
              "#fb9f3a"
             ],
             [
              0.8888888888888888,
              "#fdca26"
             ],
             [
              1,
              "#f0f921"
             ]
            ],
            "type": "histogram2d"
           }
          ],
          "histogram2dcontour": [
           {
            "colorbar": {
             "outlinewidth": 0,
             "ticks": ""
            },
            "colorscale": [
             [
              0,
              "#0d0887"
             ],
             [
              0.1111111111111111,
              "#46039f"
             ],
             [
              0.2222222222222222,
              "#7201a8"
             ],
             [
              0.3333333333333333,
              "#9c179e"
             ],
             [
              0.4444444444444444,
              "#bd3786"
             ],
             [
              0.5555555555555556,
              "#d8576b"
             ],
             [
              0.6666666666666666,
              "#ed7953"
             ],
             [
              0.7777777777777778,
              "#fb9f3a"
             ],
             [
              0.8888888888888888,
              "#fdca26"
             ],
             [
              1,
              "#f0f921"
             ]
            ],
            "type": "histogram2dcontour"
           }
          ],
          "mesh3d": [
           {
            "colorbar": {
             "outlinewidth": 0,
             "ticks": ""
            },
            "type": "mesh3d"
           }
          ],
          "parcoords": [
           {
            "line": {
             "colorbar": {
              "outlinewidth": 0,
              "ticks": ""
             }
            },
            "type": "parcoords"
           }
          ],
          "pie": [
           {
            "automargin": true,
            "type": "pie"
           }
          ],
          "scatter": [
           {
            "marker": {
             "colorbar": {
              "outlinewidth": 0,
              "ticks": ""
             }
            },
            "type": "scatter"
           }
          ],
          "scatter3d": [
           {
            "line": {
             "colorbar": {
              "outlinewidth": 0,
              "ticks": ""
             }
            },
            "marker": {
             "colorbar": {
              "outlinewidth": 0,
              "ticks": ""
             }
            },
            "type": "scatter3d"
           }
          ],
          "scattercarpet": [
           {
            "marker": {
             "colorbar": {
              "outlinewidth": 0,
              "ticks": ""
             }
            },
            "type": "scattercarpet"
           }
          ],
          "scattergeo": [
           {
            "marker": {
             "colorbar": {
              "outlinewidth": 0,
              "ticks": ""
             }
            },
            "type": "scattergeo"
           }
          ],
          "scattergl": [
           {
            "marker": {
             "colorbar": {
              "outlinewidth": 0,
              "ticks": ""
             }
            },
            "type": "scattergl"
           }
          ],
          "scattermapbox": [
           {
            "marker": {
             "colorbar": {
              "outlinewidth": 0,
              "ticks": ""
             }
            },
            "type": "scattermapbox"
           }
          ],
          "scatterpolar": [
           {
            "marker": {
             "colorbar": {
              "outlinewidth": 0,
              "ticks": ""
             }
            },
            "type": "scatterpolar"
           }
          ],
          "scatterpolargl": [
           {
            "marker": {
             "colorbar": {
              "outlinewidth": 0,
              "ticks": ""
             }
            },
            "type": "scatterpolargl"
           }
          ],
          "scatterternary": [
           {
            "marker": {
             "colorbar": {
              "outlinewidth": 0,
              "ticks": ""
             }
            },
            "type": "scatterternary"
           }
          ],
          "surface": [
           {
            "colorbar": {
             "outlinewidth": 0,
             "ticks": ""
            },
            "colorscale": [
             [
              0,
              "#0d0887"
             ],
             [
              0.1111111111111111,
              "#46039f"
             ],
             [
              0.2222222222222222,
              "#7201a8"
             ],
             [
              0.3333333333333333,
              "#9c179e"
             ],
             [
              0.4444444444444444,
              "#bd3786"
             ],
             [
              0.5555555555555556,
              "#d8576b"
             ],
             [
              0.6666666666666666,
              "#ed7953"
             ],
             [
              0.7777777777777778,
              "#fb9f3a"
             ],
             [
              0.8888888888888888,
              "#fdca26"
             ],
             [
              1,
              "#f0f921"
             ]
            ],
            "type": "surface"
           }
          ],
          "table": [
           {
            "cells": {
             "fill": {
              "color": "#EBF0F8"
             },
             "line": {
              "color": "white"
             }
            },
            "header": {
             "fill": {
              "color": "#C8D4E3"
             },
             "line": {
              "color": "white"
             }
            },
            "type": "table"
           }
          ]
         },
         "layout": {
          "annotationdefaults": {
           "arrowcolor": "#2a3f5f",
           "arrowhead": 0,
           "arrowwidth": 1
          },
          "autotypenumbers": "strict",
          "coloraxis": {
           "colorbar": {
            "outlinewidth": 0,
            "ticks": ""
           }
          },
          "colorscale": {
           "diverging": [
            [
             0,
             "#8e0152"
            ],
            [
             0.1,
             "#c51b7d"
            ],
            [
             0.2,
             "#de77ae"
            ],
            [
             0.3,
             "#f1b6da"
            ],
            [
             0.4,
             "#fde0ef"
            ],
            [
             0.5,
             "#f7f7f7"
            ],
            [
             0.6,
             "#e6f5d0"
            ],
            [
             0.7,
             "#b8e186"
            ],
            [
             0.8,
             "#7fbc41"
            ],
            [
             0.9,
             "#4d9221"
            ],
            [
             1,
             "#276419"
            ]
           ],
           "sequential": [
            [
             0,
             "#0d0887"
            ],
            [
             0.1111111111111111,
             "#46039f"
            ],
            [
             0.2222222222222222,
             "#7201a8"
            ],
            [
             0.3333333333333333,
             "#9c179e"
            ],
            [
             0.4444444444444444,
             "#bd3786"
            ],
            [
             0.5555555555555556,
             "#d8576b"
            ],
            [
             0.6666666666666666,
             "#ed7953"
            ],
            [
             0.7777777777777778,
             "#fb9f3a"
            ],
            [
             0.8888888888888888,
             "#fdca26"
            ],
            [
             1,
             "#f0f921"
            ]
           ],
           "sequentialminus": [
            [
             0,
             "#0d0887"
            ],
            [
             0.1111111111111111,
             "#46039f"
            ],
            [
             0.2222222222222222,
             "#7201a8"
            ],
            [
             0.3333333333333333,
             "#9c179e"
            ],
            [
             0.4444444444444444,
             "#bd3786"
            ],
            [
             0.5555555555555556,
             "#d8576b"
            ],
            [
             0.6666666666666666,
             "#ed7953"
            ],
            [
             0.7777777777777778,
             "#fb9f3a"
            ],
            [
             0.8888888888888888,
             "#fdca26"
            ],
            [
             1,
             "#f0f921"
            ]
           ]
          },
          "colorway": [
           "#636efa",
           "#EF553B",
           "#00cc96",
           "#ab63fa",
           "#FFA15A",
           "#19d3f3",
           "#FF6692",
           "#B6E880",
           "#FF97FF",
           "#FECB52"
          ],
          "font": {
           "color": "#2a3f5f"
          },
          "geo": {
           "bgcolor": "white",
           "lakecolor": "white",
           "landcolor": "#E5ECF6",
           "showlakes": true,
           "showland": true,
           "subunitcolor": "white"
          },
          "hoverlabel": {
           "align": "left"
          },
          "hovermode": "closest",
          "mapbox": {
           "style": "light"
          },
          "paper_bgcolor": "white",
          "plot_bgcolor": "#E5ECF6",
          "polar": {
           "angularaxis": {
            "gridcolor": "white",
            "linecolor": "white",
            "ticks": ""
           },
           "bgcolor": "#E5ECF6",
           "radialaxis": {
            "gridcolor": "white",
            "linecolor": "white",
            "ticks": ""
           }
          },
          "scene": {
           "xaxis": {
            "backgroundcolor": "#E5ECF6",
            "gridcolor": "white",
            "gridwidth": 2,
            "linecolor": "white",
            "showbackground": true,
            "ticks": "",
            "zerolinecolor": "white"
           },
           "yaxis": {
            "backgroundcolor": "#E5ECF6",
            "gridcolor": "white",
            "gridwidth": 2,
            "linecolor": "white",
            "showbackground": true,
            "ticks": "",
            "zerolinecolor": "white"
           },
           "zaxis": {
            "backgroundcolor": "#E5ECF6",
            "gridcolor": "white",
            "gridwidth": 2,
            "linecolor": "white",
            "showbackground": true,
            "ticks": "",
            "zerolinecolor": "white"
           }
          },
          "shapedefaults": {
           "line": {
            "color": "#2a3f5f"
           }
          },
          "ternary": {
           "aaxis": {
            "gridcolor": "white",
            "linecolor": "white",
            "ticks": ""
           },
           "baxis": {
            "gridcolor": "white",
            "linecolor": "white",
            "ticks": ""
           },
           "bgcolor": "#E5ECF6",
           "caxis": {
            "gridcolor": "white",
            "linecolor": "white",
            "ticks": ""
           }
          },
          "title": {
           "x": 0.05
          },
          "xaxis": {
           "automargin": true,
           "gridcolor": "white",
           "linecolor": "white",
           "ticks": "",
           "title": {
            "standoff": 15
           },
           "zerolinecolor": "white",
           "zerolinewidth": 2
          },
          "yaxis": {
           "automargin": true,
           "gridcolor": "white",
           "linecolor": "white",
           "ticks": "",
           "title": {
            "standoff": 15
           },
           "zerolinecolor": "white",
           "zerolinewidth": 2
          }
         }
        },
        "title": {
         "font": {
          "color": "#4D5663"
         }
        },
        "xaxis": {
         "gridcolor": "#E1E5ED",
         "showgrid": true,
         "tickfont": {
          "color": "#4D5663"
         },
         "title": {
          "font": {
           "color": "#4D5663"
          },
          "text": ""
         },
         "zerolinecolor": "#E1E5ED"
        },
        "yaxis": {
         "gridcolor": "#E1E5ED",
         "showgrid": true,
         "tickfont": {
          "color": "#4D5663"
         },
         "title": {
          "font": {
           "color": "#4D5663"
          },
          "text": ""
         },
         "zerolinecolor": "#E1E5ED"
        }
       }
      },
      "text/html": "<div>                            <div id=\"517e004e-7a69-4ef0-a6ae-cedd99cbbd90\" class=\"plotly-graph-div\" style=\"height:525px; width:100%;\"></div>            <script type=\"text/javascript\">                require([\"plotly\"], function(Plotly) {                    window.PLOTLYENV=window.PLOTLYENV || {};\n                    window.PLOTLYENV.BASE_URL='https://plot.ly';                                    if (document.getElementById(\"517e004e-7a69-4ef0-a6ae-cedd99cbbd90\")) {                    Plotly.newPlot(                        \"517e004e-7a69-4ef0-a6ae-cedd99cbbd90\",                        [{\"marker\": {\"color\": \"rgba(255, 153, 51, 0.6)\", \"line\": {\"color\": \"rgba(255, 153, 51, 1.0)\", \"width\": 1}}, \"name\": \"None\", \"orientation\": \"v\", \"text\": \"\", \"type\": \"bar\", \"x\": [\"A\", \"B\", \"C\", \"D\"], \"y\": [100, 100, 100, 100]}],                        {\"legend\": {\"bgcolor\": \"#F5F6F9\", \"font\": {\"color\": \"#4D5663\"}}, \"paper_bgcolor\": \"#F5F6F9\", \"plot_bgcolor\": \"#F5F6F9\", \"template\": {\"data\": {\"bar\": [{\"error_x\": {\"color\": \"#2a3f5f\"}, \"error_y\": {\"color\": \"#2a3f5f\"}, \"marker\": {\"line\": {\"color\": \"#E5ECF6\", \"width\": 0.5}}, \"type\": \"bar\"}], \"barpolar\": [{\"marker\": {\"line\": {\"color\": \"#E5ECF6\", \"width\": 0.5}}, \"type\": \"barpolar\"}], \"carpet\": [{\"aaxis\": {\"endlinecolor\": \"#2a3f5f\", \"gridcolor\": \"white\", \"linecolor\": \"white\", \"minorgridcolor\": \"white\", \"startlinecolor\": \"#2a3f5f\"}, \"baxis\": {\"endlinecolor\": \"#2a3f5f\", \"gridcolor\": \"white\", \"linecolor\": \"white\", \"minorgridcolor\": \"white\", \"startlinecolor\": \"#2a3f5f\"}, \"type\": \"carpet\"}], \"choropleth\": [{\"colorbar\": {\"outlinewidth\": 0, \"ticks\": \"\"}, \"type\": \"choropleth\"}], \"contour\": [{\"colorbar\": {\"outlinewidth\": 0, \"ticks\": \"\"}, \"colorscale\": [[0.0, \"#0d0887\"], [0.1111111111111111, \"#46039f\"], [0.2222222222222222, \"#7201a8\"], [0.3333333333333333, \"#9c179e\"], [0.4444444444444444, \"#bd3786\"], [0.5555555555555556, \"#d8576b\"], [0.6666666666666666, \"#ed7953\"], [0.7777777777777778, \"#fb9f3a\"], [0.8888888888888888, \"#fdca26\"], [1.0, \"#f0f921\"]], \"type\": \"contour\"}], \"contourcarpet\": [{\"colorbar\": {\"outlinewidth\": 0, \"ticks\": \"\"}, \"type\": \"contourcarpet\"}], \"heatmap\": [{\"colorbar\": {\"outlinewidth\": 0, \"ticks\": \"\"}, \"colorscale\": [[0.0, \"#0d0887\"], [0.1111111111111111, \"#46039f\"], [0.2222222222222222, \"#7201a8\"], [0.3333333333333333, \"#9c179e\"], [0.4444444444444444, \"#bd3786\"], [0.5555555555555556, \"#d8576b\"], [0.6666666666666666, \"#ed7953\"], [0.7777777777777778, \"#fb9f3a\"], [0.8888888888888888, \"#fdca26\"], [1.0, \"#f0f921\"]], \"type\": \"heatmap\"}], \"heatmapgl\": [{\"colorbar\": {\"outlinewidth\": 0, \"ticks\": \"\"}, \"colorscale\": [[0.0, \"#0d0887\"], [0.1111111111111111, \"#46039f\"], [0.2222222222222222, \"#7201a8\"], [0.3333333333333333, \"#9c179e\"], [0.4444444444444444, \"#bd3786\"], [0.5555555555555556, \"#d8576b\"], [0.6666666666666666, \"#ed7953\"], [0.7777777777777778, \"#fb9f3a\"], [0.8888888888888888, \"#fdca26\"], [1.0, \"#f0f921\"]], \"type\": \"heatmapgl\"}], \"histogram\": [{\"marker\": {\"colorbar\": {\"outlinewidth\": 0, \"ticks\": \"\"}}, \"type\": \"histogram\"}], \"histogram2d\": [{\"colorbar\": {\"outlinewidth\": 0, \"ticks\": \"\"}, \"colorscale\": [[0.0, \"#0d0887\"], [0.1111111111111111, \"#46039f\"], [0.2222222222222222, \"#7201a8\"], [0.3333333333333333, \"#9c179e\"], [0.4444444444444444, \"#bd3786\"], [0.5555555555555556, \"#d8576b\"], [0.6666666666666666, \"#ed7953\"], [0.7777777777777778, \"#fb9f3a\"], [0.8888888888888888, \"#fdca26\"], [1.0, \"#f0f921\"]], \"type\": \"histogram2d\"}], \"histogram2dcontour\": [{\"colorbar\": {\"outlinewidth\": 0, \"ticks\": \"\"}, \"colorscale\": [[0.0, \"#0d0887\"], [0.1111111111111111, \"#46039f\"], [0.2222222222222222, \"#7201a8\"], [0.3333333333333333, \"#9c179e\"], [0.4444444444444444, \"#bd3786\"], [0.5555555555555556, \"#d8576b\"], [0.6666666666666666, \"#ed7953\"], [0.7777777777777778, \"#fb9f3a\"], [0.8888888888888888, \"#fdca26\"], [1.0, \"#f0f921\"]], \"type\": \"histogram2dcontour\"}], \"mesh3d\": [{\"colorbar\": {\"outlinewidth\": 0, \"ticks\": \"\"}, \"type\": \"mesh3d\"}], \"parcoords\": [{\"line\": {\"colorbar\": {\"outlinewidth\": 0, \"ticks\": \"\"}}, \"type\": \"parcoords\"}], \"pie\": [{\"automargin\": true, \"type\": \"pie\"}], \"scatter\": [{\"marker\": {\"colorbar\": {\"outlinewidth\": 0, \"ticks\": \"\"}}, \"type\": \"scatter\"}], \"scatter3d\": [{\"line\": {\"colorbar\": {\"outlinewidth\": 0, \"ticks\": \"\"}}, \"marker\": {\"colorbar\": {\"outlinewidth\": 0, \"ticks\": \"\"}}, \"type\": \"scatter3d\"}], \"scattercarpet\": [{\"marker\": {\"colorbar\": {\"outlinewidth\": 0, \"ticks\": \"\"}}, \"type\": \"scattercarpet\"}], \"scattergeo\": [{\"marker\": {\"colorbar\": {\"outlinewidth\": 0, \"ticks\": \"\"}}, \"type\": \"scattergeo\"}], \"scattergl\": [{\"marker\": {\"colorbar\": {\"outlinewidth\": 0, \"ticks\": \"\"}}, \"type\": \"scattergl\"}], \"scattermapbox\": [{\"marker\": {\"colorbar\": {\"outlinewidth\": 0, \"ticks\": \"\"}}, \"type\": \"scattermapbox\"}], \"scatterpolar\": [{\"marker\": {\"colorbar\": {\"outlinewidth\": 0, \"ticks\": \"\"}}, \"type\": \"scatterpolar\"}], \"scatterpolargl\": [{\"marker\": {\"colorbar\": {\"outlinewidth\": 0, \"ticks\": \"\"}}, \"type\": \"scatterpolargl\"}], \"scatterternary\": [{\"marker\": {\"colorbar\": {\"outlinewidth\": 0, \"ticks\": \"\"}}, \"type\": \"scatterternary\"}], \"surface\": [{\"colorbar\": {\"outlinewidth\": 0, \"ticks\": \"\"}, \"colorscale\": [[0.0, \"#0d0887\"], [0.1111111111111111, \"#46039f\"], [0.2222222222222222, \"#7201a8\"], [0.3333333333333333, \"#9c179e\"], [0.4444444444444444, \"#bd3786\"], [0.5555555555555556, \"#d8576b\"], [0.6666666666666666, \"#ed7953\"], [0.7777777777777778, \"#fb9f3a\"], [0.8888888888888888, \"#fdca26\"], [1.0, \"#f0f921\"]], \"type\": \"surface\"}], \"table\": [{\"cells\": {\"fill\": {\"color\": \"#EBF0F8\"}, \"line\": {\"color\": \"white\"}}, \"header\": {\"fill\": {\"color\": \"#C8D4E3\"}, \"line\": {\"color\": \"white\"}}, \"type\": \"table\"}]}, \"layout\": {\"annotationdefaults\": {\"arrowcolor\": \"#2a3f5f\", \"arrowhead\": 0, \"arrowwidth\": 1}, \"autotypenumbers\": \"strict\", \"coloraxis\": {\"colorbar\": {\"outlinewidth\": 0, \"ticks\": \"\"}}, \"colorscale\": {\"diverging\": [[0, \"#8e0152\"], [0.1, \"#c51b7d\"], [0.2, \"#de77ae\"], [0.3, \"#f1b6da\"], [0.4, \"#fde0ef\"], [0.5, \"#f7f7f7\"], [0.6, \"#e6f5d0\"], [0.7, \"#b8e186\"], [0.8, \"#7fbc41\"], [0.9, \"#4d9221\"], [1, \"#276419\"]], \"sequential\": [[0.0, \"#0d0887\"], [0.1111111111111111, \"#46039f\"], [0.2222222222222222, \"#7201a8\"], [0.3333333333333333, \"#9c179e\"], [0.4444444444444444, \"#bd3786\"], [0.5555555555555556, \"#d8576b\"], [0.6666666666666666, \"#ed7953\"], [0.7777777777777778, \"#fb9f3a\"], [0.8888888888888888, \"#fdca26\"], [1.0, \"#f0f921\"]], \"sequentialminus\": [[0.0, \"#0d0887\"], [0.1111111111111111, \"#46039f\"], [0.2222222222222222, \"#7201a8\"], [0.3333333333333333, \"#9c179e\"], [0.4444444444444444, \"#bd3786\"], [0.5555555555555556, \"#d8576b\"], [0.6666666666666666, \"#ed7953\"], [0.7777777777777778, \"#fb9f3a\"], [0.8888888888888888, \"#fdca26\"], [1.0, \"#f0f921\"]]}, \"colorway\": [\"#636efa\", \"#EF553B\", \"#00cc96\", \"#ab63fa\", \"#FFA15A\", \"#19d3f3\", \"#FF6692\", \"#B6E880\", \"#FF97FF\", \"#FECB52\"], \"font\": {\"color\": \"#2a3f5f\"}, \"geo\": {\"bgcolor\": \"white\", \"lakecolor\": \"white\", \"landcolor\": \"#E5ECF6\", \"showlakes\": true, \"showland\": true, \"subunitcolor\": \"white\"}, \"hoverlabel\": {\"align\": \"left\"}, \"hovermode\": \"closest\", \"mapbox\": {\"style\": \"light\"}, \"paper_bgcolor\": \"white\", \"plot_bgcolor\": \"#E5ECF6\", \"polar\": {\"angularaxis\": {\"gridcolor\": \"white\", \"linecolor\": \"white\", \"ticks\": \"\"}, \"bgcolor\": \"#E5ECF6\", \"radialaxis\": {\"gridcolor\": \"white\", \"linecolor\": \"white\", \"ticks\": \"\"}}, \"scene\": {\"xaxis\": {\"backgroundcolor\": \"#E5ECF6\", \"gridcolor\": \"white\", \"gridwidth\": 2, \"linecolor\": \"white\", \"showbackground\": true, \"ticks\": \"\", \"zerolinecolor\": \"white\"}, \"yaxis\": {\"backgroundcolor\": \"#E5ECF6\", \"gridcolor\": \"white\", \"gridwidth\": 2, \"linecolor\": \"white\", \"showbackground\": true, \"ticks\": \"\", \"zerolinecolor\": \"white\"}, \"zaxis\": {\"backgroundcolor\": \"#E5ECF6\", \"gridcolor\": \"white\", \"gridwidth\": 2, \"linecolor\": \"white\", \"showbackground\": true, \"ticks\": \"\", \"zerolinecolor\": \"white\"}}, \"shapedefaults\": {\"line\": {\"color\": \"#2a3f5f\"}}, \"ternary\": {\"aaxis\": {\"gridcolor\": \"white\", \"linecolor\": \"white\", \"ticks\": \"\"}, \"baxis\": {\"gridcolor\": \"white\", \"linecolor\": \"white\", \"ticks\": \"\"}, \"bgcolor\": \"#E5ECF6\", \"caxis\": {\"gridcolor\": \"white\", \"linecolor\": \"white\", \"ticks\": \"\"}}, \"title\": {\"x\": 0.05}, \"xaxis\": {\"automargin\": true, \"gridcolor\": \"white\", \"linecolor\": \"white\", \"ticks\": \"\", \"title\": {\"standoff\": 15}, \"zerolinecolor\": \"white\", \"zerolinewidth\": 2}, \"yaxis\": {\"automargin\": true, \"gridcolor\": \"white\", \"linecolor\": \"white\", \"ticks\": \"\", \"title\": {\"standoff\": 15}, \"zerolinecolor\": \"white\", \"zerolinewidth\": 2}}}, \"title\": {\"font\": {\"color\": \"#4D5663\"}}, \"xaxis\": {\"gridcolor\": \"#E1E5ED\", \"showgrid\": true, \"tickfont\": {\"color\": \"#4D5663\"}, \"title\": {\"font\": {\"color\": \"#4D5663\"}, \"text\": \"\"}, \"zerolinecolor\": \"#E1E5ED\"}, \"yaxis\": {\"gridcolor\": \"#E1E5ED\", \"showgrid\": true, \"tickfont\": {\"color\": \"#4D5663\"}, \"title\": {\"font\": {\"color\": \"#4D5663\"}, \"text\": \"\"}, \"zerolinecolor\": \"#E1E5ED\"}},                        {\"showLink\": true, \"linkText\": \"Export to plot.ly\", \"plotlyServerURL\": \"https://plot.ly\", \"responsive\": true}                    ).then(function(){\n                            \nvar gd = document.getElementById('517e004e-7a69-4ef0-a6ae-cedd99cbbd90');\nvar x = new MutationObserver(function (mutations, observer) {{\n        var display = window.getComputedStyle(gd).display;\n        if (!display || display === 'none') {{\n            console.log([gd, 'removed!']);\n            Plotly.purge(gd);\n            observer.disconnect();\n        }}\n}});\n\n// Listen for the removal of the full notebook cells\nvar notebookContainer = gd.closest('#notebook-container');\nif (notebookContainer) {{\n    x.observe(notebookContainer, {childList: true});\n}}\n\n// Listen for the clearing of the current output cell\nvar outputEl = gd.closest('.output');\nif (outputEl) {{\n    x.observe(outputEl, {childList: true});\n}}\n\n                        })                };                });            </script>        </div>"
     },
     "metadata": {}
    }
   ],
   "source": [
    "# via add count function in dataframe\n",
    "df1.count().iplot(kind = 'bar')"
   ]
  },
  {
   "source": [
    "## Boxplots"
   ],
   "cell_type": "markdown",
   "metadata": {}
  },
  {
   "cell_type": "code",
   "execution_count": 18,
   "metadata": {},
   "outputs": [
    {
     "output_type": "display_data",
     "data": {
      "application/vnd.plotly.v1+json": {
       "config": {
        "linkText": "Export to plot.ly",
        "plotlyServerURL": "https://plot.ly",
        "showLink": true
       },
       "data": [
        {
         "boxpoints": false,
         "line": {
          "width": 1.3
         },
         "marker": {
          "color": "rgba(255, 153, 51, 1.0)"
         },
         "name": "A",
         "orientation": "v",
         "type": "box",
         "y": [
          -1.6034591679105978,
          0.6744517866256291,
          0.16873903499098108,
          -0.7120838114462832,
          0.23617682794395775,
          1.180677289914722,
          -0.9243405825078829,
          0.3249744142267152,
          0.24123007955726194,
          -1.371775940963692,
          2.0299735784534514,
          -1.638278538950703,
          -0.35137910597764804,
          0.000667556043875359,
          -2.100087178780612,
          -0.4528852477762303,
          -1.0698827410677296,
          -0.22569897519992077,
          -1.0377256973062055,
          -0.40533486416227726,
          0.6830430283391952,
          -0.33966680639046704,
          -0.8669563151471675,
          0.527643417645511,
          -0.0833286510642639,
          0.13548161732522387,
          0.7223255346457207,
          -0.8175726858881641,
          1.374045254814651,
          -0.5656973754914506,
          0.39140389155072197,
          0.16070195849060673,
          -0.1861179756096024,
          -0.5439910419446394,
          -0.7872529205941025,
          1.3521531710461365,
          -0.969493749960735,
          -0.4360024968703549,
          -0.11854777642838966,
          -1.8023152962452222,
          -1.7570950411749429,
          -0.3551025680128556,
          -0.9730138683284136,
          1.7174009466336264,
          -1.0403124882430377,
          0.8946881797652224,
          -0.481238013126997,
          -0.1801078735119504,
          -0.3908161297782836,
          0.4211820003945261,
          0.8939246652280742,
          0.29982529050087176,
          -0.19053552055843878,
          0.9122188779991189,
          0.02791823589603473,
          -2.049843605469713,
          1.8451647391505106,
          1.835826771883997,
          0.4514046121545814,
          -1.3153479849431113,
          0.6039372964302147,
          0.1967032275194514,
          -0.19718733734199645,
          -1.0424453626339572,
          -1.291632485177539,
          0.08021453833866193,
          0.8381689241093387,
          -1.2721892786100386,
          0.3732178168113568,
          0.05276688734700252,
          -1.967496885033359,
          0.9023845846590755,
          0.24001744040925296,
          -0.05429170252464368,
          -0.49807948253119694,
          -1.452383083045118,
          -0.9418576074293369,
          -0.4523600116602419,
          0.6591749020229192,
          -0.48515217656054904,
          0.6035086074078894,
          -0.5338885854100055,
          -0.9455132299224919,
          -0.9184469295082123,
          -0.482512232189353,
          1.495957404481226,
          -0.11809049112544505,
          0.3194610816126905,
          -1.2852738670679296,
          -0.5933666650741988,
          1.7904157188996117,
          0.4052902765873968,
          1.8775364158770929,
          0.01327468426470117,
          -2.2108064327344157,
          0.4547179081726537,
          -0.5095154977877799,
          -0.9630339148296717,
          -1.1623592880536002,
          -1.1754650048720257
         ]
        },
        {
         "boxpoints": false,
         "line": {
          "width": 1.3
         },
         "marker": {
          "color": "rgba(55, 128, 191, 1.0)"
         },
         "name": "B",
         "orientation": "v",
         "type": "box",
         "y": [
          0.8192336134801987,
          0.7602482743753068,
          0.6294100028786074,
          0.03904283596140118,
          -0.20300240870303762,
          -0.4217753477618602,
          -0.005137086974361876,
          -0.6026416600652672,
          -0.519906165020211,
          0.7206112252343626,
          0.20239306106194205,
          0.24824347008781414,
          -0.3632000207111838,
          0.5246297345959616,
          -0.8406442737890164,
          -0.30471587593055305,
          0.11002914869335803,
          -0.7770599281428845,
          -1.041800451056623,
          -0.9368605859558401,
          1.7229026947754391,
          -0.3620596398305359,
          0.4949821171328368,
          -1.5512318236277358,
          1.4494671490438522,
          -0.8823861526943375,
          -0.22564121684055144,
          -0.7154859681767155,
          -1.0820544326577435,
          -0.15522332326670543,
          -0.7164670995786423,
          0.2804719336161431,
          -0.2051279121244869,
          -1.5782948712181395,
          -1.6263700275222348,
          0.7739434861128113,
          1.3095508145895705,
          -1.2225798792362865,
          1.121663384493526,
          -1.4332480938692411,
          0.9030413351881482,
          0.006778345110963212,
          -0.23949189864348985,
          -0.04759875800248899,
          1.4895830215386634,
          0.34389886769741146,
          0.25995771804344314,
          1.7315562384553185,
          1.8352822475616812,
          -0.5177595834240207,
          1.8250101308281006,
          0.8931273429782042,
          0.653976849766924,
          0.2047316783716681,
          0.3021811973823506,
          -2.2920227763677037,
          0.3262921101530418,
          -0.3354101817456763,
          -1.2533302192795022,
          0.11168265476850534,
          -1.0357739867335003,
          0.528326646172122,
          0.4110942155465323,
          0.5074870135166899,
          -0.8819865735203064,
          -1.3814733121407319,
          0.022845539968953,
          -0.28094217851010267,
          0.48606511891207504,
          1.7050928660376112,
          -0.5609434522847258,
          -0.3087151772829456,
          -0.21422050977795287,
          0.732410209205975,
          -0.896156752315307,
          -0.748927157879648,
          0.006314657490310105,
          -1.1216573254922337,
          -0.5118157861492615,
          0.36209901117936405,
          -1.0880514683970912,
          0.46632807066648674,
          -0.022897289258460102,
          1.2856654258471698,
          -0.24579209518601375,
          -0.31100397594352286,
          0.0904341764974058,
          -1.1641298986673796,
          0.13704345571697643,
          0.1676107315041115,
          -0.3185357210445539,
          -0.6292950421730465,
          1.6062211256891819,
          -0.066381667278134,
          0.7151003365735614,
          0.3931328546294085,
          0.39143520976327495,
          -0.6355055797809678,
          0.09861609523459006,
          -1.2784322496774305
         ]
        },
        {
         "boxpoints": false,
         "line": {
          "width": 1.3
         },
         "marker": {
          "color": "rgba(50, 171, 96, 1.0)"
         },
         "name": "C",
         "orientation": "v",
         "type": "box",
         "y": [
          2.413773226467551,
          -0.7128641051383859,
          -0.4644136139558775,
          -0.01595694663080215,
          -1.0650640833764218,
          -0.48824719587425885,
          -0.46792702899628724,
          0.7935768216181784,
          -1.2882522941089907,
          1.1808870677203653,
          0.29037826101094666,
          -0.06273209145717351,
          0.020915860572536787,
          0.3559134718066243,
          -0.23828516601864974,
          0.2235282271400536,
          0.19797177200515284,
          1.8154376537683254,
          2.2848843666910827,
          1.1551806091037926,
          -0.3699746848112576,
          1.435658491619278,
          -1.028800188537578,
          0.6939205836708525,
          -0.40461125110826474,
          0.3327556578954046,
          -1.12640609571732,
          -2.6860447566331986,
          -0.9179074972194138,
          -1.06704343280252,
          0.8589691278525239,
          1.6668434809952644,
          -1.8254270265450483,
          -0.2336040815855926,
          -0.8741850919768382,
          0.5611318101312296,
          -0.30844936946133,
          -2.0734330772879583,
          0.04932456760975603,
          -0.4400844067977491,
          -2.584058318333577,
          0.30613786549649014,
          -0.5441577295913987,
          1.5392055423948425,
          -0.6572771953504218,
          -0.9186896963179999,
          0.43104549104002376,
          0.5560132829638029,
          0.4295007204552606,
          0.4296060913696705,
          0.2560402303645244,
          1.208248313929545,
          -1.7707832610232104,
          1.3897189518615294,
          1.0320936445448918,
          0.02004439306689833,
          -0.9776711761697071,
          0.2942035576612603,
          1.8119180949403657,
          -0.3950788056218137,
          -0.910213972231028,
          -1.1739349903824625,
          -0.12564992211094936,
          -0.6755373400151659,
          -0.09944943527808983,
          -0.3425637260077509,
          -1.390472064931238,
          -2.605239681869079,
          -0.4120934341872476,
          -0.1433111350149596,
          -0.49250371960794603,
          -0.11038227569364245,
          -0.09476737702784671,
          1.8538864184662776,
          -0.4262021828358027,
          1.4510023307478104,
          -0.6586291189953202,
          0.9627447585438353,
          -1.3102489008195526,
          0.8263604082643905,
          0.9052797697023395,
          1.422667165070258,
          -1.3777177729561392,
          -0.4607103704274852,
          0.038783419380216726,
          0.4961343068085089,
          -0.257350508592742,
          1.912895753556617,
          0.4884316808865898,
          -0.13281473817269865,
          0.78731472054916,
          -2.474027384823861,
          0.26065077866571856,
          -1.6826622183155961,
          0.8624958193966548,
          1.1999959758197845,
          -1.0252157379675841,
          -0.431404358816828,
          -0.1830837371829216,
          1.3727642127169377
         ]
        },
        {
         "boxpoints": false,
         "line": {
          "width": 1.3
         },
         "marker": {
          "color": "rgba(128, 0, 128, 1.0)"
         },
         "name": "D",
         "orientation": "v",
         "type": "box",
         "y": [
          0.007401829489414258,
          -1.4370701708241351,
          1.8591857898260413,
          0.3234628984355769,
          -1.0186827699736536,
          -2.5029781942582536,
          -1.3170221417895134,
          1.2842493614367703,
          1.3176561190796041,
          -1.51984636555648,
          -0.4568373373257365,
          0.4917231453636013,
          0.6297324020840347,
          0.6800046087257194,
          -1.6879043349963478,
          -1.7184440811410282,
          -0.6629893158933756,
          -0.2990734559154911,
          0.9273377980104158,
          0.7579737594959451,
          0.17464062389667698,
          -0.5407570581589365,
          1.1910778044072616,
          1.7628648760907555,
          -0.6551421684049624,
          1.4492782835504971,
          -1.740609136786402,
          0.28395166043367237,
          0.2786932639454531,
          0.41404403872693646,
          0.21506270134800523,
          0.8505682644777229,
          -0.5314201293607476,
          0.5557896304038229,
          -0.365296760714232,
          -2.217061474571356,
          0.9748013312221652,
          -0.34170981426661173,
          0.6329261017503135,
          -1.6401310490359202,
          0.3680781631778554,
          -1.285346047515693,
          -1.2285046196339122,
          1.3173483989518635,
          -0.22844460194279967,
          -1.217582191747272,
          0.037821191174498336,
          -1.3107140382302156,
          0.3702429826892917,
          -0.157923202464818,
          -0.8234566045410443,
          1.4173789736564744,
          1.5935473741277102,
          0.5073315634889328,
          0.0022844246709907154,
          -0.4878625159174958,
          -0.49371361576826533,
          -0.23516513649527385,
          -0.4493622502616095,
          0.36009271890851724,
          -1.0418440464224992,
          -1.53256274128827,
          -0.41820014868909544,
          1.3907238052547535,
          -0.23434252023843363,
          -2.437667783631158,
          0.2268982172156791,
          0.7922884933261074,
          -1.0850266622940754,
          1.5220154399440695,
          -0.3829316588565574,
          2.0082340018972378,
          -0.9898848749021504,
          0.17271913719835147,
          -0.9349385955128694,
          -0.17107806906005382,
          0.7585279879634922,
          -0.3854391811891404,
          0.519953625079641,
          0.9421019207472212,
          -0.30754883829157076,
          -0.1147229354317717,
          0.2498261281442703,
          -0.15744464120196575,
          -0.42045231527794225,
          -1.627296460821743,
          0.005044118144702033,
          0.5658345085132992,
          0.6388688318264979,
          -1.3232878742686391,
          0.7465694355165938,
          1.0820018623444183,
          -0.5041788231736237,
          1.1504172122250285,
          0.9447481604950453,
          0.38513046915252636,
          1.0291157820071175,
          1.0957470204235578,
          -0.47547506159373265,
          1.0934248802476974
         ]
        }
       ],
       "layout": {
        "legend": {
         "bgcolor": "#F5F6F9",
         "font": {
          "color": "#4D5663"
         }
        },
        "paper_bgcolor": "#F5F6F9",
        "plot_bgcolor": "#F5F6F9",
        "template": {
         "data": {
          "bar": [
           {
            "error_x": {
             "color": "#2a3f5f"
            },
            "error_y": {
             "color": "#2a3f5f"
            },
            "marker": {
             "line": {
              "color": "#E5ECF6",
              "width": 0.5
             }
            },
            "type": "bar"
           }
          ],
          "barpolar": [
           {
            "marker": {
             "line": {
              "color": "#E5ECF6",
              "width": 0.5
             }
            },
            "type": "barpolar"
           }
          ],
          "carpet": [
           {
            "aaxis": {
             "endlinecolor": "#2a3f5f",
             "gridcolor": "white",
             "linecolor": "white",
             "minorgridcolor": "white",
             "startlinecolor": "#2a3f5f"
            },
            "baxis": {
             "endlinecolor": "#2a3f5f",
             "gridcolor": "white",
             "linecolor": "white",
             "minorgridcolor": "white",
             "startlinecolor": "#2a3f5f"
            },
            "type": "carpet"
           }
          ],
          "choropleth": [
           {
            "colorbar": {
             "outlinewidth": 0,
             "ticks": ""
            },
            "type": "choropleth"
           }
          ],
          "contour": [
           {
            "colorbar": {
             "outlinewidth": 0,
             "ticks": ""
            },
            "colorscale": [
             [
              0,
              "#0d0887"
             ],
             [
              0.1111111111111111,
              "#46039f"
             ],
             [
              0.2222222222222222,
              "#7201a8"
             ],
             [
              0.3333333333333333,
              "#9c179e"
             ],
             [
              0.4444444444444444,
              "#bd3786"
             ],
             [
              0.5555555555555556,
              "#d8576b"
             ],
             [
              0.6666666666666666,
              "#ed7953"
             ],
             [
              0.7777777777777778,
              "#fb9f3a"
             ],
             [
              0.8888888888888888,
              "#fdca26"
             ],
             [
              1,
              "#f0f921"
             ]
            ],
            "type": "contour"
           }
          ],
          "contourcarpet": [
           {
            "colorbar": {
             "outlinewidth": 0,
             "ticks": ""
            },
            "type": "contourcarpet"
           }
          ],
          "heatmap": [
           {
            "colorbar": {
             "outlinewidth": 0,
             "ticks": ""
            },
            "colorscale": [
             [
              0,
              "#0d0887"
             ],
             [
              0.1111111111111111,
              "#46039f"
             ],
             [
              0.2222222222222222,
              "#7201a8"
             ],
             [
              0.3333333333333333,
              "#9c179e"
             ],
             [
              0.4444444444444444,
              "#bd3786"
             ],
             [
              0.5555555555555556,
              "#d8576b"
             ],
             [
              0.6666666666666666,
              "#ed7953"
             ],
             [
              0.7777777777777778,
              "#fb9f3a"
             ],
             [
              0.8888888888888888,
              "#fdca26"
             ],
             [
              1,
              "#f0f921"
             ]
            ],
            "type": "heatmap"
           }
          ],
          "heatmapgl": [
           {
            "colorbar": {
             "outlinewidth": 0,
             "ticks": ""
            },
            "colorscale": [
             [
              0,
              "#0d0887"
             ],
             [
              0.1111111111111111,
              "#46039f"
             ],
             [
              0.2222222222222222,
              "#7201a8"
             ],
             [
              0.3333333333333333,
              "#9c179e"
             ],
             [
              0.4444444444444444,
              "#bd3786"
             ],
             [
              0.5555555555555556,
              "#d8576b"
             ],
             [
              0.6666666666666666,
              "#ed7953"
             ],
             [
              0.7777777777777778,
              "#fb9f3a"
             ],
             [
              0.8888888888888888,
              "#fdca26"
             ],
             [
              1,
              "#f0f921"
             ]
            ],
            "type": "heatmapgl"
           }
          ],
          "histogram": [
           {
            "marker": {
             "colorbar": {
              "outlinewidth": 0,
              "ticks": ""
             }
            },
            "type": "histogram"
           }
          ],
          "histogram2d": [
           {
            "colorbar": {
             "outlinewidth": 0,
             "ticks": ""
            },
            "colorscale": [
             [
              0,
              "#0d0887"
             ],
             [
              0.1111111111111111,
              "#46039f"
             ],
             [
              0.2222222222222222,
              "#7201a8"
             ],
             [
              0.3333333333333333,
              "#9c179e"
             ],
             [
              0.4444444444444444,
              "#bd3786"
             ],
             [
              0.5555555555555556,
              "#d8576b"
             ],
             [
              0.6666666666666666,
              "#ed7953"
             ],
             [
              0.7777777777777778,
              "#fb9f3a"
             ],
             [
              0.8888888888888888,
              "#fdca26"
             ],
             [
              1,
              "#f0f921"
             ]
            ],
            "type": "histogram2d"
           }
          ],
          "histogram2dcontour": [
           {
            "colorbar": {
             "outlinewidth": 0,
             "ticks": ""
            },
            "colorscale": [
             [
              0,
              "#0d0887"
             ],
             [
              0.1111111111111111,
              "#46039f"
             ],
             [
              0.2222222222222222,
              "#7201a8"
             ],
             [
              0.3333333333333333,
              "#9c179e"
             ],
             [
              0.4444444444444444,
              "#bd3786"
             ],
             [
              0.5555555555555556,
              "#d8576b"
             ],
             [
              0.6666666666666666,
              "#ed7953"
             ],
             [
              0.7777777777777778,
              "#fb9f3a"
             ],
             [
              0.8888888888888888,
              "#fdca26"
             ],
             [
              1,
              "#f0f921"
             ]
            ],
            "type": "histogram2dcontour"
           }
          ],
          "mesh3d": [
           {
            "colorbar": {
             "outlinewidth": 0,
             "ticks": ""
            },
            "type": "mesh3d"
           }
          ],
          "parcoords": [
           {
            "line": {
             "colorbar": {
              "outlinewidth": 0,
              "ticks": ""
             }
            },
            "type": "parcoords"
           }
          ],
          "pie": [
           {
            "automargin": true,
            "type": "pie"
           }
          ],
          "scatter": [
           {
            "marker": {
             "colorbar": {
              "outlinewidth": 0,
              "ticks": ""
             }
            },
            "type": "scatter"
           }
          ],
          "scatter3d": [
           {
            "line": {
             "colorbar": {
              "outlinewidth": 0,
              "ticks": ""
             }
            },
            "marker": {
             "colorbar": {
              "outlinewidth": 0,
              "ticks": ""
             }
            },
            "type": "scatter3d"
           }
          ],
          "scattercarpet": [
           {
            "marker": {
             "colorbar": {
              "outlinewidth": 0,
              "ticks": ""
             }
            },
            "type": "scattercarpet"
           }
          ],
          "scattergeo": [
           {
            "marker": {
             "colorbar": {
              "outlinewidth": 0,
              "ticks": ""
             }
            },
            "type": "scattergeo"
           }
          ],
          "scattergl": [
           {
            "marker": {
             "colorbar": {
              "outlinewidth": 0,
              "ticks": ""
             }
            },
            "type": "scattergl"
           }
          ],
          "scattermapbox": [
           {
            "marker": {
             "colorbar": {
              "outlinewidth": 0,
              "ticks": ""
             }
            },
            "type": "scattermapbox"
           }
          ],
          "scatterpolar": [
           {
            "marker": {
             "colorbar": {
              "outlinewidth": 0,
              "ticks": ""
             }
            },
            "type": "scatterpolar"
           }
          ],
          "scatterpolargl": [
           {
            "marker": {
             "colorbar": {
              "outlinewidth": 0,
              "ticks": ""
             }
            },
            "type": "scatterpolargl"
           }
          ],
          "scatterternary": [
           {
            "marker": {
             "colorbar": {
              "outlinewidth": 0,
              "ticks": ""
             }
            },
            "type": "scatterternary"
           }
          ],
          "surface": [
           {
            "colorbar": {
             "outlinewidth": 0,
             "ticks": ""
            },
            "colorscale": [
             [
              0,
              "#0d0887"
             ],
             [
              0.1111111111111111,
              "#46039f"
             ],
             [
              0.2222222222222222,
              "#7201a8"
             ],
             [
              0.3333333333333333,
              "#9c179e"
             ],
             [
              0.4444444444444444,
              "#bd3786"
             ],
             [
              0.5555555555555556,
              "#d8576b"
             ],
             [
              0.6666666666666666,
              "#ed7953"
             ],
             [
              0.7777777777777778,
              "#fb9f3a"
             ],
             [
              0.8888888888888888,
              "#fdca26"
             ],
             [
              1,
              "#f0f921"
             ]
            ],
            "type": "surface"
           }
          ],
          "table": [
           {
            "cells": {
             "fill": {
              "color": "#EBF0F8"
             },
             "line": {
              "color": "white"
             }
            },
            "header": {
             "fill": {
              "color": "#C8D4E3"
             },
             "line": {
              "color": "white"
             }
            },
            "type": "table"
           }
          ]
         },
         "layout": {
          "annotationdefaults": {
           "arrowcolor": "#2a3f5f",
           "arrowhead": 0,
           "arrowwidth": 1
          },
          "autotypenumbers": "strict",
          "coloraxis": {
           "colorbar": {
            "outlinewidth": 0,
            "ticks": ""
           }
          },
          "colorscale": {
           "diverging": [
            [
             0,
             "#8e0152"
            ],
            [
             0.1,
             "#c51b7d"
            ],
            [
             0.2,
             "#de77ae"
            ],
            [
             0.3,
             "#f1b6da"
            ],
            [
             0.4,
             "#fde0ef"
            ],
            [
             0.5,
             "#f7f7f7"
            ],
            [
             0.6,
             "#e6f5d0"
            ],
            [
             0.7,
             "#b8e186"
            ],
            [
             0.8,
             "#7fbc41"
            ],
            [
             0.9,
             "#4d9221"
            ],
            [
             1,
             "#276419"
            ]
           ],
           "sequential": [
            [
             0,
             "#0d0887"
            ],
            [
             0.1111111111111111,
             "#46039f"
            ],
            [
             0.2222222222222222,
             "#7201a8"
            ],
            [
             0.3333333333333333,
             "#9c179e"
            ],
            [
             0.4444444444444444,
             "#bd3786"
            ],
            [
             0.5555555555555556,
             "#d8576b"
            ],
            [
             0.6666666666666666,
             "#ed7953"
            ],
            [
             0.7777777777777778,
             "#fb9f3a"
            ],
            [
             0.8888888888888888,
             "#fdca26"
            ],
            [
             1,
             "#f0f921"
            ]
           ],
           "sequentialminus": [
            [
             0,
             "#0d0887"
            ],
            [
             0.1111111111111111,
             "#46039f"
            ],
            [
             0.2222222222222222,
             "#7201a8"
            ],
            [
             0.3333333333333333,
             "#9c179e"
            ],
            [
             0.4444444444444444,
             "#bd3786"
            ],
            [
             0.5555555555555556,
             "#d8576b"
            ],
            [
             0.6666666666666666,
             "#ed7953"
            ],
            [
             0.7777777777777778,
             "#fb9f3a"
            ],
            [
             0.8888888888888888,
             "#fdca26"
            ],
            [
             1,
             "#f0f921"
            ]
           ]
          },
          "colorway": [
           "#636efa",
           "#EF553B",
           "#00cc96",
           "#ab63fa",
           "#FFA15A",
           "#19d3f3",
           "#FF6692",
           "#B6E880",
           "#FF97FF",
           "#FECB52"
          ],
          "font": {
           "color": "#2a3f5f"
          },
          "geo": {
           "bgcolor": "white",
           "lakecolor": "white",
           "landcolor": "#E5ECF6",
           "showlakes": true,
           "showland": true,
           "subunitcolor": "white"
          },
          "hoverlabel": {
           "align": "left"
          },
          "hovermode": "closest",
          "mapbox": {
           "style": "light"
          },
          "paper_bgcolor": "white",
          "plot_bgcolor": "#E5ECF6",
          "polar": {
           "angularaxis": {
            "gridcolor": "white",
            "linecolor": "white",
            "ticks": ""
           },
           "bgcolor": "#E5ECF6",
           "radialaxis": {
            "gridcolor": "white",
            "linecolor": "white",
            "ticks": ""
           }
          },
          "scene": {
           "xaxis": {
            "backgroundcolor": "#E5ECF6",
            "gridcolor": "white",
            "gridwidth": 2,
            "linecolor": "white",
            "showbackground": true,
            "ticks": "",
            "zerolinecolor": "white"
           },
           "yaxis": {
            "backgroundcolor": "#E5ECF6",
            "gridcolor": "white",
            "gridwidth": 2,
            "linecolor": "white",
            "showbackground": true,
            "ticks": "",
            "zerolinecolor": "white"
           },
           "zaxis": {
            "backgroundcolor": "#E5ECF6",
            "gridcolor": "white",
            "gridwidth": 2,
            "linecolor": "white",
            "showbackground": true,
            "ticks": "",
            "zerolinecolor": "white"
           }
          },
          "shapedefaults": {
           "line": {
            "color": "#2a3f5f"
           }
          },
          "ternary": {
           "aaxis": {
            "gridcolor": "white",
            "linecolor": "white",
            "ticks": ""
           },
           "baxis": {
            "gridcolor": "white",
            "linecolor": "white",
            "ticks": ""
           },
           "bgcolor": "#E5ECF6",
           "caxis": {
            "gridcolor": "white",
            "linecolor": "white",
            "ticks": ""
           }
          },
          "title": {
           "x": 0.05
          },
          "xaxis": {
           "automargin": true,
           "gridcolor": "white",
           "linecolor": "white",
           "ticks": "",
           "title": {
            "standoff": 15
           },
           "zerolinecolor": "white",
           "zerolinewidth": 2
          },
          "yaxis": {
           "automargin": true,
           "gridcolor": "white",
           "linecolor": "white",
           "ticks": "",
           "title": {
            "standoff": 15
           },
           "zerolinecolor": "white",
           "zerolinewidth": 2
          }
         }
        },
        "title": {
         "font": {
          "color": "#4D5663"
         }
        },
        "xaxis": {
         "gridcolor": "#E1E5ED",
         "showgrid": true,
         "tickfont": {
          "color": "#4D5663"
         },
         "title": {
          "font": {
           "color": "#4D5663"
          },
          "text": ""
         },
         "zerolinecolor": "#E1E5ED"
        },
        "yaxis": {
         "gridcolor": "#E1E5ED",
         "showgrid": true,
         "tickfont": {
          "color": "#4D5663"
         },
         "title": {
          "font": {
           "color": "#4D5663"
          },
          "text": ""
         },
         "zerolinecolor": "#E1E5ED"
        }
       }
      },
      "text/html": "<div>                            <div id=\"095de4c0-f8e4-4091-9077-f396cc0efcc3\" class=\"plotly-graph-div\" style=\"height:525px; width:100%;\"></div>            <script type=\"text/javascript\">                require([\"plotly\"], function(Plotly) {                    window.PLOTLYENV=window.PLOTLYENV || {};\n                    window.PLOTLYENV.BASE_URL='https://plot.ly';                                    if (document.getElementById(\"095de4c0-f8e4-4091-9077-f396cc0efcc3\")) {                    Plotly.newPlot(                        \"095de4c0-f8e4-4091-9077-f396cc0efcc3\",                        [{\"boxpoints\": false, \"line\": {\"width\": 1.3}, \"marker\": {\"color\": \"rgba(255, 153, 51, 1.0)\"}, \"name\": \"A\", \"orientation\": \"v\", \"type\": \"box\", \"y\": [-1.6034591679105978, 0.6744517866256291, 0.16873903499098108, -0.7120838114462832, 0.23617682794395775, 1.180677289914722, -0.9243405825078829, 0.3249744142267152, 0.24123007955726194, -1.371775940963692, 2.0299735784534514, -1.638278538950703, -0.35137910597764804, 0.000667556043875359, -2.100087178780612, -0.4528852477762303, -1.0698827410677296, -0.22569897519992077, -1.0377256973062055, -0.40533486416227726, 0.6830430283391952, -0.33966680639046704, -0.8669563151471675, 0.527643417645511, -0.0833286510642639, 0.13548161732522387, 0.7223255346457207, -0.8175726858881641, 1.374045254814651, -0.5656973754914506, 0.39140389155072197, 0.16070195849060673, -0.1861179756096024, -0.5439910419446394, -0.7872529205941025, 1.3521531710461365, -0.969493749960735, -0.4360024968703549, -0.11854777642838966, -1.8023152962452222, -1.7570950411749429, -0.3551025680128556, -0.9730138683284136, 1.7174009466336264, -1.0403124882430377, 0.8946881797652224, -0.481238013126997, -0.1801078735119504, -0.3908161297782836, 0.4211820003945261, 0.8939246652280742, 0.29982529050087176, -0.19053552055843878, 0.9122188779991189, 0.02791823589603473, -2.049843605469713, 1.8451647391505106, 1.835826771883997, 0.4514046121545814, -1.3153479849431113, 0.6039372964302147, 0.1967032275194514, -0.19718733734199645, -1.0424453626339572, -1.291632485177539, 0.08021453833866193, 0.8381689241093387, -1.2721892786100386, 0.3732178168113568, 0.05276688734700252, -1.967496885033359, 0.9023845846590755, 0.24001744040925296, -0.05429170252464368, -0.49807948253119694, -1.452383083045118, -0.9418576074293369, -0.4523600116602419, 0.6591749020229192, -0.48515217656054904, 0.6035086074078894, -0.5338885854100055, -0.9455132299224919, -0.9184469295082123, -0.482512232189353, 1.495957404481226, -0.11809049112544505, 0.3194610816126905, -1.2852738670679296, -0.5933666650741988, 1.7904157188996117, 0.4052902765873968, 1.8775364158770929, 0.01327468426470117, -2.2108064327344157, 0.4547179081726537, -0.5095154977877799, -0.9630339148296717, -1.1623592880536002, -1.1754650048720257]}, {\"boxpoints\": false, \"line\": {\"width\": 1.3}, \"marker\": {\"color\": \"rgba(55, 128, 191, 1.0)\"}, \"name\": \"B\", \"orientation\": \"v\", \"type\": \"box\", \"y\": [0.8192336134801987, 0.7602482743753068, 0.6294100028786074, 0.03904283596140118, -0.20300240870303762, -0.4217753477618602, -0.005137086974361876, -0.6026416600652672, -0.519906165020211, 0.7206112252343626, 0.20239306106194205, 0.24824347008781414, -0.3632000207111838, 0.5246297345959616, -0.8406442737890164, -0.30471587593055305, 0.11002914869335803, -0.7770599281428845, -1.041800451056623, -0.9368605859558401, 1.7229026947754391, -0.3620596398305359, 0.4949821171328368, -1.5512318236277358, 1.4494671490438522, -0.8823861526943375, -0.22564121684055144, -0.7154859681767155, -1.0820544326577435, -0.15522332326670543, -0.7164670995786423, 0.2804719336161431, -0.2051279121244869, -1.5782948712181395, -1.6263700275222348, 0.7739434861128113, 1.3095508145895705, -1.2225798792362865, 1.121663384493526, -1.4332480938692411, 0.9030413351881482, 0.006778345110963212, -0.23949189864348985, -0.04759875800248899, 1.4895830215386634, 0.34389886769741146, 0.25995771804344314, 1.7315562384553185, 1.8352822475616812, -0.5177595834240207, 1.8250101308281006, 0.8931273429782042, 0.653976849766924, 0.2047316783716681, 0.3021811973823506, -2.2920227763677037, 0.3262921101530418, -0.3354101817456763, -1.2533302192795022, 0.11168265476850534, -1.0357739867335003, 0.528326646172122, 0.4110942155465323, 0.5074870135166899, -0.8819865735203064, -1.3814733121407319, 0.022845539968953, -0.28094217851010267, 0.48606511891207504, 1.7050928660376112, -0.5609434522847258, -0.3087151772829456, -0.21422050977795287, 0.732410209205975, -0.896156752315307, -0.748927157879648, 0.006314657490310105, -1.1216573254922337, -0.5118157861492615, 0.36209901117936405, -1.0880514683970912, 0.46632807066648674, -0.022897289258460102, 1.2856654258471698, -0.24579209518601375, -0.31100397594352286, 0.0904341764974058, -1.1641298986673796, 0.13704345571697643, 0.1676107315041115, -0.3185357210445539, -0.6292950421730465, 1.6062211256891819, -0.066381667278134, 0.7151003365735614, 0.3931328546294085, 0.39143520976327495, -0.6355055797809678, 0.09861609523459006, -1.2784322496774305]}, {\"boxpoints\": false, \"line\": {\"width\": 1.3}, \"marker\": {\"color\": \"rgba(50, 171, 96, 1.0)\"}, \"name\": \"C\", \"orientation\": \"v\", \"type\": \"box\", \"y\": [2.413773226467551, -0.7128641051383859, -0.4644136139558775, -0.01595694663080215, -1.0650640833764218, -0.48824719587425885, -0.46792702899628724, 0.7935768216181784, -1.2882522941089907, 1.1808870677203653, 0.29037826101094666, -0.06273209145717351, 0.020915860572536787, 0.3559134718066243, -0.23828516601864974, 0.2235282271400536, 0.19797177200515284, 1.8154376537683254, 2.2848843666910827, 1.1551806091037926, -0.3699746848112576, 1.435658491619278, -1.028800188537578, 0.6939205836708525, -0.40461125110826474, 0.3327556578954046, -1.12640609571732, -2.6860447566331986, -0.9179074972194138, -1.06704343280252, 0.8589691278525239, 1.6668434809952644, -1.8254270265450483, -0.2336040815855926, -0.8741850919768382, 0.5611318101312296, -0.30844936946133, -2.0734330772879583, 0.04932456760975603, -0.4400844067977491, -2.584058318333577, 0.30613786549649014, -0.5441577295913987, 1.5392055423948425, -0.6572771953504218, -0.9186896963179999, 0.43104549104002376, 0.5560132829638029, 0.4295007204552606, 0.4296060913696705, 0.2560402303645244, 1.208248313929545, -1.7707832610232104, 1.3897189518615294, 1.0320936445448918, 0.02004439306689833, -0.9776711761697071, 0.2942035576612603, 1.8119180949403657, -0.3950788056218137, -0.910213972231028, -1.1739349903824625, -0.12564992211094936, -0.6755373400151659, -0.09944943527808983, -0.3425637260077509, -1.390472064931238, -2.605239681869079, -0.4120934341872476, -0.1433111350149596, -0.49250371960794603, -0.11038227569364245, -0.09476737702784671, 1.8538864184662776, -0.4262021828358027, 1.4510023307478104, -0.6586291189953202, 0.9627447585438353, -1.3102489008195526, 0.8263604082643905, 0.9052797697023395, 1.422667165070258, -1.3777177729561392, -0.4607103704274852, 0.038783419380216726, 0.4961343068085089, -0.257350508592742, 1.912895753556617, 0.4884316808865898, -0.13281473817269865, 0.78731472054916, -2.474027384823861, 0.26065077866571856, -1.6826622183155961, 0.8624958193966548, 1.1999959758197845, -1.0252157379675841, -0.431404358816828, -0.1830837371829216, 1.3727642127169377]}, {\"boxpoints\": false, \"line\": {\"width\": 1.3}, \"marker\": {\"color\": \"rgba(128, 0, 128, 1.0)\"}, \"name\": \"D\", \"orientation\": \"v\", \"type\": \"box\", \"y\": [0.007401829489414258, -1.4370701708241351, 1.8591857898260413, 0.3234628984355769, -1.0186827699736536, -2.5029781942582536, -1.3170221417895134, 1.2842493614367703, 1.3176561190796041, -1.51984636555648, -0.4568373373257365, 0.4917231453636013, 0.6297324020840347, 0.6800046087257194, -1.6879043349963478, -1.7184440811410282, -0.6629893158933756, -0.2990734559154911, 0.9273377980104158, 0.7579737594959451, 0.17464062389667698, -0.5407570581589365, 1.1910778044072616, 1.7628648760907555, -0.6551421684049624, 1.4492782835504971, -1.740609136786402, 0.28395166043367237, 0.2786932639454531, 0.41404403872693646, 0.21506270134800523, 0.8505682644777229, -0.5314201293607476, 0.5557896304038229, -0.365296760714232, -2.217061474571356, 0.9748013312221652, -0.34170981426661173, 0.6329261017503135, -1.6401310490359202, 0.3680781631778554, -1.285346047515693, -1.2285046196339122, 1.3173483989518635, -0.22844460194279967, -1.217582191747272, 0.037821191174498336, -1.3107140382302156, 0.3702429826892917, -0.157923202464818, -0.8234566045410443, 1.4173789736564744, 1.5935473741277102, 0.5073315634889328, 0.0022844246709907154, -0.4878625159174958, -0.49371361576826533, -0.23516513649527385, -0.4493622502616095, 0.36009271890851724, -1.0418440464224992, -1.53256274128827, -0.41820014868909544, 1.3907238052547535, -0.23434252023843363, -2.437667783631158, 0.2268982172156791, 0.7922884933261074, -1.0850266622940754, 1.5220154399440695, -0.3829316588565574, 2.0082340018972378, -0.9898848749021504, 0.17271913719835147, -0.9349385955128694, -0.17107806906005382, 0.7585279879634922, -0.3854391811891404, 0.519953625079641, 0.9421019207472212, -0.30754883829157076, -0.1147229354317717, 0.2498261281442703, -0.15744464120196575, -0.42045231527794225, -1.627296460821743, 0.005044118144702033, 0.5658345085132992, 0.6388688318264979, -1.3232878742686391, 0.7465694355165938, 1.0820018623444183, -0.5041788231736237, 1.1504172122250285, 0.9447481604950453, 0.38513046915252636, 1.0291157820071175, 1.0957470204235578, -0.47547506159373265, 1.0934248802476974]}],                        {\"legend\": {\"bgcolor\": \"#F5F6F9\", \"font\": {\"color\": \"#4D5663\"}}, \"paper_bgcolor\": \"#F5F6F9\", \"plot_bgcolor\": \"#F5F6F9\", \"template\": {\"data\": {\"bar\": [{\"error_x\": {\"color\": \"#2a3f5f\"}, \"error_y\": {\"color\": \"#2a3f5f\"}, \"marker\": {\"line\": {\"color\": \"#E5ECF6\", \"width\": 0.5}}, \"type\": \"bar\"}], \"barpolar\": [{\"marker\": {\"line\": {\"color\": \"#E5ECF6\", \"width\": 0.5}}, \"type\": \"barpolar\"}], \"carpet\": [{\"aaxis\": {\"endlinecolor\": \"#2a3f5f\", \"gridcolor\": \"white\", \"linecolor\": \"white\", \"minorgridcolor\": \"white\", \"startlinecolor\": \"#2a3f5f\"}, \"baxis\": {\"endlinecolor\": \"#2a3f5f\", \"gridcolor\": \"white\", \"linecolor\": \"white\", \"minorgridcolor\": \"white\", \"startlinecolor\": \"#2a3f5f\"}, \"type\": \"carpet\"}], \"choropleth\": [{\"colorbar\": {\"outlinewidth\": 0, \"ticks\": \"\"}, \"type\": \"choropleth\"}], \"contour\": [{\"colorbar\": {\"outlinewidth\": 0, \"ticks\": \"\"}, \"colorscale\": [[0.0, \"#0d0887\"], [0.1111111111111111, \"#46039f\"], [0.2222222222222222, \"#7201a8\"], [0.3333333333333333, \"#9c179e\"], [0.4444444444444444, \"#bd3786\"], [0.5555555555555556, \"#d8576b\"], [0.6666666666666666, \"#ed7953\"], [0.7777777777777778, \"#fb9f3a\"], [0.8888888888888888, \"#fdca26\"], [1.0, \"#f0f921\"]], \"type\": \"contour\"}], \"contourcarpet\": [{\"colorbar\": {\"outlinewidth\": 0, \"ticks\": \"\"}, \"type\": \"contourcarpet\"}], \"heatmap\": [{\"colorbar\": {\"outlinewidth\": 0, \"ticks\": \"\"}, \"colorscale\": [[0.0, \"#0d0887\"], [0.1111111111111111, \"#46039f\"], [0.2222222222222222, \"#7201a8\"], [0.3333333333333333, \"#9c179e\"], [0.4444444444444444, \"#bd3786\"], [0.5555555555555556, \"#d8576b\"], [0.6666666666666666, \"#ed7953\"], [0.7777777777777778, \"#fb9f3a\"], [0.8888888888888888, \"#fdca26\"], [1.0, \"#f0f921\"]], \"type\": \"heatmap\"}], \"heatmapgl\": [{\"colorbar\": {\"outlinewidth\": 0, \"ticks\": \"\"}, \"colorscale\": [[0.0, \"#0d0887\"], [0.1111111111111111, \"#46039f\"], [0.2222222222222222, \"#7201a8\"], [0.3333333333333333, \"#9c179e\"], [0.4444444444444444, \"#bd3786\"], [0.5555555555555556, \"#d8576b\"], [0.6666666666666666, \"#ed7953\"], [0.7777777777777778, \"#fb9f3a\"], [0.8888888888888888, \"#fdca26\"], [1.0, \"#f0f921\"]], \"type\": \"heatmapgl\"}], \"histogram\": [{\"marker\": {\"colorbar\": {\"outlinewidth\": 0, \"ticks\": \"\"}}, \"type\": \"histogram\"}], \"histogram2d\": [{\"colorbar\": {\"outlinewidth\": 0, \"ticks\": \"\"}, \"colorscale\": [[0.0, \"#0d0887\"], [0.1111111111111111, \"#46039f\"], [0.2222222222222222, \"#7201a8\"], [0.3333333333333333, \"#9c179e\"], [0.4444444444444444, \"#bd3786\"], [0.5555555555555556, \"#d8576b\"], [0.6666666666666666, \"#ed7953\"], [0.7777777777777778, \"#fb9f3a\"], [0.8888888888888888, \"#fdca26\"], [1.0, \"#f0f921\"]], \"type\": \"histogram2d\"}], \"histogram2dcontour\": [{\"colorbar\": {\"outlinewidth\": 0, \"ticks\": \"\"}, \"colorscale\": [[0.0, \"#0d0887\"], [0.1111111111111111, \"#46039f\"], [0.2222222222222222, \"#7201a8\"], [0.3333333333333333, \"#9c179e\"], [0.4444444444444444, \"#bd3786\"], [0.5555555555555556, \"#d8576b\"], [0.6666666666666666, \"#ed7953\"], [0.7777777777777778, \"#fb9f3a\"], [0.8888888888888888, \"#fdca26\"], [1.0, \"#f0f921\"]], \"type\": \"histogram2dcontour\"}], \"mesh3d\": [{\"colorbar\": {\"outlinewidth\": 0, \"ticks\": \"\"}, \"type\": \"mesh3d\"}], \"parcoords\": [{\"line\": {\"colorbar\": {\"outlinewidth\": 0, \"ticks\": \"\"}}, \"type\": \"parcoords\"}], \"pie\": [{\"automargin\": true, \"type\": \"pie\"}], \"scatter\": [{\"marker\": {\"colorbar\": {\"outlinewidth\": 0, \"ticks\": \"\"}}, \"type\": \"scatter\"}], \"scatter3d\": [{\"line\": {\"colorbar\": {\"outlinewidth\": 0, \"ticks\": \"\"}}, \"marker\": {\"colorbar\": {\"outlinewidth\": 0, \"ticks\": \"\"}}, \"type\": \"scatter3d\"}], \"scattercarpet\": [{\"marker\": {\"colorbar\": {\"outlinewidth\": 0, \"ticks\": \"\"}}, \"type\": \"scattercarpet\"}], \"scattergeo\": [{\"marker\": {\"colorbar\": {\"outlinewidth\": 0, \"ticks\": \"\"}}, \"type\": \"scattergeo\"}], \"scattergl\": [{\"marker\": {\"colorbar\": {\"outlinewidth\": 0, \"ticks\": \"\"}}, \"type\": \"scattergl\"}], \"scattermapbox\": [{\"marker\": {\"colorbar\": {\"outlinewidth\": 0, \"ticks\": \"\"}}, \"type\": \"scattermapbox\"}], \"scatterpolar\": [{\"marker\": {\"colorbar\": {\"outlinewidth\": 0, \"ticks\": \"\"}}, \"type\": \"scatterpolar\"}], \"scatterpolargl\": [{\"marker\": {\"colorbar\": {\"outlinewidth\": 0, \"ticks\": \"\"}}, \"type\": \"scatterpolargl\"}], \"scatterternary\": [{\"marker\": {\"colorbar\": {\"outlinewidth\": 0, \"ticks\": \"\"}}, \"type\": \"scatterternary\"}], \"surface\": [{\"colorbar\": {\"outlinewidth\": 0, \"ticks\": \"\"}, \"colorscale\": [[0.0, \"#0d0887\"], [0.1111111111111111, \"#46039f\"], [0.2222222222222222, \"#7201a8\"], [0.3333333333333333, \"#9c179e\"], [0.4444444444444444, \"#bd3786\"], [0.5555555555555556, \"#d8576b\"], [0.6666666666666666, \"#ed7953\"], [0.7777777777777778, \"#fb9f3a\"], [0.8888888888888888, \"#fdca26\"], [1.0, \"#f0f921\"]], \"type\": \"surface\"}], \"table\": [{\"cells\": {\"fill\": {\"color\": \"#EBF0F8\"}, \"line\": {\"color\": \"white\"}}, \"header\": {\"fill\": {\"color\": \"#C8D4E3\"}, \"line\": {\"color\": \"white\"}}, \"type\": \"table\"}]}, \"layout\": {\"annotationdefaults\": {\"arrowcolor\": \"#2a3f5f\", \"arrowhead\": 0, \"arrowwidth\": 1}, \"autotypenumbers\": \"strict\", \"coloraxis\": {\"colorbar\": {\"outlinewidth\": 0, \"ticks\": \"\"}}, \"colorscale\": {\"diverging\": [[0, \"#8e0152\"], [0.1, \"#c51b7d\"], [0.2, \"#de77ae\"], [0.3, \"#f1b6da\"], [0.4, \"#fde0ef\"], [0.5, \"#f7f7f7\"], [0.6, \"#e6f5d0\"], [0.7, \"#b8e186\"], [0.8, \"#7fbc41\"], [0.9, \"#4d9221\"], [1, \"#276419\"]], \"sequential\": [[0.0, \"#0d0887\"], [0.1111111111111111, \"#46039f\"], [0.2222222222222222, \"#7201a8\"], [0.3333333333333333, \"#9c179e\"], [0.4444444444444444, \"#bd3786\"], [0.5555555555555556, \"#d8576b\"], [0.6666666666666666, \"#ed7953\"], [0.7777777777777778, \"#fb9f3a\"], [0.8888888888888888, \"#fdca26\"], [1.0, \"#f0f921\"]], \"sequentialminus\": [[0.0, \"#0d0887\"], [0.1111111111111111, \"#46039f\"], [0.2222222222222222, \"#7201a8\"], [0.3333333333333333, \"#9c179e\"], [0.4444444444444444, \"#bd3786\"], [0.5555555555555556, \"#d8576b\"], [0.6666666666666666, \"#ed7953\"], [0.7777777777777778, \"#fb9f3a\"], [0.8888888888888888, \"#fdca26\"], [1.0, \"#f0f921\"]]}, \"colorway\": [\"#636efa\", \"#EF553B\", \"#00cc96\", \"#ab63fa\", \"#FFA15A\", \"#19d3f3\", \"#FF6692\", \"#B6E880\", \"#FF97FF\", \"#FECB52\"], \"font\": {\"color\": \"#2a3f5f\"}, \"geo\": {\"bgcolor\": \"white\", \"lakecolor\": \"white\", \"landcolor\": \"#E5ECF6\", \"showlakes\": true, \"showland\": true, \"subunitcolor\": \"white\"}, \"hoverlabel\": {\"align\": \"left\"}, \"hovermode\": \"closest\", \"mapbox\": {\"style\": \"light\"}, \"paper_bgcolor\": \"white\", \"plot_bgcolor\": \"#E5ECF6\", \"polar\": {\"angularaxis\": {\"gridcolor\": \"white\", \"linecolor\": \"white\", \"ticks\": \"\"}, \"bgcolor\": \"#E5ECF6\", \"radialaxis\": {\"gridcolor\": \"white\", \"linecolor\": \"white\", \"ticks\": \"\"}}, \"scene\": {\"xaxis\": {\"backgroundcolor\": \"#E5ECF6\", \"gridcolor\": \"white\", \"gridwidth\": 2, \"linecolor\": \"white\", \"showbackground\": true, \"ticks\": \"\", \"zerolinecolor\": \"white\"}, \"yaxis\": {\"backgroundcolor\": \"#E5ECF6\", \"gridcolor\": \"white\", \"gridwidth\": 2, \"linecolor\": \"white\", \"showbackground\": true, \"ticks\": \"\", \"zerolinecolor\": \"white\"}, \"zaxis\": {\"backgroundcolor\": \"#E5ECF6\", \"gridcolor\": \"white\", \"gridwidth\": 2, \"linecolor\": \"white\", \"showbackground\": true, \"ticks\": \"\", \"zerolinecolor\": \"white\"}}, \"shapedefaults\": {\"line\": {\"color\": \"#2a3f5f\"}}, \"ternary\": {\"aaxis\": {\"gridcolor\": \"white\", \"linecolor\": \"white\", \"ticks\": \"\"}, \"baxis\": {\"gridcolor\": \"white\", \"linecolor\": \"white\", \"ticks\": \"\"}, \"bgcolor\": \"#E5ECF6\", \"caxis\": {\"gridcolor\": \"white\", \"linecolor\": \"white\", \"ticks\": \"\"}}, \"title\": {\"x\": 0.05}, \"xaxis\": {\"automargin\": true, \"gridcolor\": \"white\", \"linecolor\": \"white\", \"ticks\": \"\", \"title\": {\"standoff\": 15}, \"zerolinecolor\": \"white\", \"zerolinewidth\": 2}, \"yaxis\": {\"automargin\": true, \"gridcolor\": \"white\", \"linecolor\": \"white\", \"ticks\": \"\", \"title\": {\"standoff\": 15}, \"zerolinecolor\": \"white\", \"zerolinewidth\": 2}}}, \"title\": {\"font\": {\"color\": \"#4D5663\"}}, \"xaxis\": {\"gridcolor\": \"#E1E5ED\", \"showgrid\": true, \"tickfont\": {\"color\": \"#4D5663\"}, \"title\": {\"font\": {\"color\": \"#4D5663\"}, \"text\": \"\"}, \"zerolinecolor\": \"#E1E5ED\"}, \"yaxis\": {\"gridcolor\": \"#E1E5ED\", \"showgrid\": true, \"tickfont\": {\"color\": \"#4D5663\"}, \"title\": {\"font\": {\"color\": \"#4D5663\"}, \"text\": \"\"}, \"zerolinecolor\": \"#E1E5ED\"}},                        {\"showLink\": true, \"linkText\": \"Export to plot.ly\", \"plotlyServerURL\": \"https://plot.ly\", \"responsive\": true}                    ).then(function(){\n                            \nvar gd = document.getElementById('095de4c0-f8e4-4091-9077-f396cc0efcc3');\nvar x = new MutationObserver(function (mutations, observer) {{\n        var display = window.getComputedStyle(gd).display;\n        if (!display || display === 'none') {{\n            console.log([gd, 'removed!']);\n            Plotly.purge(gd);\n            observer.disconnect();\n        }}\n}});\n\n// Listen for the removal of the full notebook cells\nvar notebookContainer = gd.closest('#notebook-container');\nif (notebookContainer) {{\n    x.observe(notebookContainer, {childList: true});\n}}\n\n// Listen for the clearing of the current output cell\nvar outputEl = gd.closest('.output');\nif (outputEl) {{\n    x.observe(outputEl, {childList: true});\n}}\n\n                        })                };                });            </script>        </div>"
     },
     "metadata": {}
    }
   ],
   "source": [
    "# via boxplot we can find out various important terms\n",
    "df1.iplot(kind = 'box')"
   ]
  },
  {
   "source": [
    "## 3d Surface"
   ],
   "cell_type": "markdown",
   "metadata": {}
  },
  {
   "cell_type": "code",
   "execution_count": 19,
   "metadata": {},
   "outputs": [
    {
     "output_type": "display_data",
     "data": {
      "application/vnd.plotly.v1+json": {
       "config": {
        "linkText": "Export to plot.ly",
        "plotlyServerURL": "https://plot.ly",
        "showLink": true
       },
       "data": [
        {
         "colorscale": [
          [
           0,
           "rgb(255, 153, 51)"
          ],
          [
           0.1111111111111111,
           "rgb(55, 128, 191)"
          ],
          [
           0.2222222222222222,
           "rgb(50, 171, 96)"
          ],
          [
           0.3333333333333333,
           "rgb(128, 0, 128)"
          ],
          [
           0.4444444444444444,
           "rgb(219, 64, 82)"
          ],
          [
           0.5555555555555556,
           "rgb(0, 128, 128)"
          ],
          [
           0.6666666666666666,
           "rgb(255, 255, 51)"
          ],
          [
           0.7777777777777778,
           "rgb(128, 128, 0)"
          ],
          [
           0.8888888888888888,
           "rgb(251, 128, 114)"
          ],
          [
           1,
           "rgb(128, 177, 211)"
          ]
         ],
         "type": "surface",
         "x": [
          0,
          1,
          2,
          3,
          4
         ],
         "y": [
          "x",
          "y",
          "z"
         ],
         "z": [
          [
           1,
           2,
           3,
           4,
           5
          ],
          [
           10,
           20,
           30,
           20,
           10
          ],
          [
           5,
           4,
           3,
           2,
           1
          ]
         ]
        }
       ],
       "layout": {
        "legend": {
         "bgcolor": "#F5F6F9",
         "font": {
          "color": "#4D5663"
         }
        },
        "paper_bgcolor": "#F5F6F9",
        "plot_bgcolor": "#F5F6F9",
        "template": {
         "data": {
          "bar": [
           {
            "error_x": {
             "color": "#2a3f5f"
            },
            "error_y": {
             "color": "#2a3f5f"
            },
            "marker": {
             "line": {
              "color": "#E5ECF6",
              "width": 0.5
             }
            },
            "type": "bar"
           }
          ],
          "barpolar": [
           {
            "marker": {
             "line": {
              "color": "#E5ECF6",
              "width": 0.5
             }
            },
            "type": "barpolar"
           }
          ],
          "carpet": [
           {
            "aaxis": {
             "endlinecolor": "#2a3f5f",
             "gridcolor": "white",
             "linecolor": "white",
             "minorgridcolor": "white",
             "startlinecolor": "#2a3f5f"
            },
            "baxis": {
             "endlinecolor": "#2a3f5f",
             "gridcolor": "white",
             "linecolor": "white",
             "minorgridcolor": "white",
             "startlinecolor": "#2a3f5f"
            },
            "type": "carpet"
           }
          ],
          "choropleth": [
           {
            "colorbar": {
             "outlinewidth": 0,
             "ticks": ""
            },
            "type": "choropleth"
           }
          ],
          "contour": [
           {
            "colorbar": {
             "outlinewidth": 0,
             "ticks": ""
            },
            "colorscale": [
             [
              0,
              "#0d0887"
             ],
             [
              0.1111111111111111,
              "#46039f"
             ],
             [
              0.2222222222222222,
              "#7201a8"
             ],
             [
              0.3333333333333333,
              "#9c179e"
             ],
             [
              0.4444444444444444,
              "#bd3786"
             ],
             [
              0.5555555555555556,
              "#d8576b"
             ],
             [
              0.6666666666666666,
              "#ed7953"
             ],
             [
              0.7777777777777778,
              "#fb9f3a"
             ],
             [
              0.8888888888888888,
              "#fdca26"
             ],
             [
              1,
              "#f0f921"
             ]
            ],
            "type": "contour"
           }
          ],
          "contourcarpet": [
           {
            "colorbar": {
             "outlinewidth": 0,
             "ticks": ""
            },
            "type": "contourcarpet"
           }
          ],
          "heatmap": [
           {
            "colorbar": {
             "outlinewidth": 0,
             "ticks": ""
            },
            "colorscale": [
             [
              0,
              "#0d0887"
             ],
             [
              0.1111111111111111,
              "#46039f"
             ],
             [
              0.2222222222222222,
              "#7201a8"
             ],
             [
              0.3333333333333333,
              "#9c179e"
             ],
             [
              0.4444444444444444,
              "#bd3786"
             ],
             [
              0.5555555555555556,
              "#d8576b"
             ],
             [
              0.6666666666666666,
              "#ed7953"
             ],
             [
              0.7777777777777778,
              "#fb9f3a"
             ],
             [
              0.8888888888888888,
              "#fdca26"
             ],
             [
              1,
              "#f0f921"
             ]
            ],
            "type": "heatmap"
           }
          ],
          "heatmapgl": [
           {
            "colorbar": {
             "outlinewidth": 0,
             "ticks": ""
            },
            "colorscale": [
             [
              0,
              "#0d0887"
             ],
             [
              0.1111111111111111,
              "#46039f"
             ],
             [
              0.2222222222222222,
              "#7201a8"
             ],
             [
              0.3333333333333333,
              "#9c179e"
             ],
             [
              0.4444444444444444,
              "#bd3786"
             ],
             [
              0.5555555555555556,
              "#d8576b"
             ],
             [
              0.6666666666666666,
              "#ed7953"
             ],
             [
              0.7777777777777778,
              "#fb9f3a"
             ],
             [
              0.8888888888888888,
              "#fdca26"
             ],
             [
              1,
              "#f0f921"
             ]
            ],
            "type": "heatmapgl"
           }
          ],
          "histogram": [
           {
            "marker": {
             "colorbar": {
              "outlinewidth": 0,
              "ticks": ""
             }
            },
            "type": "histogram"
           }
          ],
          "histogram2d": [
           {
            "colorbar": {
             "outlinewidth": 0,
             "ticks": ""
            },
            "colorscale": [
             [
              0,
              "#0d0887"
             ],
             [
              0.1111111111111111,
              "#46039f"
             ],
             [
              0.2222222222222222,
              "#7201a8"
             ],
             [
              0.3333333333333333,
              "#9c179e"
             ],
             [
              0.4444444444444444,
              "#bd3786"
             ],
             [
              0.5555555555555556,
              "#d8576b"
             ],
             [
              0.6666666666666666,
              "#ed7953"
             ],
             [
              0.7777777777777778,
              "#fb9f3a"
             ],
             [
              0.8888888888888888,
              "#fdca26"
             ],
             [
              1,
              "#f0f921"
             ]
            ],
            "type": "histogram2d"
           }
          ],
          "histogram2dcontour": [
           {
            "colorbar": {
             "outlinewidth": 0,
             "ticks": ""
            },
            "colorscale": [
             [
              0,
              "#0d0887"
             ],
             [
              0.1111111111111111,
              "#46039f"
             ],
             [
              0.2222222222222222,
              "#7201a8"
             ],
             [
              0.3333333333333333,
              "#9c179e"
             ],
             [
              0.4444444444444444,
              "#bd3786"
             ],
             [
              0.5555555555555556,
              "#d8576b"
             ],
             [
              0.6666666666666666,
              "#ed7953"
             ],
             [
              0.7777777777777778,
              "#fb9f3a"
             ],
             [
              0.8888888888888888,
              "#fdca26"
             ],
             [
              1,
              "#f0f921"
             ]
            ],
            "type": "histogram2dcontour"
           }
          ],
          "mesh3d": [
           {
            "colorbar": {
             "outlinewidth": 0,
             "ticks": ""
            },
            "type": "mesh3d"
           }
          ],
          "parcoords": [
           {
            "line": {
             "colorbar": {
              "outlinewidth": 0,
              "ticks": ""
             }
            },
            "type": "parcoords"
           }
          ],
          "pie": [
           {
            "automargin": true,
            "type": "pie"
           }
          ],
          "scatter": [
           {
            "marker": {
             "colorbar": {
              "outlinewidth": 0,
              "ticks": ""
             }
            },
            "type": "scatter"
           }
          ],
          "scatter3d": [
           {
            "line": {
             "colorbar": {
              "outlinewidth": 0,
              "ticks": ""
             }
            },
            "marker": {
             "colorbar": {
              "outlinewidth": 0,
              "ticks": ""
             }
            },
            "type": "scatter3d"
           }
          ],
          "scattercarpet": [
           {
            "marker": {
             "colorbar": {
              "outlinewidth": 0,
              "ticks": ""
             }
            },
            "type": "scattercarpet"
           }
          ],
          "scattergeo": [
           {
            "marker": {
             "colorbar": {
              "outlinewidth": 0,
              "ticks": ""
             }
            },
            "type": "scattergeo"
           }
          ],
          "scattergl": [
           {
            "marker": {
             "colorbar": {
              "outlinewidth": 0,
              "ticks": ""
             }
            },
            "type": "scattergl"
           }
          ],
          "scattermapbox": [
           {
            "marker": {
             "colorbar": {
              "outlinewidth": 0,
              "ticks": ""
             }
            },
            "type": "scattermapbox"
           }
          ],
          "scatterpolar": [
           {
            "marker": {
             "colorbar": {
              "outlinewidth": 0,
              "ticks": ""
             }
            },
            "type": "scatterpolar"
           }
          ],
          "scatterpolargl": [
           {
            "marker": {
             "colorbar": {
              "outlinewidth": 0,
              "ticks": ""
             }
            },
            "type": "scatterpolargl"
           }
          ],
          "scatterternary": [
           {
            "marker": {
             "colorbar": {
              "outlinewidth": 0,
              "ticks": ""
             }
            },
            "type": "scatterternary"
           }
          ],
          "surface": [
           {
            "colorbar": {
             "outlinewidth": 0,
             "ticks": ""
            },
            "colorscale": [
             [
              0,
              "#0d0887"
             ],
             [
              0.1111111111111111,
              "#46039f"
             ],
             [
              0.2222222222222222,
              "#7201a8"
             ],
             [
              0.3333333333333333,
              "#9c179e"
             ],
             [
              0.4444444444444444,
              "#bd3786"
             ],
             [
              0.5555555555555556,
              "#d8576b"
             ],
             [
              0.6666666666666666,
              "#ed7953"
             ],
             [
              0.7777777777777778,
              "#fb9f3a"
             ],
             [
              0.8888888888888888,
              "#fdca26"
             ],
             [
              1,
              "#f0f921"
             ]
            ],
            "type": "surface"
           }
          ],
          "table": [
           {
            "cells": {
             "fill": {
              "color": "#EBF0F8"
             },
             "line": {
              "color": "white"
             }
            },
            "header": {
             "fill": {
              "color": "#C8D4E3"
             },
             "line": {
              "color": "white"
             }
            },
            "type": "table"
           }
          ]
         },
         "layout": {
          "annotationdefaults": {
           "arrowcolor": "#2a3f5f",
           "arrowhead": 0,
           "arrowwidth": 1
          },
          "autotypenumbers": "strict",
          "coloraxis": {
           "colorbar": {
            "outlinewidth": 0,
            "ticks": ""
           }
          },
          "colorscale": {
           "diverging": [
            [
             0,
             "#8e0152"
            ],
            [
             0.1,
             "#c51b7d"
            ],
            [
             0.2,
             "#de77ae"
            ],
            [
             0.3,
             "#f1b6da"
            ],
            [
             0.4,
             "#fde0ef"
            ],
            [
             0.5,
             "#f7f7f7"
            ],
            [
             0.6,
             "#e6f5d0"
            ],
            [
             0.7,
             "#b8e186"
            ],
            [
             0.8,
             "#7fbc41"
            ],
            [
             0.9,
             "#4d9221"
            ],
            [
             1,
             "#276419"
            ]
           ],
           "sequential": [
            [
             0,
             "#0d0887"
            ],
            [
             0.1111111111111111,
             "#46039f"
            ],
            [
             0.2222222222222222,
             "#7201a8"
            ],
            [
             0.3333333333333333,
             "#9c179e"
            ],
            [
             0.4444444444444444,
             "#bd3786"
            ],
            [
             0.5555555555555556,
             "#d8576b"
            ],
            [
             0.6666666666666666,
             "#ed7953"
            ],
            [
             0.7777777777777778,
             "#fb9f3a"
            ],
            [
             0.8888888888888888,
             "#fdca26"
            ],
            [
             1,
             "#f0f921"
            ]
           ],
           "sequentialminus": [
            [
             0,
             "#0d0887"
            ],
            [
             0.1111111111111111,
             "#46039f"
            ],
            [
             0.2222222222222222,
             "#7201a8"
            ],
            [
             0.3333333333333333,
             "#9c179e"
            ],
            [
             0.4444444444444444,
             "#bd3786"
            ],
            [
             0.5555555555555556,
             "#d8576b"
            ],
            [
             0.6666666666666666,
             "#ed7953"
            ],
            [
             0.7777777777777778,
             "#fb9f3a"
            ],
            [
             0.8888888888888888,
             "#fdca26"
            ],
            [
             1,
             "#f0f921"
            ]
           ]
          },
          "colorway": [
           "#636efa",
           "#EF553B",
           "#00cc96",
           "#ab63fa",
           "#FFA15A",
           "#19d3f3",
           "#FF6692",
           "#B6E880",
           "#FF97FF",
           "#FECB52"
          ],
          "font": {
           "color": "#2a3f5f"
          },
          "geo": {
           "bgcolor": "white",
           "lakecolor": "white",
           "landcolor": "#E5ECF6",
           "showlakes": true,
           "showland": true,
           "subunitcolor": "white"
          },
          "hoverlabel": {
           "align": "left"
          },
          "hovermode": "closest",
          "mapbox": {
           "style": "light"
          },
          "paper_bgcolor": "white",
          "plot_bgcolor": "#E5ECF6",
          "polar": {
           "angularaxis": {
            "gridcolor": "white",
            "linecolor": "white",
            "ticks": ""
           },
           "bgcolor": "#E5ECF6",
           "radialaxis": {
            "gridcolor": "white",
            "linecolor": "white",
            "ticks": ""
           }
          },
          "scene": {
           "xaxis": {
            "backgroundcolor": "#E5ECF6",
            "gridcolor": "white",
            "gridwidth": 2,
            "linecolor": "white",
            "showbackground": true,
            "ticks": "",
            "zerolinecolor": "white"
           },
           "yaxis": {
            "backgroundcolor": "#E5ECF6",
            "gridcolor": "white",
            "gridwidth": 2,
            "linecolor": "white",
            "showbackground": true,
            "ticks": "",
            "zerolinecolor": "white"
           },
           "zaxis": {
            "backgroundcolor": "#E5ECF6",
            "gridcolor": "white",
            "gridwidth": 2,
            "linecolor": "white",
            "showbackground": true,
            "ticks": "",
            "zerolinecolor": "white"
           }
          },
          "shapedefaults": {
           "line": {
            "color": "#2a3f5f"
           }
          },
          "ternary": {
           "aaxis": {
            "gridcolor": "white",
            "linecolor": "white",
            "ticks": ""
           },
           "baxis": {
            "gridcolor": "white",
            "linecolor": "white",
            "ticks": ""
           },
           "bgcolor": "#E5ECF6",
           "caxis": {
            "gridcolor": "white",
            "linecolor": "white",
            "ticks": ""
           }
          },
          "title": {
           "x": 0.05
          },
          "xaxis": {
           "automargin": true,
           "gridcolor": "white",
           "linecolor": "white",
           "ticks": "",
           "title": {
            "standoff": 15
           },
           "zerolinecolor": "white",
           "zerolinewidth": 2
          },
          "yaxis": {
           "automargin": true,
           "gridcolor": "white",
           "linecolor": "white",
           "ticks": "",
           "title": {
            "standoff": 15
           },
           "zerolinecolor": "white",
           "zerolinewidth": 2
          }
         }
        },
        "title": {
         "font": {
          "color": "#4D5663"
         }
        },
        "xaxis": {
         "gridcolor": "#E1E5ED",
         "showgrid": true,
         "tickfont": {
          "color": "#4D5663"
         },
         "title": {
          "font": {
           "color": "#4D5663"
          },
          "text": ""
         },
         "zerolinecolor": "#E1E5ED"
        },
        "yaxis": {
         "gridcolor": "#E1E5ED",
         "showgrid": true,
         "tickfont": {
          "color": "#4D5663"
         },
         "title": {
          "font": {
           "color": "#4D5663"
          },
          "text": ""
         },
         "zerolinecolor": "#E1E5ED"
        }
       }
      },
      "text/html": "<div>                            <div id=\"4c88197e-d8fc-4835-8734-a8e7df8e7efe\" class=\"plotly-graph-div\" style=\"height:525px; width:100%;\"></div>            <script type=\"text/javascript\">                require([\"plotly\"], function(Plotly) {                    window.PLOTLYENV=window.PLOTLYENV || {};\n                    window.PLOTLYENV.BASE_URL='https://plot.ly';                                    if (document.getElementById(\"4c88197e-d8fc-4835-8734-a8e7df8e7efe\")) {                    Plotly.newPlot(                        \"4c88197e-d8fc-4835-8734-a8e7df8e7efe\",                        [{\"colorscale\": [[0.0, \"rgb(255, 153, 51)\"], [0.1111111111111111, \"rgb(55, 128, 191)\"], [0.2222222222222222, \"rgb(50, 171, 96)\"], [0.3333333333333333, \"rgb(128, 0, 128)\"], [0.4444444444444444, \"rgb(219, 64, 82)\"], [0.5555555555555556, \"rgb(0, 128, 128)\"], [0.6666666666666666, \"rgb(255, 255, 51)\"], [0.7777777777777778, \"rgb(128, 128, 0)\"], [0.8888888888888888, \"rgb(251, 128, 114)\"], [1.0, \"rgb(128, 177, 211)\"]], \"type\": \"surface\", \"x\": [0, 1, 2, 3, 4], \"y\": [\"x\", \"y\", \"z\"], \"z\": [[1, 2, 3, 4, 5], [10, 20, 30, 20, 10], [5, 4, 3, 2, 1]]}],                        {\"legend\": {\"bgcolor\": \"#F5F6F9\", \"font\": {\"color\": \"#4D5663\"}}, \"paper_bgcolor\": \"#F5F6F9\", \"plot_bgcolor\": \"#F5F6F9\", \"template\": {\"data\": {\"bar\": [{\"error_x\": {\"color\": \"#2a3f5f\"}, \"error_y\": {\"color\": \"#2a3f5f\"}, \"marker\": {\"line\": {\"color\": \"#E5ECF6\", \"width\": 0.5}}, \"type\": \"bar\"}], \"barpolar\": [{\"marker\": {\"line\": {\"color\": \"#E5ECF6\", \"width\": 0.5}}, \"type\": \"barpolar\"}], \"carpet\": [{\"aaxis\": {\"endlinecolor\": \"#2a3f5f\", \"gridcolor\": \"white\", \"linecolor\": \"white\", \"minorgridcolor\": \"white\", \"startlinecolor\": \"#2a3f5f\"}, \"baxis\": {\"endlinecolor\": \"#2a3f5f\", \"gridcolor\": \"white\", \"linecolor\": \"white\", \"minorgridcolor\": \"white\", \"startlinecolor\": \"#2a3f5f\"}, \"type\": \"carpet\"}], \"choropleth\": [{\"colorbar\": {\"outlinewidth\": 0, \"ticks\": \"\"}, \"type\": \"choropleth\"}], \"contour\": [{\"colorbar\": {\"outlinewidth\": 0, \"ticks\": \"\"}, \"colorscale\": [[0.0, \"#0d0887\"], [0.1111111111111111, \"#46039f\"], [0.2222222222222222, \"#7201a8\"], [0.3333333333333333, \"#9c179e\"], [0.4444444444444444, \"#bd3786\"], [0.5555555555555556, \"#d8576b\"], [0.6666666666666666, \"#ed7953\"], [0.7777777777777778, \"#fb9f3a\"], [0.8888888888888888, \"#fdca26\"], [1.0, \"#f0f921\"]], \"type\": \"contour\"}], \"contourcarpet\": [{\"colorbar\": {\"outlinewidth\": 0, \"ticks\": \"\"}, \"type\": \"contourcarpet\"}], \"heatmap\": [{\"colorbar\": {\"outlinewidth\": 0, \"ticks\": \"\"}, \"colorscale\": [[0.0, \"#0d0887\"], [0.1111111111111111, \"#46039f\"], [0.2222222222222222, \"#7201a8\"], [0.3333333333333333, \"#9c179e\"], [0.4444444444444444, \"#bd3786\"], [0.5555555555555556, \"#d8576b\"], [0.6666666666666666, \"#ed7953\"], [0.7777777777777778, \"#fb9f3a\"], [0.8888888888888888, \"#fdca26\"], [1.0, \"#f0f921\"]], \"type\": \"heatmap\"}], \"heatmapgl\": [{\"colorbar\": {\"outlinewidth\": 0, \"ticks\": \"\"}, \"colorscale\": [[0.0, \"#0d0887\"], [0.1111111111111111, \"#46039f\"], [0.2222222222222222, \"#7201a8\"], [0.3333333333333333, \"#9c179e\"], [0.4444444444444444, \"#bd3786\"], [0.5555555555555556, \"#d8576b\"], [0.6666666666666666, \"#ed7953\"], [0.7777777777777778, \"#fb9f3a\"], [0.8888888888888888, \"#fdca26\"], [1.0, \"#f0f921\"]], \"type\": \"heatmapgl\"}], \"histogram\": [{\"marker\": {\"colorbar\": {\"outlinewidth\": 0, \"ticks\": \"\"}}, \"type\": \"histogram\"}], \"histogram2d\": [{\"colorbar\": {\"outlinewidth\": 0, \"ticks\": \"\"}, \"colorscale\": [[0.0, \"#0d0887\"], [0.1111111111111111, \"#46039f\"], [0.2222222222222222, \"#7201a8\"], [0.3333333333333333, \"#9c179e\"], [0.4444444444444444, \"#bd3786\"], [0.5555555555555556, \"#d8576b\"], [0.6666666666666666, \"#ed7953\"], [0.7777777777777778, \"#fb9f3a\"], [0.8888888888888888, \"#fdca26\"], [1.0, \"#f0f921\"]], \"type\": \"histogram2d\"}], \"histogram2dcontour\": [{\"colorbar\": {\"outlinewidth\": 0, \"ticks\": \"\"}, \"colorscale\": [[0.0, \"#0d0887\"], [0.1111111111111111, \"#46039f\"], [0.2222222222222222, \"#7201a8\"], [0.3333333333333333, \"#9c179e\"], [0.4444444444444444, \"#bd3786\"], [0.5555555555555556, \"#d8576b\"], [0.6666666666666666, \"#ed7953\"], [0.7777777777777778, \"#fb9f3a\"], [0.8888888888888888, \"#fdca26\"], [1.0, \"#f0f921\"]], \"type\": \"histogram2dcontour\"}], \"mesh3d\": [{\"colorbar\": {\"outlinewidth\": 0, \"ticks\": \"\"}, \"type\": \"mesh3d\"}], \"parcoords\": [{\"line\": {\"colorbar\": {\"outlinewidth\": 0, \"ticks\": \"\"}}, \"type\": \"parcoords\"}], \"pie\": [{\"automargin\": true, \"type\": \"pie\"}], \"scatter\": [{\"marker\": {\"colorbar\": {\"outlinewidth\": 0, \"ticks\": \"\"}}, \"type\": \"scatter\"}], \"scatter3d\": [{\"line\": {\"colorbar\": {\"outlinewidth\": 0, \"ticks\": \"\"}}, \"marker\": {\"colorbar\": {\"outlinewidth\": 0, \"ticks\": \"\"}}, \"type\": \"scatter3d\"}], \"scattercarpet\": [{\"marker\": {\"colorbar\": {\"outlinewidth\": 0, \"ticks\": \"\"}}, \"type\": \"scattercarpet\"}], \"scattergeo\": [{\"marker\": {\"colorbar\": {\"outlinewidth\": 0, \"ticks\": \"\"}}, \"type\": \"scattergeo\"}], \"scattergl\": [{\"marker\": {\"colorbar\": {\"outlinewidth\": 0, \"ticks\": \"\"}}, \"type\": \"scattergl\"}], \"scattermapbox\": [{\"marker\": {\"colorbar\": {\"outlinewidth\": 0, \"ticks\": \"\"}}, \"type\": \"scattermapbox\"}], \"scatterpolar\": [{\"marker\": {\"colorbar\": {\"outlinewidth\": 0, \"ticks\": \"\"}}, \"type\": \"scatterpolar\"}], \"scatterpolargl\": [{\"marker\": {\"colorbar\": {\"outlinewidth\": 0, \"ticks\": \"\"}}, \"type\": \"scatterpolargl\"}], \"scatterternary\": [{\"marker\": {\"colorbar\": {\"outlinewidth\": 0, \"ticks\": \"\"}}, \"type\": \"scatterternary\"}], \"surface\": [{\"colorbar\": {\"outlinewidth\": 0, \"ticks\": \"\"}, \"colorscale\": [[0.0, \"#0d0887\"], [0.1111111111111111, \"#46039f\"], [0.2222222222222222, \"#7201a8\"], [0.3333333333333333, \"#9c179e\"], [0.4444444444444444, \"#bd3786\"], [0.5555555555555556, \"#d8576b\"], [0.6666666666666666, \"#ed7953\"], [0.7777777777777778, \"#fb9f3a\"], [0.8888888888888888, \"#fdca26\"], [1.0, \"#f0f921\"]], \"type\": \"surface\"}], \"table\": [{\"cells\": {\"fill\": {\"color\": \"#EBF0F8\"}, \"line\": {\"color\": \"white\"}}, \"header\": {\"fill\": {\"color\": \"#C8D4E3\"}, \"line\": {\"color\": \"white\"}}, \"type\": \"table\"}]}, \"layout\": {\"annotationdefaults\": {\"arrowcolor\": \"#2a3f5f\", \"arrowhead\": 0, \"arrowwidth\": 1}, \"autotypenumbers\": \"strict\", \"coloraxis\": {\"colorbar\": {\"outlinewidth\": 0, \"ticks\": \"\"}}, \"colorscale\": {\"diverging\": [[0, \"#8e0152\"], [0.1, \"#c51b7d\"], [0.2, \"#de77ae\"], [0.3, \"#f1b6da\"], [0.4, \"#fde0ef\"], [0.5, \"#f7f7f7\"], [0.6, \"#e6f5d0\"], [0.7, \"#b8e186\"], [0.8, \"#7fbc41\"], [0.9, \"#4d9221\"], [1, \"#276419\"]], \"sequential\": [[0.0, \"#0d0887\"], [0.1111111111111111, \"#46039f\"], [0.2222222222222222, \"#7201a8\"], [0.3333333333333333, \"#9c179e\"], [0.4444444444444444, \"#bd3786\"], [0.5555555555555556, \"#d8576b\"], [0.6666666666666666, \"#ed7953\"], [0.7777777777777778, \"#fb9f3a\"], [0.8888888888888888, \"#fdca26\"], [1.0, \"#f0f921\"]], \"sequentialminus\": [[0.0, \"#0d0887\"], [0.1111111111111111, \"#46039f\"], [0.2222222222222222, \"#7201a8\"], [0.3333333333333333, \"#9c179e\"], [0.4444444444444444, \"#bd3786\"], [0.5555555555555556, \"#d8576b\"], [0.6666666666666666, \"#ed7953\"], [0.7777777777777778, \"#fb9f3a\"], [0.8888888888888888, \"#fdca26\"], [1.0, \"#f0f921\"]]}, \"colorway\": [\"#636efa\", \"#EF553B\", \"#00cc96\", \"#ab63fa\", \"#FFA15A\", \"#19d3f3\", \"#FF6692\", \"#B6E880\", \"#FF97FF\", \"#FECB52\"], \"font\": {\"color\": \"#2a3f5f\"}, \"geo\": {\"bgcolor\": \"white\", \"lakecolor\": \"white\", \"landcolor\": \"#E5ECF6\", \"showlakes\": true, \"showland\": true, \"subunitcolor\": \"white\"}, \"hoverlabel\": {\"align\": \"left\"}, \"hovermode\": \"closest\", \"mapbox\": {\"style\": \"light\"}, \"paper_bgcolor\": \"white\", \"plot_bgcolor\": \"#E5ECF6\", \"polar\": {\"angularaxis\": {\"gridcolor\": \"white\", \"linecolor\": \"white\", \"ticks\": \"\"}, \"bgcolor\": \"#E5ECF6\", \"radialaxis\": {\"gridcolor\": \"white\", \"linecolor\": \"white\", \"ticks\": \"\"}}, \"scene\": {\"xaxis\": {\"backgroundcolor\": \"#E5ECF6\", \"gridcolor\": \"white\", \"gridwidth\": 2, \"linecolor\": \"white\", \"showbackground\": true, \"ticks\": \"\", \"zerolinecolor\": \"white\"}, \"yaxis\": {\"backgroundcolor\": \"#E5ECF6\", \"gridcolor\": \"white\", \"gridwidth\": 2, \"linecolor\": \"white\", \"showbackground\": true, \"ticks\": \"\", \"zerolinecolor\": \"white\"}, \"zaxis\": {\"backgroundcolor\": \"#E5ECF6\", \"gridcolor\": \"white\", \"gridwidth\": 2, \"linecolor\": \"white\", \"showbackground\": true, \"ticks\": \"\", \"zerolinecolor\": \"white\"}}, \"shapedefaults\": {\"line\": {\"color\": \"#2a3f5f\"}}, \"ternary\": {\"aaxis\": {\"gridcolor\": \"white\", \"linecolor\": \"white\", \"ticks\": \"\"}, \"baxis\": {\"gridcolor\": \"white\", \"linecolor\": \"white\", \"ticks\": \"\"}, \"bgcolor\": \"#E5ECF6\", \"caxis\": {\"gridcolor\": \"white\", \"linecolor\": \"white\", \"ticks\": \"\"}}, \"title\": {\"x\": 0.05}, \"xaxis\": {\"automargin\": true, \"gridcolor\": \"white\", \"linecolor\": \"white\", \"ticks\": \"\", \"title\": {\"standoff\": 15}, \"zerolinecolor\": \"white\", \"zerolinewidth\": 2}, \"yaxis\": {\"automargin\": true, \"gridcolor\": \"white\", \"linecolor\": \"white\", \"ticks\": \"\", \"title\": {\"standoff\": 15}, \"zerolinecolor\": \"white\", \"zerolinewidth\": 2}}}, \"title\": {\"font\": {\"color\": \"#4D5663\"}}, \"xaxis\": {\"gridcolor\": \"#E1E5ED\", \"showgrid\": true, \"tickfont\": {\"color\": \"#4D5663\"}, \"title\": {\"font\": {\"color\": \"#4D5663\"}, \"text\": \"\"}, \"zerolinecolor\": \"#E1E5ED\"}, \"yaxis\": {\"gridcolor\": \"#E1E5ED\", \"showgrid\": true, \"tickfont\": {\"color\": \"#4D5663\"}, \"title\": {\"font\": {\"color\": \"#4D5663\"}, \"text\": \"\"}, \"zerolinecolor\": \"#E1E5ED\"}},                        {\"showLink\": true, \"linkText\": \"Export to plot.ly\", \"plotlyServerURL\": \"https://plot.ly\", \"responsive\": true}                    ).then(function(){\n                            \nvar gd = document.getElementById('4c88197e-d8fc-4835-8734-a8e7df8e7efe');\nvar x = new MutationObserver(function (mutations, observer) {{\n        var display = window.getComputedStyle(gd).display;\n        if (!display || display === 'none') {{\n            console.log([gd, 'removed!']);\n            Plotly.purge(gd);\n            observer.disconnect();\n        }}\n}});\n\n// Listen for the removal of the full notebook cells\nvar notebookContainer = gd.closest('#notebook-container');\nif (notebookContainer) {{\n    x.observe(notebookContainer, {childList: true});\n}}\n\n// Listen for the clearing of the current output cell\nvar outputEl = gd.closest('.output');\nif (outputEl) {{\n    x.observe(outputEl, {childList: true});\n}}\n\n                        })                };                });            </script>        </div>"
     },
     "metadata": {}
    }
   ],
   "source": [
    "df3 = pd.DataFrame({'x':[1,2,3,4,5],'y':[10,20,30,20,10],'z':[5,4,3,2,1]})\n",
    "df3.iplot(kind='surface')"
   ]
  },
  {
   "source": [
    "## Spread"
   ],
   "cell_type": "markdown",
   "metadata": {}
  },
  {
   "cell_type": "code",
   "execution_count": 21,
   "metadata": {},
   "outputs": [
    {
     "output_type": "display_data",
     "data": {
      "application/vnd.plotly.v1+json": {
       "config": {
        "linkText": "Export to plot.ly",
        "plotlyServerURL": "https://plot.ly",
        "showLink": true
       },
       "data": [
        {
         "line": {
          "color": "rgba(255, 153, 51, 1.0)",
          "dash": "solid",
          "shape": "linear",
          "width": 1.3
         },
         "mode": "lines",
         "name": "A",
         "text": "",
         "type": "scatter",
         "x": [
          0,
          1,
          2,
          3,
          4,
          5,
          6,
          7,
          8,
          9,
          10,
          11,
          12,
          13,
          14,
          15,
          16,
          17,
          18,
          19,
          20,
          21,
          22,
          23,
          24,
          25,
          26,
          27,
          28,
          29,
          30,
          31,
          32,
          33,
          34,
          35,
          36,
          37,
          38,
          39,
          40,
          41,
          42,
          43,
          44,
          45,
          46,
          47,
          48,
          49,
          50,
          51,
          52,
          53,
          54,
          55,
          56,
          57,
          58,
          59,
          60,
          61,
          62,
          63,
          64,
          65,
          66,
          67,
          68,
          69,
          70,
          71,
          72,
          73,
          74,
          75,
          76,
          77,
          78,
          79,
          80,
          81,
          82,
          83,
          84,
          85,
          86,
          87,
          88,
          89,
          90,
          91,
          92,
          93,
          94,
          95,
          96,
          97,
          98,
          99
         ],
         "y": [
          -1.6034591679105978,
          0.6744517866256291,
          0.16873903499098108,
          -0.7120838114462832,
          0.23617682794395775,
          1.180677289914722,
          -0.9243405825078829,
          0.3249744142267152,
          0.24123007955726194,
          -1.371775940963692,
          2.0299735784534514,
          -1.638278538950703,
          -0.35137910597764804,
          0.000667556043875359,
          -2.100087178780612,
          -0.4528852477762303,
          -1.0698827410677296,
          -0.22569897519992077,
          -1.0377256973062055,
          -0.40533486416227726,
          0.6830430283391952,
          -0.33966680639046704,
          -0.8669563151471675,
          0.527643417645511,
          -0.0833286510642639,
          0.13548161732522387,
          0.7223255346457207,
          -0.8175726858881641,
          1.374045254814651,
          -0.5656973754914506,
          0.39140389155072197,
          0.16070195849060673,
          -0.1861179756096024,
          -0.5439910419446394,
          -0.7872529205941025,
          1.3521531710461365,
          -0.969493749960735,
          -0.4360024968703549,
          -0.11854777642838966,
          -1.8023152962452222,
          -1.7570950411749429,
          -0.3551025680128556,
          -0.9730138683284136,
          1.7174009466336264,
          -1.0403124882430377,
          0.8946881797652224,
          -0.481238013126997,
          -0.1801078735119504,
          -0.3908161297782836,
          0.4211820003945261,
          0.8939246652280742,
          0.29982529050087176,
          -0.19053552055843878,
          0.9122188779991189,
          0.02791823589603473,
          -2.049843605469713,
          1.8451647391505106,
          1.835826771883997,
          0.4514046121545814,
          -1.3153479849431113,
          0.6039372964302147,
          0.1967032275194514,
          -0.19718733734199645,
          -1.0424453626339572,
          -1.291632485177539,
          0.08021453833866193,
          0.8381689241093387,
          -1.2721892786100386,
          0.3732178168113568,
          0.05276688734700252,
          -1.967496885033359,
          0.9023845846590755,
          0.24001744040925296,
          -0.05429170252464368,
          -0.49807948253119694,
          -1.452383083045118,
          -0.9418576074293369,
          -0.4523600116602419,
          0.6591749020229192,
          -0.48515217656054904,
          0.6035086074078894,
          -0.5338885854100055,
          -0.9455132299224919,
          -0.9184469295082123,
          -0.482512232189353,
          1.495957404481226,
          -0.11809049112544505,
          0.3194610816126905,
          -1.2852738670679296,
          -0.5933666650741988,
          1.7904157188996117,
          0.4052902765873968,
          1.8775364158770929,
          0.01327468426470117,
          -2.2108064327344157,
          0.4547179081726537,
          -0.5095154977877799,
          -0.9630339148296717,
          -1.1623592880536002,
          -1.1754650048720257
         ]
        },
        {
         "line": {
          "color": "rgba(55, 128, 191, 1.0)",
          "dash": "solid",
          "shape": "linear",
          "width": 1.3
         },
         "mode": "lines",
         "name": "B",
         "text": "",
         "type": "scatter",
         "x": [
          0,
          1,
          2,
          3,
          4,
          5,
          6,
          7,
          8,
          9,
          10,
          11,
          12,
          13,
          14,
          15,
          16,
          17,
          18,
          19,
          20,
          21,
          22,
          23,
          24,
          25,
          26,
          27,
          28,
          29,
          30,
          31,
          32,
          33,
          34,
          35,
          36,
          37,
          38,
          39,
          40,
          41,
          42,
          43,
          44,
          45,
          46,
          47,
          48,
          49,
          50,
          51,
          52,
          53,
          54,
          55,
          56,
          57,
          58,
          59,
          60,
          61,
          62,
          63,
          64,
          65,
          66,
          67,
          68,
          69,
          70,
          71,
          72,
          73,
          74,
          75,
          76,
          77,
          78,
          79,
          80,
          81,
          82,
          83,
          84,
          85,
          86,
          87,
          88,
          89,
          90,
          91,
          92,
          93,
          94,
          95,
          96,
          97,
          98,
          99
         ],
         "y": [
          0.8192336134801987,
          0.7602482743753068,
          0.6294100028786074,
          0.03904283596140118,
          -0.20300240870303762,
          -0.4217753477618602,
          -0.005137086974361876,
          -0.6026416600652672,
          -0.519906165020211,
          0.7206112252343626,
          0.20239306106194205,
          0.24824347008781414,
          -0.3632000207111838,
          0.5246297345959616,
          -0.8406442737890164,
          -0.30471587593055305,
          0.11002914869335803,
          -0.7770599281428845,
          -1.041800451056623,
          -0.9368605859558401,
          1.7229026947754391,
          -0.3620596398305359,
          0.4949821171328368,
          -1.5512318236277358,
          1.4494671490438522,
          -0.8823861526943375,
          -0.22564121684055144,
          -0.7154859681767155,
          -1.0820544326577435,
          -0.15522332326670543,
          -0.7164670995786423,
          0.2804719336161431,
          -0.2051279121244869,
          -1.5782948712181395,
          -1.6263700275222348,
          0.7739434861128113,
          1.3095508145895705,
          -1.2225798792362865,
          1.121663384493526,
          -1.4332480938692411,
          0.9030413351881482,
          0.006778345110963212,
          -0.23949189864348985,
          -0.04759875800248899,
          1.4895830215386634,
          0.34389886769741146,
          0.25995771804344314,
          1.7315562384553185,
          1.8352822475616812,
          -0.5177595834240207,
          1.8250101308281006,
          0.8931273429782042,
          0.653976849766924,
          0.2047316783716681,
          0.3021811973823506,
          -2.2920227763677037,
          0.3262921101530418,
          -0.3354101817456763,
          -1.2533302192795022,
          0.11168265476850534,
          -1.0357739867335003,
          0.528326646172122,
          0.4110942155465323,
          0.5074870135166899,
          -0.8819865735203064,
          -1.3814733121407319,
          0.022845539968953,
          -0.28094217851010267,
          0.48606511891207504,
          1.7050928660376112,
          -0.5609434522847258,
          -0.3087151772829456,
          -0.21422050977795287,
          0.732410209205975,
          -0.896156752315307,
          -0.748927157879648,
          0.006314657490310105,
          -1.1216573254922337,
          -0.5118157861492615,
          0.36209901117936405,
          -1.0880514683970912,
          0.46632807066648674,
          -0.022897289258460102,
          1.2856654258471698,
          -0.24579209518601375,
          -0.31100397594352286,
          0.0904341764974058,
          -1.1641298986673796,
          0.13704345571697643,
          0.1676107315041115,
          -0.3185357210445539,
          -0.6292950421730465,
          1.6062211256891819,
          -0.066381667278134,
          0.7151003365735614,
          0.3931328546294085,
          0.39143520976327495,
          -0.6355055797809678,
          0.09861609523459006,
          -1.2784322496774305
         ]
        },
        {
         "connectgaps": false,
         "fill": "tozeroy",
         "line": {
          "color": "green",
          "dash": "solid",
          "shape": "linear",
          "width": 0.5
         },
         "mode": "lines",
         "name": "Spread",
         "showlegend": false,
         "type": "scatter",
         "x": [
          0,
          1,
          2,
          3,
          4,
          5,
          6,
          7,
          8,
          9,
          10,
          11,
          12,
          13,
          14,
          15,
          16,
          17,
          18,
          19,
          20,
          21,
          22,
          23,
          24,
          25,
          26,
          27,
          28,
          29,
          30,
          31,
          32,
          33,
          34,
          35,
          36,
          37,
          38,
          39,
          40,
          41,
          42,
          43,
          44,
          45,
          46,
          47,
          48,
          49,
          50,
          51,
          52,
          53,
          54,
          55,
          56,
          57,
          58,
          59,
          60,
          61,
          62,
          63,
          64,
          65,
          66,
          67,
          68,
          69,
          70,
          71,
          72,
          73,
          74,
          75,
          76,
          77,
          78,
          79,
          80,
          81,
          82,
          83,
          84,
          85,
          86,
          87,
          88,
          89,
          90,
          91,
          92,
          93,
          94,
          95,
          96,
          97,
          98,
          99
         ],
         "xaxis": "x2",
         "y": [
          "",
          "",
          "",
          "",
          0.4391792366469954,
          1.6024526376765822,
          "",
          0.9276160742919823,
          0.761136244577473,
          "",
          1.8275805173915094,
          "",
          0.011820914733535748,
          "",
          "",
          "",
          "",
          0.5513609529429637,
          0.004074753750417548,
          0.5315257217935628,
          "",
          0.02239283344006887,
          "",
          2.0788752412732467,
          "",
          1.0178677700195613,
          0.9479667514862722,
          "",
          2.4560996874723946,
          "",
          1.1078709911293643,
          "",
          0.0190099365148845,
          1.0343038292735,
          0.8391171069281324,
          0.5782096849333253,
          "",
          0.7865773823659317,
          "",
          "",
          "",
          "",
          "",
          1.7649997046361154,
          "",
          0.5507893120678109,
          "",
          "",
          "",
          0.9389415838185469,
          "",
          "",
          "",
          0.7074871996274508,
          "",
          0.24217917089799057,
          1.5188726289974688,
          2.1712369536296734,
          1.7047348314340836,
          "",
          1.6397112831637148,
          "",
          "",
          "",
          "",
          1.4616878504793938,
          0.8153233841403857,
          "",
          "",
          "",
          "",
          1.211099761942021,
          0.4542379501872058,
          "",
          0.39807726978411007,
          "",
          "",
          0.6692973138319918,
          1.1709906881721808,
          "",
          1.6915600758049805,
          "",
          "",
          "",
          "",
          1.8069613804247489,
          "",
          1.48359098028007,
          "",
          "",
          2.108951439944166,
          1.0345853187604432,
          0.271315290187911,
          0.07965635154283517,
          "",
          0.06158505354324517,
          "",
          "",
          "",
          0.10296724480540487
         ],
         "yaxis": "y2"
        },
        {
         "connectgaps": false,
         "fill": "tozeroy",
         "line": {
          "color": "red",
          "dash": "solid",
          "shape": "linear",
          "width": 0.5
         },
         "mode": "lines",
         "name": "Spread",
         "showlegend": false,
         "type": "scatter",
         "x": [
          0,
          1,
          2,
          3,
          4,
          5,
          6,
          7,
          8,
          9,
          10,
          11,
          12,
          13,
          14,
          15,
          16,
          17,
          18,
          19,
          20,
          21,
          22,
          23,
          24,
          25,
          26,
          27,
          28,
          29,
          30,
          31,
          32,
          33,
          34,
          35,
          36,
          37,
          38,
          39,
          40,
          41,
          42,
          43,
          44,
          45,
          46,
          47,
          48,
          49,
          50,
          51,
          52,
          53,
          54,
          55,
          56,
          57,
          58,
          59,
          60,
          61,
          62,
          63,
          64,
          65,
          66,
          67,
          68,
          69,
          70,
          71,
          72,
          73,
          74,
          75,
          76,
          77,
          78,
          79,
          80,
          81,
          82,
          83,
          84,
          85,
          86,
          87,
          88,
          89,
          90,
          91,
          92,
          93,
          94,
          95,
          96,
          97,
          98,
          99
         ],
         "xaxis": "x2",
         "y": [
          -2.4226927813907966,
          -0.08579648774967774,
          -0.4606709678876263,
          -0.7511266474076843,
          "",
          "",
          -0.919203495533521,
          "",
          "",
          -2.092387166198055,
          "",
          -1.8865220090385173,
          "",
          -0.5239621785520863,
          -1.2594429049915954,
          -0.14816937184567724,
          -1.1799118897610876,
          "",
          "",
          "",
          -1.0398596664362438,
          "",
          -1.3619384322800043,
          "",
          -1.5327958001081161,
          "",
          "",
          -0.10208671771144862,
          "",
          -0.4104740522247452,
          "",
          -0.11976997512553636,
          "",
          "",
          "",
          "",
          -2.2790445645503055,
          "",
          -1.2402111609219157,
          -0.3690672023759811,
          -2.660136376363091,
          -0.3618809131238188,
          -0.7335219696849238,
          "",
          -2.529895509781701,
          "",
          -0.7411957311704401,
          -1.9116641119672688,
          -2.226098377339965,
          "",
          -0.9310854656000264,
          -0.5933020524773325,
          -0.8445123703253629,
          "",
          -0.2742629614863159,
          "",
          "",
          "",
          "",
          -1.4270306397116166,
          "",
          -0.3316234186526706,
          -0.6082815528885288,
          -1.5499323761506472,
          -0.4096459116572325,
          "",
          "",
          -0.9912471000999359,
          -0.11284730210071825,
          -1.6523259786906088,
          -1.406553432748633,
          "",
          "",
          -0.7867019117306187,
          "",
          -0.7034559251654701,
          -0.948172264919647,
          "",
          "",
          -0.8472511877399131,
          "",
          -1.0002166560764922,
          -0.9226159406640317,
          -2.204112355355382,
          -0.23672013700333927,
          "",
          -0.20852466762285085,
          "",
          -1.422317322784906,
          -0.7609773965783102,
          "",
          "",
          "",
          "",
          -2.925906769307977,
          "",
          -0.9009507075510549,
          -0.32752833504870393,
          -1.2609753832881903,
          ""
         ],
         "yaxis": "y2"
        }
       ],
       "layout": {
        "hovermode": "x",
        "legend": {
         "bgcolor": "#F5F6F9",
         "font": {
          "color": "#4D5663"
         }
        },
        "paper_bgcolor": "#F5F6F9",
        "plot_bgcolor": "#F5F6F9",
        "template": {
         "data": {
          "bar": [
           {
            "error_x": {
             "color": "#2a3f5f"
            },
            "error_y": {
             "color": "#2a3f5f"
            },
            "marker": {
             "line": {
              "color": "#E5ECF6",
              "width": 0.5
             }
            },
            "type": "bar"
           }
          ],
          "barpolar": [
           {
            "marker": {
             "line": {
              "color": "#E5ECF6",
              "width": 0.5
             }
            },
            "type": "barpolar"
           }
          ],
          "carpet": [
           {
            "aaxis": {
             "endlinecolor": "#2a3f5f",
             "gridcolor": "white",
             "linecolor": "white",
             "minorgridcolor": "white",
             "startlinecolor": "#2a3f5f"
            },
            "baxis": {
             "endlinecolor": "#2a3f5f",
             "gridcolor": "white",
             "linecolor": "white",
             "minorgridcolor": "white",
             "startlinecolor": "#2a3f5f"
            },
            "type": "carpet"
           }
          ],
          "choropleth": [
           {
            "colorbar": {
             "outlinewidth": 0,
             "ticks": ""
            },
            "type": "choropleth"
           }
          ],
          "contour": [
           {
            "colorbar": {
             "outlinewidth": 0,
             "ticks": ""
            },
            "colorscale": [
             [
              0,
              "#0d0887"
             ],
             [
              0.1111111111111111,
              "#46039f"
             ],
             [
              0.2222222222222222,
              "#7201a8"
             ],
             [
              0.3333333333333333,
              "#9c179e"
             ],
             [
              0.4444444444444444,
              "#bd3786"
             ],
             [
              0.5555555555555556,
              "#d8576b"
             ],
             [
              0.6666666666666666,
              "#ed7953"
             ],
             [
              0.7777777777777778,
              "#fb9f3a"
             ],
             [
              0.8888888888888888,
              "#fdca26"
             ],
             [
              1,
              "#f0f921"
             ]
            ],
            "type": "contour"
           }
          ],
          "contourcarpet": [
           {
            "colorbar": {
             "outlinewidth": 0,
             "ticks": ""
            },
            "type": "contourcarpet"
           }
          ],
          "heatmap": [
           {
            "colorbar": {
             "outlinewidth": 0,
             "ticks": ""
            },
            "colorscale": [
             [
              0,
              "#0d0887"
             ],
             [
              0.1111111111111111,
              "#46039f"
             ],
             [
              0.2222222222222222,
              "#7201a8"
             ],
             [
              0.3333333333333333,
              "#9c179e"
             ],
             [
              0.4444444444444444,
              "#bd3786"
             ],
             [
              0.5555555555555556,
              "#d8576b"
             ],
             [
              0.6666666666666666,
              "#ed7953"
             ],
             [
              0.7777777777777778,
              "#fb9f3a"
             ],
             [
              0.8888888888888888,
              "#fdca26"
             ],
             [
              1,
              "#f0f921"
             ]
            ],
            "type": "heatmap"
           }
          ],
          "heatmapgl": [
           {
            "colorbar": {
             "outlinewidth": 0,
             "ticks": ""
            },
            "colorscale": [
             [
              0,
              "#0d0887"
             ],
             [
              0.1111111111111111,
              "#46039f"
             ],
             [
              0.2222222222222222,
              "#7201a8"
             ],
             [
              0.3333333333333333,
              "#9c179e"
             ],
             [
              0.4444444444444444,
              "#bd3786"
             ],
             [
              0.5555555555555556,
              "#d8576b"
             ],
             [
              0.6666666666666666,
              "#ed7953"
             ],
             [
              0.7777777777777778,
              "#fb9f3a"
             ],
             [
              0.8888888888888888,
              "#fdca26"
             ],
             [
              1,
              "#f0f921"
             ]
            ],
            "type": "heatmapgl"
           }
          ],
          "histogram": [
           {
            "marker": {
             "colorbar": {
              "outlinewidth": 0,
              "ticks": ""
             }
            },
            "type": "histogram"
           }
          ],
          "histogram2d": [
           {
            "colorbar": {
             "outlinewidth": 0,
             "ticks": ""
            },
            "colorscale": [
             [
              0,
              "#0d0887"
             ],
             [
              0.1111111111111111,
              "#46039f"
             ],
             [
              0.2222222222222222,
              "#7201a8"
             ],
             [
              0.3333333333333333,
              "#9c179e"
             ],
             [
              0.4444444444444444,
              "#bd3786"
             ],
             [
              0.5555555555555556,
              "#d8576b"
             ],
             [
              0.6666666666666666,
              "#ed7953"
             ],
             [
              0.7777777777777778,
              "#fb9f3a"
             ],
             [
              0.8888888888888888,
              "#fdca26"
             ],
             [
              1,
              "#f0f921"
             ]
            ],
            "type": "histogram2d"
           }
          ],
          "histogram2dcontour": [
           {
            "colorbar": {
             "outlinewidth": 0,
             "ticks": ""
            },
            "colorscale": [
             [
              0,
              "#0d0887"
             ],
             [
              0.1111111111111111,
              "#46039f"
             ],
             [
              0.2222222222222222,
              "#7201a8"
             ],
             [
              0.3333333333333333,
              "#9c179e"
             ],
             [
              0.4444444444444444,
              "#bd3786"
             ],
             [
              0.5555555555555556,
              "#d8576b"
             ],
             [
              0.6666666666666666,
              "#ed7953"
             ],
             [
              0.7777777777777778,
              "#fb9f3a"
             ],
             [
              0.8888888888888888,
              "#fdca26"
             ],
             [
              1,
              "#f0f921"
             ]
            ],
            "type": "histogram2dcontour"
           }
          ],
          "mesh3d": [
           {
            "colorbar": {
             "outlinewidth": 0,
             "ticks": ""
            },
            "type": "mesh3d"
           }
          ],
          "parcoords": [
           {
            "line": {
             "colorbar": {
              "outlinewidth": 0,
              "ticks": ""
             }
            },
            "type": "parcoords"
           }
          ],
          "pie": [
           {
            "automargin": true,
            "type": "pie"
           }
          ],
          "scatter": [
           {
            "marker": {
             "colorbar": {
              "outlinewidth": 0,
              "ticks": ""
             }
            },
            "type": "scatter"
           }
          ],
          "scatter3d": [
           {
            "line": {
             "colorbar": {
              "outlinewidth": 0,
              "ticks": ""
             }
            },
            "marker": {
             "colorbar": {
              "outlinewidth": 0,
              "ticks": ""
             }
            },
            "type": "scatter3d"
           }
          ],
          "scattercarpet": [
           {
            "marker": {
             "colorbar": {
              "outlinewidth": 0,
              "ticks": ""
             }
            },
            "type": "scattercarpet"
           }
          ],
          "scattergeo": [
           {
            "marker": {
             "colorbar": {
              "outlinewidth": 0,
              "ticks": ""
             }
            },
            "type": "scattergeo"
           }
          ],
          "scattergl": [
           {
            "marker": {
             "colorbar": {
              "outlinewidth": 0,
              "ticks": ""
             }
            },
            "type": "scattergl"
           }
          ],
          "scattermapbox": [
           {
            "marker": {
             "colorbar": {
              "outlinewidth": 0,
              "ticks": ""
             }
            },
            "type": "scattermapbox"
           }
          ],
          "scatterpolar": [
           {
            "marker": {
             "colorbar": {
              "outlinewidth": 0,
              "ticks": ""
             }
            },
            "type": "scatterpolar"
           }
          ],
          "scatterpolargl": [
           {
            "marker": {
             "colorbar": {
              "outlinewidth": 0,
              "ticks": ""
             }
            },
            "type": "scatterpolargl"
           }
          ],
          "scatterternary": [
           {
            "marker": {
             "colorbar": {
              "outlinewidth": 0,
              "ticks": ""
             }
            },
            "type": "scatterternary"
           }
          ],
          "surface": [
           {
            "colorbar": {
             "outlinewidth": 0,
             "ticks": ""
            },
            "colorscale": [
             [
              0,
              "#0d0887"
             ],
             [
              0.1111111111111111,
              "#46039f"
             ],
             [
              0.2222222222222222,
              "#7201a8"
             ],
             [
              0.3333333333333333,
              "#9c179e"
             ],
             [
              0.4444444444444444,
              "#bd3786"
             ],
             [
              0.5555555555555556,
              "#d8576b"
             ],
             [
              0.6666666666666666,
              "#ed7953"
             ],
             [
              0.7777777777777778,
              "#fb9f3a"
             ],
             [
              0.8888888888888888,
              "#fdca26"
             ],
             [
              1,
              "#f0f921"
             ]
            ],
            "type": "surface"
           }
          ],
          "table": [
           {
            "cells": {
             "fill": {
              "color": "#EBF0F8"
             },
             "line": {
              "color": "white"
             }
            },
            "header": {
             "fill": {
              "color": "#C8D4E3"
             },
             "line": {
              "color": "white"
             }
            },
            "type": "table"
           }
          ]
         },
         "layout": {
          "annotationdefaults": {
           "arrowcolor": "#2a3f5f",
           "arrowhead": 0,
           "arrowwidth": 1
          },
          "autotypenumbers": "strict",
          "coloraxis": {
           "colorbar": {
            "outlinewidth": 0,
            "ticks": ""
           }
          },
          "colorscale": {
           "diverging": [
            [
             0,
             "#8e0152"
            ],
            [
             0.1,
             "#c51b7d"
            ],
            [
             0.2,
             "#de77ae"
            ],
            [
             0.3,
             "#f1b6da"
            ],
            [
             0.4,
             "#fde0ef"
            ],
            [
             0.5,
             "#f7f7f7"
            ],
            [
             0.6,
             "#e6f5d0"
            ],
            [
             0.7,
             "#b8e186"
            ],
            [
             0.8,
             "#7fbc41"
            ],
            [
             0.9,
             "#4d9221"
            ],
            [
             1,
             "#276419"
            ]
           ],
           "sequential": [
            [
             0,
             "#0d0887"
            ],
            [
             0.1111111111111111,
             "#46039f"
            ],
            [
             0.2222222222222222,
             "#7201a8"
            ],
            [
             0.3333333333333333,
             "#9c179e"
            ],
            [
             0.4444444444444444,
             "#bd3786"
            ],
            [
             0.5555555555555556,
             "#d8576b"
            ],
            [
             0.6666666666666666,
             "#ed7953"
            ],
            [
             0.7777777777777778,
             "#fb9f3a"
            ],
            [
             0.8888888888888888,
             "#fdca26"
            ],
            [
             1,
             "#f0f921"
            ]
           ],
           "sequentialminus": [
            [
             0,
             "#0d0887"
            ],
            [
             0.1111111111111111,
             "#46039f"
            ],
            [
             0.2222222222222222,
             "#7201a8"
            ],
            [
             0.3333333333333333,
             "#9c179e"
            ],
            [
             0.4444444444444444,
             "#bd3786"
            ],
            [
             0.5555555555555556,
             "#d8576b"
            ],
            [
             0.6666666666666666,
             "#ed7953"
            ],
            [
             0.7777777777777778,
             "#fb9f3a"
            ],
            [
             0.8888888888888888,
             "#fdca26"
            ],
            [
             1,
             "#f0f921"
            ]
           ]
          },
          "colorway": [
           "#636efa",
           "#EF553B",
           "#00cc96",
           "#ab63fa",
           "#FFA15A",
           "#19d3f3",
           "#FF6692",
           "#B6E880",
           "#FF97FF",
           "#FECB52"
          ],
          "font": {
           "color": "#2a3f5f"
          },
          "geo": {
           "bgcolor": "white",
           "lakecolor": "white",
           "landcolor": "#E5ECF6",
           "showlakes": true,
           "showland": true,
           "subunitcolor": "white"
          },
          "hoverlabel": {
           "align": "left"
          },
          "hovermode": "closest",
          "mapbox": {
           "style": "light"
          },
          "paper_bgcolor": "white",
          "plot_bgcolor": "#E5ECF6",
          "polar": {
           "angularaxis": {
            "gridcolor": "white",
            "linecolor": "white",
            "ticks": ""
           },
           "bgcolor": "#E5ECF6",
           "radialaxis": {
            "gridcolor": "white",
            "linecolor": "white",
            "ticks": ""
           }
          },
          "scene": {
           "xaxis": {
            "backgroundcolor": "#E5ECF6",
            "gridcolor": "white",
            "gridwidth": 2,
            "linecolor": "white",
            "showbackground": true,
            "ticks": "",
            "zerolinecolor": "white"
           },
           "yaxis": {
            "backgroundcolor": "#E5ECF6",
            "gridcolor": "white",
            "gridwidth": 2,
            "linecolor": "white",
            "showbackground": true,
            "ticks": "",
            "zerolinecolor": "white"
           },
           "zaxis": {
            "backgroundcolor": "#E5ECF6",
            "gridcolor": "white",
            "gridwidth": 2,
            "linecolor": "white",
            "showbackground": true,
            "ticks": "",
            "zerolinecolor": "white"
           }
          },
          "shapedefaults": {
           "line": {
            "color": "#2a3f5f"
           }
          },
          "ternary": {
           "aaxis": {
            "gridcolor": "white",
            "linecolor": "white",
            "ticks": ""
           },
           "baxis": {
            "gridcolor": "white",
            "linecolor": "white",
            "ticks": ""
           },
           "bgcolor": "#E5ECF6",
           "caxis": {
            "gridcolor": "white",
            "linecolor": "white",
            "ticks": ""
           }
          },
          "title": {
           "x": 0.05
          },
          "xaxis": {
           "automargin": true,
           "gridcolor": "white",
           "linecolor": "white",
           "ticks": "",
           "title": {
            "standoff": 15
           },
           "zerolinecolor": "white",
           "zerolinewidth": 2
          },
          "yaxis": {
           "automargin": true,
           "gridcolor": "white",
           "linecolor": "white",
           "ticks": "",
           "title": {
            "standoff": 15
           },
           "zerolinecolor": "white",
           "zerolinewidth": 2
          }
         }
        },
        "title": {
         "font": {
          "color": "#4D5663"
         }
        },
        "xaxis": {
         "gridcolor": "#E1E5ED",
         "showgrid": true,
         "tickfont": {
          "color": "#4D5663"
         },
         "title": {
          "font": {
           "color": "#4D5663"
          },
          "text": ""
         },
         "zerolinecolor": "#E1E5ED"
        },
        "xaxis2": {
         "anchor": "y2",
         "gridcolor": "#E1E5ED",
         "showgrid": true,
         "showticklabels": false,
         "tickfont": {
          "color": "#4D5663"
         },
         "title": {
          "font": {
           "color": "#4D5663"
          },
          "text": ""
         },
         "zerolinecolor": "#E1E5ED"
        },
        "yaxis": {
         "domain": [
          0.3,
          1
         ],
         "gridcolor": "#E1E5ED",
         "showgrid": true,
         "tickfont": {
          "color": "#4D5663"
         },
         "title": {
          "font": {
           "color": "#4D5663"
          },
          "text": ""
         },
         "zerolinecolor": "#E1E5ED"
        },
        "yaxis2": {
         "domain": [
          0,
          0.25
         ],
         "gridcolor": "#E1E5ED",
         "showgrid": true,
         "tickfont": {
          "color": "#4D5663"
         },
         "title": {
          "font": {
           "color": "#4D5663"
          },
          "text": "Spread"
         },
         "zerolinecolor": "#E1E5ED"
        }
       }
      },
      "text/html": "<div>                            <div id=\"2d2b2693-7dd0-46fd-82d4-7142d7c938e5\" class=\"plotly-graph-div\" style=\"height:525px; width:100%;\"></div>            <script type=\"text/javascript\">                require([\"plotly\"], function(Plotly) {                    window.PLOTLYENV=window.PLOTLYENV || {};\n                    window.PLOTLYENV.BASE_URL='https://plot.ly';                                    if (document.getElementById(\"2d2b2693-7dd0-46fd-82d4-7142d7c938e5\")) {                    Plotly.newPlot(                        \"2d2b2693-7dd0-46fd-82d4-7142d7c938e5\",                        [{\"line\": {\"color\": \"rgba(255, 153, 51, 1.0)\", \"dash\": \"solid\", \"shape\": \"linear\", \"width\": 1.3}, \"mode\": \"lines\", \"name\": \"A\", \"text\": \"\", \"type\": \"scatter\", \"x\": [0, 1, 2, 3, 4, 5, 6, 7, 8, 9, 10, 11, 12, 13, 14, 15, 16, 17, 18, 19, 20, 21, 22, 23, 24, 25, 26, 27, 28, 29, 30, 31, 32, 33, 34, 35, 36, 37, 38, 39, 40, 41, 42, 43, 44, 45, 46, 47, 48, 49, 50, 51, 52, 53, 54, 55, 56, 57, 58, 59, 60, 61, 62, 63, 64, 65, 66, 67, 68, 69, 70, 71, 72, 73, 74, 75, 76, 77, 78, 79, 80, 81, 82, 83, 84, 85, 86, 87, 88, 89, 90, 91, 92, 93, 94, 95, 96, 97, 98, 99], \"y\": [-1.6034591679105978, 0.6744517866256291, 0.16873903499098108, -0.7120838114462832, 0.23617682794395775, 1.180677289914722, -0.9243405825078829, 0.3249744142267152, 0.24123007955726194, -1.371775940963692, 2.0299735784534514, -1.638278538950703, -0.35137910597764804, 0.000667556043875359, -2.100087178780612, -0.4528852477762303, -1.0698827410677296, -0.22569897519992077, -1.0377256973062055, -0.40533486416227726, 0.6830430283391952, -0.33966680639046704, -0.8669563151471675, 0.527643417645511, -0.0833286510642639, 0.13548161732522387, 0.7223255346457207, -0.8175726858881641, 1.374045254814651, -0.5656973754914506, 0.39140389155072197, 0.16070195849060673, -0.1861179756096024, -0.5439910419446394, -0.7872529205941025, 1.3521531710461365, -0.969493749960735, -0.4360024968703549, -0.11854777642838966, -1.8023152962452222, -1.7570950411749429, -0.3551025680128556, -0.9730138683284136, 1.7174009466336264, -1.0403124882430377, 0.8946881797652224, -0.481238013126997, -0.1801078735119504, -0.3908161297782836, 0.4211820003945261, 0.8939246652280742, 0.29982529050087176, -0.19053552055843878, 0.9122188779991189, 0.02791823589603473, -2.049843605469713, 1.8451647391505106, 1.835826771883997, 0.4514046121545814, -1.3153479849431113, 0.6039372964302147, 0.1967032275194514, -0.19718733734199645, -1.0424453626339572, -1.291632485177539, 0.08021453833866193, 0.8381689241093387, -1.2721892786100386, 0.3732178168113568, 0.05276688734700252, -1.967496885033359, 0.9023845846590755, 0.24001744040925296, -0.05429170252464368, -0.49807948253119694, -1.452383083045118, -0.9418576074293369, -0.4523600116602419, 0.6591749020229192, -0.48515217656054904, 0.6035086074078894, -0.5338885854100055, -0.9455132299224919, -0.9184469295082123, -0.482512232189353, 1.495957404481226, -0.11809049112544505, 0.3194610816126905, -1.2852738670679296, -0.5933666650741988, 1.7904157188996117, 0.4052902765873968, 1.8775364158770929, 0.01327468426470117, -2.2108064327344157, 0.4547179081726537, -0.5095154977877799, -0.9630339148296717, -1.1623592880536002, -1.1754650048720257]}, {\"line\": {\"color\": \"rgba(55, 128, 191, 1.0)\", \"dash\": \"solid\", \"shape\": \"linear\", \"width\": 1.3}, \"mode\": \"lines\", \"name\": \"B\", \"text\": \"\", \"type\": \"scatter\", \"x\": [0, 1, 2, 3, 4, 5, 6, 7, 8, 9, 10, 11, 12, 13, 14, 15, 16, 17, 18, 19, 20, 21, 22, 23, 24, 25, 26, 27, 28, 29, 30, 31, 32, 33, 34, 35, 36, 37, 38, 39, 40, 41, 42, 43, 44, 45, 46, 47, 48, 49, 50, 51, 52, 53, 54, 55, 56, 57, 58, 59, 60, 61, 62, 63, 64, 65, 66, 67, 68, 69, 70, 71, 72, 73, 74, 75, 76, 77, 78, 79, 80, 81, 82, 83, 84, 85, 86, 87, 88, 89, 90, 91, 92, 93, 94, 95, 96, 97, 98, 99], \"y\": [0.8192336134801987, 0.7602482743753068, 0.6294100028786074, 0.03904283596140118, -0.20300240870303762, -0.4217753477618602, -0.005137086974361876, -0.6026416600652672, -0.519906165020211, 0.7206112252343626, 0.20239306106194205, 0.24824347008781414, -0.3632000207111838, 0.5246297345959616, -0.8406442737890164, -0.30471587593055305, 0.11002914869335803, -0.7770599281428845, -1.041800451056623, -0.9368605859558401, 1.7229026947754391, -0.3620596398305359, 0.4949821171328368, -1.5512318236277358, 1.4494671490438522, -0.8823861526943375, -0.22564121684055144, -0.7154859681767155, -1.0820544326577435, -0.15522332326670543, -0.7164670995786423, 0.2804719336161431, -0.2051279121244869, -1.5782948712181395, -1.6263700275222348, 0.7739434861128113, 1.3095508145895705, -1.2225798792362865, 1.121663384493526, -1.4332480938692411, 0.9030413351881482, 0.006778345110963212, -0.23949189864348985, -0.04759875800248899, 1.4895830215386634, 0.34389886769741146, 0.25995771804344314, 1.7315562384553185, 1.8352822475616812, -0.5177595834240207, 1.8250101308281006, 0.8931273429782042, 0.653976849766924, 0.2047316783716681, 0.3021811973823506, -2.2920227763677037, 0.3262921101530418, -0.3354101817456763, -1.2533302192795022, 0.11168265476850534, -1.0357739867335003, 0.528326646172122, 0.4110942155465323, 0.5074870135166899, -0.8819865735203064, -1.3814733121407319, 0.022845539968953, -0.28094217851010267, 0.48606511891207504, 1.7050928660376112, -0.5609434522847258, -0.3087151772829456, -0.21422050977795287, 0.732410209205975, -0.896156752315307, -0.748927157879648, 0.006314657490310105, -1.1216573254922337, -0.5118157861492615, 0.36209901117936405, -1.0880514683970912, 0.46632807066648674, -0.022897289258460102, 1.2856654258471698, -0.24579209518601375, -0.31100397594352286, 0.0904341764974058, -1.1641298986673796, 0.13704345571697643, 0.1676107315041115, -0.3185357210445539, -0.6292950421730465, 1.6062211256891819, -0.066381667278134, 0.7151003365735614, 0.3931328546294085, 0.39143520976327495, -0.6355055797809678, 0.09861609523459006, -1.2784322496774305]}, {\"connectgaps\": false, \"fill\": \"tozeroy\", \"line\": {\"color\": \"green\", \"dash\": \"solid\", \"shape\": \"linear\", \"width\": 0.5}, \"mode\": \"lines\", \"name\": \"Spread\", \"showlegend\": false, \"type\": \"scatter\", \"x\": [0, 1, 2, 3, 4, 5, 6, 7, 8, 9, 10, 11, 12, 13, 14, 15, 16, 17, 18, 19, 20, 21, 22, 23, 24, 25, 26, 27, 28, 29, 30, 31, 32, 33, 34, 35, 36, 37, 38, 39, 40, 41, 42, 43, 44, 45, 46, 47, 48, 49, 50, 51, 52, 53, 54, 55, 56, 57, 58, 59, 60, 61, 62, 63, 64, 65, 66, 67, 68, 69, 70, 71, 72, 73, 74, 75, 76, 77, 78, 79, 80, 81, 82, 83, 84, 85, 86, 87, 88, 89, 90, 91, 92, 93, 94, 95, 96, 97, 98, 99], \"xaxis\": \"x2\", \"y\": [\"\", \"\", \"\", \"\", 0.4391792366469954, 1.6024526376765822, \"\", 0.9276160742919823, 0.761136244577473, \"\", 1.8275805173915094, \"\", 0.011820914733535748, \"\", \"\", \"\", \"\", 0.5513609529429637, 0.004074753750417548, 0.5315257217935628, \"\", 0.02239283344006887, \"\", 2.0788752412732467, \"\", 1.0178677700195613, 0.9479667514862722, \"\", 2.4560996874723946, \"\", 1.1078709911293643, \"\", 0.0190099365148845, 1.0343038292735, 0.8391171069281324, 0.5782096849333253, \"\", 0.7865773823659317, \"\", \"\", \"\", \"\", \"\", 1.7649997046361154, \"\", 0.5507893120678109, \"\", \"\", \"\", 0.9389415838185469, \"\", \"\", \"\", 0.7074871996274508, \"\", 0.24217917089799057, 1.5188726289974688, 2.1712369536296734, 1.7047348314340836, \"\", 1.6397112831637148, \"\", \"\", \"\", \"\", 1.4616878504793938, 0.8153233841403857, \"\", \"\", \"\", \"\", 1.211099761942021, 0.4542379501872058, \"\", 0.39807726978411007, \"\", \"\", 0.6692973138319918, 1.1709906881721808, \"\", 1.6915600758049805, \"\", \"\", \"\", \"\", 1.8069613804247489, \"\", 1.48359098028007, \"\", \"\", 2.108951439944166, 1.0345853187604432, 0.271315290187911, 0.07965635154283517, \"\", 0.06158505354324517, \"\", \"\", \"\", 0.10296724480540487], \"yaxis\": \"y2\"}, {\"connectgaps\": false, \"fill\": \"tozeroy\", \"line\": {\"color\": \"red\", \"dash\": \"solid\", \"shape\": \"linear\", \"width\": 0.5}, \"mode\": \"lines\", \"name\": \"Spread\", \"showlegend\": false, \"type\": \"scatter\", \"x\": [0, 1, 2, 3, 4, 5, 6, 7, 8, 9, 10, 11, 12, 13, 14, 15, 16, 17, 18, 19, 20, 21, 22, 23, 24, 25, 26, 27, 28, 29, 30, 31, 32, 33, 34, 35, 36, 37, 38, 39, 40, 41, 42, 43, 44, 45, 46, 47, 48, 49, 50, 51, 52, 53, 54, 55, 56, 57, 58, 59, 60, 61, 62, 63, 64, 65, 66, 67, 68, 69, 70, 71, 72, 73, 74, 75, 76, 77, 78, 79, 80, 81, 82, 83, 84, 85, 86, 87, 88, 89, 90, 91, 92, 93, 94, 95, 96, 97, 98, 99], \"xaxis\": \"x2\", \"y\": [-2.4226927813907966, -0.08579648774967774, -0.4606709678876263, -0.7511266474076843, \"\", \"\", -0.919203495533521, \"\", \"\", -2.092387166198055, \"\", -1.8865220090385173, \"\", -0.5239621785520863, -1.2594429049915954, -0.14816937184567724, -1.1799118897610876, \"\", \"\", \"\", -1.0398596664362438, \"\", -1.3619384322800043, \"\", -1.5327958001081161, \"\", \"\", -0.10208671771144862, \"\", -0.4104740522247452, \"\", -0.11976997512553636, \"\", \"\", \"\", \"\", -2.2790445645503055, \"\", -1.2402111609219157, -0.3690672023759811, -2.660136376363091, -0.3618809131238188, -0.7335219696849238, \"\", -2.529895509781701, \"\", -0.7411957311704401, -1.9116641119672688, -2.226098377339965, \"\", -0.9310854656000264, -0.5933020524773325, -0.8445123703253629, \"\", -0.2742629614863159, \"\", \"\", \"\", \"\", -1.4270306397116166, \"\", -0.3316234186526706, -0.6082815528885288, -1.5499323761506472, -0.4096459116572325, \"\", \"\", -0.9912471000999359, -0.11284730210071825, -1.6523259786906088, -1.406553432748633, \"\", \"\", -0.7867019117306187, \"\", -0.7034559251654701, -0.948172264919647, \"\", \"\", -0.8472511877399131, \"\", -1.0002166560764922, -0.9226159406640317, -2.204112355355382, -0.23672013700333927, \"\", -0.20852466762285085, \"\", -1.422317322784906, -0.7609773965783102, \"\", \"\", \"\", \"\", -2.925906769307977, \"\", -0.9009507075510549, -0.32752833504870393, -1.2609753832881903, \"\"], \"yaxis\": \"y2\"}],                        {\"hovermode\": \"x\", \"legend\": {\"bgcolor\": \"#F5F6F9\", \"font\": {\"color\": \"#4D5663\"}}, \"paper_bgcolor\": \"#F5F6F9\", \"plot_bgcolor\": \"#F5F6F9\", \"template\": {\"data\": {\"bar\": [{\"error_x\": {\"color\": \"#2a3f5f\"}, \"error_y\": {\"color\": \"#2a3f5f\"}, \"marker\": {\"line\": {\"color\": \"#E5ECF6\", \"width\": 0.5}}, \"type\": \"bar\"}], \"barpolar\": [{\"marker\": {\"line\": {\"color\": \"#E5ECF6\", \"width\": 0.5}}, \"type\": \"barpolar\"}], \"carpet\": [{\"aaxis\": {\"endlinecolor\": \"#2a3f5f\", \"gridcolor\": \"white\", \"linecolor\": \"white\", \"minorgridcolor\": \"white\", \"startlinecolor\": \"#2a3f5f\"}, \"baxis\": {\"endlinecolor\": \"#2a3f5f\", \"gridcolor\": \"white\", \"linecolor\": \"white\", \"minorgridcolor\": \"white\", \"startlinecolor\": \"#2a3f5f\"}, \"type\": \"carpet\"}], \"choropleth\": [{\"colorbar\": {\"outlinewidth\": 0, \"ticks\": \"\"}, \"type\": \"choropleth\"}], \"contour\": [{\"colorbar\": {\"outlinewidth\": 0, \"ticks\": \"\"}, \"colorscale\": [[0.0, \"#0d0887\"], [0.1111111111111111, \"#46039f\"], [0.2222222222222222, \"#7201a8\"], [0.3333333333333333, \"#9c179e\"], [0.4444444444444444, \"#bd3786\"], [0.5555555555555556, \"#d8576b\"], [0.6666666666666666, \"#ed7953\"], [0.7777777777777778, \"#fb9f3a\"], [0.8888888888888888, \"#fdca26\"], [1.0, \"#f0f921\"]], \"type\": \"contour\"}], \"contourcarpet\": [{\"colorbar\": {\"outlinewidth\": 0, \"ticks\": \"\"}, \"type\": \"contourcarpet\"}], \"heatmap\": [{\"colorbar\": {\"outlinewidth\": 0, \"ticks\": \"\"}, \"colorscale\": [[0.0, \"#0d0887\"], [0.1111111111111111, \"#46039f\"], [0.2222222222222222, \"#7201a8\"], [0.3333333333333333, \"#9c179e\"], [0.4444444444444444, \"#bd3786\"], [0.5555555555555556, \"#d8576b\"], [0.6666666666666666, \"#ed7953\"], [0.7777777777777778, \"#fb9f3a\"], [0.8888888888888888, \"#fdca26\"], [1.0, \"#f0f921\"]], \"type\": \"heatmap\"}], \"heatmapgl\": [{\"colorbar\": {\"outlinewidth\": 0, \"ticks\": \"\"}, \"colorscale\": [[0.0, \"#0d0887\"], [0.1111111111111111, \"#46039f\"], [0.2222222222222222, \"#7201a8\"], [0.3333333333333333, \"#9c179e\"], [0.4444444444444444, \"#bd3786\"], [0.5555555555555556, \"#d8576b\"], [0.6666666666666666, \"#ed7953\"], [0.7777777777777778, \"#fb9f3a\"], [0.8888888888888888, \"#fdca26\"], [1.0, \"#f0f921\"]], \"type\": \"heatmapgl\"}], \"histogram\": [{\"marker\": {\"colorbar\": {\"outlinewidth\": 0, \"ticks\": \"\"}}, \"type\": \"histogram\"}], \"histogram2d\": [{\"colorbar\": {\"outlinewidth\": 0, \"ticks\": \"\"}, \"colorscale\": [[0.0, \"#0d0887\"], [0.1111111111111111, \"#46039f\"], [0.2222222222222222, \"#7201a8\"], [0.3333333333333333, \"#9c179e\"], [0.4444444444444444, \"#bd3786\"], [0.5555555555555556, \"#d8576b\"], [0.6666666666666666, \"#ed7953\"], [0.7777777777777778, \"#fb9f3a\"], [0.8888888888888888, \"#fdca26\"], [1.0, \"#f0f921\"]], \"type\": \"histogram2d\"}], \"histogram2dcontour\": [{\"colorbar\": {\"outlinewidth\": 0, \"ticks\": \"\"}, \"colorscale\": [[0.0, \"#0d0887\"], [0.1111111111111111, \"#46039f\"], [0.2222222222222222, \"#7201a8\"], [0.3333333333333333, \"#9c179e\"], [0.4444444444444444, \"#bd3786\"], [0.5555555555555556, \"#d8576b\"], [0.6666666666666666, \"#ed7953\"], [0.7777777777777778, \"#fb9f3a\"], [0.8888888888888888, \"#fdca26\"], [1.0, \"#f0f921\"]], \"type\": \"histogram2dcontour\"}], \"mesh3d\": [{\"colorbar\": {\"outlinewidth\": 0, \"ticks\": \"\"}, \"type\": \"mesh3d\"}], \"parcoords\": [{\"line\": {\"colorbar\": {\"outlinewidth\": 0, \"ticks\": \"\"}}, \"type\": \"parcoords\"}], \"pie\": [{\"automargin\": true, \"type\": \"pie\"}], \"scatter\": [{\"marker\": {\"colorbar\": {\"outlinewidth\": 0, \"ticks\": \"\"}}, \"type\": \"scatter\"}], \"scatter3d\": [{\"line\": {\"colorbar\": {\"outlinewidth\": 0, \"ticks\": \"\"}}, \"marker\": {\"colorbar\": {\"outlinewidth\": 0, \"ticks\": \"\"}}, \"type\": \"scatter3d\"}], \"scattercarpet\": [{\"marker\": {\"colorbar\": {\"outlinewidth\": 0, \"ticks\": \"\"}}, \"type\": \"scattercarpet\"}], \"scattergeo\": [{\"marker\": {\"colorbar\": {\"outlinewidth\": 0, \"ticks\": \"\"}}, \"type\": \"scattergeo\"}], \"scattergl\": [{\"marker\": {\"colorbar\": {\"outlinewidth\": 0, \"ticks\": \"\"}}, \"type\": \"scattergl\"}], \"scattermapbox\": [{\"marker\": {\"colorbar\": {\"outlinewidth\": 0, \"ticks\": \"\"}}, \"type\": \"scattermapbox\"}], \"scatterpolar\": [{\"marker\": {\"colorbar\": {\"outlinewidth\": 0, \"ticks\": \"\"}}, \"type\": \"scatterpolar\"}], \"scatterpolargl\": [{\"marker\": {\"colorbar\": {\"outlinewidth\": 0, \"ticks\": \"\"}}, \"type\": \"scatterpolargl\"}], \"scatterternary\": [{\"marker\": {\"colorbar\": {\"outlinewidth\": 0, \"ticks\": \"\"}}, \"type\": \"scatterternary\"}], \"surface\": [{\"colorbar\": {\"outlinewidth\": 0, \"ticks\": \"\"}, \"colorscale\": [[0.0, \"#0d0887\"], [0.1111111111111111, \"#46039f\"], [0.2222222222222222, \"#7201a8\"], [0.3333333333333333, \"#9c179e\"], [0.4444444444444444, \"#bd3786\"], [0.5555555555555556, \"#d8576b\"], [0.6666666666666666, \"#ed7953\"], [0.7777777777777778, \"#fb9f3a\"], [0.8888888888888888, \"#fdca26\"], [1.0, \"#f0f921\"]], \"type\": \"surface\"}], \"table\": [{\"cells\": {\"fill\": {\"color\": \"#EBF0F8\"}, \"line\": {\"color\": \"white\"}}, \"header\": {\"fill\": {\"color\": \"#C8D4E3\"}, \"line\": {\"color\": \"white\"}}, \"type\": \"table\"}]}, \"layout\": {\"annotationdefaults\": {\"arrowcolor\": \"#2a3f5f\", \"arrowhead\": 0, \"arrowwidth\": 1}, \"autotypenumbers\": \"strict\", \"coloraxis\": {\"colorbar\": {\"outlinewidth\": 0, \"ticks\": \"\"}}, \"colorscale\": {\"diverging\": [[0, \"#8e0152\"], [0.1, \"#c51b7d\"], [0.2, \"#de77ae\"], [0.3, \"#f1b6da\"], [0.4, \"#fde0ef\"], [0.5, \"#f7f7f7\"], [0.6, \"#e6f5d0\"], [0.7, \"#b8e186\"], [0.8, \"#7fbc41\"], [0.9, \"#4d9221\"], [1, \"#276419\"]], \"sequential\": [[0.0, \"#0d0887\"], [0.1111111111111111, \"#46039f\"], [0.2222222222222222, \"#7201a8\"], [0.3333333333333333, \"#9c179e\"], [0.4444444444444444, \"#bd3786\"], [0.5555555555555556, \"#d8576b\"], [0.6666666666666666, \"#ed7953\"], [0.7777777777777778, \"#fb9f3a\"], [0.8888888888888888, \"#fdca26\"], [1.0, \"#f0f921\"]], \"sequentialminus\": [[0.0, \"#0d0887\"], [0.1111111111111111, \"#46039f\"], [0.2222222222222222, \"#7201a8\"], [0.3333333333333333, \"#9c179e\"], [0.4444444444444444, \"#bd3786\"], [0.5555555555555556, \"#d8576b\"], [0.6666666666666666, \"#ed7953\"], [0.7777777777777778, \"#fb9f3a\"], [0.8888888888888888, \"#fdca26\"], [1.0, \"#f0f921\"]]}, \"colorway\": [\"#636efa\", \"#EF553B\", \"#00cc96\", \"#ab63fa\", \"#FFA15A\", \"#19d3f3\", \"#FF6692\", \"#B6E880\", \"#FF97FF\", \"#FECB52\"], \"font\": {\"color\": \"#2a3f5f\"}, \"geo\": {\"bgcolor\": \"white\", \"lakecolor\": \"white\", \"landcolor\": \"#E5ECF6\", \"showlakes\": true, \"showland\": true, \"subunitcolor\": \"white\"}, \"hoverlabel\": {\"align\": \"left\"}, \"hovermode\": \"closest\", \"mapbox\": {\"style\": \"light\"}, \"paper_bgcolor\": \"white\", \"plot_bgcolor\": \"#E5ECF6\", \"polar\": {\"angularaxis\": {\"gridcolor\": \"white\", \"linecolor\": \"white\", \"ticks\": \"\"}, \"bgcolor\": \"#E5ECF6\", \"radialaxis\": {\"gridcolor\": \"white\", \"linecolor\": \"white\", \"ticks\": \"\"}}, \"scene\": {\"xaxis\": {\"backgroundcolor\": \"#E5ECF6\", \"gridcolor\": \"white\", \"gridwidth\": 2, \"linecolor\": \"white\", \"showbackground\": true, \"ticks\": \"\", \"zerolinecolor\": \"white\"}, \"yaxis\": {\"backgroundcolor\": \"#E5ECF6\", \"gridcolor\": \"white\", \"gridwidth\": 2, \"linecolor\": \"white\", \"showbackground\": true, \"ticks\": \"\", \"zerolinecolor\": \"white\"}, \"zaxis\": {\"backgroundcolor\": \"#E5ECF6\", \"gridcolor\": \"white\", \"gridwidth\": 2, \"linecolor\": \"white\", \"showbackground\": true, \"ticks\": \"\", \"zerolinecolor\": \"white\"}}, \"shapedefaults\": {\"line\": {\"color\": \"#2a3f5f\"}}, \"ternary\": {\"aaxis\": {\"gridcolor\": \"white\", \"linecolor\": \"white\", \"ticks\": \"\"}, \"baxis\": {\"gridcolor\": \"white\", \"linecolor\": \"white\", \"ticks\": \"\"}, \"bgcolor\": \"#E5ECF6\", \"caxis\": {\"gridcolor\": \"white\", \"linecolor\": \"white\", \"ticks\": \"\"}}, \"title\": {\"x\": 0.05}, \"xaxis\": {\"automargin\": true, \"gridcolor\": \"white\", \"linecolor\": \"white\", \"ticks\": \"\", \"title\": {\"standoff\": 15}, \"zerolinecolor\": \"white\", \"zerolinewidth\": 2}, \"yaxis\": {\"automargin\": true, \"gridcolor\": \"white\", \"linecolor\": \"white\", \"ticks\": \"\", \"title\": {\"standoff\": 15}, \"zerolinecolor\": \"white\", \"zerolinewidth\": 2}}}, \"title\": {\"font\": {\"color\": \"#4D5663\"}}, \"xaxis\": {\"gridcolor\": \"#E1E5ED\", \"showgrid\": true, \"tickfont\": {\"color\": \"#4D5663\"}, \"title\": {\"font\": {\"color\": \"#4D5663\"}, \"text\": \"\"}, \"zerolinecolor\": \"#E1E5ED\"}, \"xaxis2\": {\"anchor\": \"y2\", \"gridcolor\": \"#E1E5ED\", \"showgrid\": true, \"showticklabels\": false, \"tickfont\": {\"color\": \"#4D5663\"}, \"title\": {\"font\": {\"color\": \"#4D5663\"}, \"text\": \"\"}, \"zerolinecolor\": \"#E1E5ED\"}, \"yaxis\": {\"domain\": [0.3, 1], \"gridcolor\": \"#E1E5ED\", \"showgrid\": true, \"tickfont\": {\"color\": \"#4D5663\"}, \"title\": {\"font\": {\"color\": \"#4D5663\"}, \"text\": \"\"}, \"zerolinecolor\": \"#E1E5ED\"}, \"yaxis2\": {\"domain\": [0, 0.25], \"gridcolor\": \"#E1E5ED\", \"showgrid\": true, \"tickfont\": {\"color\": \"#4D5663\"}, \"title\": {\"font\": {\"color\": \"#4D5663\"}, \"text\": \"Spread\"}, \"zerolinecolor\": \"#E1E5ED\"}},                        {\"showLink\": true, \"linkText\": \"Export to plot.ly\", \"plotlyServerURL\": \"https://plot.ly\", \"responsive\": true}                    ).then(function(){\n                            \nvar gd = document.getElementById('2d2b2693-7dd0-46fd-82d4-7142d7c938e5');\nvar x = new MutationObserver(function (mutations, observer) {{\n        var display = window.getComputedStyle(gd).display;\n        if (!display || display === 'none') {{\n            console.log([gd, 'removed!']);\n            Plotly.purge(gd);\n            observer.disconnect();\n        }}\n}});\n\n// Listen for the removal of the full notebook cells\nvar notebookContainer = gd.closest('#notebook-container');\nif (notebookContainer) {{\n    x.observe(notebookContainer, {childList: true});\n}}\n\n// Listen for the clearing of the current output cell\nvar outputEl = gd.closest('.output');\nif (outputEl) {{\n    x.observe(outputEl, {childList: true});\n}}\n\n                        })                };                });            </script>        </div>"
     },
     "metadata": {}
    }
   ],
   "source": [
    "df1[['A','B']].iplot(kind='spread')"
   ]
  },
  {
   "source": [
    "## Histogram"
   ],
   "cell_type": "markdown",
   "metadata": {}
  },
  {
   "cell_type": "code",
   "execution_count": 22,
   "metadata": {},
   "outputs": [
    {
     "output_type": "display_data",
     "data": {
      "application/vnd.plotly.v1+json": {
       "config": {
        "linkText": "Export to plot.ly",
        "plotlyServerURL": "https://plot.ly",
        "showLink": true
       },
       "data": [
        {
         "histfunc": "count",
         "histnorm": "",
         "marker": {
          "color": "rgba(255, 153, 51, 1.0)",
          "line": {
           "color": "#4D5663",
           "width": 1.3
          }
         },
         "name": "A",
         "nbinsx": 25,
         "opacity": 0.8,
         "orientation": "v",
         "type": "histogram",
         "x": [
          -1.6034591679105978,
          0.6744517866256291,
          0.16873903499098108,
          -0.7120838114462832,
          0.23617682794395775,
          1.180677289914722,
          -0.9243405825078829,
          0.3249744142267152,
          0.24123007955726194,
          -1.371775940963692,
          2.0299735784534514,
          -1.638278538950703,
          -0.35137910597764804,
          0.000667556043875359,
          -2.100087178780612,
          -0.4528852477762303,
          -1.0698827410677296,
          -0.22569897519992077,
          -1.0377256973062055,
          -0.40533486416227726,
          0.6830430283391952,
          -0.33966680639046704,
          -0.8669563151471675,
          0.527643417645511,
          -0.0833286510642639,
          0.13548161732522387,
          0.7223255346457207,
          -0.8175726858881641,
          1.374045254814651,
          -0.5656973754914506,
          0.39140389155072197,
          0.16070195849060673,
          -0.1861179756096024,
          -0.5439910419446394,
          -0.7872529205941025,
          1.3521531710461365,
          -0.969493749960735,
          -0.4360024968703549,
          -0.11854777642838966,
          -1.8023152962452222,
          -1.7570950411749429,
          -0.3551025680128556,
          -0.9730138683284136,
          1.7174009466336264,
          -1.0403124882430377,
          0.8946881797652224,
          -0.481238013126997,
          -0.1801078735119504,
          -0.3908161297782836,
          0.4211820003945261,
          0.8939246652280742,
          0.29982529050087176,
          -0.19053552055843878,
          0.9122188779991189,
          0.02791823589603473,
          -2.049843605469713,
          1.8451647391505106,
          1.835826771883997,
          0.4514046121545814,
          -1.3153479849431113,
          0.6039372964302147,
          0.1967032275194514,
          -0.19718733734199645,
          -1.0424453626339572,
          -1.291632485177539,
          0.08021453833866193,
          0.8381689241093387,
          -1.2721892786100386,
          0.3732178168113568,
          0.05276688734700252,
          -1.967496885033359,
          0.9023845846590755,
          0.24001744040925296,
          -0.05429170252464368,
          -0.49807948253119694,
          -1.452383083045118,
          -0.9418576074293369,
          -0.4523600116602419,
          0.6591749020229192,
          -0.48515217656054904,
          0.6035086074078894,
          -0.5338885854100055,
          -0.9455132299224919,
          -0.9184469295082123,
          -0.482512232189353,
          1.495957404481226,
          -0.11809049112544505,
          0.3194610816126905,
          -1.2852738670679296,
          -0.5933666650741988,
          1.7904157188996117,
          0.4052902765873968,
          1.8775364158770929,
          0.01327468426470117,
          -2.2108064327344157,
          0.4547179081726537,
          -0.5095154977877799,
          -0.9630339148296717,
          -1.1623592880536002,
          -1.1754650048720257
         ]
        }
       ],
       "layout": {
        "barmode": "overlay",
        "legend": {
         "bgcolor": "#F5F6F9",
         "font": {
          "color": "#4D5663"
         }
        },
        "paper_bgcolor": "#F5F6F9",
        "plot_bgcolor": "#F5F6F9",
        "template": {
         "data": {
          "bar": [
           {
            "error_x": {
             "color": "#2a3f5f"
            },
            "error_y": {
             "color": "#2a3f5f"
            },
            "marker": {
             "line": {
              "color": "#E5ECF6",
              "width": 0.5
             }
            },
            "type": "bar"
           }
          ],
          "barpolar": [
           {
            "marker": {
             "line": {
              "color": "#E5ECF6",
              "width": 0.5
             }
            },
            "type": "barpolar"
           }
          ],
          "carpet": [
           {
            "aaxis": {
             "endlinecolor": "#2a3f5f",
             "gridcolor": "white",
             "linecolor": "white",
             "minorgridcolor": "white",
             "startlinecolor": "#2a3f5f"
            },
            "baxis": {
             "endlinecolor": "#2a3f5f",
             "gridcolor": "white",
             "linecolor": "white",
             "minorgridcolor": "white",
             "startlinecolor": "#2a3f5f"
            },
            "type": "carpet"
           }
          ],
          "choropleth": [
           {
            "colorbar": {
             "outlinewidth": 0,
             "ticks": ""
            },
            "type": "choropleth"
           }
          ],
          "contour": [
           {
            "colorbar": {
             "outlinewidth": 0,
             "ticks": ""
            },
            "colorscale": [
             [
              0,
              "#0d0887"
             ],
             [
              0.1111111111111111,
              "#46039f"
             ],
             [
              0.2222222222222222,
              "#7201a8"
             ],
             [
              0.3333333333333333,
              "#9c179e"
             ],
             [
              0.4444444444444444,
              "#bd3786"
             ],
             [
              0.5555555555555556,
              "#d8576b"
             ],
             [
              0.6666666666666666,
              "#ed7953"
             ],
             [
              0.7777777777777778,
              "#fb9f3a"
             ],
             [
              0.8888888888888888,
              "#fdca26"
             ],
             [
              1,
              "#f0f921"
             ]
            ],
            "type": "contour"
           }
          ],
          "contourcarpet": [
           {
            "colorbar": {
             "outlinewidth": 0,
             "ticks": ""
            },
            "type": "contourcarpet"
           }
          ],
          "heatmap": [
           {
            "colorbar": {
             "outlinewidth": 0,
             "ticks": ""
            },
            "colorscale": [
             [
              0,
              "#0d0887"
             ],
             [
              0.1111111111111111,
              "#46039f"
             ],
             [
              0.2222222222222222,
              "#7201a8"
             ],
             [
              0.3333333333333333,
              "#9c179e"
             ],
             [
              0.4444444444444444,
              "#bd3786"
             ],
             [
              0.5555555555555556,
              "#d8576b"
             ],
             [
              0.6666666666666666,
              "#ed7953"
             ],
             [
              0.7777777777777778,
              "#fb9f3a"
             ],
             [
              0.8888888888888888,
              "#fdca26"
             ],
             [
              1,
              "#f0f921"
             ]
            ],
            "type": "heatmap"
           }
          ],
          "heatmapgl": [
           {
            "colorbar": {
             "outlinewidth": 0,
             "ticks": ""
            },
            "colorscale": [
             [
              0,
              "#0d0887"
             ],
             [
              0.1111111111111111,
              "#46039f"
             ],
             [
              0.2222222222222222,
              "#7201a8"
             ],
             [
              0.3333333333333333,
              "#9c179e"
             ],
             [
              0.4444444444444444,
              "#bd3786"
             ],
             [
              0.5555555555555556,
              "#d8576b"
             ],
             [
              0.6666666666666666,
              "#ed7953"
             ],
             [
              0.7777777777777778,
              "#fb9f3a"
             ],
             [
              0.8888888888888888,
              "#fdca26"
             ],
             [
              1,
              "#f0f921"
             ]
            ],
            "type": "heatmapgl"
           }
          ],
          "histogram": [
           {
            "marker": {
             "colorbar": {
              "outlinewidth": 0,
              "ticks": ""
             }
            },
            "type": "histogram"
           }
          ],
          "histogram2d": [
           {
            "colorbar": {
             "outlinewidth": 0,
             "ticks": ""
            },
            "colorscale": [
             [
              0,
              "#0d0887"
             ],
             [
              0.1111111111111111,
              "#46039f"
             ],
             [
              0.2222222222222222,
              "#7201a8"
             ],
             [
              0.3333333333333333,
              "#9c179e"
             ],
             [
              0.4444444444444444,
              "#bd3786"
             ],
             [
              0.5555555555555556,
              "#d8576b"
             ],
             [
              0.6666666666666666,
              "#ed7953"
             ],
             [
              0.7777777777777778,
              "#fb9f3a"
             ],
             [
              0.8888888888888888,
              "#fdca26"
             ],
             [
              1,
              "#f0f921"
             ]
            ],
            "type": "histogram2d"
           }
          ],
          "histogram2dcontour": [
           {
            "colorbar": {
             "outlinewidth": 0,
             "ticks": ""
            },
            "colorscale": [
             [
              0,
              "#0d0887"
             ],
             [
              0.1111111111111111,
              "#46039f"
             ],
             [
              0.2222222222222222,
              "#7201a8"
             ],
             [
              0.3333333333333333,
              "#9c179e"
             ],
             [
              0.4444444444444444,
              "#bd3786"
             ],
             [
              0.5555555555555556,
              "#d8576b"
             ],
             [
              0.6666666666666666,
              "#ed7953"
             ],
             [
              0.7777777777777778,
              "#fb9f3a"
             ],
             [
              0.8888888888888888,
              "#fdca26"
             ],
             [
              1,
              "#f0f921"
             ]
            ],
            "type": "histogram2dcontour"
           }
          ],
          "mesh3d": [
           {
            "colorbar": {
             "outlinewidth": 0,
             "ticks": ""
            },
            "type": "mesh3d"
           }
          ],
          "parcoords": [
           {
            "line": {
             "colorbar": {
              "outlinewidth": 0,
              "ticks": ""
             }
            },
            "type": "parcoords"
           }
          ],
          "pie": [
           {
            "automargin": true,
            "type": "pie"
           }
          ],
          "scatter": [
           {
            "marker": {
             "colorbar": {
              "outlinewidth": 0,
              "ticks": ""
             }
            },
            "type": "scatter"
           }
          ],
          "scatter3d": [
           {
            "line": {
             "colorbar": {
              "outlinewidth": 0,
              "ticks": ""
             }
            },
            "marker": {
             "colorbar": {
              "outlinewidth": 0,
              "ticks": ""
             }
            },
            "type": "scatter3d"
           }
          ],
          "scattercarpet": [
           {
            "marker": {
             "colorbar": {
              "outlinewidth": 0,
              "ticks": ""
             }
            },
            "type": "scattercarpet"
           }
          ],
          "scattergeo": [
           {
            "marker": {
             "colorbar": {
              "outlinewidth": 0,
              "ticks": ""
             }
            },
            "type": "scattergeo"
           }
          ],
          "scattergl": [
           {
            "marker": {
             "colorbar": {
              "outlinewidth": 0,
              "ticks": ""
             }
            },
            "type": "scattergl"
           }
          ],
          "scattermapbox": [
           {
            "marker": {
             "colorbar": {
              "outlinewidth": 0,
              "ticks": ""
             }
            },
            "type": "scattermapbox"
           }
          ],
          "scatterpolar": [
           {
            "marker": {
             "colorbar": {
              "outlinewidth": 0,
              "ticks": ""
             }
            },
            "type": "scatterpolar"
           }
          ],
          "scatterpolargl": [
           {
            "marker": {
             "colorbar": {
              "outlinewidth": 0,
              "ticks": ""
             }
            },
            "type": "scatterpolargl"
           }
          ],
          "scatterternary": [
           {
            "marker": {
             "colorbar": {
              "outlinewidth": 0,
              "ticks": ""
             }
            },
            "type": "scatterternary"
           }
          ],
          "surface": [
           {
            "colorbar": {
             "outlinewidth": 0,
             "ticks": ""
            },
            "colorscale": [
             [
              0,
              "#0d0887"
             ],
             [
              0.1111111111111111,
              "#46039f"
             ],
             [
              0.2222222222222222,
              "#7201a8"
             ],
             [
              0.3333333333333333,
              "#9c179e"
             ],
             [
              0.4444444444444444,
              "#bd3786"
             ],
             [
              0.5555555555555556,
              "#d8576b"
             ],
             [
              0.6666666666666666,
              "#ed7953"
             ],
             [
              0.7777777777777778,
              "#fb9f3a"
             ],
             [
              0.8888888888888888,
              "#fdca26"
             ],
             [
              1,
              "#f0f921"
             ]
            ],
            "type": "surface"
           }
          ],
          "table": [
           {
            "cells": {
             "fill": {
              "color": "#EBF0F8"
             },
             "line": {
              "color": "white"
             }
            },
            "header": {
             "fill": {
              "color": "#C8D4E3"
             },
             "line": {
              "color": "white"
             }
            },
            "type": "table"
           }
          ]
         },
         "layout": {
          "annotationdefaults": {
           "arrowcolor": "#2a3f5f",
           "arrowhead": 0,
           "arrowwidth": 1
          },
          "autotypenumbers": "strict",
          "coloraxis": {
           "colorbar": {
            "outlinewidth": 0,
            "ticks": ""
           }
          },
          "colorscale": {
           "diverging": [
            [
             0,
             "#8e0152"
            ],
            [
             0.1,
             "#c51b7d"
            ],
            [
             0.2,
             "#de77ae"
            ],
            [
             0.3,
             "#f1b6da"
            ],
            [
             0.4,
             "#fde0ef"
            ],
            [
             0.5,
             "#f7f7f7"
            ],
            [
             0.6,
             "#e6f5d0"
            ],
            [
             0.7,
             "#b8e186"
            ],
            [
             0.8,
             "#7fbc41"
            ],
            [
             0.9,
             "#4d9221"
            ],
            [
             1,
             "#276419"
            ]
           ],
           "sequential": [
            [
             0,
             "#0d0887"
            ],
            [
             0.1111111111111111,
             "#46039f"
            ],
            [
             0.2222222222222222,
             "#7201a8"
            ],
            [
             0.3333333333333333,
             "#9c179e"
            ],
            [
             0.4444444444444444,
             "#bd3786"
            ],
            [
             0.5555555555555556,
             "#d8576b"
            ],
            [
             0.6666666666666666,
             "#ed7953"
            ],
            [
             0.7777777777777778,
             "#fb9f3a"
            ],
            [
             0.8888888888888888,
             "#fdca26"
            ],
            [
             1,
             "#f0f921"
            ]
           ],
           "sequentialminus": [
            [
             0,
             "#0d0887"
            ],
            [
             0.1111111111111111,
             "#46039f"
            ],
            [
             0.2222222222222222,
             "#7201a8"
            ],
            [
             0.3333333333333333,
             "#9c179e"
            ],
            [
             0.4444444444444444,
             "#bd3786"
            ],
            [
             0.5555555555555556,
             "#d8576b"
            ],
            [
             0.6666666666666666,
             "#ed7953"
            ],
            [
             0.7777777777777778,
             "#fb9f3a"
            ],
            [
             0.8888888888888888,
             "#fdca26"
            ],
            [
             1,
             "#f0f921"
            ]
           ]
          },
          "colorway": [
           "#636efa",
           "#EF553B",
           "#00cc96",
           "#ab63fa",
           "#FFA15A",
           "#19d3f3",
           "#FF6692",
           "#B6E880",
           "#FF97FF",
           "#FECB52"
          ],
          "font": {
           "color": "#2a3f5f"
          },
          "geo": {
           "bgcolor": "white",
           "lakecolor": "white",
           "landcolor": "#E5ECF6",
           "showlakes": true,
           "showland": true,
           "subunitcolor": "white"
          },
          "hoverlabel": {
           "align": "left"
          },
          "hovermode": "closest",
          "mapbox": {
           "style": "light"
          },
          "paper_bgcolor": "white",
          "plot_bgcolor": "#E5ECF6",
          "polar": {
           "angularaxis": {
            "gridcolor": "white",
            "linecolor": "white",
            "ticks": ""
           },
           "bgcolor": "#E5ECF6",
           "radialaxis": {
            "gridcolor": "white",
            "linecolor": "white",
            "ticks": ""
           }
          },
          "scene": {
           "xaxis": {
            "backgroundcolor": "#E5ECF6",
            "gridcolor": "white",
            "gridwidth": 2,
            "linecolor": "white",
            "showbackground": true,
            "ticks": "",
            "zerolinecolor": "white"
           },
           "yaxis": {
            "backgroundcolor": "#E5ECF6",
            "gridcolor": "white",
            "gridwidth": 2,
            "linecolor": "white",
            "showbackground": true,
            "ticks": "",
            "zerolinecolor": "white"
           },
           "zaxis": {
            "backgroundcolor": "#E5ECF6",
            "gridcolor": "white",
            "gridwidth": 2,
            "linecolor": "white",
            "showbackground": true,
            "ticks": "",
            "zerolinecolor": "white"
           }
          },
          "shapedefaults": {
           "line": {
            "color": "#2a3f5f"
           }
          },
          "ternary": {
           "aaxis": {
            "gridcolor": "white",
            "linecolor": "white",
            "ticks": ""
           },
           "baxis": {
            "gridcolor": "white",
            "linecolor": "white",
            "ticks": ""
           },
           "bgcolor": "#E5ECF6",
           "caxis": {
            "gridcolor": "white",
            "linecolor": "white",
            "ticks": ""
           }
          },
          "title": {
           "x": 0.05
          },
          "xaxis": {
           "automargin": true,
           "gridcolor": "white",
           "linecolor": "white",
           "ticks": "",
           "title": {
            "standoff": 15
           },
           "zerolinecolor": "white",
           "zerolinewidth": 2
          },
          "yaxis": {
           "automargin": true,
           "gridcolor": "white",
           "linecolor": "white",
           "ticks": "",
           "title": {
            "standoff": 15
           },
           "zerolinecolor": "white",
           "zerolinewidth": 2
          }
         }
        },
        "title": {
         "font": {
          "color": "#4D5663"
         }
        },
        "xaxis": {
         "gridcolor": "#E1E5ED",
         "showgrid": true,
         "tickfont": {
          "color": "#4D5663"
         },
         "title": {
          "font": {
           "color": "#4D5663"
          },
          "text": ""
         },
         "zerolinecolor": "#E1E5ED"
        },
        "yaxis": {
         "gridcolor": "#E1E5ED",
         "showgrid": true,
         "tickfont": {
          "color": "#4D5663"
         },
         "title": {
          "font": {
           "color": "#4D5663"
          },
          "text": ""
         },
         "zerolinecolor": "#E1E5ED"
        }
       }
      },
      "text/html": "<div>                            <div id=\"8cdee0dc-507f-4bdd-bb3d-7a96c603705d\" class=\"plotly-graph-div\" style=\"height:525px; width:100%;\"></div>            <script type=\"text/javascript\">                require([\"plotly\"], function(Plotly) {                    window.PLOTLYENV=window.PLOTLYENV || {};\n                    window.PLOTLYENV.BASE_URL='https://plot.ly';                                    if (document.getElementById(\"8cdee0dc-507f-4bdd-bb3d-7a96c603705d\")) {                    Plotly.newPlot(                        \"8cdee0dc-507f-4bdd-bb3d-7a96c603705d\",                        [{\"histfunc\": \"count\", \"histnorm\": \"\", \"marker\": {\"color\": \"rgba(255, 153, 51, 1.0)\", \"line\": {\"color\": \"#4D5663\", \"width\": 1.3}}, \"name\": \"A\", \"nbinsx\": 25, \"opacity\": 0.8, \"orientation\": \"v\", \"type\": \"histogram\", \"x\": [-1.6034591679105978, 0.6744517866256291, 0.16873903499098108, -0.7120838114462832, 0.23617682794395775, 1.180677289914722, -0.9243405825078829, 0.3249744142267152, 0.24123007955726194, -1.371775940963692, 2.0299735784534514, -1.638278538950703, -0.35137910597764804, 0.000667556043875359, -2.100087178780612, -0.4528852477762303, -1.0698827410677296, -0.22569897519992077, -1.0377256973062055, -0.40533486416227726, 0.6830430283391952, -0.33966680639046704, -0.8669563151471675, 0.527643417645511, -0.0833286510642639, 0.13548161732522387, 0.7223255346457207, -0.8175726858881641, 1.374045254814651, -0.5656973754914506, 0.39140389155072197, 0.16070195849060673, -0.1861179756096024, -0.5439910419446394, -0.7872529205941025, 1.3521531710461365, -0.969493749960735, -0.4360024968703549, -0.11854777642838966, -1.8023152962452222, -1.7570950411749429, -0.3551025680128556, -0.9730138683284136, 1.7174009466336264, -1.0403124882430377, 0.8946881797652224, -0.481238013126997, -0.1801078735119504, -0.3908161297782836, 0.4211820003945261, 0.8939246652280742, 0.29982529050087176, -0.19053552055843878, 0.9122188779991189, 0.02791823589603473, -2.049843605469713, 1.8451647391505106, 1.835826771883997, 0.4514046121545814, -1.3153479849431113, 0.6039372964302147, 0.1967032275194514, -0.19718733734199645, -1.0424453626339572, -1.291632485177539, 0.08021453833866193, 0.8381689241093387, -1.2721892786100386, 0.3732178168113568, 0.05276688734700252, -1.967496885033359, 0.9023845846590755, 0.24001744040925296, -0.05429170252464368, -0.49807948253119694, -1.452383083045118, -0.9418576074293369, -0.4523600116602419, 0.6591749020229192, -0.48515217656054904, 0.6035086074078894, -0.5338885854100055, -0.9455132299224919, -0.9184469295082123, -0.482512232189353, 1.495957404481226, -0.11809049112544505, 0.3194610816126905, -1.2852738670679296, -0.5933666650741988, 1.7904157188996117, 0.4052902765873968, 1.8775364158770929, 0.01327468426470117, -2.2108064327344157, 0.4547179081726537, -0.5095154977877799, -0.9630339148296717, -1.1623592880536002, -1.1754650048720257]}],                        {\"barmode\": \"overlay\", \"legend\": {\"bgcolor\": \"#F5F6F9\", \"font\": {\"color\": \"#4D5663\"}}, \"paper_bgcolor\": \"#F5F6F9\", \"plot_bgcolor\": \"#F5F6F9\", \"template\": {\"data\": {\"bar\": [{\"error_x\": {\"color\": \"#2a3f5f\"}, \"error_y\": {\"color\": \"#2a3f5f\"}, \"marker\": {\"line\": {\"color\": \"#E5ECF6\", \"width\": 0.5}}, \"type\": \"bar\"}], \"barpolar\": [{\"marker\": {\"line\": {\"color\": \"#E5ECF6\", \"width\": 0.5}}, \"type\": \"barpolar\"}], \"carpet\": [{\"aaxis\": {\"endlinecolor\": \"#2a3f5f\", \"gridcolor\": \"white\", \"linecolor\": \"white\", \"minorgridcolor\": \"white\", \"startlinecolor\": \"#2a3f5f\"}, \"baxis\": {\"endlinecolor\": \"#2a3f5f\", \"gridcolor\": \"white\", \"linecolor\": \"white\", \"minorgridcolor\": \"white\", \"startlinecolor\": \"#2a3f5f\"}, \"type\": \"carpet\"}], \"choropleth\": [{\"colorbar\": {\"outlinewidth\": 0, \"ticks\": \"\"}, \"type\": \"choropleth\"}], \"contour\": [{\"colorbar\": {\"outlinewidth\": 0, \"ticks\": \"\"}, \"colorscale\": [[0.0, \"#0d0887\"], [0.1111111111111111, \"#46039f\"], [0.2222222222222222, \"#7201a8\"], [0.3333333333333333, \"#9c179e\"], [0.4444444444444444, \"#bd3786\"], [0.5555555555555556, \"#d8576b\"], [0.6666666666666666, \"#ed7953\"], [0.7777777777777778, \"#fb9f3a\"], [0.8888888888888888, \"#fdca26\"], [1.0, \"#f0f921\"]], \"type\": \"contour\"}], \"contourcarpet\": [{\"colorbar\": {\"outlinewidth\": 0, \"ticks\": \"\"}, \"type\": \"contourcarpet\"}], \"heatmap\": [{\"colorbar\": {\"outlinewidth\": 0, \"ticks\": \"\"}, \"colorscale\": [[0.0, \"#0d0887\"], [0.1111111111111111, \"#46039f\"], [0.2222222222222222, \"#7201a8\"], [0.3333333333333333, \"#9c179e\"], [0.4444444444444444, \"#bd3786\"], [0.5555555555555556, \"#d8576b\"], [0.6666666666666666, \"#ed7953\"], [0.7777777777777778, \"#fb9f3a\"], [0.8888888888888888, \"#fdca26\"], [1.0, \"#f0f921\"]], \"type\": \"heatmap\"}], \"heatmapgl\": [{\"colorbar\": {\"outlinewidth\": 0, \"ticks\": \"\"}, \"colorscale\": [[0.0, \"#0d0887\"], [0.1111111111111111, \"#46039f\"], [0.2222222222222222, \"#7201a8\"], [0.3333333333333333, \"#9c179e\"], [0.4444444444444444, \"#bd3786\"], [0.5555555555555556, \"#d8576b\"], [0.6666666666666666, \"#ed7953\"], [0.7777777777777778, \"#fb9f3a\"], [0.8888888888888888, \"#fdca26\"], [1.0, \"#f0f921\"]], \"type\": \"heatmapgl\"}], \"histogram\": [{\"marker\": {\"colorbar\": {\"outlinewidth\": 0, \"ticks\": \"\"}}, \"type\": \"histogram\"}], \"histogram2d\": [{\"colorbar\": {\"outlinewidth\": 0, \"ticks\": \"\"}, \"colorscale\": [[0.0, \"#0d0887\"], [0.1111111111111111, \"#46039f\"], [0.2222222222222222, \"#7201a8\"], [0.3333333333333333, \"#9c179e\"], [0.4444444444444444, \"#bd3786\"], [0.5555555555555556, \"#d8576b\"], [0.6666666666666666, \"#ed7953\"], [0.7777777777777778, \"#fb9f3a\"], [0.8888888888888888, \"#fdca26\"], [1.0, \"#f0f921\"]], \"type\": \"histogram2d\"}], \"histogram2dcontour\": [{\"colorbar\": {\"outlinewidth\": 0, \"ticks\": \"\"}, \"colorscale\": [[0.0, \"#0d0887\"], [0.1111111111111111, \"#46039f\"], [0.2222222222222222, \"#7201a8\"], [0.3333333333333333, \"#9c179e\"], [0.4444444444444444, \"#bd3786\"], [0.5555555555555556, \"#d8576b\"], [0.6666666666666666, \"#ed7953\"], [0.7777777777777778, \"#fb9f3a\"], [0.8888888888888888, \"#fdca26\"], [1.0, \"#f0f921\"]], \"type\": \"histogram2dcontour\"}], \"mesh3d\": [{\"colorbar\": {\"outlinewidth\": 0, \"ticks\": \"\"}, \"type\": \"mesh3d\"}], \"parcoords\": [{\"line\": {\"colorbar\": {\"outlinewidth\": 0, \"ticks\": \"\"}}, \"type\": \"parcoords\"}], \"pie\": [{\"automargin\": true, \"type\": \"pie\"}], \"scatter\": [{\"marker\": {\"colorbar\": {\"outlinewidth\": 0, \"ticks\": \"\"}}, \"type\": \"scatter\"}], \"scatter3d\": [{\"line\": {\"colorbar\": {\"outlinewidth\": 0, \"ticks\": \"\"}}, \"marker\": {\"colorbar\": {\"outlinewidth\": 0, \"ticks\": \"\"}}, \"type\": \"scatter3d\"}], \"scattercarpet\": [{\"marker\": {\"colorbar\": {\"outlinewidth\": 0, \"ticks\": \"\"}}, \"type\": \"scattercarpet\"}], \"scattergeo\": [{\"marker\": {\"colorbar\": {\"outlinewidth\": 0, \"ticks\": \"\"}}, \"type\": \"scattergeo\"}], \"scattergl\": [{\"marker\": {\"colorbar\": {\"outlinewidth\": 0, \"ticks\": \"\"}}, \"type\": \"scattergl\"}], \"scattermapbox\": [{\"marker\": {\"colorbar\": {\"outlinewidth\": 0, \"ticks\": \"\"}}, \"type\": \"scattermapbox\"}], \"scatterpolar\": [{\"marker\": {\"colorbar\": {\"outlinewidth\": 0, \"ticks\": \"\"}}, \"type\": \"scatterpolar\"}], \"scatterpolargl\": [{\"marker\": {\"colorbar\": {\"outlinewidth\": 0, \"ticks\": \"\"}}, \"type\": \"scatterpolargl\"}], \"scatterternary\": [{\"marker\": {\"colorbar\": {\"outlinewidth\": 0, \"ticks\": \"\"}}, \"type\": \"scatterternary\"}], \"surface\": [{\"colorbar\": {\"outlinewidth\": 0, \"ticks\": \"\"}, \"colorscale\": [[0.0, \"#0d0887\"], [0.1111111111111111, \"#46039f\"], [0.2222222222222222, \"#7201a8\"], [0.3333333333333333, \"#9c179e\"], [0.4444444444444444, \"#bd3786\"], [0.5555555555555556, \"#d8576b\"], [0.6666666666666666, \"#ed7953\"], [0.7777777777777778, \"#fb9f3a\"], [0.8888888888888888, \"#fdca26\"], [1.0, \"#f0f921\"]], \"type\": \"surface\"}], \"table\": [{\"cells\": {\"fill\": {\"color\": \"#EBF0F8\"}, \"line\": {\"color\": \"white\"}}, \"header\": {\"fill\": {\"color\": \"#C8D4E3\"}, \"line\": {\"color\": \"white\"}}, \"type\": \"table\"}]}, \"layout\": {\"annotationdefaults\": {\"arrowcolor\": \"#2a3f5f\", \"arrowhead\": 0, \"arrowwidth\": 1}, \"autotypenumbers\": \"strict\", \"coloraxis\": {\"colorbar\": {\"outlinewidth\": 0, \"ticks\": \"\"}}, \"colorscale\": {\"diverging\": [[0, \"#8e0152\"], [0.1, \"#c51b7d\"], [0.2, \"#de77ae\"], [0.3, \"#f1b6da\"], [0.4, \"#fde0ef\"], [0.5, \"#f7f7f7\"], [0.6, \"#e6f5d0\"], [0.7, \"#b8e186\"], [0.8, \"#7fbc41\"], [0.9, \"#4d9221\"], [1, \"#276419\"]], \"sequential\": [[0.0, \"#0d0887\"], [0.1111111111111111, \"#46039f\"], [0.2222222222222222, \"#7201a8\"], [0.3333333333333333, \"#9c179e\"], [0.4444444444444444, \"#bd3786\"], [0.5555555555555556, \"#d8576b\"], [0.6666666666666666, \"#ed7953\"], [0.7777777777777778, \"#fb9f3a\"], [0.8888888888888888, \"#fdca26\"], [1.0, \"#f0f921\"]], \"sequentialminus\": [[0.0, \"#0d0887\"], [0.1111111111111111, \"#46039f\"], [0.2222222222222222, \"#7201a8\"], [0.3333333333333333, \"#9c179e\"], [0.4444444444444444, \"#bd3786\"], [0.5555555555555556, \"#d8576b\"], [0.6666666666666666, \"#ed7953\"], [0.7777777777777778, \"#fb9f3a\"], [0.8888888888888888, \"#fdca26\"], [1.0, \"#f0f921\"]]}, \"colorway\": [\"#636efa\", \"#EF553B\", \"#00cc96\", \"#ab63fa\", \"#FFA15A\", \"#19d3f3\", \"#FF6692\", \"#B6E880\", \"#FF97FF\", \"#FECB52\"], \"font\": {\"color\": \"#2a3f5f\"}, \"geo\": {\"bgcolor\": \"white\", \"lakecolor\": \"white\", \"landcolor\": \"#E5ECF6\", \"showlakes\": true, \"showland\": true, \"subunitcolor\": \"white\"}, \"hoverlabel\": {\"align\": \"left\"}, \"hovermode\": \"closest\", \"mapbox\": {\"style\": \"light\"}, \"paper_bgcolor\": \"white\", \"plot_bgcolor\": \"#E5ECF6\", \"polar\": {\"angularaxis\": {\"gridcolor\": \"white\", \"linecolor\": \"white\", \"ticks\": \"\"}, \"bgcolor\": \"#E5ECF6\", \"radialaxis\": {\"gridcolor\": \"white\", \"linecolor\": \"white\", \"ticks\": \"\"}}, \"scene\": {\"xaxis\": {\"backgroundcolor\": \"#E5ECF6\", \"gridcolor\": \"white\", \"gridwidth\": 2, \"linecolor\": \"white\", \"showbackground\": true, \"ticks\": \"\", \"zerolinecolor\": \"white\"}, \"yaxis\": {\"backgroundcolor\": \"#E5ECF6\", \"gridcolor\": \"white\", \"gridwidth\": 2, \"linecolor\": \"white\", \"showbackground\": true, \"ticks\": \"\", \"zerolinecolor\": \"white\"}, \"zaxis\": {\"backgroundcolor\": \"#E5ECF6\", \"gridcolor\": \"white\", \"gridwidth\": 2, \"linecolor\": \"white\", \"showbackground\": true, \"ticks\": \"\", \"zerolinecolor\": \"white\"}}, \"shapedefaults\": {\"line\": {\"color\": \"#2a3f5f\"}}, \"ternary\": {\"aaxis\": {\"gridcolor\": \"white\", \"linecolor\": \"white\", \"ticks\": \"\"}, \"baxis\": {\"gridcolor\": \"white\", \"linecolor\": \"white\", \"ticks\": \"\"}, \"bgcolor\": \"#E5ECF6\", \"caxis\": {\"gridcolor\": \"white\", \"linecolor\": \"white\", \"ticks\": \"\"}}, \"title\": {\"x\": 0.05}, \"xaxis\": {\"automargin\": true, \"gridcolor\": \"white\", \"linecolor\": \"white\", \"ticks\": \"\", \"title\": {\"standoff\": 15}, \"zerolinecolor\": \"white\", \"zerolinewidth\": 2}, \"yaxis\": {\"automargin\": true, \"gridcolor\": \"white\", \"linecolor\": \"white\", \"ticks\": \"\", \"title\": {\"standoff\": 15}, \"zerolinecolor\": \"white\", \"zerolinewidth\": 2}}}, \"title\": {\"font\": {\"color\": \"#4D5663\"}}, \"xaxis\": {\"gridcolor\": \"#E1E5ED\", \"showgrid\": true, \"tickfont\": {\"color\": \"#4D5663\"}, \"title\": {\"font\": {\"color\": \"#4D5663\"}, \"text\": \"\"}, \"zerolinecolor\": \"#E1E5ED\"}, \"yaxis\": {\"gridcolor\": \"#E1E5ED\", \"showgrid\": true, \"tickfont\": {\"color\": \"#4D5663\"}, \"title\": {\"font\": {\"color\": \"#4D5663\"}, \"text\": \"\"}, \"zerolinecolor\": \"#E1E5ED\"}},                        {\"showLink\": true, \"linkText\": \"Export to plot.ly\", \"plotlyServerURL\": \"https://plot.ly\", \"responsive\": true}                    ).then(function(){\n                            \nvar gd = document.getElementById('8cdee0dc-507f-4bdd-bb3d-7a96c603705d');\nvar x = new MutationObserver(function (mutations, observer) {{\n        var display = window.getComputedStyle(gd).display;\n        if (!display || display === 'none') {{\n            console.log([gd, 'removed!']);\n            Plotly.purge(gd);\n            observer.disconnect();\n        }}\n}});\n\n// Listen for the removal of the full notebook cells\nvar notebookContainer = gd.closest('#notebook-container');\nif (notebookContainer) {{\n    x.observe(notebookContainer, {childList: true});\n}}\n\n// Listen for the clearing of the current output cell\nvar outputEl = gd.closest('.output');\nif (outputEl) {{\n    x.observe(outputEl, {childList: true});\n}}\n\n                        })                };                });            </script>        </div>"
     },
     "metadata": {}
    }
   ],
   "source": [
    "df1['A'].iplot(kind='hist',bins=25)"
   ]
  },
  {
   "source": [
    "## Bubble"
   ],
   "cell_type": "markdown",
   "metadata": {}
  },
  {
   "cell_type": "code",
   "execution_count": 23,
   "metadata": {},
   "outputs": [
    {
     "output_type": "display_data",
     "data": {
      "application/vnd.plotly.v1+json": {
       "config": {
        "linkText": "Export to plot.ly",
        "plotlyServerURL": "https://plot.ly",
        "showLink": true
       },
       "data": [
        {
         "marker": {
          "color": [
           "rgb(255, 153, 51)",
           "rgb(55, 128, 191)",
           "rgb(50, 171, 96)",
           "rgb(128, 0, 128)",
           "rgb(219, 64, 82)",
           "rgb(0, 128, 128)",
           "rgb(255, 255, 51)",
           "rgb(128, 128, 0)",
           "rgb(251, 128, 114)",
           "rgb(128, 177, 211)"
          ],
          "line": {
           "width": 1.3
          },
          "size": [
           112,
           50,
           55,
           64,
           43,
           55,
           55,
           80,
           39,
           87,
           70,
           63,
           65,
           71,
           59,
           69,
           68,
           100,
           109,
           87,
           57,
           92,
           44,
           78,
           56,
           71,
           42,
           12,
           46,
           43,
           81,
           97,
           28,
           60,
           47,
           75,
           58,
           24,
           65,
           56,
           13,
           70,
           53,
           94,
           51,
           46,
           73,
           75,
           73,
           73,
           69,
           88,
           29,
           91,
           84,
           65,
           45,
           70,
           100,
           56,
           46,
           41,
           62,
           51,
           62,
           57,
           37,
           13,
           56,
           61,
           55,
           62,
           62,
           101,
           56,
           93,
           51,
           83,
           38,
           80,
           82,
           92,
           37,
           55,
           65,
           74,
           59,
           102,
           74,
           62,
           80,
           16,
           69,
           31,
           81,
           88,
           44,
           56,
           61,
           91
          ],
          "symbol": "circle"
         },
         "mode": "markers",
         "text": "",
         "type": "scatter",
         "x": [
          -1.6034591679105978,
          0.6744517866256291,
          0.16873903499098108,
          -0.7120838114462832,
          0.23617682794395775,
          1.180677289914722,
          -0.9243405825078829,
          0.3249744142267152,
          0.24123007955726194,
          -1.371775940963692,
          2.0299735784534514,
          -1.638278538950703,
          -0.35137910597764804,
          0.000667556043875359,
          -2.100087178780612,
          -0.4528852477762303,
          -1.0698827410677296,
          -0.22569897519992077,
          -1.0377256973062055,
          -0.40533486416227726,
          0.6830430283391952,
          -0.33966680639046704,
          -0.8669563151471675,
          0.527643417645511,
          -0.0833286510642639,
          0.13548161732522387,
          0.7223255346457207,
          -0.8175726858881641,
          1.374045254814651,
          -0.5656973754914506,
          0.39140389155072197,
          0.16070195849060673,
          -0.1861179756096024,
          -0.5439910419446394,
          -0.7872529205941025,
          1.3521531710461365,
          -0.969493749960735,
          -0.4360024968703549,
          -0.11854777642838966,
          -1.8023152962452222,
          -1.7570950411749429,
          -0.3551025680128556,
          -0.9730138683284136,
          1.7174009466336264,
          -1.0403124882430377,
          0.8946881797652224,
          -0.481238013126997,
          -0.1801078735119504,
          -0.3908161297782836,
          0.4211820003945261,
          0.8939246652280742,
          0.29982529050087176,
          -0.19053552055843878,
          0.9122188779991189,
          0.02791823589603473,
          -2.049843605469713,
          1.8451647391505106,
          1.835826771883997,
          0.4514046121545814,
          -1.3153479849431113,
          0.6039372964302147,
          0.1967032275194514,
          -0.19718733734199645,
          -1.0424453626339572,
          -1.291632485177539,
          0.08021453833866193,
          0.8381689241093387,
          -1.2721892786100386,
          0.3732178168113568,
          0.05276688734700252,
          -1.967496885033359,
          0.9023845846590755,
          0.24001744040925296,
          -0.05429170252464368,
          -0.49807948253119694,
          -1.452383083045118,
          -0.9418576074293369,
          -0.4523600116602419,
          0.6591749020229192,
          -0.48515217656054904,
          0.6035086074078894,
          -0.5338885854100055,
          -0.9455132299224919,
          -0.9184469295082123,
          -0.482512232189353,
          1.495957404481226,
          -0.11809049112544505,
          0.3194610816126905,
          -1.2852738670679296,
          -0.5933666650741988,
          1.7904157188996117,
          0.4052902765873968,
          1.8775364158770929,
          0.01327468426470117,
          -2.2108064327344157,
          0.4547179081726537,
          -0.5095154977877799,
          -0.9630339148296717,
          -1.1623592880536002,
          -1.1754650048720257
         ],
         "y": [
          0.8192336134801987,
          0.7602482743753068,
          0.6294100028786074,
          0.03904283596140118,
          -0.20300240870303762,
          -0.4217753477618602,
          -0.005137086974361876,
          -0.6026416600652672,
          -0.519906165020211,
          0.7206112252343626,
          0.20239306106194205,
          0.24824347008781414,
          -0.3632000207111838,
          0.5246297345959616,
          -0.8406442737890164,
          -0.30471587593055305,
          0.11002914869335803,
          -0.7770599281428845,
          -1.041800451056623,
          -0.9368605859558401,
          1.7229026947754391,
          -0.3620596398305359,
          0.4949821171328368,
          -1.5512318236277358,
          1.4494671490438522,
          -0.8823861526943375,
          -0.22564121684055144,
          -0.7154859681767155,
          -1.0820544326577435,
          -0.15522332326670543,
          -0.7164670995786423,
          0.2804719336161431,
          -0.2051279121244869,
          -1.5782948712181395,
          -1.6263700275222348,
          0.7739434861128113,
          1.3095508145895705,
          -1.2225798792362865,
          1.121663384493526,
          -1.4332480938692411,
          0.9030413351881482,
          0.006778345110963212,
          -0.23949189864348985,
          -0.04759875800248899,
          1.4895830215386634,
          0.34389886769741146,
          0.25995771804344314,
          1.7315562384553185,
          1.8352822475616812,
          -0.5177595834240207,
          1.8250101308281006,
          0.8931273429782042,
          0.653976849766924,
          0.2047316783716681,
          0.3021811973823506,
          -2.2920227763677037,
          0.3262921101530418,
          -0.3354101817456763,
          -1.2533302192795022,
          0.11168265476850534,
          -1.0357739867335003,
          0.528326646172122,
          0.4110942155465323,
          0.5074870135166899,
          -0.8819865735203064,
          -1.3814733121407319,
          0.022845539968953,
          -0.28094217851010267,
          0.48606511891207504,
          1.7050928660376112,
          -0.5609434522847258,
          -0.3087151772829456,
          -0.21422050977795287,
          0.732410209205975,
          -0.896156752315307,
          -0.748927157879648,
          0.006314657490310105,
          -1.1216573254922337,
          -0.5118157861492615,
          0.36209901117936405,
          -1.0880514683970912,
          0.46632807066648674,
          -0.022897289258460102,
          1.2856654258471698,
          -0.24579209518601375,
          -0.31100397594352286,
          0.0904341764974058,
          -1.1641298986673796,
          0.13704345571697643,
          0.1676107315041115,
          -0.3185357210445539,
          -0.6292950421730465,
          1.6062211256891819,
          -0.066381667278134,
          0.7151003365735614,
          0.3931328546294085,
          0.39143520976327495,
          -0.6355055797809678,
          0.09861609523459006,
          -1.2784322496774305
         ]
        }
       ],
       "layout": {
        "legend": {
         "bgcolor": "#F5F6F9",
         "font": {
          "color": "#4D5663"
         }
        },
        "paper_bgcolor": "#F5F6F9",
        "plot_bgcolor": "#F5F6F9",
        "template": {
         "data": {
          "bar": [
           {
            "error_x": {
             "color": "#2a3f5f"
            },
            "error_y": {
             "color": "#2a3f5f"
            },
            "marker": {
             "line": {
              "color": "#E5ECF6",
              "width": 0.5
             }
            },
            "type": "bar"
           }
          ],
          "barpolar": [
           {
            "marker": {
             "line": {
              "color": "#E5ECF6",
              "width": 0.5
             }
            },
            "type": "barpolar"
           }
          ],
          "carpet": [
           {
            "aaxis": {
             "endlinecolor": "#2a3f5f",
             "gridcolor": "white",
             "linecolor": "white",
             "minorgridcolor": "white",
             "startlinecolor": "#2a3f5f"
            },
            "baxis": {
             "endlinecolor": "#2a3f5f",
             "gridcolor": "white",
             "linecolor": "white",
             "minorgridcolor": "white",
             "startlinecolor": "#2a3f5f"
            },
            "type": "carpet"
           }
          ],
          "choropleth": [
           {
            "colorbar": {
             "outlinewidth": 0,
             "ticks": ""
            },
            "type": "choropleth"
           }
          ],
          "contour": [
           {
            "colorbar": {
             "outlinewidth": 0,
             "ticks": ""
            },
            "colorscale": [
             [
              0,
              "#0d0887"
             ],
             [
              0.1111111111111111,
              "#46039f"
             ],
             [
              0.2222222222222222,
              "#7201a8"
             ],
             [
              0.3333333333333333,
              "#9c179e"
             ],
             [
              0.4444444444444444,
              "#bd3786"
             ],
             [
              0.5555555555555556,
              "#d8576b"
             ],
             [
              0.6666666666666666,
              "#ed7953"
             ],
             [
              0.7777777777777778,
              "#fb9f3a"
             ],
             [
              0.8888888888888888,
              "#fdca26"
             ],
             [
              1,
              "#f0f921"
             ]
            ],
            "type": "contour"
           }
          ],
          "contourcarpet": [
           {
            "colorbar": {
             "outlinewidth": 0,
             "ticks": ""
            },
            "type": "contourcarpet"
           }
          ],
          "heatmap": [
           {
            "colorbar": {
             "outlinewidth": 0,
             "ticks": ""
            },
            "colorscale": [
             [
              0,
              "#0d0887"
             ],
             [
              0.1111111111111111,
              "#46039f"
             ],
             [
              0.2222222222222222,
              "#7201a8"
             ],
             [
              0.3333333333333333,
              "#9c179e"
             ],
             [
              0.4444444444444444,
              "#bd3786"
             ],
             [
              0.5555555555555556,
              "#d8576b"
             ],
             [
              0.6666666666666666,
              "#ed7953"
             ],
             [
              0.7777777777777778,
              "#fb9f3a"
             ],
             [
              0.8888888888888888,
              "#fdca26"
             ],
             [
              1,
              "#f0f921"
             ]
            ],
            "type": "heatmap"
           }
          ],
          "heatmapgl": [
           {
            "colorbar": {
             "outlinewidth": 0,
             "ticks": ""
            },
            "colorscale": [
             [
              0,
              "#0d0887"
             ],
             [
              0.1111111111111111,
              "#46039f"
             ],
             [
              0.2222222222222222,
              "#7201a8"
             ],
             [
              0.3333333333333333,
              "#9c179e"
             ],
             [
              0.4444444444444444,
              "#bd3786"
             ],
             [
              0.5555555555555556,
              "#d8576b"
             ],
             [
              0.6666666666666666,
              "#ed7953"
             ],
             [
              0.7777777777777778,
              "#fb9f3a"
             ],
             [
              0.8888888888888888,
              "#fdca26"
             ],
             [
              1,
              "#f0f921"
             ]
            ],
            "type": "heatmapgl"
           }
          ],
          "histogram": [
           {
            "marker": {
             "colorbar": {
              "outlinewidth": 0,
              "ticks": ""
             }
            },
            "type": "histogram"
           }
          ],
          "histogram2d": [
           {
            "colorbar": {
             "outlinewidth": 0,
             "ticks": ""
            },
            "colorscale": [
             [
              0,
              "#0d0887"
             ],
             [
              0.1111111111111111,
              "#46039f"
             ],
             [
              0.2222222222222222,
              "#7201a8"
             ],
             [
              0.3333333333333333,
              "#9c179e"
             ],
             [
              0.4444444444444444,
              "#bd3786"
             ],
             [
              0.5555555555555556,
              "#d8576b"
             ],
             [
              0.6666666666666666,
              "#ed7953"
             ],
             [
              0.7777777777777778,
              "#fb9f3a"
             ],
             [
              0.8888888888888888,
              "#fdca26"
             ],
             [
              1,
              "#f0f921"
             ]
            ],
            "type": "histogram2d"
           }
          ],
          "histogram2dcontour": [
           {
            "colorbar": {
             "outlinewidth": 0,
             "ticks": ""
            },
            "colorscale": [
             [
              0,
              "#0d0887"
             ],
             [
              0.1111111111111111,
              "#46039f"
             ],
             [
              0.2222222222222222,
              "#7201a8"
             ],
             [
              0.3333333333333333,
              "#9c179e"
             ],
             [
              0.4444444444444444,
              "#bd3786"
             ],
             [
              0.5555555555555556,
              "#d8576b"
             ],
             [
              0.6666666666666666,
              "#ed7953"
             ],
             [
              0.7777777777777778,
              "#fb9f3a"
             ],
             [
              0.8888888888888888,
              "#fdca26"
             ],
             [
              1,
              "#f0f921"
             ]
            ],
            "type": "histogram2dcontour"
           }
          ],
          "mesh3d": [
           {
            "colorbar": {
             "outlinewidth": 0,
             "ticks": ""
            },
            "type": "mesh3d"
           }
          ],
          "parcoords": [
           {
            "line": {
             "colorbar": {
              "outlinewidth": 0,
              "ticks": ""
             }
            },
            "type": "parcoords"
           }
          ],
          "pie": [
           {
            "automargin": true,
            "type": "pie"
           }
          ],
          "scatter": [
           {
            "marker": {
             "colorbar": {
              "outlinewidth": 0,
              "ticks": ""
             }
            },
            "type": "scatter"
           }
          ],
          "scatter3d": [
           {
            "line": {
             "colorbar": {
              "outlinewidth": 0,
              "ticks": ""
             }
            },
            "marker": {
             "colorbar": {
              "outlinewidth": 0,
              "ticks": ""
             }
            },
            "type": "scatter3d"
           }
          ],
          "scattercarpet": [
           {
            "marker": {
             "colorbar": {
              "outlinewidth": 0,
              "ticks": ""
             }
            },
            "type": "scattercarpet"
           }
          ],
          "scattergeo": [
           {
            "marker": {
             "colorbar": {
              "outlinewidth": 0,
              "ticks": ""
             }
            },
            "type": "scattergeo"
           }
          ],
          "scattergl": [
           {
            "marker": {
             "colorbar": {
              "outlinewidth": 0,
              "ticks": ""
             }
            },
            "type": "scattergl"
           }
          ],
          "scattermapbox": [
           {
            "marker": {
             "colorbar": {
              "outlinewidth": 0,
              "ticks": ""
             }
            },
            "type": "scattermapbox"
           }
          ],
          "scatterpolar": [
           {
            "marker": {
             "colorbar": {
              "outlinewidth": 0,
              "ticks": ""
             }
            },
            "type": "scatterpolar"
           }
          ],
          "scatterpolargl": [
           {
            "marker": {
             "colorbar": {
              "outlinewidth": 0,
              "ticks": ""
             }
            },
            "type": "scatterpolargl"
           }
          ],
          "scatterternary": [
           {
            "marker": {
             "colorbar": {
              "outlinewidth": 0,
              "ticks": ""
             }
            },
            "type": "scatterternary"
           }
          ],
          "surface": [
           {
            "colorbar": {
             "outlinewidth": 0,
             "ticks": ""
            },
            "colorscale": [
             [
              0,
              "#0d0887"
             ],
             [
              0.1111111111111111,
              "#46039f"
             ],
             [
              0.2222222222222222,
              "#7201a8"
             ],
             [
              0.3333333333333333,
              "#9c179e"
             ],
             [
              0.4444444444444444,
              "#bd3786"
             ],
             [
              0.5555555555555556,
              "#d8576b"
             ],
             [
              0.6666666666666666,
              "#ed7953"
             ],
             [
              0.7777777777777778,
              "#fb9f3a"
             ],
             [
              0.8888888888888888,
              "#fdca26"
             ],
             [
              1,
              "#f0f921"
             ]
            ],
            "type": "surface"
           }
          ],
          "table": [
           {
            "cells": {
             "fill": {
              "color": "#EBF0F8"
             },
             "line": {
              "color": "white"
             }
            },
            "header": {
             "fill": {
              "color": "#C8D4E3"
             },
             "line": {
              "color": "white"
             }
            },
            "type": "table"
           }
          ]
         },
         "layout": {
          "annotationdefaults": {
           "arrowcolor": "#2a3f5f",
           "arrowhead": 0,
           "arrowwidth": 1
          },
          "autotypenumbers": "strict",
          "coloraxis": {
           "colorbar": {
            "outlinewidth": 0,
            "ticks": ""
           }
          },
          "colorscale": {
           "diverging": [
            [
             0,
             "#8e0152"
            ],
            [
             0.1,
             "#c51b7d"
            ],
            [
             0.2,
             "#de77ae"
            ],
            [
             0.3,
             "#f1b6da"
            ],
            [
             0.4,
             "#fde0ef"
            ],
            [
             0.5,
             "#f7f7f7"
            ],
            [
             0.6,
             "#e6f5d0"
            ],
            [
             0.7,
             "#b8e186"
            ],
            [
             0.8,
             "#7fbc41"
            ],
            [
             0.9,
             "#4d9221"
            ],
            [
             1,
             "#276419"
            ]
           ],
           "sequential": [
            [
             0,
             "#0d0887"
            ],
            [
             0.1111111111111111,
             "#46039f"
            ],
            [
             0.2222222222222222,
             "#7201a8"
            ],
            [
             0.3333333333333333,
             "#9c179e"
            ],
            [
             0.4444444444444444,
             "#bd3786"
            ],
            [
             0.5555555555555556,
             "#d8576b"
            ],
            [
             0.6666666666666666,
             "#ed7953"
            ],
            [
             0.7777777777777778,
             "#fb9f3a"
            ],
            [
             0.8888888888888888,
             "#fdca26"
            ],
            [
             1,
             "#f0f921"
            ]
           ],
           "sequentialminus": [
            [
             0,
             "#0d0887"
            ],
            [
             0.1111111111111111,
             "#46039f"
            ],
            [
             0.2222222222222222,
             "#7201a8"
            ],
            [
             0.3333333333333333,
             "#9c179e"
            ],
            [
             0.4444444444444444,
             "#bd3786"
            ],
            [
             0.5555555555555556,
             "#d8576b"
            ],
            [
             0.6666666666666666,
             "#ed7953"
            ],
            [
             0.7777777777777778,
             "#fb9f3a"
            ],
            [
             0.8888888888888888,
             "#fdca26"
            ],
            [
             1,
             "#f0f921"
            ]
           ]
          },
          "colorway": [
           "#636efa",
           "#EF553B",
           "#00cc96",
           "#ab63fa",
           "#FFA15A",
           "#19d3f3",
           "#FF6692",
           "#B6E880",
           "#FF97FF",
           "#FECB52"
          ],
          "font": {
           "color": "#2a3f5f"
          },
          "geo": {
           "bgcolor": "white",
           "lakecolor": "white",
           "landcolor": "#E5ECF6",
           "showlakes": true,
           "showland": true,
           "subunitcolor": "white"
          },
          "hoverlabel": {
           "align": "left"
          },
          "hovermode": "closest",
          "mapbox": {
           "style": "light"
          },
          "paper_bgcolor": "white",
          "plot_bgcolor": "#E5ECF6",
          "polar": {
           "angularaxis": {
            "gridcolor": "white",
            "linecolor": "white",
            "ticks": ""
           },
           "bgcolor": "#E5ECF6",
           "radialaxis": {
            "gridcolor": "white",
            "linecolor": "white",
            "ticks": ""
           }
          },
          "scene": {
           "xaxis": {
            "backgroundcolor": "#E5ECF6",
            "gridcolor": "white",
            "gridwidth": 2,
            "linecolor": "white",
            "showbackground": true,
            "ticks": "",
            "zerolinecolor": "white"
           },
           "yaxis": {
            "backgroundcolor": "#E5ECF6",
            "gridcolor": "white",
            "gridwidth": 2,
            "linecolor": "white",
            "showbackground": true,
            "ticks": "",
            "zerolinecolor": "white"
           },
           "zaxis": {
            "backgroundcolor": "#E5ECF6",
            "gridcolor": "white",
            "gridwidth": 2,
            "linecolor": "white",
            "showbackground": true,
            "ticks": "",
            "zerolinecolor": "white"
           }
          },
          "shapedefaults": {
           "line": {
            "color": "#2a3f5f"
           }
          },
          "ternary": {
           "aaxis": {
            "gridcolor": "white",
            "linecolor": "white",
            "ticks": ""
           },
           "baxis": {
            "gridcolor": "white",
            "linecolor": "white",
            "ticks": ""
           },
           "bgcolor": "#E5ECF6",
           "caxis": {
            "gridcolor": "white",
            "linecolor": "white",
            "ticks": ""
           }
          },
          "title": {
           "x": 0.05
          },
          "xaxis": {
           "automargin": true,
           "gridcolor": "white",
           "linecolor": "white",
           "ticks": "",
           "title": {
            "standoff": 15
           },
           "zerolinecolor": "white",
           "zerolinewidth": 2
          },
          "yaxis": {
           "automargin": true,
           "gridcolor": "white",
           "linecolor": "white",
           "ticks": "",
           "title": {
            "standoff": 15
           },
           "zerolinecolor": "white",
           "zerolinewidth": 2
          }
         }
        },
        "title": {
         "font": {
          "color": "#4D5663"
         }
        },
        "xaxis": {
         "gridcolor": "#E1E5ED",
         "showgrid": true,
         "tickfont": {
          "color": "#4D5663"
         },
         "title": {
          "font": {
           "color": "#4D5663"
          },
          "text": ""
         },
         "zerolinecolor": "#E1E5ED"
        },
        "yaxis": {
         "gridcolor": "#E1E5ED",
         "showgrid": true,
         "tickfont": {
          "color": "#4D5663"
         },
         "title": {
          "font": {
           "color": "#4D5663"
          },
          "text": ""
         },
         "zerolinecolor": "#E1E5ED"
        }
       }
      },
      "text/html": "<div>                            <div id=\"1ba41f62-a018-4526-beca-3e42f4fb694d\" class=\"plotly-graph-div\" style=\"height:525px; width:100%;\"></div>            <script type=\"text/javascript\">                require([\"plotly\"], function(Plotly) {                    window.PLOTLYENV=window.PLOTLYENV || {};\n                    window.PLOTLYENV.BASE_URL='https://plot.ly';                                    if (document.getElementById(\"1ba41f62-a018-4526-beca-3e42f4fb694d\")) {                    Plotly.newPlot(                        \"1ba41f62-a018-4526-beca-3e42f4fb694d\",                        [{\"marker\": {\"color\": [\"rgb(255, 153, 51)\", \"rgb(55, 128, 191)\", \"rgb(50, 171, 96)\", \"rgb(128, 0, 128)\", \"rgb(219, 64, 82)\", \"rgb(0, 128, 128)\", \"rgb(255, 255, 51)\", \"rgb(128, 128, 0)\", \"rgb(251, 128, 114)\", \"rgb(128, 177, 211)\"], \"line\": {\"width\": 1.3}, \"size\": [112, 50, 55, 64, 43, 55, 55, 80, 39, 87, 70, 63, 65, 71, 59, 69, 68, 100, 109, 87, 57, 92, 44, 78, 56, 71, 42, 12, 46, 43, 81, 97, 28, 60, 47, 75, 58, 24, 65, 56, 13, 70, 53, 94, 51, 46, 73, 75, 73, 73, 69, 88, 29, 91, 84, 65, 45, 70, 100, 56, 46, 41, 62, 51, 62, 57, 37, 13, 56, 61, 55, 62, 62, 101, 56, 93, 51, 83, 38, 80, 82, 92, 37, 55, 65, 74, 59, 102, 74, 62, 80, 16, 69, 31, 81, 88, 44, 56, 61, 91], \"symbol\": \"circle\"}, \"mode\": \"markers\", \"text\": \"\", \"type\": \"scatter\", \"x\": [-1.6034591679105978, 0.6744517866256291, 0.16873903499098108, -0.7120838114462832, 0.23617682794395775, 1.180677289914722, -0.9243405825078829, 0.3249744142267152, 0.24123007955726194, -1.371775940963692, 2.0299735784534514, -1.638278538950703, -0.35137910597764804, 0.000667556043875359, -2.100087178780612, -0.4528852477762303, -1.0698827410677296, -0.22569897519992077, -1.0377256973062055, -0.40533486416227726, 0.6830430283391952, -0.33966680639046704, -0.8669563151471675, 0.527643417645511, -0.0833286510642639, 0.13548161732522387, 0.7223255346457207, -0.8175726858881641, 1.374045254814651, -0.5656973754914506, 0.39140389155072197, 0.16070195849060673, -0.1861179756096024, -0.5439910419446394, -0.7872529205941025, 1.3521531710461365, -0.969493749960735, -0.4360024968703549, -0.11854777642838966, -1.8023152962452222, -1.7570950411749429, -0.3551025680128556, -0.9730138683284136, 1.7174009466336264, -1.0403124882430377, 0.8946881797652224, -0.481238013126997, -0.1801078735119504, -0.3908161297782836, 0.4211820003945261, 0.8939246652280742, 0.29982529050087176, -0.19053552055843878, 0.9122188779991189, 0.02791823589603473, -2.049843605469713, 1.8451647391505106, 1.835826771883997, 0.4514046121545814, -1.3153479849431113, 0.6039372964302147, 0.1967032275194514, -0.19718733734199645, -1.0424453626339572, -1.291632485177539, 0.08021453833866193, 0.8381689241093387, -1.2721892786100386, 0.3732178168113568, 0.05276688734700252, -1.967496885033359, 0.9023845846590755, 0.24001744040925296, -0.05429170252464368, -0.49807948253119694, -1.452383083045118, -0.9418576074293369, -0.4523600116602419, 0.6591749020229192, -0.48515217656054904, 0.6035086074078894, -0.5338885854100055, -0.9455132299224919, -0.9184469295082123, -0.482512232189353, 1.495957404481226, -0.11809049112544505, 0.3194610816126905, -1.2852738670679296, -0.5933666650741988, 1.7904157188996117, 0.4052902765873968, 1.8775364158770929, 0.01327468426470117, -2.2108064327344157, 0.4547179081726537, -0.5095154977877799, -0.9630339148296717, -1.1623592880536002, -1.1754650048720257], \"y\": [0.8192336134801987, 0.7602482743753068, 0.6294100028786074, 0.03904283596140118, -0.20300240870303762, -0.4217753477618602, -0.005137086974361876, -0.6026416600652672, -0.519906165020211, 0.7206112252343626, 0.20239306106194205, 0.24824347008781414, -0.3632000207111838, 0.5246297345959616, -0.8406442737890164, -0.30471587593055305, 0.11002914869335803, -0.7770599281428845, -1.041800451056623, -0.9368605859558401, 1.7229026947754391, -0.3620596398305359, 0.4949821171328368, -1.5512318236277358, 1.4494671490438522, -0.8823861526943375, -0.22564121684055144, -0.7154859681767155, -1.0820544326577435, -0.15522332326670543, -0.7164670995786423, 0.2804719336161431, -0.2051279121244869, -1.5782948712181395, -1.6263700275222348, 0.7739434861128113, 1.3095508145895705, -1.2225798792362865, 1.121663384493526, -1.4332480938692411, 0.9030413351881482, 0.006778345110963212, -0.23949189864348985, -0.04759875800248899, 1.4895830215386634, 0.34389886769741146, 0.25995771804344314, 1.7315562384553185, 1.8352822475616812, -0.5177595834240207, 1.8250101308281006, 0.8931273429782042, 0.653976849766924, 0.2047316783716681, 0.3021811973823506, -2.2920227763677037, 0.3262921101530418, -0.3354101817456763, -1.2533302192795022, 0.11168265476850534, -1.0357739867335003, 0.528326646172122, 0.4110942155465323, 0.5074870135166899, -0.8819865735203064, -1.3814733121407319, 0.022845539968953, -0.28094217851010267, 0.48606511891207504, 1.7050928660376112, -0.5609434522847258, -0.3087151772829456, -0.21422050977795287, 0.732410209205975, -0.896156752315307, -0.748927157879648, 0.006314657490310105, -1.1216573254922337, -0.5118157861492615, 0.36209901117936405, -1.0880514683970912, 0.46632807066648674, -0.022897289258460102, 1.2856654258471698, -0.24579209518601375, -0.31100397594352286, 0.0904341764974058, -1.1641298986673796, 0.13704345571697643, 0.1676107315041115, -0.3185357210445539, -0.6292950421730465, 1.6062211256891819, -0.066381667278134, 0.7151003365735614, 0.3931328546294085, 0.39143520976327495, -0.6355055797809678, 0.09861609523459006, -1.2784322496774305]}],                        {\"legend\": {\"bgcolor\": \"#F5F6F9\", \"font\": {\"color\": \"#4D5663\"}}, \"paper_bgcolor\": \"#F5F6F9\", \"plot_bgcolor\": \"#F5F6F9\", \"template\": {\"data\": {\"bar\": [{\"error_x\": {\"color\": \"#2a3f5f\"}, \"error_y\": {\"color\": \"#2a3f5f\"}, \"marker\": {\"line\": {\"color\": \"#E5ECF6\", \"width\": 0.5}}, \"type\": \"bar\"}], \"barpolar\": [{\"marker\": {\"line\": {\"color\": \"#E5ECF6\", \"width\": 0.5}}, \"type\": \"barpolar\"}], \"carpet\": [{\"aaxis\": {\"endlinecolor\": \"#2a3f5f\", \"gridcolor\": \"white\", \"linecolor\": \"white\", \"minorgridcolor\": \"white\", \"startlinecolor\": \"#2a3f5f\"}, \"baxis\": {\"endlinecolor\": \"#2a3f5f\", \"gridcolor\": \"white\", \"linecolor\": \"white\", \"minorgridcolor\": \"white\", \"startlinecolor\": \"#2a3f5f\"}, \"type\": \"carpet\"}], \"choropleth\": [{\"colorbar\": {\"outlinewidth\": 0, \"ticks\": \"\"}, \"type\": \"choropleth\"}], \"contour\": [{\"colorbar\": {\"outlinewidth\": 0, \"ticks\": \"\"}, \"colorscale\": [[0.0, \"#0d0887\"], [0.1111111111111111, \"#46039f\"], [0.2222222222222222, \"#7201a8\"], [0.3333333333333333, \"#9c179e\"], [0.4444444444444444, \"#bd3786\"], [0.5555555555555556, \"#d8576b\"], [0.6666666666666666, \"#ed7953\"], [0.7777777777777778, \"#fb9f3a\"], [0.8888888888888888, \"#fdca26\"], [1.0, \"#f0f921\"]], \"type\": \"contour\"}], \"contourcarpet\": [{\"colorbar\": {\"outlinewidth\": 0, \"ticks\": \"\"}, \"type\": \"contourcarpet\"}], \"heatmap\": [{\"colorbar\": {\"outlinewidth\": 0, \"ticks\": \"\"}, \"colorscale\": [[0.0, \"#0d0887\"], [0.1111111111111111, \"#46039f\"], [0.2222222222222222, \"#7201a8\"], [0.3333333333333333, \"#9c179e\"], [0.4444444444444444, \"#bd3786\"], [0.5555555555555556, \"#d8576b\"], [0.6666666666666666, \"#ed7953\"], [0.7777777777777778, \"#fb9f3a\"], [0.8888888888888888, \"#fdca26\"], [1.0, \"#f0f921\"]], \"type\": \"heatmap\"}], \"heatmapgl\": [{\"colorbar\": {\"outlinewidth\": 0, \"ticks\": \"\"}, \"colorscale\": [[0.0, \"#0d0887\"], [0.1111111111111111, \"#46039f\"], [0.2222222222222222, \"#7201a8\"], [0.3333333333333333, \"#9c179e\"], [0.4444444444444444, \"#bd3786\"], [0.5555555555555556, \"#d8576b\"], [0.6666666666666666, \"#ed7953\"], [0.7777777777777778, \"#fb9f3a\"], [0.8888888888888888, \"#fdca26\"], [1.0, \"#f0f921\"]], \"type\": \"heatmapgl\"}], \"histogram\": [{\"marker\": {\"colorbar\": {\"outlinewidth\": 0, \"ticks\": \"\"}}, \"type\": \"histogram\"}], \"histogram2d\": [{\"colorbar\": {\"outlinewidth\": 0, \"ticks\": \"\"}, \"colorscale\": [[0.0, \"#0d0887\"], [0.1111111111111111, \"#46039f\"], [0.2222222222222222, \"#7201a8\"], [0.3333333333333333, \"#9c179e\"], [0.4444444444444444, \"#bd3786\"], [0.5555555555555556, \"#d8576b\"], [0.6666666666666666, \"#ed7953\"], [0.7777777777777778, \"#fb9f3a\"], [0.8888888888888888, \"#fdca26\"], [1.0, \"#f0f921\"]], \"type\": \"histogram2d\"}], \"histogram2dcontour\": [{\"colorbar\": {\"outlinewidth\": 0, \"ticks\": \"\"}, \"colorscale\": [[0.0, \"#0d0887\"], [0.1111111111111111, \"#46039f\"], [0.2222222222222222, \"#7201a8\"], [0.3333333333333333, \"#9c179e\"], [0.4444444444444444, \"#bd3786\"], [0.5555555555555556, \"#d8576b\"], [0.6666666666666666, \"#ed7953\"], [0.7777777777777778, \"#fb9f3a\"], [0.8888888888888888, \"#fdca26\"], [1.0, \"#f0f921\"]], \"type\": \"histogram2dcontour\"}], \"mesh3d\": [{\"colorbar\": {\"outlinewidth\": 0, \"ticks\": \"\"}, \"type\": \"mesh3d\"}], \"parcoords\": [{\"line\": {\"colorbar\": {\"outlinewidth\": 0, \"ticks\": \"\"}}, \"type\": \"parcoords\"}], \"pie\": [{\"automargin\": true, \"type\": \"pie\"}], \"scatter\": [{\"marker\": {\"colorbar\": {\"outlinewidth\": 0, \"ticks\": \"\"}}, \"type\": \"scatter\"}], \"scatter3d\": [{\"line\": {\"colorbar\": {\"outlinewidth\": 0, \"ticks\": \"\"}}, \"marker\": {\"colorbar\": {\"outlinewidth\": 0, \"ticks\": \"\"}}, \"type\": \"scatter3d\"}], \"scattercarpet\": [{\"marker\": {\"colorbar\": {\"outlinewidth\": 0, \"ticks\": \"\"}}, \"type\": \"scattercarpet\"}], \"scattergeo\": [{\"marker\": {\"colorbar\": {\"outlinewidth\": 0, \"ticks\": \"\"}}, \"type\": \"scattergeo\"}], \"scattergl\": [{\"marker\": {\"colorbar\": {\"outlinewidth\": 0, \"ticks\": \"\"}}, \"type\": \"scattergl\"}], \"scattermapbox\": [{\"marker\": {\"colorbar\": {\"outlinewidth\": 0, \"ticks\": \"\"}}, \"type\": \"scattermapbox\"}], \"scatterpolar\": [{\"marker\": {\"colorbar\": {\"outlinewidth\": 0, \"ticks\": \"\"}}, \"type\": \"scatterpolar\"}], \"scatterpolargl\": [{\"marker\": {\"colorbar\": {\"outlinewidth\": 0, \"ticks\": \"\"}}, \"type\": \"scatterpolargl\"}], \"scatterternary\": [{\"marker\": {\"colorbar\": {\"outlinewidth\": 0, \"ticks\": \"\"}}, \"type\": \"scatterternary\"}], \"surface\": [{\"colorbar\": {\"outlinewidth\": 0, \"ticks\": \"\"}, \"colorscale\": [[0.0, \"#0d0887\"], [0.1111111111111111, \"#46039f\"], [0.2222222222222222, \"#7201a8\"], [0.3333333333333333, \"#9c179e\"], [0.4444444444444444, \"#bd3786\"], [0.5555555555555556, \"#d8576b\"], [0.6666666666666666, \"#ed7953\"], [0.7777777777777778, \"#fb9f3a\"], [0.8888888888888888, \"#fdca26\"], [1.0, \"#f0f921\"]], \"type\": \"surface\"}], \"table\": [{\"cells\": {\"fill\": {\"color\": \"#EBF0F8\"}, \"line\": {\"color\": \"white\"}}, \"header\": {\"fill\": {\"color\": \"#C8D4E3\"}, \"line\": {\"color\": \"white\"}}, \"type\": \"table\"}]}, \"layout\": {\"annotationdefaults\": {\"arrowcolor\": \"#2a3f5f\", \"arrowhead\": 0, \"arrowwidth\": 1}, \"autotypenumbers\": \"strict\", \"coloraxis\": {\"colorbar\": {\"outlinewidth\": 0, \"ticks\": \"\"}}, \"colorscale\": {\"diverging\": [[0, \"#8e0152\"], [0.1, \"#c51b7d\"], [0.2, \"#de77ae\"], [0.3, \"#f1b6da\"], [0.4, \"#fde0ef\"], [0.5, \"#f7f7f7\"], [0.6, \"#e6f5d0\"], [0.7, \"#b8e186\"], [0.8, \"#7fbc41\"], [0.9, \"#4d9221\"], [1, \"#276419\"]], \"sequential\": [[0.0, \"#0d0887\"], [0.1111111111111111, \"#46039f\"], [0.2222222222222222, \"#7201a8\"], [0.3333333333333333, \"#9c179e\"], [0.4444444444444444, \"#bd3786\"], [0.5555555555555556, \"#d8576b\"], [0.6666666666666666, \"#ed7953\"], [0.7777777777777778, \"#fb9f3a\"], [0.8888888888888888, \"#fdca26\"], [1.0, \"#f0f921\"]], \"sequentialminus\": [[0.0, \"#0d0887\"], [0.1111111111111111, \"#46039f\"], [0.2222222222222222, \"#7201a8\"], [0.3333333333333333, \"#9c179e\"], [0.4444444444444444, \"#bd3786\"], [0.5555555555555556, \"#d8576b\"], [0.6666666666666666, \"#ed7953\"], [0.7777777777777778, \"#fb9f3a\"], [0.8888888888888888, \"#fdca26\"], [1.0, \"#f0f921\"]]}, \"colorway\": [\"#636efa\", \"#EF553B\", \"#00cc96\", \"#ab63fa\", \"#FFA15A\", \"#19d3f3\", \"#FF6692\", \"#B6E880\", \"#FF97FF\", \"#FECB52\"], \"font\": {\"color\": \"#2a3f5f\"}, \"geo\": {\"bgcolor\": \"white\", \"lakecolor\": \"white\", \"landcolor\": \"#E5ECF6\", \"showlakes\": true, \"showland\": true, \"subunitcolor\": \"white\"}, \"hoverlabel\": {\"align\": \"left\"}, \"hovermode\": \"closest\", \"mapbox\": {\"style\": \"light\"}, \"paper_bgcolor\": \"white\", \"plot_bgcolor\": \"#E5ECF6\", \"polar\": {\"angularaxis\": {\"gridcolor\": \"white\", \"linecolor\": \"white\", \"ticks\": \"\"}, \"bgcolor\": \"#E5ECF6\", \"radialaxis\": {\"gridcolor\": \"white\", \"linecolor\": \"white\", \"ticks\": \"\"}}, \"scene\": {\"xaxis\": {\"backgroundcolor\": \"#E5ECF6\", \"gridcolor\": \"white\", \"gridwidth\": 2, \"linecolor\": \"white\", \"showbackground\": true, \"ticks\": \"\", \"zerolinecolor\": \"white\"}, \"yaxis\": {\"backgroundcolor\": \"#E5ECF6\", \"gridcolor\": \"white\", \"gridwidth\": 2, \"linecolor\": \"white\", \"showbackground\": true, \"ticks\": \"\", \"zerolinecolor\": \"white\"}, \"zaxis\": {\"backgroundcolor\": \"#E5ECF6\", \"gridcolor\": \"white\", \"gridwidth\": 2, \"linecolor\": \"white\", \"showbackground\": true, \"ticks\": \"\", \"zerolinecolor\": \"white\"}}, \"shapedefaults\": {\"line\": {\"color\": \"#2a3f5f\"}}, \"ternary\": {\"aaxis\": {\"gridcolor\": \"white\", \"linecolor\": \"white\", \"ticks\": \"\"}, \"baxis\": {\"gridcolor\": \"white\", \"linecolor\": \"white\", \"ticks\": \"\"}, \"bgcolor\": \"#E5ECF6\", \"caxis\": {\"gridcolor\": \"white\", \"linecolor\": \"white\", \"ticks\": \"\"}}, \"title\": {\"x\": 0.05}, \"xaxis\": {\"automargin\": true, \"gridcolor\": \"white\", \"linecolor\": \"white\", \"ticks\": \"\", \"title\": {\"standoff\": 15}, \"zerolinecolor\": \"white\", \"zerolinewidth\": 2}, \"yaxis\": {\"automargin\": true, \"gridcolor\": \"white\", \"linecolor\": \"white\", \"ticks\": \"\", \"title\": {\"standoff\": 15}, \"zerolinecolor\": \"white\", \"zerolinewidth\": 2}}}, \"title\": {\"font\": {\"color\": \"#4D5663\"}}, \"xaxis\": {\"gridcolor\": \"#E1E5ED\", \"showgrid\": true, \"tickfont\": {\"color\": \"#4D5663\"}, \"title\": {\"font\": {\"color\": \"#4D5663\"}, \"text\": \"\"}, \"zerolinecolor\": \"#E1E5ED\"}, \"yaxis\": {\"gridcolor\": \"#E1E5ED\", \"showgrid\": true, \"tickfont\": {\"color\": \"#4D5663\"}, \"title\": {\"font\": {\"color\": \"#4D5663\"}, \"text\": \"\"}, \"zerolinecolor\": \"#E1E5ED\"}},                        {\"showLink\": true, \"linkText\": \"Export to plot.ly\", \"plotlyServerURL\": \"https://plot.ly\", \"responsive\": true}                    ).then(function(){\n                            \nvar gd = document.getElementById('1ba41f62-a018-4526-beca-3e42f4fb694d');\nvar x = new MutationObserver(function (mutations, observer) {{\n        var display = window.getComputedStyle(gd).display;\n        if (!display || display === 'none') {{\n            console.log([gd, 'removed!']);\n            Plotly.purge(gd);\n            observer.disconnect();\n        }}\n}});\n\n// Listen for the removal of the full notebook cells\nvar notebookContainer = gd.closest('#notebook-container');\nif (notebookContainer) {{\n    x.observe(notebookContainer, {childList: true});\n}}\n\n// Listen for the clearing of the current output cell\nvar outputEl = gd.closest('.output');\nif (outputEl) {{\n    x.observe(outputEl, {childList: true});\n}}\n\n                        })                };                });            </script>        </div>"
     },
     "metadata": {}
    }
   ],
   "source": [
    "df1.iplot(kind='bubble',x='A',y='B',size='C')"
   ]
  },
  {
   "source": [
    "## scatter_matrix()\n",
    "\n",
    "Similar to sns.pairplot()"
   ],
   "cell_type": "markdown",
   "metadata": {}
  },
  {
   "cell_type": "code",
   "execution_count": 24,
   "metadata": {},
   "outputs": [
    {
     "output_type": "display_data",
     "data": {
      "application/vnd.plotly.v1+json": {
       "config": {
        "linkText": "Export to plot.ly",
        "plotlyServerURL": "https://plot.ly",
        "showLink": true
       },
       "data": [
        {
         "histfunc": "count",
         "histnorm": "",
         "marker": {
          "color": "rgba(255, 153, 51, 1.0)",
          "line": {
           "color": "#4D5663",
           "width": 1.3
          }
         },
         "name": "A",
         "nbinsx": 10,
         "opacity": 0.8,
         "orientation": "v",
         "type": "histogram",
         "x": [
          -1.6034591679105978,
          0.6744517866256291,
          0.16873903499098108,
          -0.7120838114462832,
          0.23617682794395775,
          1.180677289914722,
          -0.9243405825078829,
          0.3249744142267152,
          0.24123007955726194,
          -1.371775940963692,
          2.0299735784534514,
          -1.638278538950703,
          -0.35137910597764804,
          0.000667556043875359,
          -2.100087178780612,
          -0.4528852477762303,
          -1.0698827410677296,
          -0.22569897519992077,
          -1.0377256973062055,
          -0.40533486416227726,
          0.6830430283391952,
          -0.33966680639046704,
          -0.8669563151471675,
          0.527643417645511,
          -0.0833286510642639,
          0.13548161732522387,
          0.7223255346457207,
          -0.8175726858881641,
          1.374045254814651,
          -0.5656973754914506,
          0.39140389155072197,
          0.16070195849060673,
          -0.1861179756096024,
          -0.5439910419446394,
          -0.7872529205941025,
          1.3521531710461365,
          -0.969493749960735,
          -0.4360024968703549,
          -0.11854777642838966,
          -1.8023152962452222,
          -1.7570950411749429,
          -0.3551025680128556,
          -0.9730138683284136,
          1.7174009466336264,
          -1.0403124882430377,
          0.8946881797652224,
          -0.481238013126997,
          -0.1801078735119504,
          -0.3908161297782836,
          0.4211820003945261,
          0.8939246652280742,
          0.29982529050087176,
          -0.19053552055843878,
          0.9122188779991189,
          0.02791823589603473,
          -2.049843605469713,
          1.8451647391505106,
          1.835826771883997,
          0.4514046121545814,
          -1.3153479849431113,
          0.6039372964302147,
          0.1967032275194514,
          -0.19718733734199645,
          -1.0424453626339572,
          -1.291632485177539,
          0.08021453833866193,
          0.8381689241093387,
          -1.2721892786100386,
          0.3732178168113568,
          0.05276688734700252,
          -1.967496885033359,
          0.9023845846590755,
          0.24001744040925296,
          -0.05429170252464368,
          -0.49807948253119694,
          -1.452383083045118,
          -0.9418576074293369,
          -0.4523600116602419,
          0.6591749020229192,
          -0.48515217656054904,
          0.6035086074078894,
          -0.5338885854100055,
          -0.9455132299224919,
          -0.9184469295082123,
          -0.482512232189353,
          1.495957404481226,
          -0.11809049112544505,
          0.3194610816126905,
          -1.2852738670679296,
          -0.5933666650741988,
          1.7904157188996117,
          0.4052902765873968,
          1.8775364158770929,
          0.01327468426470117,
          -2.2108064327344157,
          0.4547179081726537,
          -0.5095154977877799,
          -0.9630339148296717,
          -1.1623592880536002,
          -1.1754650048720257
         ],
         "xaxis": "x",
         "yaxis": "y"
        },
        {
         "line": {
          "color": "rgba(128, 128, 128, 1.0)",
          "dash": "solid",
          "shape": "linear",
          "width": 1.3
         },
         "marker": {
          "size": 2,
          "symbol": "circle"
         },
         "mode": "markers",
         "name": "A",
         "text": "",
         "type": "scatter",
         "x": [
          0.8192336134801987,
          0.7602482743753068,
          0.6294100028786074,
          0.03904283596140118,
          -0.20300240870303762,
          -0.4217753477618602,
          -0.005137086974361876,
          -0.6026416600652672,
          -0.519906165020211,
          0.7206112252343626,
          0.20239306106194205,
          0.24824347008781414,
          -0.3632000207111838,
          0.5246297345959616,
          -0.8406442737890164,
          -0.30471587593055305,
          0.11002914869335803,
          -0.7770599281428845,
          -1.041800451056623,
          -0.9368605859558401,
          1.7229026947754391,
          -0.3620596398305359,
          0.4949821171328368,
          -1.5512318236277358,
          1.4494671490438522,
          -0.8823861526943375,
          -0.22564121684055144,
          -0.7154859681767155,
          -1.0820544326577435,
          -0.15522332326670543,
          -0.7164670995786423,
          0.2804719336161431,
          -0.2051279121244869,
          -1.5782948712181395,
          -1.6263700275222348,
          0.7739434861128113,
          1.3095508145895705,
          -1.2225798792362865,
          1.121663384493526,
          -1.4332480938692411,
          0.9030413351881482,
          0.006778345110963212,
          -0.23949189864348985,
          -0.04759875800248899,
          1.4895830215386634,
          0.34389886769741146,
          0.25995771804344314,
          1.7315562384553185,
          1.8352822475616812,
          -0.5177595834240207,
          1.8250101308281006,
          0.8931273429782042,
          0.653976849766924,
          0.2047316783716681,
          0.3021811973823506,
          -2.2920227763677037,
          0.3262921101530418,
          -0.3354101817456763,
          -1.2533302192795022,
          0.11168265476850534,
          -1.0357739867335003,
          0.528326646172122,
          0.4110942155465323,
          0.5074870135166899,
          -0.8819865735203064,
          -1.3814733121407319,
          0.022845539968953,
          -0.28094217851010267,
          0.48606511891207504,
          1.7050928660376112,
          -0.5609434522847258,
          -0.3087151772829456,
          -0.21422050977795287,
          0.732410209205975,
          -0.896156752315307,
          -0.748927157879648,
          0.006314657490310105,
          -1.1216573254922337,
          -0.5118157861492615,
          0.36209901117936405,
          -1.0880514683970912,
          0.46632807066648674,
          -0.022897289258460102,
          1.2856654258471698,
          -0.24579209518601375,
          -0.31100397594352286,
          0.0904341764974058,
          -1.1641298986673796,
          0.13704345571697643,
          0.1676107315041115,
          -0.3185357210445539,
          -0.6292950421730465,
          1.6062211256891819,
          -0.066381667278134,
          0.7151003365735614,
          0.3931328546294085,
          0.39143520976327495,
          -0.6355055797809678,
          0.09861609523459006,
          -1.2784322496774305
         ],
         "xaxis": "x2",
         "y": [
          -1.6034591679105978,
          0.6744517866256291,
          0.16873903499098108,
          -0.7120838114462832,
          0.23617682794395775,
          1.180677289914722,
          -0.9243405825078829,
          0.3249744142267152,
          0.24123007955726194,
          -1.371775940963692,
          2.0299735784534514,
          -1.638278538950703,
          -0.35137910597764804,
          0.000667556043875359,
          -2.100087178780612,
          -0.4528852477762303,
          -1.0698827410677296,
          -0.22569897519992077,
          -1.0377256973062055,
          -0.40533486416227726,
          0.6830430283391952,
          -0.33966680639046704,
          -0.8669563151471675,
          0.527643417645511,
          -0.0833286510642639,
          0.13548161732522387,
          0.7223255346457207,
          -0.8175726858881641,
          1.374045254814651,
          -0.5656973754914506,
          0.39140389155072197,
          0.16070195849060673,
          -0.1861179756096024,
          -0.5439910419446394,
          -0.7872529205941025,
          1.3521531710461365,
          -0.969493749960735,
          -0.4360024968703549,
          -0.11854777642838966,
          -1.8023152962452222,
          -1.7570950411749429,
          -0.3551025680128556,
          -0.9730138683284136,
          1.7174009466336264,
          -1.0403124882430377,
          0.8946881797652224,
          -0.481238013126997,
          -0.1801078735119504,
          -0.3908161297782836,
          0.4211820003945261,
          0.8939246652280742,
          0.29982529050087176,
          -0.19053552055843878,
          0.9122188779991189,
          0.02791823589603473,
          -2.049843605469713,
          1.8451647391505106,
          1.835826771883997,
          0.4514046121545814,
          -1.3153479849431113,
          0.6039372964302147,
          0.1967032275194514,
          -0.19718733734199645,
          -1.0424453626339572,
          -1.291632485177539,
          0.08021453833866193,
          0.8381689241093387,
          -1.2721892786100386,
          0.3732178168113568,
          0.05276688734700252,
          -1.967496885033359,
          0.9023845846590755,
          0.24001744040925296,
          -0.05429170252464368,
          -0.49807948253119694,
          -1.452383083045118,
          -0.9418576074293369,
          -0.4523600116602419,
          0.6591749020229192,
          -0.48515217656054904,
          0.6035086074078894,
          -0.5338885854100055,
          -0.9455132299224919,
          -0.9184469295082123,
          -0.482512232189353,
          1.495957404481226,
          -0.11809049112544505,
          0.3194610816126905,
          -1.2852738670679296,
          -0.5933666650741988,
          1.7904157188996117,
          0.4052902765873968,
          1.8775364158770929,
          0.01327468426470117,
          -2.2108064327344157,
          0.4547179081726537,
          -0.5095154977877799,
          -0.9630339148296717,
          -1.1623592880536002,
          -1.1754650048720257
         ],
         "yaxis": "y2"
        },
        {
         "line": {
          "color": "rgba(128, 128, 128, 1.0)",
          "dash": "solid",
          "shape": "linear",
          "width": 1.3
         },
         "marker": {
          "size": 2,
          "symbol": "circle"
         },
         "mode": "markers",
         "name": "A",
         "text": "",
         "type": "scatter",
         "x": [
          2.413773226467551,
          -0.7128641051383859,
          -0.4644136139558775,
          -0.01595694663080215,
          -1.0650640833764218,
          -0.48824719587425885,
          -0.46792702899628724,
          0.7935768216181784,
          -1.2882522941089907,
          1.1808870677203653,
          0.29037826101094666,
          -0.06273209145717351,
          0.020915860572536787,
          0.3559134718066243,
          -0.23828516601864974,
          0.2235282271400536,
          0.19797177200515284,
          1.8154376537683254,
          2.2848843666910827,
          1.1551806091037926,
          -0.3699746848112576,
          1.435658491619278,
          -1.028800188537578,
          0.6939205836708525,
          -0.40461125110826474,
          0.3327556578954046,
          -1.12640609571732,
          -2.6860447566331986,
          -0.9179074972194138,
          -1.06704343280252,
          0.8589691278525239,
          1.6668434809952644,
          -1.8254270265450483,
          -0.2336040815855926,
          -0.8741850919768382,
          0.5611318101312296,
          -0.30844936946133,
          -2.0734330772879583,
          0.04932456760975603,
          -0.4400844067977491,
          -2.584058318333577,
          0.30613786549649014,
          -0.5441577295913987,
          1.5392055423948425,
          -0.6572771953504218,
          -0.9186896963179999,
          0.43104549104002376,
          0.5560132829638029,
          0.4295007204552606,
          0.4296060913696705,
          0.2560402303645244,
          1.208248313929545,
          -1.7707832610232104,
          1.3897189518615294,
          1.0320936445448918,
          0.02004439306689833,
          -0.9776711761697071,
          0.2942035576612603,
          1.8119180949403657,
          -0.3950788056218137,
          -0.910213972231028,
          -1.1739349903824625,
          -0.12564992211094936,
          -0.6755373400151659,
          -0.09944943527808983,
          -0.3425637260077509,
          -1.390472064931238,
          -2.605239681869079,
          -0.4120934341872476,
          -0.1433111350149596,
          -0.49250371960794603,
          -0.11038227569364245,
          -0.09476737702784671,
          1.8538864184662776,
          -0.4262021828358027,
          1.4510023307478104,
          -0.6586291189953202,
          0.9627447585438353,
          -1.3102489008195526,
          0.8263604082643905,
          0.9052797697023395,
          1.422667165070258,
          -1.3777177729561392,
          -0.4607103704274852,
          0.038783419380216726,
          0.4961343068085089,
          -0.257350508592742,
          1.912895753556617,
          0.4884316808865898,
          -0.13281473817269865,
          0.78731472054916,
          -2.474027384823861,
          0.26065077866571856,
          -1.6826622183155961,
          0.8624958193966548,
          1.1999959758197845,
          -1.0252157379675841,
          -0.431404358816828,
          -0.1830837371829216,
          1.3727642127169377
         ],
         "xaxis": "x3",
         "y": [
          -1.6034591679105978,
          0.6744517866256291,
          0.16873903499098108,
          -0.7120838114462832,
          0.23617682794395775,
          1.180677289914722,
          -0.9243405825078829,
          0.3249744142267152,
          0.24123007955726194,
          -1.371775940963692,
          2.0299735784534514,
          -1.638278538950703,
          -0.35137910597764804,
          0.000667556043875359,
          -2.100087178780612,
          -0.4528852477762303,
          -1.0698827410677296,
          -0.22569897519992077,
          -1.0377256973062055,
          -0.40533486416227726,
          0.6830430283391952,
          -0.33966680639046704,
          -0.8669563151471675,
          0.527643417645511,
          -0.0833286510642639,
          0.13548161732522387,
          0.7223255346457207,
          -0.8175726858881641,
          1.374045254814651,
          -0.5656973754914506,
          0.39140389155072197,
          0.16070195849060673,
          -0.1861179756096024,
          -0.5439910419446394,
          -0.7872529205941025,
          1.3521531710461365,
          -0.969493749960735,
          -0.4360024968703549,
          -0.11854777642838966,
          -1.8023152962452222,
          -1.7570950411749429,
          -0.3551025680128556,
          -0.9730138683284136,
          1.7174009466336264,
          -1.0403124882430377,
          0.8946881797652224,
          -0.481238013126997,
          -0.1801078735119504,
          -0.3908161297782836,
          0.4211820003945261,
          0.8939246652280742,
          0.29982529050087176,
          -0.19053552055843878,
          0.9122188779991189,
          0.02791823589603473,
          -2.049843605469713,
          1.8451647391505106,
          1.835826771883997,
          0.4514046121545814,
          -1.3153479849431113,
          0.6039372964302147,
          0.1967032275194514,
          -0.19718733734199645,
          -1.0424453626339572,
          -1.291632485177539,
          0.08021453833866193,
          0.8381689241093387,
          -1.2721892786100386,
          0.3732178168113568,
          0.05276688734700252,
          -1.967496885033359,
          0.9023845846590755,
          0.24001744040925296,
          -0.05429170252464368,
          -0.49807948253119694,
          -1.452383083045118,
          -0.9418576074293369,
          -0.4523600116602419,
          0.6591749020229192,
          -0.48515217656054904,
          0.6035086074078894,
          -0.5338885854100055,
          -0.9455132299224919,
          -0.9184469295082123,
          -0.482512232189353,
          1.495957404481226,
          -0.11809049112544505,
          0.3194610816126905,
          -1.2852738670679296,
          -0.5933666650741988,
          1.7904157188996117,
          0.4052902765873968,
          1.8775364158770929,
          0.01327468426470117,
          -2.2108064327344157,
          0.4547179081726537,
          -0.5095154977877799,
          -0.9630339148296717,
          -1.1623592880536002,
          -1.1754650048720257
         ],
         "yaxis": "y3"
        },
        {
         "line": {
          "color": "rgba(128, 128, 128, 1.0)",
          "dash": "solid",
          "shape": "linear",
          "width": 1.3
         },
         "marker": {
          "size": 2,
          "symbol": "circle"
         },
         "mode": "markers",
         "name": "A",
         "text": "",
         "type": "scatter",
         "x": [
          0.007401829489414258,
          -1.4370701708241351,
          1.8591857898260413,
          0.3234628984355769,
          -1.0186827699736536,
          -2.5029781942582536,
          -1.3170221417895134,
          1.2842493614367703,
          1.3176561190796041,
          -1.51984636555648,
          -0.4568373373257365,
          0.4917231453636013,
          0.6297324020840347,
          0.6800046087257194,
          -1.6879043349963478,
          -1.7184440811410282,
          -0.6629893158933756,
          -0.2990734559154911,
          0.9273377980104158,
          0.7579737594959451,
          0.17464062389667698,
          -0.5407570581589365,
          1.1910778044072616,
          1.7628648760907555,
          -0.6551421684049624,
          1.4492782835504971,
          -1.740609136786402,
          0.28395166043367237,
          0.2786932639454531,
          0.41404403872693646,
          0.21506270134800523,
          0.8505682644777229,
          -0.5314201293607476,
          0.5557896304038229,
          -0.365296760714232,
          -2.217061474571356,
          0.9748013312221652,
          -0.34170981426661173,
          0.6329261017503135,
          -1.6401310490359202,
          0.3680781631778554,
          -1.285346047515693,
          -1.2285046196339122,
          1.3173483989518635,
          -0.22844460194279967,
          -1.217582191747272,
          0.037821191174498336,
          -1.3107140382302156,
          0.3702429826892917,
          -0.157923202464818,
          -0.8234566045410443,
          1.4173789736564744,
          1.5935473741277102,
          0.5073315634889328,
          0.0022844246709907154,
          -0.4878625159174958,
          -0.49371361576826533,
          -0.23516513649527385,
          -0.4493622502616095,
          0.36009271890851724,
          -1.0418440464224992,
          -1.53256274128827,
          -0.41820014868909544,
          1.3907238052547535,
          -0.23434252023843363,
          -2.437667783631158,
          0.2268982172156791,
          0.7922884933261074,
          -1.0850266622940754,
          1.5220154399440695,
          -0.3829316588565574,
          2.0082340018972378,
          -0.9898848749021504,
          0.17271913719835147,
          -0.9349385955128694,
          -0.17107806906005382,
          0.7585279879634922,
          -0.3854391811891404,
          0.519953625079641,
          0.9421019207472212,
          -0.30754883829157076,
          -0.1147229354317717,
          0.2498261281442703,
          -0.15744464120196575,
          -0.42045231527794225,
          -1.627296460821743,
          0.005044118144702033,
          0.5658345085132992,
          0.6388688318264979,
          -1.3232878742686391,
          0.7465694355165938,
          1.0820018623444183,
          -0.5041788231736237,
          1.1504172122250285,
          0.9447481604950453,
          0.38513046915252636,
          1.0291157820071175,
          1.0957470204235578,
          -0.47547506159373265,
          1.0934248802476974
         ],
         "xaxis": "x4",
         "y": [
          -1.6034591679105978,
          0.6744517866256291,
          0.16873903499098108,
          -0.7120838114462832,
          0.23617682794395775,
          1.180677289914722,
          -0.9243405825078829,
          0.3249744142267152,
          0.24123007955726194,
          -1.371775940963692,
          2.0299735784534514,
          -1.638278538950703,
          -0.35137910597764804,
          0.000667556043875359,
          -2.100087178780612,
          -0.4528852477762303,
          -1.0698827410677296,
          -0.22569897519992077,
          -1.0377256973062055,
          -0.40533486416227726,
          0.6830430283391952,
          -0.33966680639046704,
          -0.8669563151471675,
          0.527643417645511,
          -0.0833286510642639,
          0.13548161732522387,
          0.7223255346457207,
          -0.8175726858881641,
          1.374045254814651,
          -0.5656973754914506,
          0.39140389155072197,
          0.16070195849060673,
          -0.1861179756096024,
          -0.5439910419446394,
          -0.7872529205941025,
          1.3521531710461365,
          -0.969493749960735,
          -0.4360024968703549,
          -0.11854777642838966,
          -1.8023152962452222,
          -1.7570950411749429,
          -0.3551025680128556,
          -0.9730138683284136,
          1.7174009466336264,
          -1.0403124882430377,
          0.8946881797652224,
          -0.481238013126997,
          -0.1801078735119504,
          -0.3908161297782836,
          0.4211820003945261,
          0.8939246652280742,
          0.29982529050087176,
          -0.19053552055843878,
          0.9122188779991189,
          0.02791823589603473,
          -2.049843605469713,
          1.8451647391505106,
          1.835826771883997,
          0.4514046121545814,
          -1.3153479849431113,
          0.6039372964302147,
          0.1967032275194514,
          -0.19718733734199645,
          -1.0424453626339572,
          -1.291632485177539,
          0.08021453833866193,
          0.8381689241093387,
          -1.2721892786100386,
          0.3732178168113568,
          0.05276688734700252,
          -1.967496885033359,
          0.9023845846590755,
          0.24001744040925296,
          -0.05429170252464368,
          -0.49807948253119694,
          -1.452383083045118,
          -0.9418576074293369,
          -0.4523600116602419,
          0.6591749020229192,
          -0.48515217656054904,
          0.6035086074078894,
          -0.5338885854100055,
          -0.9455132299224919,
          -0.9184469295082123,
          -0.482512232189353,
          1.495957404481226,
          -0.11809049112544505,
          0.3194610816126905,
          -1.2852738670679296,
          -0.5933666650741988,
          1.7904157188996117,
          0.4052902765873968,
          1.8775364158770929,
          0.01327468426470117,
          -2.2108064327344157,
          0.4547179081726537,
          -0.5095154977877799,
          -0.9630339148296717,
          -1.1623592880536002,
          -1.1754650048720257
         ],
         "yaxis": "y4"
        },
        {
         "line": {
          "color": "rgba(128, 128, 128, 1.0)",
          "dash": "solid",
          "shape": "linear",
          "width": 1.3
         },
         "marker": {
          "size": 2,
          "symbol": "circle"
         },
         "mode": "markers",
         "name": "B",
         "text": "",
         "type": "scatter",
         "x": [
          -1.6034591679105978,
          0.6744517866256291,
          0.16873903499098108,
          -0.7120838114462832,
          0.23617682794395775,
          1.180677289914722,
          -0.9243405825078829,
          0.3249744142267152,
          0.24123007955726194,
          -1.371775940963692,
          2.0299735784534514,
          -1.638278538950703,
          -0.35137910597764804,
          0.000667556043875359,
          -2.100087178780612,
          -0.4528852477762303,
          -1.0698827410677296,
          -0.22569897519992077,
          -1.0377256973062055,
          -0.40533486416227726,
          0.6830430283391952,
          -0.33966680639046704,
          -0.8669563151471675,
          0.527643417645511,
          -0.0833286510642639,
          0.13548161732522387,
          0.7223255346457207,
          -0.8175726858881641,
          1.374045254814651,
          -0.5656973754914506,
          0.39140389155072197,
          0.16070195849060673,
          -0.1861179756096024,
          -0.5439910419446394,
          -0.7872529205941025,
          1.3521531710461365,
          -0.969493749960735,
          -0.4360024968703549,
          -0.11854777642838966,
          -1.8023152962452222,
          -1.7570950411749429,
          -0.3551025680128556,
          -0.9730138683284136,
          1.7174009466336264,
          -1.0403124882430377,
          0.8946881797652224,
          -0.481238013126997,
          -0.1801078735119504,
          -0.3908161297782836,
          0.4211820003945261,
          0.8939246652280742,
          0.29982529050087176,
          -0.19053552055843878,
          0.9122188779991189,
          0.02791823589603473,
          -2.049843605469713,
          1.8451647391505106,
          1.835826771883997,
          0.4514046121545814,
          -1.3153479849431113,
          0.6039372964302147,
          0.1967032275194514,
          -0.19718733734199645,
          -1.0424453626339572,
          -1.291632485177539,
          0.08021453833866193,
          0.8381689241093387,
          -1.2721892786100386,
          0.3732178168113568,
          0.05276688734700252,
          -1.967496885033359,
          0.9023845846590755,
          0.24001744040925296,
          -0.05429170252464368,
          -0.49807948253119694,
          -1.452383083045118,
          -0.9418576074293369,
          -0.4523600116602419,
          0.6591749020229192,
          -0.48515217656054904,
          0.6035086074078894,
          -0.5338885854100055,
          -0.9455132299224919,
          -0.9184469295082123,
          -0.482512232189353,
          1.495957404481226,
          -0.11809049112544505,
          0.3194610816126905,
          -1.2852738670679296,
          -0.5933666650741988,
          1.7904157188996117,
          0.4052902765873968,
          1.8775364158770929,
          0.01327468426470117,
          -2.2108064327344157,
          0.4547179081726537,
          -0.5095154977877799,
          -0.9630339148296717,
          -1.1623592880536002,
          -1.1754650048720257
         ],
         "xaxis": "x5",
         "y": [
          0.8192336134801987,
          0.7602482743753068,
          0.6294100028786074,
          0.03904283596140118,
          -0.20300240870303762,
          -0.4217753477618602,
          -0.005137086974361876,
          -0.6026416600652672,
          -0.519906165020211,
          0.7206112252343626,
          0.20239306106194205,
          0.24824347008781414,
          -0.3632000207111838,
          0.5246297345959616,
          -0.8406442737890164,
          -0.30471587593055305,
          0.11002914869335803,
          -0.7770599281428845,
          -1.041800451056623,
          -0.9368605859558401,
          1.7229026947754391,
          -0.3620596398305359,
          0.4949821171328368,
          -1.5512318236277358,
          1.4494671490438522,
          -0.8823861526943375,
          -0.22564121684055144,
          -0.7154859681767155,
          -1.0820544326577435,
          -0.15522332326670543,
          -0.7164670995786423,
          0.2804719336161431,
          -0.2051279121244869,
          -1.5782948712181395,
          -1.6263700275222348,
          0.7739434861128113,
          1.3095508145895705,
          -1.2225798792362865,
          1.121663384493526,
          -1.4332480938692411,
          0.9030413351881482,
          0.006778345110963212,
          -0.23949189864348985,
          -0.04759875800248899,
          1.4895830215386634,
          0.34389886769741146,
          0.25995771804344314,
          1.7315562384553185,
          1.8352822475616812,
          -0.5177595834240207,
          1.8250101308281006,
          0.8931273429782042,
          0.653976849766924,
          0.2047316783716681,
          0.3021811973823506,
          -2.2920227763677037,
          0.3262921101530418,
          -0.3354101817456763,
          -1.2533302192795022,
          0.11168265476850534,
          -1.0357739867335003,
          0.528326646172122,
          0.4110942155465323,
          0.5074870135166899,
          -0.8819865735203064,
          -1.3814733121407319,
          0.022845539968953,
          -0.28094217851010267,
          0.48606511891207504,
          1.7050928660376112,
          -0.5609434522847258,
          -0.3087151772829456,
          -0.21422050977795287,
          0.732410209205975,
          -0.896156752315307,
          -0.748927157879648,
          0.006314657490310105,
          -1.1216573254922337,
          -0.5118157861492615,
          0.36209901117936405,
          -1.0880514683970912,
          0.46632807066648674,
          -0.022897289258460102,
          1.2856654258471698,
          -0.24579209518601375,
          -0.31100397594352286,
          0.0904341764974058,
          -1.1641298986673796,
          0.13704345571697643,
          0.1676107315041115,
          -0.3185357210445539,
          -0.6292950421730465,
          1.6062211256891819,
          -0.066381667278134,
          0.7151003365735614,
          0.3931328546294085,
          0.39143520976327495,
          -0.6355055797809678,
          0.09861609523459006,
          -1.2784322496774305
         ],
         "yaxis": "y5"
        },
        {
         "histfunc": "count",
         "histnorm": "",
         "marker": {
          "color": "rgba(55, 128, 191, 1.0)",
          "line": {
           "color": "#4D5663",
           "width": 1.3
          }
         },
         "name": "B",
         "nbinsx": 10,
         "opacity": 0.8,
         "orientation": "v",
         "type": "histogram",
         "x": [
          0.8192336134801987,
          0.7602482743753068,
          0.6294100028786074,
          0.03904283596140118,
          -0.20300240870303762,
          -0.4217753477618602,
          -0.005137086974361876,
          -0.6026416600652672,
          -0.519906165020211,
          0.7206112252343626,
          0.20239306106194205,
          0.24824347008781414,
          -0.3632000207111838,
          0.5246297345959616,
          -0.8406442737890164,
          -0.30471587593055305,
          0.11002914869335803,
          -0.7770599281428845,
          -1.041800451056623,
          -0.9368605859558401,
          1.7229026947754391,
          -0.3620596398305359,
          0.4949821171328368,
          -1.5512318236277358,
          1.4494671490438522,
          -0.8823861526943375,
          -0.22564121684055144,
          -0.7154859681767155,
          -1.0820544326577435,
          -0.15522332326670543,
          -0.7164670995786423,
          0.2804719336161431,
          -0.2051279121244869,
          -1.5782948712181395,
          -1.6263700275222348,
          0.7739434861128113,
          1.3095508145895705,
          -1.2225798792362865,
          1.121663384493526,
          -1.4332480938692411,
          0.9030413351881482,
          0.006778345110963212,
          -0.23949189864348985,
          -0.04759875800248899,
          1.4895830215386634,
          0.34389886769741146,
          0.25995771804344314,
          1.7315562384553185,
          1.8352822475616812,
          -0.5177595834240207,
          1.8250101308281006,
          0.8931273429782042,
          0.653976849766924,
          0.2047316783716681,
          0.3021811973823506,
          -2.2920227763677037,
          0.3262921101530418,
          -0.3354101817456763,
          -1.2533302192795022,
          0.11168265476850534,
          -1.0357739867335003,
          0.528326646172122,
          0.4110942155465323,
          0.5074870135166899,
          -0.8819865735203064,
          -1.3814733121407319,
          0.022845539968953,
          -0.28094217851010267,
          0.48606511891207504,
          1.7050928660376112,
          -0.5609434522847258,
          -0.3087151772829456,
          -0.21422050977795287,
          0.732410209205975,
          -0.896156752315307,
          -0.748927157879648,
          0.006314657490310105,
          -1.1216573254922337,
          -0.5118157861492615,
          0.36209901117936405,
          -1.0880514683970912,
          0.46632807066648674,
          -0.022897289258460102,
          1.2856654258471698,
          -0.24579209518601375,
          -0.31100397594352286,
          0.0904341764974058,
          -1.1641298986673796,
          0.13704345571697643,
          0.1676107315041115,
          -0.3185357210445539,
          -0.6292950421730465,
          1.6062211256891819,
          -0.066381667278134,
          0.7151003365735614,
          0.3931328546294085,
          0.39143520976327495,
          -0.6355055797809678,
          0.09861609523459006,
          -1.2784322496774305
         ],
         "xaxis": "x6",
         "yaxis": "y6"
        },
        {
         "line": {
          "color": "rgba(128, 128, 128, 1.0)",
          "dash": "solid",
          "shape": "linear",
          "width": 1.3
         },
         "marker": {
          "size": 2,
          "symbol": "circle"
         },
         "mode": "markers",
         "name": "B",
         "text": "",
         "type": "scatter",
         "x": [
          2.413773226467551,
          -0.7128641051383859,
          -0.4644136139558775,
          -0.01595694663080215,
          -1.0650640833764218,
          -0.48824719587425885,
          -0.46792702899628724,
          0.7935768216181784,
          -1.2882522941089907,
          1.1808870677203653,
          0.29037826101094666,
          -0.06273209145717351,
          0.020915860572536787,
          0.3559134718066243,
          -0.23828516601864974,
          0.2235282271400536,
          0.19797177200515284,
          1.8154376537683254,
          2.2848843666910827,
          1.1551806091037926,
          -0.3699746848112576,
          1.435658491619278,
          -1.028800188537578,
          0.6939205836708525,
          -0.40461125110826474,
          0.3327556578954046,
          -1.12640609571732,
          -2.6860447566331986,
          -0.9179074972194138,
          -1.06704343280252,
          0.8589691278525239,
          1.6668434809952644,
          -1.8254270265450483,
          -0.2336040815855926,
          -0.8741850919768382,
          0.5611318101312296,
          -0.30844936946133,
          -2.0734330772879583,
          0.04932456760975603,
          -0.4400844067977491,
          -2.584058318333577,
          0.30613786549649014,
          -0.5441577295913987,
          1.5392055423948425,
          -0.6572771953504218,
          -0.9186896963179999,
          0.43104549104002376,
          0.5560132829638029,
          0.4295007204552606,
          0.4296060913696705,
          0.2560402303645244,
          1.208248313929545,
          -1.7707832610232104,
          1.3897189518615294,
          1.0320936445448918,
          0.02004439306689833,
          -0.9776711761697071,
          0.2942035576612603,
          1.8119180949403657,
          -0.3950788056218137,
          -0.910213972231028,
          -1.1739349903824625,
          -0.12564992211094936,
          -0.6755373400151659,
          -0.09944943527808983,
          -0.3425637260077509,
          -1.390472064931238,
          -2.605239681869079,
          -0.4120934341872476,
          -0.1433111350149596,
          -0.49250371960794603,
          -0.11038227569364245,
          -0.09476737702784671,
          1.8538864184662776,
          -0.4262021828358027,
          1.4510023307478104,
          -0.6586291189953202,
          0.9627447585438353,
          -1.3102489008195526,
          0.8263604082643905,
          0.9052797697023395,
          1.422667165070258,
          -1.3777177729561392,
          -0.4607103704274852,
          0.038783419380216726,
          0.4961343068085089,
          -0.257350508592742,
          1.912895753556617,
          0.4884316808865898,
          -0.13281473817269865,
          0.78731472054916,
          -2.474027384823861,
          0.26065077866571856,
          -1.6826622183155961,
          0.8624958193966548,
          1.1999959758197845,
          -1.0252157379675841,
          -0.431404358816828,
          -0.1830837371829216,
          1.3727642127169377
         ],
         "xaxis": "x7",
         "y": [
          0.8192336134801987,
          0.7602482743753068,
          0.6294100028786074,
          0.03904283596140118,
          -0.20300240870303762,
          -0.4217753477618602,
          -0.005137086974361876,
          -0.6026416600652672,
          -0.519906165020211,
          0.7206112252343626,
          0.20239306106194205,
          0.24824347008781414,
          -0.3632000207111838,
          0.5246297345959616,
          -0.8406442737890164,
          -0.30471587593055305,
          0.11002914869335803,
          -0.7770599281428845,
          -1.041800451056623,
          -0.9368605859558401,
          1.7229026947754391,
          -0.3620596398305359,
          0.4949821171328368,
          -1.5512318236277358,
          1.4494671490438522,
          -0.8823861526943375,
          -0.22564121684055144,
          -0.7154859681767155,
          -1.0820544326577435,
          -0.15522332326670543,
          -0.7164670995786423,
          0.2804719336161431,
          -0.2051279121244869,
          -1.5782948712181395,
          -1.6263700275222348,
          0.7739434861128113,
          1.3095508145895705,
          -1.2225798792362865,
          1.121663384493526,
          -1.4332480938692411,
          0.9030413351881482,
          0.006778345110963212,
          -0.23949189864348985,
          -0.04759875800248899,
          1.4895830215386634,
          0.34389886769741146,
          0.25995771804344314,
          1.7315562384553185,
          1.8352822475616812,
          -0.5177595834240207,
          1.8250101308281006,
          0.8931273429782042,
          0.653976849766924,
          0.2047316783716681,
          0.3021811973823506,
          -2.2920227763677037,
          0.3262921101530418,
          -0.3354101817456763,
          -1.2533302192795022,
          0.11168265476850534,
          -1.0357739867335003,
          0.528326646172122,
          0.4110942155465323,
          0.5074870135166899,
          -0.8819865735203064,
          -1.3814733121407319,
          0.022845539968953,
          -0.28094217851010267,
          0.48606511891207504,
          1.7050928660376112,
          -0.5609434522847258,
          -0.3087151772829456,
          -0.21422050977795287,
          0.732410209205975,
          -0.896156752315307,
          -0.748927157879648,
          0.006314657490310105,
          -1.1216573254922337,
          -0.5118157861492615,
          0.36209901117936405,
          -1.0880514683970912,
          0.46632807066648674,
          -0.022897289258460102,
          1.2856654258471698,
          -0.24579209518601375,
          -0.31100397594352286,
          0.0904341764974058,
          -1.1641298986673796,
          0.13704345571697643,
          0.1676107315041115,
          -0.3185357210445539,
          -0.6292950421730465,
          1.6062211256891819,
          -0.066381667278134,
          0.7151003365735614,
          0.3931328546294085,
          0.39143520976327495,
          -0.6355055797809678,
          0.09861609523459006,
          -1.2784322496774305
         ],
         "yaxis": "y7"
        },
        {
         "line": {
          "color": "rgba(128, 128, 128, 1.0)",
          "dash": "solid",
          "shape": "linear",
          "width": 1.3
         },
         "marker": {
          "size": 2,
          "symbol": "circle"
         },
         "mode": "markers",
         "name": "B",
         "text": "",
         "type": "scatter",
         "x": [
          0.007401829489414258,
          -1.4370701708241351,
          1.8591857898260413,
          0.3234628984355769,
          -1.0186827699736536,
          -2.5029781942582536,
          -1.3170221417895134,
          1.2842493614367703,
          1.3176561190796041,
          -1.51984636555648,
          -0.4568373373257365,
          0.4917231453636013,
          0.6297324020840347,
          0.6800046087257194,
          -1.6879043349963478,
          -1.7184440811410282,
          -0.6629893158933756,
          -0.2990734559154911,
          0.9273377980104158,
          0.7579737594959451,
          0.17464062389667698,
          -0.5407570581589365,
          1.1910778044072616,
          1.7628648760907555,
          -0.6551421684049624,
          1.4492782835504971,
          -1.740609136786402,
          0.28395166043367237,
          0.2786932639454531,
          0.41404403872693646,
          0.21506270134800523,
          0.8505682644777229,
          -0.5314201293607476,
          0.5557896304038229,
          -0.365296760714232,
          -2.217061474571356,
          0.9748013312221652,
          -0.34170981426661173,
          0.6329261017503135,
          -1.6401310490359202,
          0.3680781631778554,
          -1.285346047515693,
          -1.2285046196339122,
          1.3173483989518635,
          -0.22844460194279967,
          -1.217582191747272,
          0.037821191174498336,
          -1.3107140382302156,
          0.3702429826892917,
          -0.157923202464818,
          -0.8234566045410443,
          1.4173789736564744,
          1.5935473741277102,
          0.5073315634889328,
          0.0022844246709907154,
          -0.4878625159174958,
          -0.49371361576826533,
          -0.23516513649527385,
          -0.4493622502616095,
          0.36009271890851724,
          -1.0418440464224992,
          -1.53256274128827,
          -0.41820014868909544,
          1.3907238052547535,
          -0.23434252023843363,
          -2.437667783631158,
          0.2268982172156791,
          0.7922884933261074,
          -1.0850266622940754,
          1.5220154399440695,
          -0.3829316588565574,
          2.0082340018972378,
          -0.9898848749021504,
          0.17271913719835147,
          -0.9349385955128694,
          -0.17107806906005382,
          0.7585279879634922,
          -0.3854391811891404,
          0.519953625079641,
          0.9421019207472212,
          -0.30754883829157076,
          -0.1147229354317717,
          0.2498261281442703,
          -0.15744464120196575,
          -0.42045231527794225,
          -1.627296460821743,
          0.005044118144702033,
          0.5658345085132992,
          0.6388688318264979,
          -1.3232878742686391,
          0.7465694355165938,
          1.0820018623444183,
          -0.5041788231736237,
          1.1504172122250285,
          0.9447481604950453,
          0.38513046915252636,
          1.0291157820071175,
          1.0957470204235578,
          -0.47547506159373265,
          1.0934248802476974
         ],
         "xaxis": "x8",
         "y": [
          0.8192336134801987,
          0.7602482743753068,
          0.6294100028786074,
          0.03904283596140118,
          -0.20300240870303762,
          -0.4217753477618602,
          -0.005137086974361876,
          -0.6026416600652672,
          -0.519906165020211,
          0.7206112252343626,
          0.20239306106194205,
          0.24824347008781414,
          -0.3632000207111838,
          0.5246297345959616,
          -0.8406442737890164,
          -0.30471587593055305,
          0.11002914869335803,
          -0.7770599281428845,
          -1.041800451056623,
          -0.9368605859558401,
          1.7229026947754391,
          -0.3620596398305359,
          0.4949821171328368,
          -1.5512318236277358,
          1.4494671490438522,
          -0.8823861526943375,
          -0.22564121684055144,
          -0.7154859681767155,
          -1.0820544326577435,
          -0.15522332326670543,
          -0.7164670995786423,
          0.2804719336161431,
          -0.2051279121244869,
          -1.5782948712181395,
          -1.6263700275222348,
          0.7739434861128113,
          1.3095508145895705,
          -1.2225798792362865,
          1.121663384493526,
          -1.4332480938692411,
          0.9030413351881482,
          0.006778345110963212,
          -0.23949189864348985,
          -0.04759875800248899,
          1.4895830215386634,
          0.34389886769741146,
          0.25995771804344314,
          1.7315562384553185,
          1.8352822475616812,
          -0.5177595834240207,
          1.8250101308281006,
          0.8931273429782042,
          0.653976849766924,
          0.2047316783716681,
          0.3021811973823506,
          -2.2920227763677037,
          0.3262921101530418,
          -0.3354101817456763,
          -1.2533302192795022,
          0.11168265476850534,
          -1.0357739867335003,
          0.528326646172122,
          0.4110942155465323,
          0.5074870135166899,
          -0.8819865735203064,
          -1.3814733121407319,
          0.022845539968953,
          -0.28094217851010267,
          0.48606511891207504,
          1.7050928660376112,
          -0.5609434522847258,
          -0.3087151772829456,
          -0.21422050977795287,
          0.732410209205975,
          -0.896156752315307,
          -0.748927157879648,
          0.006314657490310105,
          -1.1216573254922337,
          -0.5118157861492615,
          0.36209901117936405,
          -1.0880514683970912,
          0.46632807066648674,
          -0.022897289258460102,
          1.2856654258471698,
          -0.24579209518601375,
          -0.31100397594352286,
          0.0904341764974058,
          -1.1641298986673796,
          0.13704345571697643,
          0.1676107315041115,
          -0.3185357210445539,
          -0.6292950421730465,
          1.6062211256891819,
          -0.066381667278134,
          0.7151003365735614,
          0.3931328546294085,
          0.39143520976327495,
          -0.6355055797809678,
          0.09861609523459006,
          -1.2784322496774305
         ],
         "yaxis": "y8"
        },
        {
         "line": {
          "color": "rgba(128, 128, 128, 1.0)",
          "dash": "solid",
          "shape": "linear",
          "width": 1.3
         },
         "marker": {
          "size": 2,
          "symbol": "circle"
         },
         "mode": "markers",
         "name": "C",
         "text": "",
         "type": "scatter",
         "x": [
          -1.6034591679105978,
          0.6744517866256291,
          0.16873903499098108,
          -0.7120838114462832,
          0.23617682794395775,
          1.180677289914722,
          -0.9243405825078829,
          0.3249744142267152,
          0.24123007955726194,
          -1.371775940963692,
          2.0299735784534514,
          -1.638278538950703,
          -0.35137910597764804,
          0.000667556043875359,
          -2.100087178780612,
          -0.4528852477762303,
          -1.0698827410677296,
          -0.22569897519992077,
          -1.0377256973062055,
          -0.40533486416227726,
          0.6830430283391952,
          -0.33966680639046704,
          -0.8669563151471675,
          0.527643417645511,
          -0.0833286510642639,
          0.13548161732522387,
          0.7223255346457207,
          -0.8175726858881641,
          1.374045254814651,
          -0.5656973754914506,
          0.39140389155072197,
          0.16070195849060673,
          -0.1861179756096024,
          -0.5439910419446394,
          -0.7872529205941025,
          1.3521531710461365,
          -0.969493749960735,
          -0.4360024968703549,
          -0.11854777642838966,
          -1.8023152962452222,
          -1.7570950411749429,
          -0.3551025680128556,
          -0.9730138683284136,
          1.7174009466336264,
          -1.0403124882430377,
          0.8946881797652224,
          -0.481238013126997,
          -0.1801078735119504,
          -0.3908161297782836,
          0.4211820003945261,
          0.8939246652280742,
          0.29982529050087176,
          -0.19053552055843878,
          0.9122188779991189,
          0.02791823589603473,
          -2.049843605469713,
          1.8451647391505106,
          1.835826771883997,
          0.4514046121545814,
          -1.3153479849431113,
          0.6039372964302147,
          0.1967032275194514,
          -0.19718733734199645,
          -1.0424453626339572,
          -1.291632485177539,
          0.08021453833866193,
          0.8381689241093387,
          -1.2721892786100386,
          0.3732178168113568,
          0.05276688734700252,
          -1.967496885033359,
          0.9023845846590755,
          0.24001744040925296,
          -0.05429170252464368,
          -0.49807948253119694,
          -1.452383083045118,
          -0.9418576074293369,
          -0.4523600116602419,
          0.6591749020229192,
          -0.48515217656054904,
          0.6035086074078894,
          -0.5338885854100055,
          -0.9455132299224919,
          -0.9184469295082123,
          -0.482512232189353,
          1.495957404481226,
          -0.11809049112544505,
          0.3194610816126905,
          -1.2852738670679296,
          -0.5933666650741988,
          1.7904157188996117,
          0.4052902765873968,
          1.8775364158770929,
          0.01327468426470117,
          -2.2108064327344157,
          0.4547179081726537,
          -0.5095154977877799,
          -0.9630339148296717,
          -1.1623592880536002,
          -1.1754650048720257
         ],
         "xaxis": "x9",
         "y": [
          2.413773226467551,
          -0.7128641051383859,
          -0.4644136139558775,
          -0.01595694663080215,
          -1.0650640833764218,
          -0.48824719587425885,
          -0.46792702899628724,
          0.7935768216181784,
          -1.2882522941089907,
          1.1808870677203653,
          0.29037826101094666,
          -0.06273209145717351,
          0.020915860572536787,
          0.3559134718066243,
          -0.23828516601864974,
          0.2235282271400536,
          0.19797177200515284,
          1.8154376537683254,
          2.2848843666910827,
          1.1551806091037926,
          -0.3699746848112576,
          1.435658491619278,
          -1.028800188537578,
          0.6939205836708525,
          -0.40461125110826474,
          0.3327556578954046,
          -1.12640609571732,
          -2.6860447566331986,
          -0.9179074972194138,
          -1.06704343280252,
          0.8589691278525239,
          1.6668434809952644,
          -1.8254270265450483,
          -0.2336040815855926,
          -0.8741850919768382,
          0.5611318101312296,
          -0.30844936946133,
          -2.0734330772879583,
          0.04932456760975603,
          -0.4400844067977491,
          -2.584058318333577,
          0.30613786549649014,
          -0.5441577295913987,
          1.5392055423948425,
          -0.6572771953504218,
          -0.9186896963179999,
          0.43104549104002376,
          0.5560132829638029,
          0.4295007204552606,
          0.4296060913696705,
          0.2560402303645244,
          1.208248313929545,
          -1.7707832610232104,
          1.3897189518615294,
          1.0320936445448918,
          0.02004439306689833,
          -0.9776711761697071,
          0.2942035576612603,
          1.8119180949403657,
          -0.3950788056218137,
          -0.910213972231028,
          -1.1739349903824625,
          -0.12564992211094936,
          -0.6755373400151659,
          -0.09944943527808983,
          -0.3425637260077509,
          -1.390472064931238,
          -2.605239681869079,
          -0.4120934341872476,
          -0.1433111350149596,
          -0.49250371960794603,
          -0.11038227569364245,
          -0.09476737702784671,
          1.8538864184662776,
          -0.4262021828358027,
          1.4510023307478104,
          -0.6586291189953202,
          0.9627447585438353,
          -1.3102489008195526,
          0.8263604082643905,
          0.9052797697023395,
          1.422667165070258,
          -1.3777177729561392,
          -0.4607103704274852,
          0.038783419380216726,
          0.4961343068085089,
          -0.257350508592742,
          1.912895753556617,
          0.4884316808865898,
          -0.13281473817269865,
          0.78731472054916,
          -2.474027384823861,
          0.26065077866571856,
          -1.6826622183155961,
          0.8624958193966548,
          1.1999959758197845,
          -1.0252157379675841,
          -0.431404358816828,
          -0.1830837371829216,
          1.3727642127169377
         ],
         "yaxis": "y9"
        },
        {
         "line": {
          "color": "rgba(128, 128, 128, 1.0)",
          "dash": "solid",
          "shape": "linear",
          "width": 1.3
         },
         "marker": {
          "size": 2,
          "symbol": "circle"
         },
         "mode": "markers",
         "name": "C",
         "text": "",
         "type": "scatter",
         "x": [
          0.8192336134801987,
          0.7602482743753068,
          0.6294100028786074,
          0.03904283596140118,
          -0.20300240870303762,
          -0.4217753477618602,
          -0.005137086974361876,
          -0.6026416600652672,
          -0.519906165020211,
          0.7206112252343626,
          0.20239306106194205,
          0.24824347008781414,
          -0.3632000207111838,
          0.5246297345959616,
          -0.8406442737890164,
          -0.30471587593055305,
          0.11002914869335803,
          -0.7770599281428845,
          -1.041800451056623,
          -0.9368605859558401,
          1.7229026947754391,
          -0.3620596398305359,
          0.4949821171328368,
          -1.5512318236277358,
          1.4494671490438522,
          -0.8823861526943375,
          -0.22564121684055144,
          -0.7154859681767155,
          -1.0820544326577435,
          -0.15522332326670543,
          -0.7164670995786423,
          0.2804719336161431,
          -0.2051279121244869,
          -1.5782948712181395,
          -1.6263700275222348,
          0.7739434861128113,
          1.3095508145895705,
          -1.2225798792362865,
          1.121663384493526,
          -1.4332480938692411,
          0.9030413351881482,
          0.006778345110963212,
          -0.23949189864348985,
          -0.04759875800248899,
          1.4895830215386634,
          0.34389886769741146,
          0.25995771804344314,
          1.7315562384553185,
          1.8352822475616812,
          -0.5177595834240207,
          1.8250101308281006,
          0.8931273429782042,
          0.653976849766924,
          0.2047316783716681,
          0.3021811973823506,
          -2.2920227763677037,
          0.3262921101530418,
          -0.3354101817456763,
          -1.2533302192795022,
          0.11168265476850534,
          -1.0357739867335003,
          0.528326646172122,
          0.4110942155465323,
          0.5074870135166899,
          -0.8819865735203064,
          -1.3814733121407319,
          0.022845539968953,
          -0.28094217851010267,
          0.48606511891207504,
          1.7050928660376112,
          -0.5609434522847258,
          -0.3087151772829456,
          -0.21422050977795287,
          0.732410209205975,
          -0.896156752315307,
          -0.748927157879648,
          0.006314657490310105,
          -1.1216573254922337,
          -0.5118157861492615,
          0.36209901117936405,
          -1.0880514683970912,
          0.46632807066648674,
          -0.022897289258460102,
          1.2856654258471698,
          -0.24579209518601375,
          -0.31100397594352286,
          0.0904341764974058,
          -1.1641298986673796,
          0.13704345571697643,
          0.1676107315041115,
          -0.3185357210445539,
          -0.6292950421730465,
          1.6062211256891819,
          -0.066381667278134,
          0.7151003365735614,
          0.3931328546294085,
          0.39143520976327495,
          -0.6355055797809678,
          0.09861609523459006,
          -1.2784322496774305
         ],
         "xaxis": "x10",
         "y": [
          2.413773226467551,
          -0.7128641051383859,
          -0.4644136139558775,
          -0.01595694663080215,
          -1.0650640833764218,
          -0.48824719587425885,
          -0.46792702899628724,
          0.7935768216181784,
          -1.2882522941089907,
          1.1808870677203653,
          0.29037826101094666,
          -0.06273209145717351,
          0.020915860572536787,
          0.3559134718066243,
          -0.23828516601864974,
          0.2235282271400536,
          0.19797177200515284,
          1.8154376537683254,
          2.2848843666910827,
          1.1551806091037926,
          -0.3699746848112576,
          1.435658491619278,
          -1.028800188537578,
          0.6939205836708525,
          -0.40461125110826474,
          0.3327556578954046,
          -1.12640609571732,
          -2.6860447566331986,
          -0.9179074972194138,
          -1.06704343280252,
          0.8589691278525239,
          1.6668434809952644,
          -1.8254270265450483,
          -0.2336040815855926,
          -0.8741850919768382,
          0.5611318101312296,
          -0.30844936946133,
          -2.0734330772879583,
          0.04932456760975603,
          -0.4400844067977491,
          -2.584058318333577,
          0.30613786549649014,
          -0.5441577295913987,
          1.5392055423948425,
          -0.6572771953504218,
          -0.9186896963179999,
          0.43104549104002376,
          0.5560132829638029,
          0.4295007204552606,
          0.4296060913696705,
          0.2560402303645244,
          1.208248313929545,
          -1.7707832610232104,
          1.3897189518615294,
          1.0320936445448918,
          0.02004439306689833,
          -0.9776711761697071,
          0.2942035576612603,
          1.8119180949403657,
          -0.3950788056218137,
          -0.910213972231028,
          -1.1739349903824625,
          -0.12564992211094936,
          -0.6755373400151659,
          -0.09944943527808983,
          -0.3425637260077509,
          -1.390472064931238,
          -2.605239681869079,
          -0.4120934341872476,
          -0.1433111350149596,
          -0.49250371960794603,
          -0.11038227569364245,
          -0.09476737702784671,
          1.8538864184662776,
          -0.4262021828358027,
          1.4510023307478104,
          -0.6586291189953202,
          0.9627447585438353,
          -1.3102489008195526,
          0.8263604082643905,
          0.9052797697023395,
          1.422667165070258,
          -1.3777177729561392,
          -0.4607103704274852,
          0.038783419380216726,
          0.4961343068085089,
          -0.257350508592742,
          1.912895753556617,
          0.4884316808865898,
          -0.13281473817269865,
          0.78731472054916,
          -2.474027384823861,
          0.26065077866571856,
          -1.6826622183155961,
          0.8624958193966548,
          1.1999959758197845,
          -1.0252157379675841,
          -0.431404358816828,
          -0.1830837371829216,
          1.3727642127169377
         ],
         "yaxis": "y10"
        },
        {
         "histfunc": "count",
         "histnorm": "",
         "marker": {
          "color": "rgba(50, 171, 96, 1.0)",
          "line": {
           "color": "#4D5663",
           "width": 1.3
          }
         },
         "name": "C",
         "nbinsx": 10,
         "opacity": 0.8,
         "orientation": "v",
         "type": "histogram",
         "x": [
          2.413773226467551,
          -0.7128641051383859,
          -0.4644136139558775,
          -0.01595694663080215,
          -1.0650640833764218,
          -0.48824719587425885,
          -0.46792702899628724,
          0.7935768216181784,
          -1.2882522941089907,
          1.1808870677203653,
          0.29037826101094666,
          -0.06273209145717351,
          0.020915860572536787,
          0.3559134718066243,
          -0.23828516601864974,
          0.2235282271400536,
          0.19797177200515284,
          1.8154376537683254,
          2.2848843666910827,
          1.1551806091037926,
          -0.3699746848112576,
          1.435658491619278,
          -1.028800188537578,
          0.6939205836708525,
          -0.40461125110826474,
          0.3327556578954046,
          -1.12640609571732,
          -2.6860447566331986,
          -0.9179074972194138,
          -1.06704343280252,
          0.8589691278525239,
          1.6668434809952644,
          -1.8254270265450483,
          -0.2336040815855926,
          -0.8741850919768382,
          0.5611318101312296,
          -0.30844936946133,
          -2.0734330772879583,
          0.04932456760975603,
          -0.4400844067977491,
          -2.584058318333577,
          0.30613786549649014,
          -0.5441577295913987,
          1.5392055423948425,
          -0.6572771953504218,
          -0.9186896963179999,
          0.43104549104002376,
          0.5560132829638029,
          0.4295007204552606,
          0.4296060913696705,
          0.2560402303645244,
          1.208248313929545,
          -1.7707832610232104,
          1.3897189518615294,
          1.0320936445448918,
          0.02004439306689833,
          -0.9776711761697071,
          0.2942035576612603,
          1.8119180949403657,
          -0.3950788056218137,
          -0.910213972231028,
          -1.1739349903824625,
          -0.12564992211094936,
          -0.6755373400151659,
          -0.09944943527808983,
          -0.3425637260077509,
          -1.390472064931238,
          -2.605239681869079,
          -0.4120934341872476,
          -0.1433111350149596,
          -0.49250371960794603,
          -0.11038227569364245,
          -0.09476737702784671,
          1.8538864184662776,
          -0.4262021828358027,
          1.4510023307478104,
          -0.6586291189953202,
          0.9627447585438353,
          -1.3102489008195526,
          0.8263604082643905,
          0.9052797697023395,
          1.422667165070258,
          -1.3777177729561392,
          -0.4607103704274852,
          0.038783419380216726,
          0.4961343068085089,
          -0.257350508592742,
          1.912895753556617,
          0.4884316808865898,
          -0.13281473817269865,
          0.78731472054916,
          -2.474027384823861,
          0.26065077866571856,
          -1.6826622183155961,
          0.8624958193966548,
          1.1999959758197845,
          -1.0252157379675841,
          -0.431404358816828,
          -0.1830837371829216,
          1.3727642127169377
         ],
         "xaxis": "x11",
         "yaxis": "y11"
        },
        {
         "line": {
          "color": "rgba(128, 128, 128, 1.0)",
          "dash": "solid",
          "shape": "linear",
          "width": 1.3
         },
         "marker": {
          "size": 2,
          "symbol": "circle"
         },
         "mode": "markers",
         "name": "C",
         "text": "",
         "type": "scatter",
         "x": [
          0.007401829489414258,
          -1.4370701708241351,
          1.8591857898260413,
          0.3234628984355769,
          -1.0186827699736536,
          -2.5029781942582536,
          -1.3170221417895134,
          1.2842493614367703,
          1.3176561190796041,
          -1.51984636555648,
          -0.4568373373257365,
          0.4917231453636013,
          0.6297324020840347,
          0.6800046087257194,
          -1.6879043349963478,
          -1.7184440811410282,
          -0.6629893158933756,
          -0.2990734559154911,
          0.9273377980104158,
          0.7579737594959451,
          0.17464062389667698,
          -0.5407570581589365,
          1.1910778044072616,
          1.7628648760907555,
          -0.6551421684049624,
          1.4492782835504971,
          -1.740609136786402,
          0.28395166043367237,
          0.2786932639454531,
          0.41404403872693646,
          0.21506270134800523,
          0.8505682644777229,
          -0.5314201293607476,
          0.5557896304038229,
          -0.365296760714232,
          -2.217061474571356,
          0.9748013312221652,
          -0.34170981426661173,
          0.6329261017503135,
          -1.6401310490359202,
          0.3680781631778554,
          -1.285346047515693,
          -1.2285046196339122,
          1.3173483989518635,
          -0.22844460194279967,
          -1.217582191747272,
          0.037821191174498336,
          -1.3107140382302156,
          0.3702429826892917,
          -0.157923202464818,
          -0.8234566045410443,
          1.4173789736564744,
          1.5935473741277102,
          0.5073315634889328,
          0.0022844246709907154,
          -0.4878625159174958,
          -0.49371361576826533,
          -0.23516513649527385,
          -0.4493622502616095,
          0.36009271890851724,
          -1.0418440464224992,
          -1.53256274128827,
          -0.41820014868909544,
          1.3907238052547535,
          -0.23434252023843363,
          -2.437667783631158,
          0.2268982172156791,
          0.7922884933261074,
          -1.0850266622940754,
          1.5220154399440695,
          -0.3829316588565574,
          2.0082340018972378,
          -0.9898848749021504,
          0.17271913719835147,
          -0.9349385955128694,
          -0.17107806906005382,
          0.7585279879634922,
          -0.3854391811891404,
          0.519953625079641,
          0.9421019207472212,
          -0.30754883829157076,
          -0.1147229354317717,
          0.2498261281442703,
          -0.15744464120196575,
          -0.42045231527794225,
          -1.627296460821743,
          0.005044118144702033,
          0.5658345085132992,
          0.6388688318264979,
          -1.3232878742686391,
          0.7465694355165938,
          1.0820018623444183,
          -0.5041788231736237,
          1.1504172122250285,
          0.9447481604950453,
          0.38513046915252636,
          1.0291157820071175,
          1.0957470204235578,
          -0.47547506159373265,
          1.0934248802476974
         ],
         "xaxis": "x12",
         "y": [
          2.413773226467551,
          -0.7128641051383859,
          -0.4644136139558775,
          -0.01595694663080215,
          -1.0650640833764218,
          -0.48824719587425885,
          -0.46792702899628724,
          0.7935768216181784,
          -1.2882522941089907,
          1.1808870677203653,
          0.29037826101094666,
          -0.06273209145717351,
          0.020915860572536787,
          0.3559134718066243,
          -0.23828516601864974,
          0.2235282271400536,
          0.19797177200515284,
          1.8154376537683254,
          2.2848843666910827,
          1.1551806091037926,
          -0.3699746848112576,
          1.435658491619278,
          -1.028800188537578,
          0.6939205836708525,
          -0.40461125110826474,
          0.3327556578954046,
          -1.12640609571732,
          -2.6860447566331986,
          -0.9179074972194138,
          -1.06704343280252,
          0.8589691278525239,
          1.6668434809952644,
          -1.8254270265450483,
          -0.2336040815855926,
          -0.8741850919768382,
          0.5611318101312296,
          -0.30844936946133,
          -2.0734330772879583,
          0.04932456760975603,
          -0.4400844067977491,
          -2.584058318333577,
          0.30613786549649014,
          -0.5441577295913987,
          1.5392055423948425,
          -0.6572771953504218,
          -0.9186896963179999,
          0.43104549104002376,
          0.5560132829638029,
          0.4295007204552606,
          0.4296060913696705,
          0.2560402303645244,
          1.208248313929545,
          -1.7707832610232104,
          1.3897189518615294,
          1.0320936445448918,
          0.02004439306689833,
          -0.9776711761697071,
          0.2942035576612603,
          1.8119180949403657,
          -0.3950788056218137,
          -0.910213972231028,
          -1.1739349903824625,
          -0.12564992211094936,
          -0.6755373400151659,
          -0.09944943527808983,
          -0.3425637260077509,
          -1.390472064931238,
          -2.605239681869079,
          -0.4120934341872476,
          -0.1433111350149596,
          -0.49250371960794603,
          -0.11038227569364245,
          -0.09476737702784671,
          1.8538864184662776,
          -0.4262021828358027,
          1.4510023307478104,
          -0.6586291189953202,
          0.9627447585438353,
          -1.3102489008195526,
          0.8263604082643905,
          0.9052797697023395,
          1.422667165070258,
          -1.3777177729561392,
          -0.4607103704274852,
          0.038783419380216726,
          0.4961343068085089,
          -0.257350508592742,
          1.912895753556617,
          0.4884316808865898,
          -0.13281473817269865,
          0.78731472054916,
          -2.474027384823861,
          0.26065077866571856,
          -1.6826622183155961,
          0.8624958193966548,
          1.1999959758197845,
          -1.0252157379675841,
          -0.431404358816828,
          -0.1830837371829216,
          1.3727642127169377
         ],
         "yaxis": "y12"
        },
        {
         "line": {
          "color": "rgba(128, 128, 128, 1.0)",
          "dash": "solid",
          "shape": "linear",
          "width": 1.3
         },
         "marker": {
          "size": 2,
          "symbol": "circle"
         },
         "mode": "markers",
         "name": "D",
         "text": "",
         "type": "scatter",
         "x": [
          -1.6034591679105978,
          0.6744517866256291,
          0.16873903499098108,
          -0.7120838114462832,
          0.23617682794395775,
          1.180677289914722,
          -0.9243405825078829,
          0.3249744142267152,
          0.24123007955726194,
          -1.371775940963692,
          2.0299735784534514,
          -1.638278538950703,
          -0.35137910597764804,
          0.000667556043875359,
          -2.100087178780612,
          -0.4528852477762303,
          -1.0698827410677296,
          -0.22569897519992077,
          -1.0377256973062055,
          -0.40533486416227726,
          0.6830430283391952,
          -0.33966680639046704,
          -0.8669563151471675,
          0.527643417645511,
          -0.0833286510642639,
          0.13548161732522387,
          0.7223255346457207,
          -0.8175726858881641,
          1.374045254814651,
          -0.5656973754914506,
          0.39140389155072197,
          0.16070195849060673,
          -0.1861179756096024,
          -0.5439910419446394,
          -0.7872529205941025,
          1.3521531710461365,
          -0.969493749960735,
          -0.4360024968703549,
          -0.11854777642838966,
          -1.8023152962452222,
          -1.7570950411749429,
          -0.3551025680128556,
          -0.9730138683284136,
          1.7174009466336264,
          -1.0403124882430377,
          0.8946881797652224,
          -0.481238013126997,
          -0.1801078735119504,
          -0.3908161297782836,
          0.4211820003945261,
          0.8939246652280742,
          0.29982529050087176,
          -0.19053552055843878,
          0.9122188779991189,
          0.02791823589603473,
          -2.049843605469713,
          1.8451647391505106,
          1.835826771883997,
          0.4514046121545814,
          -1.3153479849431113,
          0.6039372964302147,
          0.1967032275194514,
          -0.19718733734199645,
          -1.0424453626339572,
          -1.291632485177539,
          0.08021453833866193,
          0.8381689241093387,
          -1.2721892786100386,
          0.3732178168113568,
          0.05276688734700252,
          -1.967496885033359,
          0.9023845846590755,
          0.24001744040925296,
          -0.05429170252464368,
          -0.49807948253119694,
          -1.452383083045118,
          -0.9418576074293369,
          -0.4523600116602419,
          0.6591749020229192,
          -0.48515217656054904,
          0.6035086074078894,
          -0.5338885854100055,
          -0.9455132299224919,
          -0.9184469295082123,
          -0.482512232189353,
          1.495957404481226,
          -0.11809049112544505,
          0.3194610816126905,
          -1.2852738670679296,
          -0.5933666650741988,
          1.7904157188996117,
          0.4052902765873968,
          1.8775364158770929,
          0.01327468426470117,
          -2.2108064327344157,
          0.4547179081726537,
          -0.5095154977877799,
          -0.9630339148296717,
          -1.1623592880536002,
          -1.1754650048720257
         ],
         "xaxis": "x13",
         "y": [
          0.007401829489414258,
          -1.4370701708241351,
          1.8591857898260413,
          0.3234628984355769,
          -1.0186827699736536,
          -2.5029781942582536,
          -1.3170221417895134,
          1.2842493614367703,
          1.3176561190796041,
          -1.51984636555648,
          -0.4568373373257365,
          0.4917231453636013,
          0.6297324020840347,
          0.6800046087257194,
          -1.6879043349963478,
          -1.7184440811410282,
          -0.6629893158933756,
          -0.2990734559154911,
          0.9273377980104158,
          0.7579737594959451,
          0.17464062389667698,
          -0.5407570581589365,
          1.1910778044072616,
          1.7628648760907555,
          -0.6551421684049624,
          1.4492782835504971,
          -1.740609136786402,
          0.28395166043367237,
          0.2786932639454531,
          0.41404403872693646,
          0.21506270134800523,
          0.8505682644777229,
          -0.5314201293607476,
          0.5557896304038229,
          -0.365296760714232,
          -2.217061474571356,
          0.9748013312221652,
          -0.34170981426661173,
          0.6329261017503135,
          -1.6401310490359202,
          0.3680781631778554,
          -1.285346047515693,
          -1.2285046196339122,
          1.3173483989518635,
          -0.22844460194279967,
          -1.217582191747272,
          0.037821191174498336,
          -1.3107140382302156,
          0.3702429826892917,
          -0.157923202464818,
          -0.8234566045410443,
          1.4173789736564744,
          1.5935473741277102,
          0.5073315634889328,
          0.0022844246709907154,
          -0.4878625159174958,
          -0.49371361576826533,
          -0.23516513649527385,
          -0.4493622502616095,
          0.36009271890851724,
          -1.0418440464224992,
          -1.53256274128827,
          -0.41820014868909544,
          1.3907238052547535,
          -0.23434252023843363,
          -2.437667783631158,
          0.2268982172156791,
          0.7922884933261074,
          -1.0850266622940754,
          1.5220154399440695,
          -0.3829316588565574,
          2.0082340018972378,
          -0.9898848749021504,
          0.17271913719835147,
          -0.9349385955128694,
          -0.17107806906005382,
          0.7585279879634922,
          -0.3854391811891404,
          0.519953625079641,
          0.9421019207472212,
          -0.30754883829157076,
          -0.1147229354317717,
          0.2498261281442703,
          -0.15744464120196575,
          -0.42045231527794225,
          -1.627296460821743,
          0.005044118144702033,
          0.5658345085132992,
          0.6388688318264979,
          -1.3232878742686391,
          0.7465694355165938,
          1.0820018623444183,
          -0.5041788231736237,
          1.1504172122250285,
          0.9447481604950453,
          0.38513046915252636,
          1.0291157820071175,
          1.0957470204235578,
          -0.47547506159373265,
          1.0934248802476974
         ],
         "yaxis": "y13"
        },
        {
         "line": {
          "color": "rgba(128, 128, 128, 1.0)",
          "dash": "solid",
          "shape": "linear",
          "width": 1.3
         },
         "marker": {
          "size": 2,
          "symbol": "circle"
         },
         "mode": "markers",
         "name": "D",
         "text": "",
         "type": "scatter",
         "x": [
          0.8192336134801987,
          0.7602482743753068,
          0.6294100028786074,
          0.03904283596140118,
          -0.20300240870303762,
          -0.4217753477618602,
          -0.005137086974361876,
          -0.6026416600652672,
          -0.519906165020211,
          0.7206112252343626,
          0.20239306106194205,
          0.24824347008781414,
          -0.3632000207111838,
          0.5246297345959616,
          -0.8406442737890164,
          -0.30471587593055305,
          0.11002914869335803,
          -0.7770599281428845,
          -1.041800451056623,
          -0.9368605859558401,
          1.7229026947754391,
          -0.3620596398305359,
          0.4949821171328368,
          -1.5512318236277358,
          1.4494671490438522,
          -0.8823861526943375,
          -0.22564121684055144,
          -0.7154859681767155,
          -1.0820544326577435,
          -0.15522332326670543,
          -0.7164670995786423,
          0.2804719336161431,
          -0.2051279121244869,
          -1.5782948712181395,
          -1.6263700275222348,
          0.7739434861128113,
          1.3095508145895705,
          -1.2225798792362865,
          1.121663384493526,
          -1.4332480938692411,
          0.9030413351881482,
          0.006778345110963212,
          -0.23949189864348985,
          -0.04759875800248899,
          1.4895830215386634,
          0.34389886769741146,
          0.25995771804344314,
          1.7315562384553185,
          1.8352822475616812,
          -0.5177595834240207,
          1.8250101308281006,
          0.8931273429782042,
          0.653976849766924,
          0.2047316783716681,
          0.3021811973823506,
          -2.2920227763677037,
          0.3262921101530418,
          -0.3354101817456763,
          -1.2533302192795022,
          0.11168265476850534,
          -1.0357739867335003,
          0.528326646172122,
          0.4110942155465323,
          0.5074870135166899,
          -0.8819865735203064,
          -1.3814733121407319,
          0.022845539968953,
          -0.28094217851010267,
          0.48606511891207504,
          1.7050928660376112,
          -0.5609434522847258,
          -0.3087151772829456,
          -0.21422050977795287,
          0.732410209205975,
          -0.896156752315307,
          -0.748927157879648,
          0.006314657490310105,
          -1.1216573254922337,
          -0.5118157861492615,
          0.36209901117936405,
          -1.0880514683970912,
          0.46632807066648674,
          -0.022897289258460102,
          1.2856654258471698,
          -0.24579209518601375,
          -0.31100397594352286,
          0.0904341764974058,
          -1.1641298986673796,
          0.13704345571697643,
          0.1676107315041115,
          -0.3185357210445539,
          -0.6292950421730465,
          1.6062211256891819,
          -0.066381667278134,
          0.7151003365735614,
          0.3931328546294085,
          0.39143520976327495,
          -0.6355055797809678,
          0.09861609523459006,
          -1.2784322496774305
         ],
         "xaxis": "x14",
         "y": [
          0.007401829489414258,
          -1.4370701708241351,
          1.8591857898260413,
          0.3234628984355769,
          -1.0186827699736536,
          -2.5029781942582536,
          -1.3170221417895134,
          1.2842493614367703,
          1.3176561190796041,
          -1.51984636555648,
          -0.4568373373257365,
          0.4917231453636013,
          0.6297324020840347,
          0.6800046087257194,
          -1.6879043349963478,
          -1.7184440811410282,
          -0.6629893158933756,
          -0.2990734559154911,
          0.9273377980104158,
          0.7579737594959451,
          0.17464062389667698,
          -0.5407570581589365,
          1.1910778044072616,
          1.7628648760907555,
          -0.6551421684049624,
          1.4492782835504971,
          -1.740609136786402,
          0.28395166043367237,
          0.2786932639454531,
          0.41404403872693646,
          0.21506270134800523,
          0.8505682644777229,
          -0.5314201293607476,
          0.5557896304038229,
          -0.365296760714232,
          -2.217061474571356,
          0.9748013312221652,
          -0.34170981426661173,
          0.6329261017503135,
          -1.6401310490359202,
          0.3680781631778554,
          -1.285346047515693,
          -1.2285046196339122,
          1.3173483989518635,
          -0.22844460194279967,
          -1.217582191747272,
          0.037821191174498336,
          -1.3107140382302156,
          0.3702429826892917,
          -0.157923202464818,
          -0.8234566045410443,
          1.4173789736564744,
          1.5935473741277102,
          0.5073315634889328,
          0.0022844246709907154,
          -0.4878625159174958,
          -0.49371361576826533,
          -0.23516513649527385,
          -0.4493622502616095,
          0.36009271890851724,
          -1.0418440464224992,
          -1.53256274128827,
          -0.41820014868909544,
          1.3907238052547535,
          -0.23434252023843363,
          -2.437667783631158,
          0.2268982172156791,
          0.7922884933261074,
          -1.0850266622940754,
          1.5220154399440695,
          -0.3829316588565574,
          2.0082340018972378,
          -0.9898848749021504,
          0.17271913719835147,
          -0.9349385955128694,
          -0.17107806906005382,
          0.7585279879634922,
          -0.3854391811891404,
          0.519953625079641,
          0.9421019207472212,
          -0.30754883829157076,
          -0.1147229354317717,
          0.2498261281442703,
          -0.15744464120196575,
          -0.42045231527794225,
          -1.627296460821743,
          0.005044118144702033,
          0.5658345085132992,
          0.6388688318264979,
          -1.3232878742686391,
          0.7465694355165938,
          1.0820018623444183,
          -0.5041788231736237,
          1.1504172122250285,
          0.9447481604950453,
          0.38513046915252636,
          1.0291157820071175,
          1.0957470204235578,
          -0.47547506159373265,
          1.0934248802476974
         ],
         "yaxis": "y14"
        },
        {
         "line": {
          "color": "rgba(128, 128, 128, 1.0)",
          "dash": "solid",
          "shape": "linear",
          "width": 1.3
         },
         "marker": {
          "size": 2,
          "symbol": "circle"
         },
         "mode": "markers",
         "name": "D",
         "text": "",
         "type": "scatter",
         "x": [
          2.413773226467551,
          -0.7128641051383859,
          -0.4644136139558775,
          -0.01595694663080215,
          -1.0650640833764218,
          -0.48824719587425885,
          -0.46792702899628724,
          0.7935768216181784,
          -1.2882522941089907,
          1.1808870677203653,
          0.29037826101094666,
          -0.06273209145717351,
          0.020915860572536787,
          0.3559134718066243,
          -0.23828516601864974,
          0.2235282271400536,
          0.19797177200515284,
          1.8154376537683254,
          2.2848843666910827,
          1.1551806091037926,
          -0.3699746848112576,
          1.435658491619278,
          -1.028800188537578,
          0.6939205836708525,
          -0.40461125110826474,
          0.3327556578954046,
          -1.12640609571732,
          -2.6860447566331986,
          -0.9179074972194138,
          -1.06704343280252,
          0.8589691278525239,
          1.6668434809952644,
          -1.8254270265450483,
          -0.2336040815855926,
          -0.8741850919768382,
          0.5611318101312296,
          -0.30844936946133,
          -2.0734330772879583,
          0.04932456760975603,
          -0.4400844067977491,
          -2.584058318333577,
          0.30613786549649014,
          -0.5441577295913987,
          1.5392055423948425,
          -0.6572771953504218,
          -0.9186896963179999,
          0.43104549104002376,
          0.5560132829638029,
          0.4295007204552606,
          0.4296060913696705,
          0.2560402303645244,
          1.208248313929545,
          -1.7707832610232104,
          1.3897189518615294,
          1.0320936445448918,
          0.02004439306689833,
          -0.9776711761697071,
          0.2942035576612603,
          1.8119180949403657,
          -0.3950788056218137,
          -0.910213972231028,
          -1.1739349903824625,
          -0.12564992211094936,
          -0.6755373400151659,
          -0.09944943527808983,
          -0.3425637260077509,
          -1.390472064931238,
          -2.605239681869079,
          -0.4120934341872476,
          -0.1433111350149596,
          -0.49250371960794603,
          -0.11038227569364245,
          -0.09476737702784671,
          1.8538864184662776,
          -0.4262021828358027,
          1.4510023307478104,
          -0.6586291189953202,
          0.9627447585438353,
          -1.3102489008195526,
          0.8263604082643905,
          0.9052797697023395,
          1.422667165070258,
          -1.3777177729561392,
          -0.4607103704274852,
          0.038783419380216726,
          0.4961343068085089,
          -0.257350508592742,
          1.912895753556617,
          0.4884316808865898,
          -0.13281473817269865,
          0.78731472054916,
          -2.474027384823861,
          0.26065077866571856,
          -1.6826622183155961,
          0.8624958193966548,
          1.1999959758197845,
          -1.0252157379675841,
          -0.431404358816828,
          -0.1830837371829216,
          1.3727642127169377
         ],
         "xaxis": "x15",
         "y": [
          0.007401829489414258,
          -1.4370701708241351,
          1.8591857898260413,
          0.3234628984355769,
          -1.0186827699736536,
          -2.5029781942582536,
          -1.3170221417895134,
          1.2842493614367703,
          1.3176561190796041,
          -1.51984636555648,
          -0.4568373373257365,
          0.4917231453636013,
          0.6297324020840347,
          0.6800046087257194,
          -1.6879043349963478,
          -1.7184440811410282,
          -0.6629893158933756,
          -0.2990734559154911,
          0.9273377980104158,
          0.7579737594959451,
          0.17464062389667698,
          -0.5407570581589365,
          1.1910778044072616,
          1.7628648760907555,
          -0.6551421684049624,
          1.4492782835504971,
          -1.740609136786402,
          0.28395166043367237,
          0.2786932639454531,
          0.41404403872693646,
          0.21506270134800523,
          0.8505682644777229,
          -0.5314201293607476,
          0.5557896304038229,
          -0.365296760714232,
          -2.217061474571356,
          0.9748013312221652,
          -0.34170981426661173,
          0.6329261017503135,
          -1.6401310490359202,
          0.3680781631778554,
          -1.285346047515693,
          -1.2285046196339122,
          1.3173483989518635,
          -0.22844460194279967,
          -1.217582191747272,
          0.037821191174498336,
          -1.3107140382302156,
          0.3702429826892917,
          -0.157923202464818,
          -0.8234566045410443,
          1.4173789736564744,
          1.5935473741277102,
          0.5073315634889328,
          0.0022844246709907154,
          -0.4878625159174958,
          -0.49371361576826533,
          -0.23516513649527385,
          -0.4493622502616095,
          0.36009271890851724,
          -1.0418440464224992,
          -1.53256274128827,
          -0.41820014868909544,
          1.3907238052547535,
          -0.23434252023843363,
          -2.437667783631158,
          0.2268982172156791,
          0.7922884933261074,
          -1.0850266622940754,
          1.5220154399440695,
          -0.3829316588565574,
          2.0082340018972378,
          -0.9898848749021504,
          0.17271913719835147,
          -0.9349385955128694,
          -0.17107806906005382,
          0.7585279879634922,
          -0.3854391811891404,
          0.519953625079641,
          0.9421019207472212,
          -0.30754883829157076,
          -0.1147229354317717,
          0.2498261281442703,
          -0.15744464120196575,
          -0.42045231527794225,
          -1.627296460821743,
          0.005044118144702033,
          0.5658345085132992,
          0.6388688318264979,
          -1.3232878742686391,
          0.7465694355165938,
          1.0820018623444183,
          -0.5041788231736237,
          1.1504172122250285,
          0.9447481604950453,
          0.38513046915252636,
          1.0291157820071175,
          1.0957470204235578,
          -0.47547506159373265,
          1.0934248802476974
         ],
         "yaxis": "y15"
        },
        {
         "histfunc": "count",
         "histnorm": "",
         "marker": {
          "color": "rgba(128, 0, 128, 1.0)",
          "line": {
           "color": "#4D5663",
           "width": 1.3
          }
         },
         "name": "D",
         "nbinsx": 10,
         "opacity": 0.8,
         "orientation": "v",
         "type": "histogram",
         "x": [
          0.007401829489414258,
          -1.4370701708241351,
          1.8591857898260413,
          0.3234628984355769,
          -1.0186827699736536,
          -2.5029781942582536,
          -1.3170221417895134,
          1.2842493614367703,
          1.3176561190796041,
          -1.51984636555648,
          -0.4568373373257365,
          0.4917231453636013,
          0.6297324020840347,
          0.6800046087257194,
          -1.6879043349963478,
          -1.7184440811410282,
          -0.6629893158933756,
          -0.2990734559154911,
          0.9273377980104158,
          0.7579737594959451,
          0.17464062389667698,
          -0.5407570581589365,
          1.1910778044072616,
          1.7628648760907555,
          -0.6551421684049624,
          1.4492782835504971,
          -1.740609136786402,
          0.28395166043367237,
          0.2786932639454531,
          0.41404403872693646,
          0.21506270134800523,
          0.8505682644777229,
          -0.5314201293607476,
          0.5557896304038229,
          -0.365296760714232,
          -2.217061474571356,
          0.9748013312221652,
          -0.34170981426661173,
          0.6329261017503135,
          -1.6401310490359202,
          0.3680781631778554,
          -1.285346047515693,
          -1.2285046196339122,
          1.3173483989518635,
          -0.22844460194279967,
          -1.217582191747272,
          0.037821191174498336,
          -1.3107140382302156,
          0.3702429826892917,
          -0.157923202464818,
          -0.8234566045410443,
          1.4173789736564744,
          1.5935473741277102,
          0.5073315634889328,
          0.0022844246709907154,
          -0.4878625159174958,
          -0.49371361576826533,
          -0.23516513649527385,
          -0.4493622502616095,
          0.36009271890851724,
          -1.0418440464224992,
          -1.53256274128827,
          -0.41820014868909544,
          1.3907238052547535,
          -0.23434252023843363,
          -2.437667783631158,
          0.2268982172156791,
          0.7922884933261074,
          -1.0850266622940754,
          1.5220154399440695,
          -0.3829316588565574,
          2.0082340018972378,
          -0.9898848749021504,
          0.17271913719835147,
          -0.9349385955128694,
          -0.17107806906005382,
          0.7585279879634922,
          -0.3854391811891404,
          0.519953625079641,
          0.9421019207472212,
          -0.30754883829157076,
          -0.1147229354317717,
          0.2498261281442703,
          -0.15744464120196575,
          -0.42045231527794225,
          -1.627296460821743,
          0.005044118144702033,
          0.5658345085132992,
          0.6388688318264979,
          -1.3232878742686391,
          0.7465694355165938,
          1.0820018623444183,
          -0.5041788231736237,
          1.1504172122250285,
          0.9447481604950453,
          0.38513046915252636,
          1.0291157820071175,
          1.0957470204235578,
          -0.47547506159373265,
          1.0934248802476974
         ],
         "xaxis": "x16",
         "yaxis": "y16"
        }
       ],
       "layout": {
        "bargap": 0.02,
        "legend": {
         "bgcolor": "#F5F6F9",
         "font": {
          "color": "#4D5663"
         }
        },
        "paper_bgcolor": "#F5F6F9",
        "plot_bgcolor": "#F5F6F9",
        "showlegend": false,
        "template": {
         "data": {
          "bar": [
           {
            "error_x": {
             "color": "#2a3f5f"
            },
            "error_y": {
             "color": "#2a3f5f"
            },
            "marker": {
             "line": {
              "color": "#E5ECF6",
              "width": 0.5
             }
            },
            "type": "bar"
           }
          ],
          "barpolar": [
           {
            "marker": {
             "line": {
              "color": "#E5ECF6",
              "width": 0.5
             }
            },
            "type": "barpolar"
           }
          ],
          "carpet": [
           {
            "aaxis": {
             "endlinecolor": "#2a3f5f",
             "gridcolor": "white",
             "linecolor": "white",
             "minorgridcolor": "white",
             "startlinecolor": "#2a3f5f"
            },
            "baxis": {
             "endlinecolor": "#2a3f5f",
             "gridcolor": "white",
             "linecolor": "white",
             "minorgridcolor": "white",
             "startlinecolor": "#2a3f5f"
            },
            "type": "carpet"
           }
          ],
          "choropleth": [
           {
            "colorbar": {
             "outlinewidth": 0,
             "ticks": ""
            },
            "type": "choropleth"
           }
          ],
          "contour": [
           {
            "colorbar": {
             "outlinewidth": 0,
             "ticks": ""
            },
            "colorscale": [
             [
              0,
              "#0d0887"
             ],
             [
              0.1111111111111111,
              "#46039f"
             ],
             [
              0.2222222222222222,
              "#7201a8"
             ],
             [
              0.3333333333333333,
              "#9c179e"
             ],
             [
              0.4444444444444444,
              "#bd3786"
             ],
             [
              0.5555555555555556,
              "#d8576b"
             ],
             [
              0.6666666666666666,
              "#ed7953"
             ],
             [
              0.7777777777777778,
              "#fb9f3a"
             ],
             [
              0.8888888888888888,
              "#fdca26"
             ],
             [
              1,
              "#f0f921"
             ]
            ],
            "type": "contour"
           }
          ],
          "contourcarpet": [
           {
            "colorbar": {
             "outlinewidth": 0,
             "ticks": ""
            },
            "type": "contourcarpet"
           }
          ],
          "heatmap": [
           {
            "colorbar": {
             "outlinewidth": 0,
             "ticks": ""
            },
            "colorscale": [
             [
              0,
              "#0d0887"
             ],
             [
              0.1111111111111111,
              "#46039f"
             ],
             [
              0.2222222222222222,
              "#7201a8"
             ],
             [
              0.3333333333333333,
              "#9c179e"
             ],
             [
              0.4444444444444444,
              "#bd3786"
             ],
             [
              0.5555555555555556,
              "#d8576b"
             ],
             [
              0.6666666666666666,
              "#ed7953"
             ],
             [
              0.7777777777777778,
              "#fb9f3a"
             ],
             [
              0.8888888888888888,
              "#fdca26"
             ],
             [
              1,
              "#f0f921"
             ]
            ],
            "type": "heatmap"
           }
          ],
          "heatmapgl": [
           {
            "colorbar": {
             "outlinewidth": 0,
             "ticks": ""
            },
            "colorscale": [
             [
              0,
              "#0d0887"
             ],
             [
              0.1111111111111111,
              "#46039f"
             ],
             [
              0.2222222222222222,
              "#7201a8"
             ],
             [
              0.3333333333333333,
              "#9c179e"
             ],
             [
              0.4444444444444444,
              "#bd3786"
             ],
             [
              0.5555555555555556,
              "#d8576b"
             ],
             [
              0.6666666666666666,
              "#ed7953"
             ],
             [
              0.7777777777777778,
              "#fb9f3a"
             ],
             [
              0.8888888888888888,
              "#fdca26"
             ],
             [
              1,
              "#f0f921"
             ]
            ],
            "type": "heatmapgl"
           }
          ],
          "histogram": [
           {
            "marker": {
             "colorbar": {
              "outlinewidth": 0,
              "ticks": ""
             }
            },
            "type": "histogram"
           }
          ],
          "histogram2d": [
           {
            "colorbar": {
             "outlinewidth": 0,
             "ticks": ""
            },
            "colorscale": [
             [
              0,
              "#0d0887"
             ],
             [
              0.1111111111111111,
              "#46039f"
             ],
             [
              0.2222222222222222,
              "#7201a8"
             ],
             [
              0.3333333333333333,
              "#9c179e"
             ],
             [
              0.4444444444444444,
              "#bd3786"
             ],
             [
              0.5555555555555556,
              "#d8576b"
             ],
             [
              0.6666666666666666,
              "#ed7953"
             ],
             [
              0.7777777777777778,
              "#fb9f3a"
             ],
             [
              0.8888888888888888,
              "#fdca26"
             ],
             [
              1,
              "#f0f921"
             ]
            ],
            "type": "histogram2d"
           }
          ],
          "histogram2dcontour": [
           {
            "colorbar": {
             "outlinewidth": 0,
             "ticks": ""
            },
            "colorscale": [
             [
              0,
              "#0d0887"
             ],
             [
              0.1111111111111111,
              "#46039f"
             ],
             [
              0.2222222222222222,
              "#7201a8"
             ],
             [
              0.3333333333333333,
              "#9c179e"
             ],
             [
              0.4444444444444444,
              "#bd3786"
             ],
             [
              0.5555555555555556,
              "#d8576b"
             ],
             [
              0.6666666666666666,
              "#ed7953"
             ],
             [
              0.7777777777777778,
              "#fb9f3a"
             ],
             [
              0.8888888888888888,
              "#fdca26"
             ],
             [
              1,
              "#f0f921"
             ]
            ],
            "type": "histogram2dcontour"
           }
          ],
          "mesh3d": [
           {
            "colorbar": {
             "outlinewidth": 0,
             "ticks": ""
            },
            "type": "mesh3d"
           }
          ],
          "parcoords": [
           {
            "line": {
             "colorbar": {
              "outlinewidth": 0,
              "ticks": ""
             }
            },
            "type": "parcoords"
           }
          ],
          "pie": [
           {
            "automargin": true,
            "type": "pie"
           }
          ],
          "scatter": [
           {
            "marker": {
             "colorbar": {
              "outlinewidth": 0,
              "ticks": ""
             }
            },
            "type": "scatter"
           }
          ],
          "scatter3d": [
           {
            "line": {
             "colorbar": {
              "outlinewidth": 0,
              "ticks": ""
             }
            },
            "marker": {
             "colorbar": {
              "outlinewidth": 0,
              "ticks": ""
             }
            },
            "type": "scatter3d"
           }
          ],
          "scattercarpet": [
           {
            "marker": {
             "colorbar": {
              "outlinewidth": 0,
              "ticks": ""
             }
            },
            "type": "scattercarpet"
           }
          ],
          "scattergeo": [
           {
            "marker": {
             "colorbar": {
              "outlinewidth": 0,
              "ticks": ""
             }
            },
            "type": "scattergeo"
           }
          ],
          "scattergl": [
           {
            "marker": {
             "colorbar": {
              "outlinewidth": 0,
              "ticks": ""
             }
            },
            "type": "scattergl"
           }
          ],
          "scattermapbox": [
           {
            "marker": {
             "colorbar": {
              "outlinewidth": 0,
              "ticks": ""
             }
            },
            "type": "scattermapbox"
           }
          ],
          "scatterpolar": [
           {
            "marker": {
             "colorbar": {
              "outlinewidth": 0,
              "ticks": ""
             }
            },
            "type": "scatterpolar"
           }
          ],
          "scatterpolargl": [
           {
            "marker": {
             "colorbar": {
              "outlinewidth": 0,
              "ticks": ""
             }
            },
            "type": "scatterpolargl"
           }
          ],
          "scatterternary": [
           {
            "marker": {
             "colorbar": {
              "outlinewidth": 0,
              "ticks": ""
             }
            },
            "type": "scatterternary"
           }
          ],
          "surface": [
           {
            "colorbar": {
             "outlinewidth": 0,
             "ticks": ""
            },
            "colorscale": [
             [
              0,
              "#0d0887"
             ],
             [
              0.1111111111111111,
              "#46039f"
             ],
             [
              0.2222222222222222,
              "#7201a8"
             ],
             [
              0.3333333333333333,
              "#9c179e"
             ],
             [
              0.4444444444444444,
              "#bd3786"
             ],
             [
              0.5555555555555556,
              "#d8576b"
             ],
             [
              0.6666666666666666,
              "#ed7953"
             ],
             [
              0.7777777777777778,
              "#fb9f3a"
             ],
             [
              0.8888888888888888,
              "#fdca26"
             ],
             [
              1,
              "#f0f921"
             ]
            ],
            "type": "surface"
           }
          ],
          "table": [
           {
            "cells": {
             "fill": {
              "color": "#EBF0F8"
             },
             "line": {
              "color": "white"
             }
            },
            "header": {
             "fill": {
              "color": "#C8D4E3"
             },
             "line": {
              "color": "white"
             }
            },
            "type": "table"
           }
          ]
         },
         "layout": {
          "annotationdefaults": {
           "arrowcolor": "#2a3f5f",
           "arrowhead": 0,
           "arrowwidth": 1
          },
          "autotypenumbers": "strict",
          "coloraxis": {
           "colorbar": {
            "outlinewidth": 0,
            "ticks": ""
           }
          },
          "colorscale": {
           "diverging": [
            [
             0,
             "#8e0152"
            ],
            [
             0.1,
             "#c51b7d"
            ],
            [
             0.2,
             "#de77ae"
            ],
            [
             0.3,
             "#f1b6da"
            ],
            [
             0.4,
             "#fde0ef"
            ],
            [
             0.5,
             "#f7f7f7"
            ],
            [
             0.6,
             "#e6f5d0"
            ],
            [
             0.7,
             "#b8e186"
            ],
            [
             0.8,
             "#7fbc41"
            ],
            [
             0.9,
             "#4d9221"
            ],
            [
             1,
             "#276419"
            ]
           ],
           "sequential": [
            [
             0,
             "#0d0887"
            ],
            [
             0.1111111111111111,
             "#46039f"
            ],
            [
             0.2222222222222222,
             "#7201a8"
            ],
            [
             0.3333333333333333,
             "#9c179e"
            ],
            [
             0.4444444444444444,
             "#bd3786"
            ],
            [
             0.5555555555555556,
             "#d8576b"
            ],
            [
             0.6666666666666666,
             "#ed7953"
            ],
            [
             0.7777777777777778,
             "#fb9f3a"
            ],
            [
             0.8888888888888888,
             "#fdca26"
            ],
            [
             1,
             "#f0f921"
            ]
           ],
           "sequentialminus": [
            [
             0,
             "#0d0887"
            ],
            [
             0.1111111111111111,
             "#46039f"
            ],
            [
             0.2222222222222222,
             "#7201a8"
            ],
            [
             0.3333333333333333,
             "#9c179e"
            ],
            [
             0.4444444444444444,
             "#bd3786"
            ],
            [
             0.5555555555555556,
             "#d8576b"
            ],
            [
             0.6666666666666666,
             "#ed7953"
            ],
            [
             0.7777777777777778,
             "#fb9f3a"
            ],
            [
             0.8888888888888888,
             "#fdca26"
            ],
            [
             1,
             "#f0f921"
            ]
           ]
          },
          "colorway": [
           "#636efa",
           "#EF553B",
           "#00cc96",
           "#ab63fa",
           "#FFA15A",
           "#19d3f3",
           "#FF6692",
           "#B6E880",
           "#FF97FF",
           "#FECB52"
          ],
          "font": {
           "color": "#2a3f5f"
          },
          "geo": {
           "bgcolor": "white",
           "lakecolor": "white",
           "landcolor": "#E5ECF6",
           "showlakes": true,
           "showland": true,
           "subunitcolor": "white"
          },
          "hoverlabel": {
           "align": "left"
          },
          "hovermode": "closest",
          "mapbox": {
           "style": "light"
          },
          "paper_bgcolor": "white",
          "plot_bgcolor": "#E5ECF6",
          "polar": {
           "angularaxis": {
            "gridcolor": "white",
            "linecolor": "white",
            "ticks": ""
           },
           "bgcolor": "#E5ECF6",
           "radialaxis": {
            "gridcolor": "white",
            "linecolor": "white",
            "ticks": ""
           }
          },
          "scene": {
           "xaxis": {
            "backgroundcolor": "#E5ECF6",
            "gridcolor": "white",
            "gridwidth": 2,
            "linecolor": "white",
            "showbackground": true,
            "ticks": "",
            "zerolinecolor": "white"
           },
           "yaxis": {
            "backgroundcolor": "#E5ECF6",
            "gridcolor": "white",
            "gridwidth": 2,
            "linecolor": "white",
            "showbackground": true,
            "ticks": "",
            "zerolinecolor": "white"
           },
           "zaxis": {
            "backgroundcolor": "#E5ECF6",
            "gridcolor": "white",
            "gridwidth": 2,
            "linecolor": "white",
            "showbackground": true,
            "ticks": "",
            "zerolinecolor": "white"
           }
          },
          "shapedefaults": {
           "line": {
            "color": "#2a3f5f"
           }
          },
          "ternary": {
           "aaxis": {
            "gridcolor": "white",
            "linecolor": "white",
            "ticks": ""
           },
           "baxis": {
            "gridcolor": "white",
            "linecolor": "white",
            "ticks": ""
           },
           "bgcolor": "#E5ECF6",
           "caxis": {
            "gridcolor": "white",
            "linecolor": "white",
            "ticks": ""
           }
          },
          "title": {
           "x": 0.05
          },
          "xaxis": {
           "automargin": true,
           "gridcolor": "white",
           "linecolor": "white",
           "ticks": "",
           "title": {
            "standoff": 15
           },
           "zerolinecolor": "white",
           "zerolinewidth": 2
          },
          "yaxis": {
           "automargin": true,
           "gridcolor": "white",
           "linecolor": "white",
           "ticks": "",
           "title": {
            "standoff": 15
           },
           "zerolinecolor": "white",
           "zerolinewidth": 2
          }
         }
        },
        "title": {
         "font": {
          "color": "#4D5663"
         }
        },
        "xaxis": {
         "anchor": "y",
         "domain": [
          0,
          0.2125
         ],
         "gridcolor": "#E1E5ED",
         "showgrid": false,
         "tickfont": {
          "color": "#4D5663"
         },
         "title": {
          "font": {
           "color": "#4D5663"
          },
          "text": ""
         },
         "zerolinecolor": "#E1E5ED"
        },
        "xaxis10": {
         "anchor": "y10",
         "domain": [
          0.2625,
          0.475
         ],
         "gridcolor": "#E1E5ED",
         "showgrid": false,
         "tickfont": {
          "color": "#4D5663"
         },
         "title": {
          "font": {
           "color": "#4D5663"
          },
          "text": ""
         },
         "zerolinecolor": "#E1E5ED"
        },
        "xaxis11": {
         "anchor": "y11",
         "domain": [
          0.525,
          0.7375
         ],
         "gridcolor": "#E1E5ED",
         "showgrid": false,
         "tickfont": {
          "color": "#4D5663"
         },
         "title": {
          "font": {
           "color": "#4D5663"
          },
          "text": ""
         },
         "zerolinecolor": "#E1E5ED"
        },
        "xaxis12": {
         "anchor": "y12",
         "domain": [
          0.7875,
          1
         ],
         "gridcolor": "#E1E5ED",
         "showgrid": false,
         "tickfont": {
          "color": "#4D5663"
         },
         "title": {
          "font": {
           "color": "#4D5663"
          },
          "text": ""
         },
         "zerolinecolor": "#E1E5ED"
        },
        "xaxis13": {
         "anchor": "y13",
         "domain": [
          0,
          0.2125
         ],
         "gridcolor": "#E1E5ED",
         "showgrid": false,
         "tickfont": {
          "color": "#4D5663"
         },
         "title": {
          "font": {
           "color": "#4D5663"
          },
          "text": ""
         },
         "zerolinecolor": "#E1E5ED"
        },
        "xaxis14": {
         "anchor": "y14",
         "domain": [
          0.2625,
          0.475
         ],
         "gridcolor": "#E1E5ED",
         "showgrid": false,
         "tickfont": {
          "color": "#4D5663"
         },
         "title": {
          "font": {
           "color": "#4D5663"
          },
          "text": ""
         },
         "zerolinecolor": "#E1E5ED"
        },
        "xaxis15": {
         "anchor": "y15",
         "domain": [
          0.525,
          0.7375
         ],
         "gridcolor": "#E1E5ED",
         "showgrid": false,
         "tickfont": {
          "color": "#4D5663"
         },
         "title": {
          "font": {
           "color": "#4D5663"
          },
          "text": ""
         },
         "zerolinecolor": "#E1E5ED"
        },
        "xaxis16": {
         "anchor": "y16",
         "domain": [
          0.7875,
          1
         ],
         "gridcolor": "#E1E5ED",
         "showgrid": false,
         "tickfont": {
          "color": "#4D5663"
         },
         "title": {
          "font": {
           "color": "#4D5663"
          },
          "text": ""
         },
         "zerolinecolor": "#E1E5ED"
        },
        "xaxis2": {
         "anchor": "y2",
         "domain": [
          0.2625,
          0.475
         ],
         "gridcolor": "#E1E5ED",
         "showgrid": false,
         "tickfont": {
          "color": "#4D5663"
         },
         "title": {
          "font": {
           "color": "#4D5663"
          },
          "text": ""
         },
         "zerolinecolor": "#E1E5ED"
        },
        "xaxis3": {
         "anchor": "y3",
         "domain": [
          0.525,
          0.7375
         ],
         "gridcolor": "#E1E5ED",
         "showgrid": false,
         "tickfont": {
          "color": "#4D5663"
         },
         "title": {
          "font": {
           "color": "#4D5663"
          },
          "text": ""
         },
         "zerolinecolor": "#E1E5ED"
        },
        "xaxis4": {
         "anchor": "y4",
         "domain": [
          0.7875,
          1
         ],
         "gridcolor": "#E1E5ED",
         "showgrid": false,
         "tickfont": {
          "color": "#4D5663"
         },
         "title": {
          "font": {
           "color": "#4D5663"
          },
          "text": ""
         },
         "zerolinecolor": "#E1E5ED"
        },
        "xaxis5": {
         "anchor": "y5",
         "domain": [
          0,
          0.2125
         ],
         "gridcolor": "#E1E5ED",
         "showgrid": false,
         "tickfont": {
          "color": "#4D5663"
         },
         "title": {
          "font": {
           "color": "#4D5663"
          },
          "text": ""
         },
         "zerolinecolor": "#E1E5ED"
        },
        "xaxis6": {
         "anchor": "y6",
         "domain": [
          0.2625,
          0.475
         ],
         "gridcolor": "#E1E5ED",
         "showgrid": false,
         "tickfont": {
          "color": "#4D5663"
         },
         "title": {
          "font": {
           "color": "#4D5663"
          },
          "text": ""
         },
         "zerolinecolor": "#E1E5ED"
        },
        "xaxis7": {
         "anchor": "y7",
         "domain": [
          0.525,
          0.7375
         ],
         "gridcolor": "#E1E5ED",
         "showgrid": false,
         "tickfont": {
          "color": "#4D5663"
         },
         "title": {
          "font": {
           "color": "#4D5663"
          },
          "text": ""
         },
         "zerolinecolor": "#E1E5ED"
        },
        "xaxis8": {
         "anchor": "y8",
         "domain": [
          0.7875,
          1
         ],
         "gridcolor": "#E1E5ED",
         "showgrid": false,
         "tickfont": {
          "color": "#4D5663"
         },
         "title": {
          "font": {
           "color": "#4D5663"
          },
          "text": ""
         },
         "zerolinecolor": "#E1E5ED"
        },
        "xaxis9": {
         "anchor": "y9",
         "domain": [
          0,
          0.2125
         ],
         "gridcolor": "#E1E5ED",
         "showgrid": false,
         "tickfont": {
          "color": "#4D5663"
         },
         "title": {
          "font": {
           "color": "#4D5663"
          },
          "text": ""
         },
         "zerolinecolor": "#E1E5ED"
        },
        "yaxis": {
         "anchor": "x",
         "domain": [
          0.8025,
          1
         ],
         "gridcolor": "#E1E5ED",
         "showgrid": false,
         "tickfont": {
          "color": "#4D5663"
         },
         "title": {
          "font": {
           "color": "#4D5663"
          },
          "text": ""
         },
         "zerolinecolor": "#E1E5ED"
        },
        "yaxis10": {
         "anchor": "x10",
         "domain": [
          0.2675,
          0.465
         ],
         "gridcolor": "#E1E5ED",
         "showgrid": false,
         "tickfont": {
          "color": "#4D5663"
         },
         "title": {
          "font": {
           "color": "#4D5663"
          },
          "text": ""
         },
         "zerolinecolor": "#E1E5ED"
        },
        "yaxis11": {
         "anchor": "x11",
         "domain": [
          0.2675,
          0.465
         ],
         "gridcolor": "#E1E5ED",
         "showgrid": false,
         "tickfont": {
          "color": "#4D5663"
         },
         "title": {
          "font": {
           "color": "#4D5663"
          },
          "text": ""
         },
         "zerolinecolor": "#E1E5ED"
        },
        "yaxis12": {
         "anchor": "x12",
         "domain": [
          0.2675,
          0.465
         ],
         "gridcolor": "#E1E5ED",
         "showgrid": false,
         "tickfont": {
          "color": "#4D5663"
         },
         "title": {
          "font": {
           "color": "#4D5663"
          },
          "text": ""
         },
         "zerolinecolor": "#E1E5ED"
        },
        "yaxis13": {
         "anchor": "x13",
         "domain": [
          0,
          0.1975
         ],
         "gridcolor": "#E1E5ED",
         "showgrid": false,
         "tickfont": {
          "color": "#4D5663"
         },
         "title": {
          "font": {
           "color": "#4D5663"
          },
          "text": ""
         },
         "zerolinecolor": "#E1E5ED"
        },
        "yaxis14": {
         "anchor": "x14",
         "domain": [
          0,
          0.1975
         ],
         "gridcolor": "#E1E5ED",
         "showgrid": false,
         "tickfont": {
          "color": "#4D5663"
         },
         "title": {
          "font": {
           "color": "#4D5663"
          },
          "text": ""
         },
         "zerolinecolor": "#E1E5ED"
        },
        "yaxis15": {
         "anchor": "x15",
         "domain": [
          0,
          0.1975
         ],
         "gridcolor": "#E1E5ED",
         "showgrid": false,
         "tickfont": {
          "color": "#4D5663"
         },
         "title": {
          "font": {
           "color": "#4D5663"
          },
          "text": ""
         },
         "zerolinecolor": "#E1E5ED"
        },
        "yaxis16": {
         "anchor": "x16",
         "domain": [
          0,
          0.1975
         ],
         "gridcolor": "#E1E5ED",
         "showgrid": false,
         "tickfont": {
          "color": "#4D5663"
         },
         "title": {
          "font": {
           "color": "#4D5663"
          },
          "text": ""
         },
         "zerolinecolor": "#E1E5ED"
        },
        "yaxis2": {
         "anchor": "x2",
         "domain": [
          0.8025,
          1
         ],
         "gridcolor": "#E1E5ED",
         "showgrid": false,
         "tickfont": {
          "color": "#4D5663"
         },
         "title": {
          "font": {
           "color": "#4D5663"
          },
          "text": ""
         },
         "zerolinecolor": "#E1E5ED"
        },
        "yaxis3": {
         "anchor": "x3",
         "domain": [
          0.8025,
          1
         ],
         "gridcolor": "#E1E5ED",
         "showgrid": false,
         "tickfont": {
          "color": "#4D5663"
         },
         "title": {
          "font": {
           "color": "#4D5663"
          },
          "text": ""
         },
         "zerolinecolor": "#E1E5ED"
        },
        "yaxis4": {
         "anchor": "x4",
         "domain": [
          0.8025,
          1
         ],
         "gridcolor": "#E1E5ED",
         "showgrid": false,
         "tickfont": {
          "color": "#4D5663"
         },
         "title": {
          "font": {
           "color": "#4D5663"
          },
          "text": ""
         },
         "zerolinecolor": "#E1E5ED"
        },
        "yaxis5": {
         "anchor": "x5",
         "domain": [
          0.535,
          0.7325
         ],
         "gridcolor": "#E1E5ED",
         "showgrid": false,
         "tickfont": {
          "color": "#4D5663"
         },
         "title": {
          "font": {
           "color": "#4D5663"
          },
          "text": ""
         },
         "zerolinecolor": "#E1E5ED"
        },
        "yaxis6": {
         "anchor": "x6",
         "domain": [
          0.535,
          0.7325
         ],
         "gridcolor": "#E1E5ED",
         "showgrid": false,
         "tickfont": {
          "color": "#4D5663"
         },
         "title": {
          "font": {
           "color": "#4D5663"
          },
          "text": ""
         },
         "zerolinecolor": "#E1E5ED"
        },
        "yaxis7": {
         "anchor": "x7",
         "domain": [
          0.535,
          0.7325
         ],
         "gridcolor": "#E1E5ED",
         "showgrid": false,
         "tickfont": {
          "color": "#4D5663"
         },
         "title": {
          "font": {
           "color": "#4D5663"
          },
          "text": ""
         },
         "zerolinecolor": "#E1E5ED"
        },
        "yaxis8": {
         "anchor": "x8",
         "domain": [
          0.535,
          0.7325
         ],
         "gridcolor": "#E1E5ED",
         "showgrid": false,
         "tickfont": {
          "color": "#4D5663"
         },
         "title": {
          "font": {
           "color": "#4D5663"
          },
          "text": ""
         },
         "zerolinecolor": "#E1E5ED"
        },
        "yaxis9": {
         "anchor": "x9",
         "domain": [
          0.2675,
          0.465
         ],
         "gridcolor": "#E1E5ED",
         "showgrid": false,
         "tickfont": {
          "color": "#4D5663"
         },
         "title": {
          "font": {
           "color": "#4D5663"
          },
          "text": ""
         },
         "zerolinecolor": "#E1E5ED"
        }
       }
      },
      "text/html": "<div>                            <div id=\"e983a6a8-1df4-43c0-bb72-5c5fc5c2da8e\" class=\"plotly-graph-div\" style=\"height:525px; width:100%;\"></div>            <script type=\"text/javascript\">                require([\"plotly\"], function(Plotly) {                    window.PLOTLYENV=window.PLOTLYENV || {};\n                    window.PLOTLYENV.BASE_URL='https://plot.ly';                                    if (document.getElementById(\"e983a6a8-1df4-43c0-bb72-5c5fc5c2da8e\")) {                    Plotly.newPlot(                        \"e983a6a8-1df4-43c0-bb72-5c5fc5c2da8e\",                        [{\"histfunc\": \"count\", \"histnorm\": \"\", \"marker\": {\"color\": \"rgba(255, 153, 51, 1.0)\", \"line\": {\"color\": \"#4D5663\", \"width\": 1.3}}, \"name\": \"A\", \"nbinsx\": 10, \"opacity\": 0.8, \"orientation\": \"v\", \"type\": \"histogram\", \"x\": [-1.6034591679105978, 0.6744517866256291, 0.16873903499098108, -0.7120838114462832, 0.23617682794395775, 1.180677289914722, -0.9243405825078829, 0.3249744142267152, 0.24123007955726194, -1.371775940963692, 2.0299735784534514, -1.638278538950703, -0.35137910597764804, 0.000667556043875359, -2.100087178780612, -0.4528852477762303, -1.0698827410677296, -0.22569897519992077, -1.0377256973062055, -0.40533486416227726, 0.6830430283391952, -0.33966680639046704, -0.8669563151471675, 0.527643417645511, -0.0833286510642639, 0.13548161732522387, 0.7223255346457207, -0.8175726858881641, 1.374045254814651, -0.5656973754914506, 0.39140389155072197, 0.16070195849060673, -0.1861179756096024, -0.5439910419446394, -0.7872529205941025, 1.3521531710461365, -0.969493749960735, -0.4360024968703549, -0.11854777642838966, -1.8023152962452222, -1.7570950411749429, -0.3551025680128556, -0.9730138683284136, 1.7174009466336264, -1.0403124882430377, 0.8946881797652224, -0.481238013126997, -0.1801078735119504, -0.3908161297782836, 0.4211820003945261, 0.8939246652280742, 0.29982529050087176, -0.19053552055843878, 0.9122188779991189, 0.02791823589603473, -2.049843605469713, 1.8451647391505106, 1.835826771883997, 0.4514046121545814, -1.3153479849431113, 0.6039372964302147, 0.1967032275194514, -0.19718733734199645, -1.0424453626339572, -1.291632485177539, 0.08021453833866193, 0.8381689241093387, -1.2721892786100386, 0.3732178168113568, 0.05276688734700252, -1.967496885033359, 0.9023845846590755, 0.24001744040925296, -0.05429170252464368, -0.49807948253119694, -1.452383083045118, -0.9418576074293369, -0.4523600116602419, 0.6591749020229192, -0.48515217656054904, 0.6035086074078894, -0.5338885854100055, -0.9455132299224919, -0.9184469295082123, -0.482512232189353, 1.495957404481226, -0.11809049112544505, 0.3194610816126905, -1.2852738670679296, -0.5933666650741988, 1.7904157188996117, 0.4052902765873968, 1.8775364158770929, 0.01327468426470117, -2.2108064327344157, 0.4547179081726537, -0.5095154977877799, -0.9630339148296717, -1.1623592880536002, -1.1754650048720257], \"xaxis\": \"x\", \"yaxis\": \"y\"}, {\"line\": {\"color\": \"rgba(128, 128, 128, 1.0)\", \"dash\": \"solid\", \"shape\": \"linear\", \"width\": 1.3}, \"marker\": {\"size\": 2, \"symbol\": \"circle\"}, \"mode\": \"markers\", \"name\": \"A\", \"text\": \"\", \"type\": \"scatter\", \"x\": [0.8192336134801987, 0.7602482743753068, 0.6294100028786074, 0.03904283596140118, -0.20300240870303762, -0.4217753477618602, -0.005137086974361876, -0.6026416600652672, -0.519906165020211, 0.7206112252343626, 0.20239306106194205, 0.24824347008781414, -0.3632000207111838, 0.5246297345959616, -0.8406442737890164, -0.30471587593055305, 0.11002914869335803, -0.7770599281428845, -1.041800451056623, -0.9368605859558401, 1.7229026947754391, -0.3620596398305359, 0.4949821171328368, -1.5512318236277358, 1.4494671490438522, -0.8823861526943375, -0.22564121684055144, -0.7154859681767155, -1.0820544326577435, -0.15522332326670543, -0.7164670995786423, 0.2804719336161431, -0.2051279121244869, -1.5782948712181395, -1.6263700275222348, 0.7739434861128113, 1.3095508145895705, -1.2225798792362865, 1.121663384493526, -1.4332480938692411, 0.9030413351881482, 0.006778345110963212, -0.23949189864348985, -0.04759875800248899, 1.4895830215386634, 0.34389886769741146, 0.25995771804344314, 1.7315562384553185, 1.8352822475616812, -0.5177595834240207, 1.8250101308281006, 0.8931273429782042, 0.653976849766924, 0.2047316783716681, 0.3021811973823506, -2.2920227763677037, 0.3262921101530418, -0.3354101817456763, -1.2533302192795022, 0.11168265476850534, -1.0357739867335003, 0.528326646172122, 0.4110942155465323, 0.5074870135166899, -0.8819865735203064, -1.3814733121407319, 0.022845539968953, -0.28094217851010267, 0.48606511891207504, 1.7050928660376112, -0.5609434522847258, -0.3087151772829456, -0.21422050977795287, 0.732410209205975, -0.896156752315307, -0.748927157879648, 0.006314657490310105, -1.1216573254922337, -0.5118157861492615, 0.36209901117936405, -1.0880514683970912, 0.46632807066648674, -0.022897289258460102, 1.2856654258471698, -0.24579209518601375, -0.31100397594352286, 0.0904341764974058, -1.1641298986673796, 0.13704345571697643, 0.1676107315041115, -0.3185357210445539, -0.6292950421730465, 1.6062211256891819, -0.066381667278134, 0.7151003365735614, 0.3931328546294085, 0.39143520976327495, -0.6355055797809678, 0.09861609523459006, -1.2784322496774305], \"xaxis\": \"x2\", \"y\": [-1.6034591679105978, 0.6744517866256291, 0.16873903499098108, -0.7120838114462832, 0.23617682794395775, 1.180677289914722, -0.9243405825078829, 0.3249744142267152, 0.24123007955726194, -1.371775940963692, 2.0299735784534514, -1.638278538950703, -0.35137910597764804, 0.000667556043875359, -2.100087178780612, -0.4528852477762303, -1.0698827410677296, -0.22569897519992077, -1.0377256973062055, -0.40533486416227726, 0.6830430283391952, -0.33966680639046704, -0.8669563151471675, 0.527643417645511, -0.0833286510642639, 0.13548161732522387, 0.7223255346457207, -0.8175726858881641, 1.374045254814651, -0.5656973754914506, 0.39140389155072197, 0.16070195849060673, -0.1861179756096024, -0.5439910419446394, -0.7872529205941025, 1.3521531710461365, -0.969493749960735, -0.4360024968703549, -0.11854777642838966, -1.8023152962452222, -1.7570950411749429, -0.3551025680128556, -0.9730138683284136, 1.7174009466336264, -1.0403124882430377, 0.8946881797652224, -0.481238013126997, -0.1801078735119504, -0.3908161297782836, 0.4211820003945261, 0.8939246652280742, 0.29982529050087176, -0.19053552055843878, 0.9122188779991189, 0.02791823589603473, -2.049843605469713, 1.8451647391505106, 1.835826771883997, 0.4514046121545814, -1.3153479849431113, 0.6039372964302147, 0.1967032275194514, -0.19718733734199645, -1.0424453626339572, -1.291632485177539, 0.08021453833866193, 0.8381689241093387, -1.2721892786100386, 0.3732178168113568, 0.05276688734700252, -1.967496885033359, 0.9023845846590755, 0.24001744040925296, -0.05429170252464368, -0.49807948253119694, -1.452383083045118, -0.9418576074293369, -0.4523600116602419, 0.6591749020229192, -0.48515217656054904, 0.6035086074078894, -0.5338885854100055, -0.9455132299224919, -0.9184469295082123, -0.482512232189353, 1.495957404481226, -0.11809049112544505, 0.3194610816126905, -1.2852738670679296, -0.5933666650741988, 1.7904157188996117, 0.4052902765873968, 1.8775364158770929, 0.01327468426470117, -2.2108064327344157, 0.4547179081726537, -0.5095154977877799, -0.9630339148296717, -1.1623592880536002, -1.1754650048720257], \"yaxis\": \"y2\"}, {\"line\": {\"color\": \"rgba(128, 128, 128, 1.0)\", \"dash\": \"solid\", \"shape\": \"linear\", \"width\": 1.3}, \"marker\": {\"size\": 2, \"symbol\": \"circle\"}, \"mode\": \"markers\", \"name\": \"A\", \"text\": \"\", \"type\": \"scatter\", \"x\": [2.413773226467551, -0.7128641051383859, -0.4644136139558775, -0.01595694663080215, -1.0650640833764218, -0.48824719587425885, -0.46792702899628724, 0.7935768216181784, -1.2882522941089907, 1.1808870677203653, 0.29037826101094666, -0.06273209145717351, 0.020915860572536787, 0.3559134718066243, -0.23828516601864974, 0.2235282271400536, 0.19797177200515284, 1.8154376537683254, 2.2848843666910827, 1.1551806091037926, -0.3699746848112576, 1.435658491619278, -1.028800188537578, 0.6939205836708525, -0.40461125110826474, 0.3327556578954046, -1.12640609571732, -2.6860447566331986, -0.9179074972194138, -1.06704343280252, 0.8589691278525239, 1.6668434809952644, -1.8254270265450483, -0.2336040815855926, -0.8741850919768382, 0.5611318101312296, -0.30844936946133, -2.0734330772879583, 0.04932456760975603, -0.4400844067977491, -2.584058318333577, 0.30613786549649014, -0.5441577295913987, 1.5392055423948425, -0.6572771953504218, -0.9186896963179999, 0.43104549104002376, 0.5560132829638029, 0.4295007204552606, 0.4296060913696705, 0.2560402303645244, 1.208248313929545, -1.7707832610232104, 1.3897189518615294, 1.0320936445448918, 0.02004439306689833, -0.9776711761697071, 0.2942035576612603, 1.8119180949403657, -0.3950788056218137, -0.910213972231028, -1.1739349903824625, -0.12564992211094936, -0.6755373400151659, -0.09944943527808983, -0.3425637260077509, -1.390472064931238, -2.605239681869079, -0.4120934341872476, -0.1433111350149596, -0.49250371960794603, -0.11038227569364245, -0.09476737702784671, 1.8538864184662776, -0.4262021828358027, 1.4510023307478104, -0.6586291189953202, 0.9627447585438353, -1.3102489008195526, 0.8263604082643905, 0.9052797697023395, 1.422667165070258, -1.3777177729561392, -0.4607103704274852, 0.038783419380216726, 0.4961343068085089, -0.257350508592742, 1.912895753556617, 0.4884316808865898, -0.13281473817269865, 0.78731472054916, -2.474027384823861, 0.26065077866571856, -1.6826622183155961, 0.8624958193966548, 1.1999959758197845, -1.0252157379675841, -0.431404358816828, -0.1830837371829216, 1.3727642127169377], \"xaxis\": \"x3\", \"y\": [-1.6034591679105978, 0.6744517866256291, 0.16873903499098108, -0.7120838114462832, 0.23617682794395775, 1.180677289914722, -0.9243405825078829, 0.3249744142267152, 0.24123007955726194, -1.371775940963692, 2.0299735784534514, -1.638278538950703, -0.35137910597764804, 0.000667556043875359, -2.100087178780612, -0.4528852477762303, -1.0698827410677296, -0.22569897519992077, -1.0377256973062055, -0.40533486416227726, 0.6830430283391952, -0.33966680639046704, -0.8669563151471675, 0.527643417645511, -0.0833286510642639, 0.13548161732522387, 0.7223255346457207, -0.8175726858881641, 1.374045254814651, -0.5656973754914506, 0.39140389155072197, 0.16070195849060673, -0.1861179756096024, -0.5439910419446394, -0.7872529205941025, 1.3521531710461365, -0.969493749960735, -0.4360024968703549, -0.11854777642838966, -1.8023152962452222, -1.7570950411749429, -0.3551025680128556, -0.9730138683284136, 1.7174009466336264, -1.0403124882430377, 0.8946881797652224, -0.481238013126997, -0.1801078735119504, -0.3908161297782836, 0.4211820003945261, 0.8939246652280742, 0.29982529050087176, -0.19053552055843878, 0.9122188779991189, 0.02791823589603473, -2.049843605469713, 1.8451647391505106, 1.835826771883997, 0.4514046121545814, -1.3153479849431113, 0.6039372964302147, 0.1967032275194514, -0.19718733734199645, -1.0424453626339572, -1.291632485177539, 0.08021453833866193, 0.8381689241093387, -1.2721892786100386, 0.3732178168113568, 0.05276688734700252, -1.967496885033359, 0.9023845846590755, 0.24001744040925296, -0.05429170252464368, -0.49807948253119694, -1.452383083045118, -0.9418576074293369, -0.4523600116602419, 0.6591749020229192, -0.48515217656054904, 0.6035086074078894, -0.5338885854100055, -0.9455132299224919, -0.9184469295082123, -0.482512232189353, 1.495957404481226, -0.11809049112544505, 0.3194610816126905, -1.2852738670679296, -0.5933666650741988, 1.7904157188996117, 0.4052902765873968, 1.8775364158770929, 0.01327468426470117, -2.2108064327344157, 0.4547179081726537, -0.5095154977877799, -0.9630339148296717, -1.1623592880536002, -1.1754650048720257], \"yaxis\": \"y3\"}, {\"line\": {\"color\": \"rgba(128, 128, 128, 1.0)\", \"dash\": \"solid\", \"shape\": \"linear\", \"width\": 1.3}, \"marker\": {\"size\": 2, \"symbol\": \"circle\"}, \"mode\": \"markers\", \"name\": \"A\", \"text\": \"\", \"type\": \"scatter\", \"x\": [0.007401829489414258, -1.4370701708241351, 1.8591857898260413, 0.3234628984355769, -1.0186827699736536, -2.5029781942582536, -1.3170221417895134, 1.2842493614367703, 1.3176561190796041, -1.51984636555648, -0.4568373373257365, 0.4917231453636013, 0.6297324020840347, 0.6800046087257194, -1.6879043349963478, -1.7184440811410282, -0.6629893158933756, -0.2990734559154911, 0.9273377980104158, 0.7579737594959451, 0.17464062389667698, -0.5407570581589365, 1.1910778044072616, 1.7628648760907555, -0.6551421684049624, 1.4492782835504971, -1.740609136786402, 0.28395166043367237, 0.2786932639454531, 0.41404403872693646, 0.21506270134800523, 0.8505682644777229, -0.5314201293607476, 0.5557896304038229, -0.365296760714232, -2.217061474571356, 0.9748013312221652, -0.34170981426661173, 0.6329261017503135, -1.6401310490359202, 0.3680781631778554, -1.285346047515693, -1.2285046196339122, 1.3173483989518635, -0.22844460194279967, -1.217582191747272, 0.037821191174498336, -1.3107140382302156, 0.3702429826892917, -0.157923202464818, -0.8234566045410443, 1.4173789736564744, 1.5935473741277102, 0.5073315634889328, 0.0022844246709907154, -0.4878625159174958, -0.49371361576826533, -0.23516513649527385, -0.4493622502616095, 0.36009271890851724, -1.0418440464224992, -1.53256274128827, -0.41820014868909544, 1.3907238052547535, -0.23434252023843363, -2.437667783631158, 0.2268982172156791, 0.7922884933261074, -1.0850266622940754, 1.5220154399440695, -0.3829316588565574, 2.0082340018972378, -0.9898848749021504, 0.17271913719835147, -0.9349385955128694, -0.17107806906005382, 0.7585279879634922, -0.3854391811891404, 0.519953625079641, 0.9421019207472212, -0.30754883829157076, -0.1147229354317717, 0.2498261281442703, -0.15744464120196575, -0.42045231527794225, -1.627296460821743, 0.005044118144702033, 0.5658345085132992, 0.6388688318264979, -1.3232878742686391, 0.7465694355165938, 1.0820018623444183, -0.5041788231736237, 1.1504172122250285, 0.9447481604950453, 0.38513046915252636, 1.0291157820071175, 1.0957470204235578, -0.47547506159373265, 1.0934248802476974], \"xaxis\": \"x4\", \"y\": [-1.6034591679105978, 0.6744517866256291, 0.16873903499098108, -0.7120838114462832, 0.23617682794395775, 1.180677289914722, -0.9243405825078829, 0.3249744142267152, 0.24123007955726194, -1.371775940963692, 2.0299735784534514, -1.638278538950703, -0.35137910597764804, 0.000667556043875359, -2.100087178780612, -0.4528852477762303, -1.0698827410677296, -0.22569897519992077, -1.0377256973062055, -0.40533486416227726, 0.6830430283391952, -0.33966680639046704, -0.8669563151471675, 0.527643417645511, -0.0833286510642639, 0.13548161732522387, 0.7223255346457207, -0.8175726858881641, 1.374045254814651, -0.5656973754914506, 0.39140389155072197, 0.16070195849060673, -0.1861179756096024, -0.5439910419446394, -0.7872529205941025, 1.3521531710461365, -0.969493749960735, -0.4360024968703549, -0.11854777642838966, -1.8023152962452222, -1.7570950411749429, -0.3551025680128556, -0.9730138683284136, 1.7174009466336264, -1.0403124882430377, 0.8946881797652224, -0.481238013126997, -0.1801078735119504, -0.3908161297782836, 0.4211820003945261, 0.8939246652280742, 0.29982529050087176, -0.19053552055843878, 0.9122188779991189, 0.02791823589603473, -2.049843605469713, 1.8451647391505106, 1.835826771883997, 0.4514046121545814, -1.3153479849431113, 0.6039372964302147, 0.1967032275194514, -0.19718733734199645, -1.0424453626339572, -1.291632485177539, 0.08021453833866193, 0.8381689241093387, -1.2721892786100386, 0.3732178168113568, 0.05276688734700252, -1.967496885033359, 0.9023845846590755, 0.24001744040925296, -0.05429170252464368, -0.49807948253119694, -1.452383083045118, -0.9418576074293369, -0.4523600116602419, 0.6591749020229192, -0.48515217656054904, 0.6035086074078894, -0.5338885854100055, -0.9455132299224919, -0.9184469295082123, -0.482512232189353, 1.495957404481226, -0.11809049112544505, 0.3194610816126905, -1.2852738670679296, -0.5933666650741988, 1.7904157188996117, 0.4052902765873968, 1.8775364158770929, 0.01327468426470117, -2.2108064327344157, 0.4547179081726537, -0.5095154977877799, -0.9630339148296717, -1.1623592880536002, -1.1754650048720257], \"yaxis\": \"y4\"}, {\"line\": {\"color\": \"rgba(128, 128, 128, 1.0)\", \"dash\": \"solid\", \"shape\": \"linear\", \"width\": 1.3}, \"marker\": {\"size\": 2, \"symbol\": \"circle\"}, \"mode\": \"markers\", \"name\": \"B\", \"text\": \"\", \"type\": \"scatter\", \"x\": [-1.6034591679105978, 0.6744517866256291, 0.16873903499098108, -0.7120838114462832, 0.23617682794395775, 1.180677289914722, -0.9243405825078829, 0.3249744142267152, 0.24123007955726194, -1.371775940963692, 2.0299735784534514, -1.638278538950703, -0.35137910597764804, 0.000667556043875359, -2.100087178780612, -0.4528852477762303, -1.0698827410677296, -0.22569897519992077, -1.0377256973062055, -0.40533486416227726, 0.6830430283391952, -0.33966680639046704, -0.8669563151471675, 0.527643417645511, -0.0833286510642639, 0.13548161732522387, 0.7223255346457207, -0.8175726858881641, 1.374045254814651, -0.5656973754914506, 0.39140389155072197, 0.16070195849060673, -0.1861179756096024, -0.5439910419446394, -0.7872529205941025, 1.3521531710461365, -0.969493749960735, -0.4360024968703549, -0.11854777642838966, -1.8023152962452222, -1.7570950411749429, -0.3551025680128556, -0.9730138683284136, 1.7174009466336264, -1.0403124882430377, 0.8946881797652224, -0.481238013126997, -0.1801078735119504, -0.3908161297782836, 0.4211820003945261, 0.8939246652280742, 0.29982529050087176, -0.19053552055843878, 0.9122188779991189, 0.02791823589603473, -2.049843605469713, 1.8451647391505106, 1.835826771883997, 0.4514046121545814, -1.3153479849431113, 0.6039372964302147, 0.1967032275194514, -0.19718733734199645, -1.0424453626339572, -1.291632485177539, 0.08021453833866193, 0.8381689241093387, -1.2721892786100386, 0.3732178168113568, 0.05276688734700252, -1.967496885033359, 0.9023845846590755, 0.24001744040925296, -0.05429170252464368, -0.49807948253119694, -1.452383083045118, -0.9418576074293369, -0.4523600116602419, 0.6591749020229192, -0.48515217656054904, 0.6035086074078894, -0.5338885854100055, -0.9455132299224919, -0.9184469295082123, -0.482512232189353, 1.495957404481226, -0.11809049112544505, 0.3194610816126905, -1.2852738670679296, -0.5933666650741988, 1.7904157188996117, 0.4052902765873968, 1.8775364158770929, 0.01327468426470117, -2.2108064327344157, 0.4547179081726537, -0.5095154977877799, -0.9630339148296717, -1.1623592880536002, -1.1754650048720257], \"xaxis\": \"x5\", \"y\": [0.8192336134801987, 0.7602482743753068, 0.6294100028786074, 0.03904283596140118, -0.20300240870303762, -0.4217753477618602, -0.005137086974361876, -0.6026416600652672, -0.519906165020211, 0.7206112252343626, 0.20239306106194205, 0.24824347008781414, -0.3632000207111838, 0.5246297345959616, -0.8406442737890164, -0.30471587593055305, 0.11002914869335803, -0.7770599281428845, -1.041800451056623, -0.9368605859558401, 1.7229026947754391, -0.3620596398305359, 0.4949821171328368, -1.5512318236277358, 1.4494671490438522, -0.8823861526943375, -0.22564121684055144, -0.7154859681767155, -1.0820544326577435, -0.15522332326670543, -0.7164670995786423, 0.2804719336161431, -0.2051279121244869, -1.5782948712181395, -1.6263700275222348, 0.7739434861128113, 1.3095508145895705, -1.2225798792362865, 1.121663384493526, -1.4332480938692411, 0.9030413351881482, 0.006778345110963212, -0.23949189864348985, -0.04759875800248899, 1.4895830215386634, 0.34389886769741146, 0.25995771804344314, 1.7315562384553185, 1.8352822475616812, -0.5177595834240207, 1.8250101308281006, 0.8931273429782042, 0.653976849766924, 0.2047316783716681, 0.3021811973823506, -2.2920227763677037, 0.3262921101530418, -0.3354101817456763, -1.2533302192795022, 0.11168265476850534, -1.0357739867335003, 0.528326646172122, 0.4110942155465323, 0.5074870135166899, -0.8819865735203064, -1.3814733121407319, 0.022845539968953, -0.28094217851010267, 0.48606511891207504, 1.7050928660376112, -0.5609434522847258, -0.3087151772829456, -0.21422050977795287, 0.732410209205975, -0.896156752315307, -0.748927157879648, 0.006314657490310105, -1.1216573254922337, -0.5118157861492615, 0.36209901117936405, -1.0880514683970912, 0.46632807066648674, -0.022897289258460102, 1.2856654258471698, -0.24579209518601375, -0.31100397594352286, 0.0904341764974058, -1.1641298986673796, 0.13704345571697643, 0.1676107315041115, -0.3185357210445539, -0.6292950421730465, 1.6062211256891819, -0.066381667278134, 0.7151003365735614, 0.3931328546294085, 0.39143520976327495, -0.6355055797809678, 0.09861609523459006, -1.2784322496774305], \"yaxis\": \"y5\"}, {\"histfunc\": \"count\", \"histnorm\": \"\", \"marker\": {\"color\": \"rgba(55, 128, 191, 1.0)\", \"line\": {\"color\": \"#4D5663\", \"width\": 1.3}}, \"name\": \"B\", \"nbinsx\": 10, \"opacity\": 0.8, \"orientation\": \"v\", \"type\": \"histogram\", \"x\": [0.8192336134801987, 0.7602482743753068, 0.6294100028786074, 0.03904283596140118, -0.20300240870303762, -0.4217753477618602, -0.005137086974361876, -0.6026416600652672, -0.519906165020211, 0.7206112252343626, 0.20239306106194205, 0.24824347008781414, -0.3632000207111838, 0.5246297345959616, -0.8406442737890164, -0.30471587593055305, 0.11002914869335803, -0.7770599281428845, -1.041800451056623, -0.9368605859558401, 1.7229026947754391, -0.3620596398305359, 0.4949821171328368, -1.5512318236277358, 1.4494671490438522, -0.8823861526943375, -0.22564121684055144, -0.7154859681767155, -1.0820544326577435, -0.15522332326670543, -0.7164670995786423, 0.2804719336161431, -0.2051279121244869, -1.5782948712181395, -1.6263700275222348, 0.7739434861128113, 1.3095508145895705, -1.2225798792362865, 1.121663384493526, -1.4332480938692411, 0.9030413351881482, 0.006778345110963212, -0.23949189864348985, -0.04759875800248899, 1.4895830215386634, 0.34389886769741146, 0.25995771804344314, 1.7315562384553185, 1.8352822475616812, -0.5177595834240207, 1.8250101308281006, 0.8931273429782042, 0.653976849766924, 0.2047316783716681, 0.3021811973823506, -2.2920227763677037, 0.3262921101530418, -0.3354101817456763, -1.2533302192795022, 0.11168265476850534, -1.0357739867335003, 0.528326646172122, 0.4110942155465323, 0.5074870135166899, -0.8819865735203064, -1.3814733121407319, 0.022845539968953, -0.28094217851010267, 0.48606511891207504, 1.7050928660376112, -0.5609434522847258, -0.3087151772829456, -0.21422050977795287, 0.732410209205975, -0.896156752315307, -0.748927157879648, 0.006314657490310105, -1.1216573254922337, -0.5118157861492615, 0.36209901117936405, -1.0880514683970912, 0.46632807066648674, -0.022897289258460102, 1.2856654258471698, -0.24579209518601375, -0.31100397594352286, 0.0904341764974058, -1.1641298986673796, 0.13704345571697643, 0.1676107315041115, -0.3185357210445539, -0.6292950421730465, 1.6062211256891819, -0.066381667278134, 0.7151003365735614, 0.3931328546294085, 0.39143520976327495, -0.6355055797809678, 0.09861609523459006, -1.2784322496774305], \"xaxis\": \"x6\", \"yaxis\": \"y6\"}, {\"line\": {\"color\": \"rgba(128, 128, 128, 1.0)\", \"dash\": \"solid\", \"shape\": \"linear\", \"width\": 1.3}, \"marker\": {\"size\": 2, \"symbol\": \"circle\"}, \"mode\": \"markers\", \"name\": \"B\", \"text\": \"\", \"type\": \"scatter\", \"x\": [2.413773226467551, -0.7128641051383859, -0.4644136139558775, -0.01595694663080215, -1.0650640833764218, -0.48824719587425885, -0.46792702899628724, 0.7935768216181784, -1.2882522941089907, 1.1808870677203653, 0.29037826101094666, -0.06273209145717351, 0.020915860572536787, 0.3559134718066243, -0.23828516601864974, 0.2235282271400536, 0.19797177200515284, 1.8154376537683254, 2.2848843666910827, 1.1551806091037926, -0.3699746848112576, 1.435658491619278, -1.028800188537578, 0.6939205836708525, -0.40461125110826474, 0.3327556578954046, -1.12640609571732, -2.6860447566331986, -0.9179074972194138, -1.06704343280252, 0.8589691278525239, 1.6668434809952644, -1.8254270265450483, -0.2336040815855926, -0.8741850919768382, 0.5611318101312296, -0.30844936946133, -2.0734330772879583, 0.04932456760975603, -0.4400844067977491, -2.584058318333577, 0.30613786549649014, -0.5441577295913987, 1.5392055423948425, -0.6572771953504218, -0.9186896963179999, 0.43104549104002376, 0.5560132829638029, 0.4295007204552606, 0.4296060913696705, 0.2560402303645244, 1.208248313929545, -1.7707832610232104, 1.3897189518615294, 1.0320936445448918, 0.02004439306689833, -0.9776711761697071, 0.2942035576612603, 1.8119180949403657, -0.3950788056218137, -0.910213972231028, -1.1739349903824625, -0.12564992211094936, -0.6755373400151659, -0.09944943527808983, -0.3425637260077509, -1.390472064931238, -2.605239681869079, -0.4120934341872476, -0.1433111350149596, -0.49250371960794603, -0.11038227569364245, -0.09476737702784671, 1.8538864184662776, -0.4262021828358027, 1.4510023307478104, -0.6586291189953202, 0.9627447585438353, -1.3102489008195526, 0.8263604082643905, 0.9052797697023395, 1.422667165070258, -1.3777177729561392, -0.4607103704274852, 0.038783419380216726, 0.4961343068085089, -0.257350508592742, 1.912895753556617, 0.4884316808865898, -0.13281473817269865, 0.78731472054916, -2.474027384823861, 0.26065077866571856, -1.6826622183155961, 0.8624958193966548, 1.1999959758197845, -1.0252157379675841, -0.431404358816828, -0.1830837371829216, 1.3727642127169377], \"xaxis\": \"x7\", \"y\": [0.8192336134801987, 0.7602482743753068, 0.6294100028786074, 0.03904283596140118, -0.20300240870303762, -0.4217753477618602, -0.005137086974361876, -0.6026416600652672, -0.519906165020211, 0.7206112252343626, 0.20239306106194205, 0.24824347008781414, -0.3632000207111838, 0.5246297345959616, -0.8406442737890164, -0.30471587593055305, 0.11002914869335803, -0.7770599281428845, -1.041800451056623, -0.9368605859558401, 1.7229026947754391, -0.3620596398305359, 0.4949821171328368, -1.5512318236277358, 1.4494671490438522, -0.8823861526943375, -0.22564121684055144, -0.7154859681767155, -1.0820544326577435, -0.15522332326670543, -0.7164670995786423, 0.2804719336161431, -0.2051279121244869, -1.5782948712181395, -1.6263700275222348, 0.7739434861128113, 1.3095508145895705, -1.2225798792362865, 1.121663384493526, -1.4332480938692411, 0.9030413351881482, 0.006778345110963212, -0.23949189864348985, -0.04759875800248899, 1.4895830215386634, 0.34389886769741146, 0.25995771804344314, 1.7315562384553185, 1.8352822475616812, -0.5177595834240207, 1.8250101308281006, 0.8931273429782042, 0.653976849766924, 0.2047316783716681, 0.3021811973823506, -2.2920227763677037, 0.3262921101530418, -0.3354101817456763, -1.2533302192795022, 0.11168265476850534, -1.0357739867335003, 0.528326646172122, 0.4110942155465323, 0.5074870135166899, -0.8819865735203064, -1.3814733121407319, 0.022845539968953, -0.28094217851010267, 0.48606511891207504, 1.7050928660376112, -0.5609434522847258, -0.3087151772829456, -0.21422050977795287, 0.732410209205975, -0.896156752315307, -0.748927157879648, 0.006314657490310105, -1.1216573254922337, -0.5118157861492615, 0.36209901117936405, -1.0880514683970912, 0.46632807066648674, -0.022897289258460102, 1.2856654258471698, -0.24579209518601375, -0.31100397594352286, 0.0904341764974058, -1.1641298986673796, 0.13704345571697643, 0.1676107315041115, -0.3185357210445539, -0.6292950421730465, 1.6062211256891819, -0.066381667278134, 0.7151003365735614, 0.3931328546294085, 0.39143520976327495, -0.6355055797809678, 0.09861609523459006, -1.2784322496774305], \"yaxis\": \"y7\"}, {\"line\": {\"color\": \"rgba(128, 128, 128, 1.0)\", \"dash\": \"solid\", \"shape\": \"linear\", \"width\": 1.3}, \"marker\": {\"size\": 2, \"symbol\": \"circle\"}, \"mode\": \"markers\", \"name\": \"B\", \"text\": \"\", \"type\": \"scatter\", \"x\": [0.007401829489414258, -1.4370701708241351, 1.8591857898260413, 0.3234628984355769, -1.0186827699736536, -2.5029781942582536, -1.3170221417895134, 1.2842493614367703, 1.3176561190796041, -1.51984636555648, -0.4568373373257365, 0.4917231453636013, 0.6297324020840347, 0.6800046087257194, -1.6879043349963478, -1.7184440811410282, -0.6629893158933756, -0.2990734559154911, 0.9273377980104158, 0.7579737594959451, 0.17464062389667698, -0.5407570581589365, 1.1910778044072616, 1.7628648760907555, -0.6551421684049624, 1.4492782835504971, -1.740609136786402, 0.28395166043367237, 0.2786932639454531, 0.41404403872693646, 0.21506270134800523, 0.8505682644777229, -0.5314201293607476, 0.5557896304038229, -0.365296760714232, -2.217061474571356, 0.9748013312221652, -0.34170981426661173, 0.6329261017503135, -1.6401310490359202, 0.3680781631778554, -1.285346047515693, -1.2285046196339122, 1.3173483989518635, -0.22844460194279967, -1.217582191747272, 0.037821191174498336, -1.3107140382302156, 0.3702429826892917, -0.157923202464818, -0.8234566045410443, 1.4173789736564744, 1.5935473741277102, 0.5073315634889328, 0.0022844246709907154, -0.4878625159174958, -0.49371361576826533, -0.23516513649527385, -0.4493622502616095, 0.36009271890851724, -1.0418440464224992, -1.53256274128827, -0.41820014868909544, 1.3907238052547535, -0.23434252023843363, -2.437667783631158, 0.2268982172156791, 0.7922884933261074, -1.0850266622940754, 1.5220154399440695, -0.3829316588565574, 2.0082340018972378, -0.9898848749021504, 0.17271913719835147, -0.9349385955128694, -0.17107806906005382, 0.7585279879634922, -0.3854391811891404, 0.519953625079641, 0.9421019207472212, -0.30754883829157076, -0.1147229354317717, 0.2498261281442703, -0.15744464120196575, -0.42045231527794225, -1.627296460821743, 0.005044118144702033, 0.5658345085132992, 0.6388688318264979, -1.3232878742686391, 0.7465694355165938, 1.0820018623444183, -0.5041788231736237, 1.1504172122250285, 0.9447481604950453, 0.38513046915252636, 1.0291157820071175, 1.0957470204235578, -0.47547506159373265, 1.0934248802476974], \"xaxis\": \"x8\", \"y\": [0.8192336134801987, 0.7602482743753068, 0.6294100028786074, 0.03904283596140118, -0.20300240870303762, -0.4217753477618602, -0.005137086974361876, -0.6026416600652672, -0.519906165020211, 0.7206112252343626, 0.20239306106194205, 0.24824347008781414, -0.3632000207111838, 0.5246297345959616, -0.8406442737890164, -0.30471587593055305, 0.11002914869335803, -0.7770599281428845, -1.041800451056623, -0.9368605859558401, 1.7229026947754391, -0.3620596398305359, 0.4949821171328368, -1.5512318236277358, 1.4494671490438522, -0.8823861526943375, -0.22564121684055144, -0.7154859681767155, -1.0820544326577435, -0.15522332326670543, -0.7164670995786423, 0.2804719336161431, -0.2051279121244869, -1.5782948712181395, -1.6263700275222348, 0.7739434861128113, 1.3095508145895705, -1.2225798792362865, 1.121663384493526, -1.4332480938692411, 0.9030413351881482, 0.006778345110963212, -0.23949189864348985, -0.04759875800248899, 1.4895830215386634, 0.34389886769741146, 0.25995771804344314, 1.7315562384553185, 1.8352822475616812, -0.5177595834240207, 1.8250101308281006, 0.8931273429782042, 0.653976849766924, 0.2047316783716681, 0.3021811973823506, -2.2920227763677037, 0.3262921101530418, -0.3354101817456763, -1.2533302192795022, 0.11168265476850534, -1.0357739867335003, 0.528326646172122, 0.4110942155465323, 0.5074870135166899, -0.8819865735203064, -1.3814733121407319, 0.022845539968953, -0.28094217851010267, 0.48606511891207504, 1.7050928660376112, -0.5609434522847258, -0.3087151772829456, -0.21422050977795287, 0.732410209205975, -0.896156752315307, -0.748927157879648, 0.006314657490310105, -1.1216573254922337, -0.5118157861492615, 0.36209901117936405, -1.0880514683970912, 0.46632807066648674, -0.022897289258460102, 1.2856654258471698, -0.24579209518601375, -0.31100397594352286, 0.0904341764974058, -1.1641298986673796, 0.13704345571697643, 0.1676107315041115, -0.3185357210445539, -0.6292950421730465, 1.6062211256891819, -0.066381667278134, 0.7151003365735614, 0.3931328546294085, 0.39143520976327495, -0.6355055797809678, 0.09861609523459006, -1.2784322496774305], \"yaxis\": \"y8\"}, {\"line\": {\"color\": \"rgba(128, 128, 128, 1.0)\", \"dash\": \"solid\", \"shape\": \"linear\", \"width\": 1.3}, \"marker\": {\"size\": 2, \"symbol\": \"circle\"}, \"mode\": \"markers\", \"name\": \"C\", \"text\": \"\", \"type\": \"scatter\", \"x\": [-1.6034591679105978, 0.6744517866256291, 0.16873903499098108, -0.7120838114462832, 0.23617682794395775, 1.180677289914722, -0.9243405825078829, 0.3249744142267152, 0.24123007955726194, -1.371775940963692, 2.0299735784534514, -1.638278538950703, -0.35137910597764804, 0.000667556043875359, -2.100087178780612, -0.4528852477762303, -1.0698827410677296, -0.22569897519992077, -1.0377256973062055, -0.40533486416227726, 0.6830430283391952, -0.33966680639046704, -0.8669563151471675, 0.527643417645511, -0.0833286510642639, 0.13548161732522387, 0.7223255346457207, -0.8175726858881641, 1.374045254814651, -0.5656973754914506, 0.39140389155072197, 0.16070195849060673, -0.1861179756096024, -0.5439910419446394, -0.7872529205941025, 1.3521531710461365, -0.969493749960735, -0.4360024968703549, -0.11854777642838966, -1.8023152962452222, -1.7570950411749429, -0.3551025680128556, -0.9730138683284136, 1.7174009466336264, -1.0403124882430377, 0.8946881797652224, -0.481238013126997, -0.1801078735119504, -0.3908161297782836, 0.4211820003945261, 0.8939246652280742, 0.29982529050087176, -0.19053552055843878, 0.9122188779991189, 0.02791823589603473, -2.049843605469713, 1.8451647391505106, 1.835826771883997, 0.4514046121545814, -1.3153479849431113, 0.6039372964302147, 0.1967032275194514, -0.19718733734199645, -1.0424453626339572, -1.291632485177539, 0.08021453833866193, 0.8381689241093387, -1.2721892786100386, 0.3732178168113568, 0.05276688734700252, -1.967496885033359, 0.9023845846590755, 0.24001744040925296, -0.05429170252464368, -0.49807948253119694, -1.452383083045118, -0.9418576074293369, -0.4523600116602419, 0.6591749020229192, -0.48515217656054904, 0.6035086074078894, -0.5338885854100055, -0.9455132299224919, -0.9184469295082123, -0.482512232189353, 1.495957404481226, -0.11809049112544505, 0.3194610816126905, -1.2852738670679296, -0.5933666650741988, 1.7904157188996117, 0.4052902765873968, 1.8775364158770929, 0.01327468426470117, -2.2108064327344157, 0.4547179081726537, -0.5095154977877799, -0.9630339148296717, -1.1623592880536002, -1.1754650048720257], \"xaxis\": \"x9\", \"y\": [2.413773226467551, -0.7128641051383859, -0.4644136139558775, -0.01595694663080215, -1.0650640833764218, -0.48824719587425885, -0.46792702899628724, 0.7935768216181784, -1.2882522941089907, 1.1808870677203653, 0.29037826101094666, -0.06273209145717351, 0.020915860572536787, 0.3559134718066243, -0.23828516601864974, 0.2235282271400536, 0.19797177200515284, 1.8154376537683254, 2.2848843666910827, 1.1551806091037926, -0.3699746848112576, 1.435658491619278, -1.028800188537578, 0.6939205836708525, -0.40461125110826474, 0.3327556578954046, -1.12640609571732, -2.6860447566331986, -0.9179074972194138, -1.06704343280252, 0.8589691278525239, 1.6668434809952644, -1.8254270265450483, -0.2336040815855926, -0.8741850919768382, 0.5611318101312296, -0.30844936946133, -2.0734330772879583, 0.04932456760975603, -0.4400844067977491, -2.584058318333577, 0.30613786549649014, -0.5441577295913987, 1.5392055423948425, -0.6572771953504218, -0.9186896963179999, 0.43104549104002376, 0.5560132829638029, 0.4295007204552606, 0.4296060913696705, 0.2560402303645244, 1.208248313929545, -1.7707832610232104, 1.3897189518615294, 1.0320936445448918, 0.02004439306689833, -0.9776711761697071, 0.2942035576612603, 1.8119180949403657, -0.3950788056218137, -0.910213972231028, -1.1739349903824625, -0.12564992211094936, -0.6755373400151659, -0.09944943527808983, -0.3425637260077509, -1.390472064931238, -2.605239681869079, -0.4120934341872476, -0.1433111350149596, -0.49250371960794603, -0.11038227569364245, -0.09476737702784671, 1.8538864184662776, -0.4262021828358027, 1.4510023307478104, -0.6586291189953202, 0.9627447585438353, -1.3102489008195526, 0.8263604082643905, 0.9052797697023395, 1.422667165070258, -1.3777177729561392, -0.4607103704274852, 0.038783419380216726, 0.4961343068085089, -0.257350508592742, 1.912895753556617, 0.4884316808865898, -0.13281473817269865, 0.78731472054916, -2.474027384823861, 0.26065077866571856, -1.6826622183155961, 0.8624958193966548, 1.1999959758197845, -1.0252157379675841, -0.431404358816828, -0.1830837371829216, 1.3727642127169377], \"yaxis\": \"y9\"}, {\"line\": {\"color\": \"rgba(128, 128, 128, 1.0)\", \"dash\": \"solid\", \"shape\": \"linear\", \"width\": 1.3}, \"marker\": {\"size\": 2, \"symbol\": \"circle\"}, \"mode\": \"markers\", \"name\": \"C\", \"text\": \"\", \"type\": \"scatter\", \"x\": [0.8192336134801987, 0.7602482743753068, 0.6294100028786074, 0.03904283596140118, -0.20300240870303762, -0.4217753477618602, -0.005137086974361876, -0.6026416600652672, -0.519906165020211, 0.7206112252343626, 0.20239306106194205, 0.24824347008781414, -0.3632000207111838, 0.5246297345959616, -0.8406442737890164, -0.30471587593055305, 0.11002914869335803, -0.7770599281428845, -1.041800451056623, -0.9368605859558401, 1.7229026947754391, -0.3620596398305359, 0.4949821171328368, -1.5512318236277358, 1.4494671490438522, -0.8823861526943375, -0.22564121684055144, -0.7154859681767155, -1.0820544326577435, -0.15522332326670543, -0.7164670995786423, 0.2804719336161431, -0.2051279121244869, -1.5782948712181395, -1.6263700275222348, 0.7739434861128113, 1.3095508145895705, -1.2225798792362865, 1.121663384493526, -1.4332480938692411, 0.9030413351881482, 0.006778345110963212, -0.23949189864348985, -0.04759875800248899, 1.4895830215386634, 0.34389886769741146, 0.25995771804344314, 1.7315562384553185, 1.8352822475616812, -0.5177595834240207, 1.8250101308281006, 0.8931273429782042, 0.653976849766924, 0.2047316783716681, 0.3021811973823506, -2.2920227763677037, 0.3262921101530418, -0.3354101817456763, -1.2533302192795022, 0.11168265476850534, -1.0357739867335003, 0.528326646172122, 0.4110942155465323, 0.5074870135166899, -0.8819865735203064, -1.3814733121407319, 0.022845539968953, -0.28094217851010267, 0.48606511891207504, 1.7050928660376112, -0.5609434522847258, -0.3087151772829456, -0.21422050977795287, 0.732410209205975, -0.896156752315307, -0.748927157879648, 0.006314657490310105, -1.1216573254922337, -0.5118157861492615, 0.36209901117936405, -1.0880514683970912, 0.46632807066648674, -0.022897289258460102, 1.2856654258471698, -0.24579209518601375, -0.31100397594352286, 0.0904341764974058, -1.1641298986673796, 0.13704345571697643, 0.1676107315041115, -0.3185357210445539, -0.6292950421730465, 1.6062211256891819, -0.066381667278134, 0.7151003365735614, 0.3931328546294085, 0.39143520976327495, -0.6355055797809678, 0.09861609523459006, -1.2784322496774305], \"xaxis\": \"x10\", \"y\": [2.413773226467551, -0.7128641051383859, -0.4644136139558775, -0.01595694663080215, -1.0650640833764218, -0.48824719587425885, -0.46792702899628724, 0.7935768216181784, -1.2882522941089907, 1.1808870677203653, 0.29037826101094666, -0.06273209145717351, 0.020915860572536787, 0.3559134718066243, -0.23828516601864974, 0.2235282271400536, 0.19797177200515284, 1.8154376537683254, 2.2848843666910827, 1.1551806091037926, -0.3699746848112576, 1.435658491619278, -1.028800188537578, 0.6939205836708525, -0.40461125110826474, 0.3327556578954046, -1.12640609571732, -2.6860447566331986, -0.9179074972194138, -1.06704343280252, 0.8589691278525239, 1.6668434809952644, -1.8254270265450483, -0.2336040815855926, -0.8741850919768382, 0.5611318101312296, -0.30844936946133, -2.0734330772879583, 0.04932456760975603, -0.4400844067977491, -2.584058318333577, 0.30613786549649014, -0.5441577295913987, 1.5392055423948425, -0.6572771953504218, -0.9186896963179999, 0.43104549104002376, 0.5560132829638029, 0.4295007204552606, 0.4296060913696705, 0.2560402303645244, 1.208248313929545, -1.7707832610232104, 1.3897189518615294, 1.0320936445448918, 0.02004439306689833, -0.9776711761697071, 0.2942035576612603, 1.8119180949403657, -0.3950788056218137, -0.910213972231028, -1.1739349903824625, -0.12564992211094936, -0.6755373400151659, -0.09944943527808983, -0.3425637260077509, -1.390472064931238, -2.605239681869079, -0.4120934341872476, -0.1433111350149596, -0.49250371960794603, -0.11038227569364245, -0.09476737702784671, 1.8538864184662776, -0.4262021828358027, 1.4510023307478104, -0.6586291189953202, 0.9627447585438353, -1.3102489008195526, 0.8263604082643905, 0.9052797697023395, 1.422667165070258, -1.3777177729561392, -0.4607103704274852, 0.038783419380216726, 0.4961343068085089, -0.257350508592742, 1.912895753556617, 0.4884316808865898, -0.13281473817269865, 0.78731472054916, -2.474027384823861, 0.26065077866571856, -1.6826622183155961, 0.8624958193966548, 1.1999959758197845, -1.0252157379675841, -0.431404358816828, -0.1830837371829216, 1.3727642127169377], \"yaxis\": \"y10\"}, {\"histfunc\": \"count\", \"histnorm\": \"\", \"marker\": {\"color\": \"rgba(50, 171, 96, 1.0)\", \"line\": {\"color\": \"#4D5663\", \"width\": 1.3}}, \"name\": \"C\", \"nbinsx\": 10, \"opacity\": 0.8, \"orientation\": \"v\", \"type\": \"histogram\", \"x\": [2.413773226467551, -0.7128641051383859, -0.4644136139558775, -0.01595694663080215, -1.0650640833764218, -0.48824719587425885, -0.46792702899628724, 0.7935768216181784, -1.2882522941089907, 1.1808870677203653, 0.29037826101094666, -0.06273209145717351, 0.020915860572536787, 0.3559134718066243, -0.23828516601864974, 0.2235282271400536, 0.19797177200515284, 1.8154376537683254, 2.2848843666910827, 1.1551806091037926, -0.3699746848112576, 1.435658491619278, -1.028800188537578, 0.6939205836708525, -0.40461125110826474, 0.3327556578954046, -1.12640609571732, -2.6860447566331986, -0.9179074972194138, -1.06704343280252, 0.8589691278525239, 1.6668434809952644, -1.8254270265450483, -0.2336040815855926, -0.8741850919768382, 0.5611318101312296, -0.30844936946133, -2.0734330772879583, 0.04932456760975603, -0.4400844067977491, -2.584058318333577, 0.30613786549649014, -0.5441577295913987, 1.5392055423948425, -0.6572771953504218, -0.9186896963179999, 0.43104549104002376, 0.5560132829638029, 0.4295007204552606, 0.4296060913696705, 0.2560402303645244, 1.208248313929545, -1.7707832610232104, 1.3897189518615294, 1.0320936445448918, 0.02004439306689833, -0.9776711761697071, 0.2942035576612603, 1.8119180949403657, -0.3950788056218137, -0.910213972231028, -1.1739349903824625, -0.12564992211094936, -0.6755373400151659, -0.09944943527808983, -0.3425637260077509, -1.390472064931238, -2.605239681869079, -0.4120934341872476, -0.1433111350149596, -0.49250371960794603, -0.11038227569364245, -0.09476737702784671, 1.8538864184662776, -0.4262021828358027, 1.4510023307478104, -0.6586291189953202, 0.9627447585438353, -1.3102489008195526, 0.8263604082643905, 0.9052797697023395, 1.422667165070258, -1.3777177729561392, -0.4607103704274852, 0.038783419380216726, 0.4961343068085089, -0.257350508592742, 1.912895753556617, 0.4884316808865898, -0.13281473817269865, 0.78731472054916, -2.474027384823861, 0.26065077866571856, -1.6826622183155961, 0.8624958193966548, 1.1999959758197845, -1.0252157379675841, -0.431404358816828, -0.1830837371829216, 1.3727642127169377], \"xaxis\": \"x11\", \"yaxis\": \"y11\"}, {\"line\": {\"color\": \"rgba(128, 128, 128, 1.0)\", \"dash\": \"solid\", \"shape\": \"linear\", \"width\": 1.3}, \"marker\": {\"size\": 2, \"symbol\": \"circle\"}, \"mode\": \"markers\", \"name\": \"C\", \"text\": \"\", \"type\": \"scatter\", \"x\": [0.007401829489414258, -1.4370701708241351, 1.8591857898260413, 0.3234628984355769, -1.0186827699736536, -2.5029781942582536, -1.3170221417895134, 1.2842493614367703, 1.3176561190796041, -1.51984636555648, -0.4568373373257365, 0.4917231453636013, 0.6297324020840347, 0.6800046087257194, -1.6879043349963478, -1.7184440811410282, -0.6629893158933756, -0.2990734559154911, 0.9273377980104158, 0.7579737594959451, 0.17464062389667698, -0.5407570581589365, 1.1910778044072616, 1.7628648760907555, -0.6551421684049624, 1.4492782835504971, -1.740609136786402, 0.28395166043367237, 0.2786932639454531, 0.41404403872693646, 0.21506270134800523, 0.8505682644777229, -0.5314201293607476, 0.5557896304038229, -0.365296760714232, -2.217061474571356, 0.9748013312221652, -0.34170981426661173, 0.6329261017503135, -1.6401310490359202, 0.3680781631778554, -1.285346047515693, -1.2285046196339122, 1.3173483989518635, -0.22844460194279967, -1.217582191747272, 0.037821191174498336, -1.3107140382302156, 0.3702429826892917, -0.157923202464818, -0.8234566045410443, 1.4173789736564744, 1.5935473741277102, 0.5073315634889328, 0.0022844246709907154, -0.4878625159174958, -0.49371361576826533, -0.23516513649527385, -0.4493622502616095, 0.36009271890851724, -1.0418440464224992, -1.53256274128827, -0.41820014868909544, 1.3907238052547535, -0.23434252023843363, -2.437667783631158, 0.2268982172156791, 0.7922884933261074, -1.0850266622940754, 1.5220154399440695, -0.3829316588565574, 2.0082340018972378, -0.9898848749021504, 0.17271913719835147, -0.9349385955128694, -0.17107806906005382, 0.7585279879634922, -0.3854391811891404, 0.519953625079641, 0.9421019207472212, -0.30754883829157076, -0.1147229354317717, 0.2498261281442703, -0.15744464120196575, -0.42045231527794225, -1.627296460821743, 0.005044118144702033, 0.5658345085132992, 0.6388688318264979, -1.3232878742686391, 0.7465694355165938, 1.0820018623444183, -0.5041788231736237, 1.1504172122250285, 0.9447481604950453, 0.38513046915252636, 1.0291157820071175, 1.0957470204235578, -0.47547506159373265, 1.0934248802476974], \"xaxis\": \"x12\", \"y\": [2.413773226467551, -0.7128641051383859, -0.4644136139558775, -0.01595694663080215, -1.0650640833764218, -0.48824719587425885, -0.46792702899628724, 0.7935768216181784, -1.2882522941089907, 1.1808870677203653, 0.29037826101094666, -0.06273209145717351, 0.020915860572536787, 0.3559134718066243, -0.23828516601864974, 0.2235282271400536, 0.19797177200515284, 1.8154376537683254, 2.2848843666910827, 1.1551806091037926, -0.3699746848112576, 1.435658491619278, -1.028800188537578, 0.6939205836708525, -0.40461125110826474, 0.3327556578954046, -1.12640609571732, -2.6860447566331986, -0.9179074972194138, -1.06704343280252, 0.8589691278525239, 1.6668434809952644, -1.8254270265450483, -0.2336040815855926, -0.8741850919768382, 0.5611318101312296, -0.30844936946133, -2.0734330772879583, 0.04932456760975603, -0.4400844067977491, -2.584058318333577, 0.30613786549649014, -0.5441577295913987, 1.5392055423948425, -0.6572771953504218, -0.9186896963179999, 0.43104549104002376, 0.5560132829638029, 0.4295007204552606, 0.4296060913696705, 0.2560402303645244, 1.208248313929545, -1.7707832610232104, 1.3897189518615294, 1.0320936445448918, 0.02004439306689833, -0.9776711761697071, 0.2942035576612603, 1.8119180949403657, -0.3950788056218137, -0.910213972231028, -1.1739349903824625, -0.12564992211094936, -0.6755373400151659, -0.09944943527808983, -0.3425637260077509, -1.390472064931238, -2.605239681869079, -0.4120934341872476, -0.1433111350149596, -0.49250371960794603, -0.11038227569364245, -0.09476737702784671, 1.8538864184662776, -0.4262021828358027, 1.4510023307478104, -0.6586291189953202, 0.9627447585438353, -1.3102489008195526, 0.8263604082643905, 0.9052797697023395, 1.422667165070258, -1.3777177729561392, -0.4607103704274852, 0.038783419380216726, 0.4961343068085089, -0.257350508592742, 1.912895753556617, 0.4884316808865898, -0.13281473817269865, 0.78731472054916, -2.474027384823861, 0.26065077866571856, -1.6826622183155961, 0.8624958193966548, 1.1999959758197845, -1.0252157379675841, -0.431404358816828, -0.1830837371829216, 1.3727642127169377], \"yaxis\": \"y12\"}, {\"line\": {\"color\": \"rgba(128, 128, 128, 1.0)\", \"dash\": \"solid\", \"shape\": \"linear\", \"width\": 1.3}, \"marker\": {\"size\": 2, \"symbol\": \"circle\"}, \"mode\": \"markers\", \"name\": \"D\", \"text\": \"\", \"type\": \"scatter\", \"x\": [-1.6034591679105978, 0.6744517866256291, 0.16873903499098108, -0.7120838114462832, 0.23617682794395775, 1.180677289914722, -0.9243405825078829, 0.3249744142267152, 0.24123007955726194, -1.371775940963692, 2.0299735784534514, -1.638278538950703, -0.35137910597764804, 0.000667556043875359, -2.100087178780612, -0.4528852477762303, -1.0698827410677296, -0.22569897519992077, -1.0377256973062055, -0.40533486416227726, 0.6830430283391952, -0.33966680639046704, -0.8669563151471675, 0.527643417645511, -0.0833286510642639, 0.13548161732522387, 0.7223255346457207, -0.8175726858881641, 1.374045254814651, -0.5656973754914506, 0.39140389155072197, 0.16070195849060673, -0.1861179756096024, -0.5439910419446394, -0.7872529205941025, 1.3521531710461365, -0.969493749960735, -0.4360024968703549, -0.11854777642838966, -1.8023152962452222, -1.7570950411749429, -0.3551025680128556, -0.9730138683284136, 1.7174009466336264, -1.0403124882430377, 0.8946881797652224, -0.481238013126997, -0.1801078735119504, -0.3908161297782836, 0.4211820003945261, 0.8939246652280742, 0.29982529050087176, -0.19053552055843878, 0.9122188779991189, 0.02791823589603473, -2.049843605469713, 1.8451647391505106, 1.835826771883997, 0.4514046121545814, -1.3153479849431113, 0.6039372964302147, 0.1967032275194514, -0.19718733734199645, -1.0424453626339572, -1.291632485177539, 0.08021453833866193, 0.8381689241093387, -1.2721892786100386, 0.3732178168113568, 0.05276688734700252, -1.967496885033359, 0.9023845846590755, 0.24001744040925296, -0.05429170252464368, -0.49807948253119694, -1.452383083045118, -0.9418576074293369, -0.4523600116602419, 0.6591749020229192, -0.48515217656054904, 0.6035086074078894, -0.5338885854100055, -0.9455132299224919, -0.9184469295082123, -0.482512232189353, 1.495957404481226, -0.11809049112544505, 0.3194610816126905, -1.2852738670679296, -0.5933666650741988, 1.7904157188996117, 0.4052902765873968, 1.8775364158770929, 0.01327468426470117, -2.2108064327344157, 0.4547179081726537, -0.5095154977877799, -0.9630339148296717, -1.1623592880536002, -1.1754650048720257], \"xaxis\": \"x13\", \"y\": [0.007401829489414258, -1.4370701708241351, 1.8591857898260413, 0.3234628984355769, -1.0186827699736536, -2.5029781942582536, -1.3170221417895134, 1.2842493614367703, 1.3176561190796041, -1.51984636555648, -0.4568373373257365, 0.4917231453636013, 0.6297324020840347, 0.6800046087257194, -1.6879043349963478, -1.7184440811410282, -0.6629893158933756, -0.2990734559154911, 0.9273377980104158, 0.7579737594959451, 0.17464062389667698, -0.5407570581589365, 1.1910778044072616, 1.7628648760907555, -0.6551421684049624, 1.4492782835504971, -1.740609136786402, 0.28395166043367237, 0.2786932639454531, 0.41404403872693646, 0.21506270134800523, 0.8505682644777229, -0.5314201293607476, 0.5557896304038229, -0.365296760714232, -2.217061474571356, 0.9748013312221652, -0.34170981426661173, 0.6329261017503135, -1.6401310490359202, 0.3680781631778554, -1.285346047515693, -1.2285046196339122, 1.3173483989518635, -0.22844460194279967, -1.217582191747272, 0.037821191174498336, -1.3107140382302156, 0.3702429826892917, -0.157923202464818, -0.8234566045410443, 1.4173789736564744, 1.5935473741277102, 0.5073315634889328, 0.0022844246709907154, -0.4878625159174958, -0.49371361576826533, -0.23516513649527385, -0.4493622502616095, 0.36009271890851724, -1.0418440464224992, -1.53256274128827, -0.41820014868909544, 1.3907238052547535, -0.23434252023843363, -2.437667783631158, 0.2268982172156791, 0.7922884933261074, -1.0850266622940754, 1.5220154399440695, -0.3829316588565574, 2.0082340018972378, -0.9898848749021504, 0.17271913719835147, -0.9349385955128694, -0.17107806906005382, 0.7585279879634922, -0.3854391811891404, 0.519953625079641, 0.9421019207472212, -0.30754883829157076, -0.1147229354317717, 0.2498261281442703, -0.15744464120196575, -0.42045231527794225, -1.627296460821743, 0.005044118144702033, 0.5658345085132992, 0.6388688318264979, -1.3232878742686391, 0.7465694355165938, 1.0820018623444183, -0.5041788231736237, 1.1504172122250285, 0.9447481604950453, 0.38513046915252636, 1.0291157820071175, 1.0957470204235578, -0.47547506159373265, 1.0934248802476974], \"yaxis\": \"y13\"}, {\"line\": {\"color\": \"rgba(128, 128, 128, 1.0)\", \"dash\": \"solid\", \"shape\": \"linear\", \"width\": 1.3}, \"marker\": {\"size\": 2, \"symbol\": \"circle\"}, \"mode\": \"markers\", \"name\": \"D\", \"text\": \"\", \"type\": \"scatter\", \"x\": [0.8192336134801987, 0.7602482743753068, 0.6294100028786074, 0.03904283596140118, -0.20300240870303762, -0.4217753477618602, -0.005137086974361876, -0.6026416600652672, -0.519906165020211, 0.7206112252343626, 0.20239306106194205, 0.24824347008781414, -0.3632000207111838, 0.5246297345959616, -0.8406442737890164, -0.30471587593055305, 0.11002914869335803, -0.7770599281428845, -1.041800451056623, -0.9368605859558401, 1.7229026947754391, -0.3620596398305359, 0.4949821171328368, -1.5512318236277358, 1.4494671490438522, -0.8823861526943375, -0.22564121684055144, -0.7154859681767155, -1.0820544326577435, -0.15522332326670543, -0.7164670995786423, 0.2804719336161431, -0.2051279121244869, -1.5782948712181395, -1.6263700275222348, 0.7739434861128113, 1.3095508145895705, -1.2225798792362865, 1.121663384493526, -1.4332480938692411, 0.9030413351881482, 0.006778345110963212, -0.23949189864348985, -0.04759875800248899, 1.4895830215386634, 0.34389886769741146, 0.25995771804344314, 1.7315562384553185, 1.8352822475616812, -0.5177595834240207, 1.8250101308281006, 0.8931273429782042, 0.653976849766924, 0.2047316783716681, 0.3021811973823506, -2.2920227763677037, 0.3262921101530418, -0.3354101817456763, -1.2533302192795022, 0.11168265476850534, -1.0357739867335003, 0.528326646172122, 0.4110942155465323, 0.5074870135166899, -0.8819865735203064, -1.3814733121407319, 0.022845539968953, -0.28094217851010267, 0.48606511891207504, 1.7050928660376112, -0.5609434522847258, -0.3087151772829456, -0.21422050977795287, 0.732410209205975, -0.896156752315307, -0.748927157879648, 0.006314657490310105, -1.1216573254922337, -0.5118157861492615, 0.36209901117936405, -1.0880514683970912, 0.46632807066648674, -0.022897289258460102, 1.2856654258471698, -0.24579209518601375, -0.31100397594352286, 0.0904341764974058, -1.1641298986673796, 0.13704345571697643, 0.1676107315041115, -0.3185357210445539, -0.6292950421730465, 1.6062211256891819, -0.066381667278134, 0.7151003365735614, 0.3931328546294085, 0.39143520976327495, -0.6355055797809678, 0.09861609523459006, -1.2784322496774305], \"xaxis\": \"x14\", \"y\": [0.007401829489414258, -1.4370701708241351, 1.8591857898260413, 0.3234628984355769, -1.0186827699736536, -2.5029781942582536, -1.3170221417895134, 1.2842493614367703, 1.3176561190796041, -1.51984636555648, -0.4568373373257365, 0.4917231453636013, 0.6297324020840347, 0.6800046087257194, -1.6879043349963478, -1.7184440811410282, -0.6629893158933756, -0.2990734559154911, 0.9273377980104158, 0.7579737594959451, 0.17464062389667698, -0.5407570581589365, 1.1910778044072616, 1.7628648760907555, -0.6551421684049624, 1.4492782835504971, -1.740609136786402, 0.28395166043367237, 0.2786932639454531, 0.41404403872693646, 0.21506270134800523, 0.8505682644777229, -0.5314201293607476, 0.5557896304038229, -0.365296760714232, -2.217061474571356, 0.9748013312221652, -0.34170981426661173, 0.6329261017503135, -1.6401310490359202, 0.3680781631778554, -1.285346047515693, -1.2285046196339122, 1.3173483989518635, -0.22844460194279967, -1.217582191747272, 0.037821191174498336, -1.3107140382302156, 0.3702429826892917, -0.157923202464818, -0.8234566045410443, 1.4173789736564744, 1.5935473741277102, 0.5073315634889328, 0.0022844246709907154, -0.4878625159174958, -0.49371361576826533, -0.23516513649527385, -0.4493622502616095, 0.36009271890851724, -1.0418440464224992, -1.53256274128827, -0.41820014868909544, 1.3907238052547535, -0.23434252023843363, -2.437667783631158, 0.2268982172156791, 0.7922884933261074, -1.0850266622940754, 1.5220154399440695, -0.3829316588565574, 2.0082340018972378, -0.9898848749021504, 0.17271913719835147, -0.9349385955128694, -0.17107806906005382, 0.7585279879634922, -0.3854391811891404, 0.519953625079641, 0.9421019207472212, -0.30754883829157076, -0.1147229354317717, 0.2498261281442703, -0.15744464120196575, -0.42045231527794225, -1.627296460821743, 0.005044118144702033, 0.5658345085132992, 0.6388688318264979, -1.3232878742686391, 0.7465694355165938, 1.0820018623444183, -0.5041788231736237, 1.1504172122250285, 0.9447481604950453, 0.38513046915252636, 1.0291157820071175, 1.0957470204235578, -0.47547506159373265, 1.0934248802476974], \"yaxis\": \"y14\"}, {\"line\": {\"color\": \"rgba(128, 128, 128, 1.0)\", \"dash\": \"solid\", \"shape\": \"linear\", \"width\": 1.3}, \"marker\": {\"size\": 2, \"symbol\": \"circle\"}, \"mode\": \"markers\", \"name\": \"D\", \"text\": \"\", \"type\": \"scatter\", \"x\": [2.413773226467551, -0.7128641051383859, -0.4644136139558775, -0.01595694663080215, -1.0650640833764218, -0.48824719587425885, -0.46792702899628724, 0.7935768216181784, -1.2882522941089907, 1.1808870677203653, 0.29037826101094666, -0.06273209145717351, 0.020915860572536787, 0.3559134718066243, -0.23828516601864974, 0.2235282271400536, 0.19797177200515284, 1.8154376537683254, 2.2848843666910827, 1.1551806091037926, -0.3699746848112576, 1.435658491619278, -1.028800188537578, 0.6939205836708525, -0.40461125110826474, 0.3327556578954046, -1.12640609571732, -2.6860447566331986, -0.9179074972194138, -1.06704343280252, 0.8589691278525239, 1.6668434809952644, -1.8254270265450483, -0.2336040815855926, -0.8741850919768382, 0.5611318101312296, -0.30844936946133, -2.0734330772879583, 0.04932456760975603, -0.4400844067977491, -2.584058318333577, 0.30613786549649014, -0.5441577295913987, 1.5392055423948425, -0.6572771953504218, -0.9186896963179999, 0.43104549104002376, 0.5560132829638029, 0.4295007204552606, 0.4296060913696705, 0.2560402303645244, 1.208248313929545, -1.7707832610232104, 1.3897189518615294, 1.0320936445448918, 0.02004439306689833, -0.9776711761697071, 0.2942035576612603, 1.8119180949403657, -0.3950788056218137, -0.910213972231028, -1.1739349903824625, -0.12564992211094936, -0.6755373400151659, -0.09944943527808983, -0.3425637260077509, -1.390472064931238, -2.605239681869079, -0.4120934341872476, -0.1433111350149596, -0.49250371960794603, -0.11038227569364245, -0.09476737702784671, 1.8538864184662776, -0.4262021828358027, 1.4510023307478104, -0.6586291189953202, 0.9627447585438353, -1.3102489008195526, 0.8263604082643905, 0.9052797697023395, 1.422667165070258, -1.3777177729561392, -0.4607103704274852, 0.038783419380216726, 0.4961343068085089, -0.257350508592742, 1.912895753556617, 0.4884316808865898, -0.13281473817269865, 0.78731472054916, -2.474027384823861, 0.26065077866571856, -1.6826622183155961, 0.8624958193966548, 1.1999959758197845, -1.0252157379675841, -0.431404358816828, -0.1830837371829216, 1.3727642127169377], \"xaxis\": \"x15\", \"y\": [0.007401829489414258, -1.4370701708241351, 1.8591857898260413, 0.3234628984355769, -1.0186827699736536, -2.5029781942582536, -1.3170221417895134, 1.2842493614367703, 1.3176561190796041, -1.51984636555648, -0.4568373373257365, 0.4917231453636013, 0.6297324020840347, 0.6800046087257194, -1.6879043349963478, -1.7184440811410282, -0.6629893158933756, -0.2990734559154911, 0.9273377980104158, 0.7579737594959451, 0.17464062389667698, -0.5407570581589365, 1.1910778044072616, 1.7628648760907555, -0.6551421684049624, 1.4492782835504971, -1.740609136786402, 0.28395166043367237, 0.2786932639454531, 0.41404403872693646, 0.21506270134800523, 0.8505682644777229, -0.5314201293607476, 0.5557896304038229, -0.365296760714232, -2.217061474571356, 0.9748013312221652, -0.34170981426661173, 0.6329261017503135, -1.6401310490359202, 0.3680781631778554, -1.285346047515693, -1.2285046196339122, 1.3173483989518635, -0.22844460194279967, -1.217582191747272, 0.037821191174498336, -1.3107140382302156, 0.3702429826892917, -0.157923202464818, -0.8234566045410443, 1.4173789736564744, 1.5935473741277102, 0.5073315634889328, 0.0022844246709907154, -0.4878625159174958, -0.49371361576826533, -0.23516513649527385, -0.4493622502616095, 0.36009271890851724, -1.0418440464224992, -1.53256274128827, -0.41820014868909544, 1.3907238052547535, -0.23434252023843363, -2.437667783631158, 0.2268982172156791, 0.7922884933261074, -1.0850266622940754, 1.5220154399440695, -0.3829316588565574, 2.0082340018972378, -0.9898848749021504, 0.17271913719835147, -0.9349385955128694, -0.17107806906005382, 0.7585279879634922, -0.3854391811891404, 0.519953625079641, 0.9421019207472212, -0.30754883829157076, -0.1147229354317717, 0.2498261281442703, -0.15744464120196575, -0.42045231527794225, -1.627296460821743, 0.005044118144702033, 0.5658345085132992, 0.6388688318264979, -1.3232878742686391, 0.7465694355165938, 1.0820018623444183, -0.5041788231736237, 1.1504172122250285, 0.9447481604950453, 0.38513046915252636, 1.0291157820071175, 1.0957470204235578, -0.47547506159373265, 1.0934248802476974], \"yaxis\": \"y15\"}, {\"histfunc\": \"count\", \"histnorm\": \"\", \"marker\": {\"color\": \"rgba(128, 0, 128, 1.0)\", \"line\": {\"color\": \"#4D5663\", \"width\": 1.3}}, \"name\": \"D\", \"nbinsx\": 10, \"opacity\": 0.8, \"orientation\": \"v\", \"type\": \"histogram\", \"x\": [0.007401829489414258, -1.4370701708241351, 1.8591857898260413, 0.3234628984355769, -1.0186827699736536, -2.5029781942582536, -1.3170221417895134, 1.2842493614367703, 1.3176561190796041, -1.51984636555648, -0.4568373373257365, 0.4917231453636013, 0.6297324020840347, 0.6800046087257194, -1.6879043349963478, -1.7184440811410282, -0.6629893158933756, -0.2990734559154911, 0.9273377980104158, 0.7579737594959451, 0.17464062389667698, -0.5407570581589365, 1.1910778044072616, 1.7628648760907555, -0.6551421684049624, 1.4492782835504971, -1.740609136786402, 0.28395166043367237, 0.2786932639454531, 0.41404403872693646, 0.21506270134800523, 0.8505682644777229, -0.5314201293607476, 0.5557896304038229, -0.365296760714232, -2.217061474571356, 0.9748013312221652, -0.34170981426661173, 0.6329261017503135, -1.6401310490359202, 0.3680781631778554, -1.285346047515693, -1.2285046196339122, 1.3173483989518635, -0.22844460194279967, -1.217582191747272, 0.037821191174498336, -1.3107140382302156, 0.3702429826892917, -0.157923202464818, -0.8234566045410443, 1.4173789736564744, 1.5935473741277102, 0.5073315634889328, 0.0022844246709907154, -0.4878625159174958, -0.49371361576826533, -0.23516513649527385, -0.4493622502616095, 0.36009271890851724, -1.0418440464224992, -1.53256274128827, -0.41820014868909544, 1.3907238052547535, -0.23434252023843363, -2.437667783631158, 0.2268982172156791, 0.7922884933261074, -1.0850266622940754, 1.5220154399440695, -0.3829316588565574, 2.0082340018972378, -0.9898848749021504, 0.17271913719835147, -0.9349385955128694, -0.17107806906005382, 0.7585279879634922, -0.3854391811891404, 0.519953625079641, 0.9421019207472212, -0.30754883829157076, -0.1147229354317717, 0.2498261281442703, -0.15744464120196575, -0.42045231527794225, -1.627296460821743, 0.005044118144702033, 0.5658345085132992, 0.6388688318264979, -1.3232878742686391, 0.7465694355165938, 1.0820018623444183, -0.5041788231736237, 1.1504172122250285, 0.9447481604950453, 0.38513046915252636, 1.0291157820071175, 1.0957470204235578, -0.47547506159373265, 1.0934248802476974], \"xaxis\": \"x16\", \"yaxis\": \"y16\"}],                        {\"bargap\": 0.02, \"legend\": {\"bgcolor\": \"#F5F6F9\", \"font\": {\"color\": \"#4D5663\"}}, \"paper_bgcolor\": \"#F5F6F9\", \"plot_bgcolor\": \"#F5F6F9\", \"showlegend\": false, \"template\": {\"data\": {\"bar\": [{\"error_x\": {\"color\": \"#2a3f5f\"}, \"error_y\": {\"color\": \"#2a3f5f\"}, \"marker\": {\"line\": {\"color\": \"#E5ECF6\", \"width\": 0.5}}, \"type\": \"bar\"}], \"barpolar\": [{\"marker\": {\"line\": {\"color\": \"#E5ECF6\", \"width\": 0.5}}, \"type\": \"barpolar\"}], \"carpet\": [{\"aaxis\": {\"endlinecolor\": \"#2a3f5f\", \"gridcolor\": \"white\", \"linecolor\": \"white\", \"minorgridcolor\": \"white\", \"startlinecolor\": \"#2a3f5f\"}, \"baxis\": {\"endlinecolor\": \"#2a3f5f\", \"gridcolor\": \"white\", \"linecolor\": \"white\", \"minorgridcolor\": \"white\", \"startlinecolor\": \"#2a3f5f\"}, \"type\": \"carpet\"}], \"choropleth\": [{\"colorbar\": {\"outlinewidth\": 0, \"ticks\": \"\"}, \"type\": \"choropleth\"}], \"contour\": [{\"colorbar\": {\"outlinewidth\": 0, \"ticks\": \"\"}, \"colorscale\": [[0.0, \"#0d0887\"], [0.1111111111111111, \"#46039f\"], [0.2222222222222222, \"#7201a8\"], [0.3333333333333333, \"#9c179e\"], [0.4444444444444444, \"#bd3786\"], [0.5555555555555556, \"#d8576b\"], [0.6666666666666666, \"#ed7953\"], [0.7777777777777778, \"#fb9f3a\"], [0.8888888888888888, \"#fdca26\"], [1.0, \"#f0f921\"]], \"type\": \"contour\"}], \"contourcarpet\": [{\"colorbar\": {\"outlinewidth\": 0, \"ticks\": \"\"}, \"type\": \"contourcarpet\"}], \"heatmap\": [{\"colorbar\": {\"outlinewidth\": 0, \"ticks\": \"\"}, \"colorscale\": [[0.0, \"#0d0887\"], [0.1111111111111111, \"#46039f\"], [0.2222222222222222, \"#7201a8\"], [0.3333333333333333, \"#9c179e\"], [0.4444444444444444, \"#bd3786\"], [0.5555555555555556, \"#d8576b\"], [0.6666666666666666, \"#ed7953\"], [0.7777777777777778, \"#fb9f3a\"], [0.8888888888888888, \"#fdca26\"], [1.0, \"#f0f921\"]], \"type\": \"heatmap\"}], \"heatmapgl\": [{\"colorbar\": {\"outlinewidth\": 0, \"ticks\": \"\"}, \"colorscale\": [[0.0, \"#0d0887\"], [0.1111111111111111, \"#46039f\"], [0.2222222222222222, \"#7201a8\"], [0.3333333333333333, \"#9c179e\"], [0.4444444444444444, \"#bd3786\"], [0.5555555555555556, \"#d8576b\"], [0.6666666666666666, \"#ed7953\"], [0.7777777777777778, \"#fb9f3a\"], [0.8888888888888888, \"#fdca26\"], [1.0, \"#f0f921\"]], \"type\": \"heatmapgl\"}], \"histogram\": [{\"marker\": {\"colorbar\": {\"outlinewidth\": 0, \"ticks\": \"\"}}, \"type\": \"histogram\"}], \"histogram2d\": [{\"colorbar\": {\"outlinewidth\": 0, \"ticks\": \"\"}, \"colorscale\": [[0.0, \"#0d0887\"], [0.1111111111111111, \"#46039f\"], [0.2222222222222222, \"#7201a8\"], [0.3333333333333333, \"#9c179e\"], [0.4444444444444444, \"#bd3786\"], [0.5555555555555556, \"#d8576b\"], [0.6666666666666666, \"#ed7953\"], [0.7777777777777778, \"#fb9f3a\"], [0.8888888888888888, \"#fdca26\"], [1.0, \"#f0f921\"]], \"type\": \"histogram2d\"}], \"histogram2dcontour\": [{\"colorbar\": {\"outlinewidth\": 0, \"ticks\": \"\"}, \"colorscale\": [[0.0, \"#0d0887\"], [0.1111111111111111, \"#46039f\"], [0.2222222222222222, \"#7201a8\"], [0.3333333333333333, \"#9c179e\"], [0.4444444444444444, \"#bd3786\"], [0.5555555555555556, \"#d8576b\"], [0.6666666666666666, \"#ed7953\"], [0.7777777777777778, \"#fb9f3a\"], [0.8888888888888888, \"#fdca26\"], [1.0, \"#f0f921\"]], \"type\": \"histogram2dcontour\"}], \"mesh3d\": [{\"colorbar\": {\"outlinewidth\": 0, \"ticks\": \"\"}, \"type\": \"mesh3d\"}], \"parcoords\": [{\"line\": {\"colorbar\": {\"outlinewidth\": 0, \"ticks\": \"\"}}, \"type\": \"parcoords\"}], \"pie\": [{\"automargin\": true, \"type\": \"pie\"}], \"scatter\": [{\"marker\": {\"colorbar\": {\"outlinewidth\": 0, \"ticks\": \"\"}}, \"type\": \"scatter\"}], \"scatter3d\": [{\"line\": {\"colorbar\": {\"outlinewidth\": 0, \"ticks\": \"\"}}, \"marker\": {\"colorbar\": {\"outlinewidth\": 0, \"ticks\": \"\"}}, \"type\": \"scatter3d\"}], \"scattercarpet\": [{\"marker\": {\"colorbar\": {\"outlinewidth\": 0, \"ticks\": \"\"}}, \"type\": \"scattercarpet\"}], \"scattergeo\": [{\"marker\": {\"colorbar\": {\"outlinewidth\": 0, \"ticks\": \"\"}}, \"type\": \"scattergeo\"}], \"scattergl\": [{\"marker\": {\"colorbar\": {\"outlinewidth\": 0, \"ticks\": \"\"}}, \"type\": \"scattergl\"}], \"scattermapbox\": [{\"marker\": {\"colorbar\": {\"outlinewidth\": 0, \"ticks\": \"\"}}, \"type\": \"scattermapbox\"}], \"scatterpolar\": [{\"marker\": {\"colorbar\": {\"outlinewidth\": 0, \"ticks\": \"\"}}, \"type\": \"scatterpolar\"}], \"scatterpolargl\": [{\"marker\": {\"colorbar\": {\"outlinewidth\": 0, \"ticks\": \"\"}}, \"type\": \"scatterpolargl\"}], \"scatterternary\": [{\"marker\": {\"colorbar\": {\"outlinewidth\": 0, \"ticks\": \"\"}}, \"type\": \"scatterternary\"}], \"surface\": [{\"colorbar\": {\"outlinewidth\": 0, \"ticks\": \"\"}, \"colorscale\": [[0.0, \"#0d0887\"], [0.1111111111111111, \"#46039f\"], [0.2222222222222222, \"#7201a8\"], [0.3333333333333333, \"#9c179e\"], [0.4444444444444444, \"#bd3786\"], [0.5555555555555556, \"#d8576b\"], [0.6666666666666666, \"#ed7953\"], [0.7777777777777778, \"#fb9f3a\"], [0.8888888888888888, \"#fdca26\"], [1.0, \"#f0f921\"]], \"type\": \"surface\"}], \"table\": [{\"cells\": {\"fill\": {\"color\": \"#EBF0F8\"}, \"line\": {\"color\": \"white\"}}, \"header\": {\"fill\": {\"color\": \"#C8D4E3\"}, \"line\": {\"color\": \"white\"}}, \"type\": \"table\"}]}, \"layout\": {\"annotationdefaults\": {\"arrowcolor\": \"#2a3f5f\", \"arrowhead\": 0, \"arrowwidth\": 1}, \"autotypenumbers\": \"strict\", \"coloraxis\": {\"colorbar\": {\"outlinewidth\": 0, \"ticks\": \"\"}}, \"colorscale\": {\"diverging\": [[0, \"#8e0152\"], [0.1, \"#c51b7d\"], [0.2, \"#de77ae\"], [0.3, \"#f1b6da\"], [0.4, \"#fde0ef\"], [0.5, \"#f7f7f7\"], [0.6, \"#e6f5d0\"], [0.7, \"#b8e186\"], [0.8, \"#7fbc41\"], [0.9, \"#4d9221\"], [1, \"#276419\"]], \"sequential\": [[0.0, \"#0d0887\"], [0.1111111111111111, \"#46039f\"], [0.2222222222222222, \"#7201a8\"], [0.3333333333333333, \"#9c179e\"], [0.4444444444444444, \"#bd3786\"], [0.5555555555555556, \"#d8576b\"], [0.6666666666666666, \"#ed7953\"], [0.7777777777777778, \"#fb9f3a\"], [0.8888888888888888, \"#fdca26\"], [1.0, \"#f0f921\"]], \"sequentialminus\": [[0.0, \"#0d0887\"], [0.1111111111111111, \"#46039f\"], [0.2222222222222222, \"#7201a8\"], [0.3333333333333333, \"#9c179e\"], [0.4444444444444444, \"#bd3786\"], [0.5555555555555556, \"#d8576b\"], [0.6666666666666666, \"#ed7953\"], [0.7777777777777778, \"#fb9f3a\"], [0.8888888888888888, \"#fdca26\"], [1.0, \"#f0f921\"]]}, \"colorway\": [\"#636efa\", \"#EF553B\", \"#00cc96\", \"#ab63fa\", \"#FFA15A\", \"#19d3f3\", \"#FF6692\", \"#B6E880\", \"#FF97FF\", \"#FECB52\"], \"font\": {\"color\": \"#2a3f5f\"}, \"geo\": {\"bgcolor\": \"white\", \"lakecolor\": \"white\", \"landcolor\": \"#E5ECF6\", \"showlakes\": true, \"showland\": true, \"subunitcolor\": \"white\"}, \"hoverlabel\": {\"align\": \"left\"}, \"hovermode\": \"closest\", \"mapbox\": {\"style\": \"light\"}, \"paper_bgcolor\": \"white\", \"plot_bgcolor\": \"#E5ECF6\", \"polar\": {\"angularaxis\": {\"gridcolor\": \"white\", \"linecolor\": \"white\", \"ticks\": \"\"}, \"bgcolor\": \"#E5ECF6\", \"radialaxis\": {\"gridcolor\": \"white\", \"linecolor\": \"white\", \"ticks\": \"\"}}, \"scene\": {\"xaxis\": {\"backgroundcolor\": \"#E5ECF6\", \"gridcolor\": \"white\", \"gridwidth\": 2, \"linecolor\": \"white\", \"showbackground\": true, \"ticks\": \"\", \"zerolinecolor\": \"white\"}, \"yaxis\": {\"backgroundcolor\": \"#E5ECF6\", \"gridcolor\": \"white\", \"gridwidth\": 2, \"linecolor\": \"white\", \"showbackground\": true, \"ticks\": \"\", \"zerolinecolor\": \"white\"}, \"zaxis\": {\"backgroundcolor\": \"#E5ECF6\", \"gridcolor\": \"white\", \"gridwidth\": 2, \"linecolor\": \"white\", \"showbackground\": true, \"ticks\": \"\", \"zerolinecolor\": \"white\"}}, \"shapedefaults\": {\"line\": {\"color\": \"#2a3f5f\"}}, \"ternary\": {\"aaxis\": {\"gridcolor\": \"white\", \"linecolor\": \"white\", \"ticks\": \"\"}, \"baxis\": {\"gridcolor\": \"white\", \"linecolor\": \"white\", \"ticks\": \"\"}, \"bgcolor\": \"#E5ECF6\", \"caxis\": {\"gridcolor\": \"white\", \"linecolor\": \"white\", \"ticks\": \"\"}}, \"title\": {\"x\": 0.05}, \"xaxis\": {\"automargin\": true, \"gridcolor\": \"white\", \"linecolor\": \"white\", \"ticks\": \"\", \"title\": {\"standoff\": 15}, \"zerolinecolor\": \"white\", \"zerolinewidth\": 2}, \"yaxis\": {\"automargin\": true, \"gridcolor\": \"white\", \"linecolor\": \"white\", \"ticks\": \"\", \"title\": {\"standoff\": 15}, \"zerolinecolor\": \"white\", \"zerolinewidth\": 2}}}, \"title\": {\"font\": {\"color\": \"#4D5663\"}}, \"xaxis\": {\"anchor\": \"y\", \"domain\": [0.0, 0.2125], \"gridcolor\": \"#E1E5ED\", \"showgrid\": false, \"tickfont\": {\"color\": \"#4D5663\"}, \"title\": {\"font\": {\"color\": \"#4D5663\"}, \"text\": \"\"}, \"zerolinecolor\": \"#E1E5ED\"}, \"xaxis10\": {\"anchor\": \"y10\", \"domain\": [0.2625, 0.475], \"gridcolor\": \"#E1E5ED\", \"showgrid\": false, \"tickfont\": {\"color\": \"#4D5663\"}, \"title\": {\"font\": {\"color\": \"#4D5663\"}, \"text\": \"\"}, \"zerolinecolor\": \"#E1E5ED\"}, \"xaxis11\": {\"anchor\": \"y11\", \"domain\": [0.525, 0.7375], \"gridcolor\": \"#E1E5ED\", \"showgrid\": false, \"tickfont\": {\"color\": \"#4D5663\"}, \"title\": {\"font\": {\"color\": \"#4D5663\"}, \"text\": \"\"}, \"zerolinecolor\": \"#E1E5ED\"}, \"xaxis12\": {\"anchor\": \"y12\", \"domain\": [0.7875, 1.0], \"gridcolor\": \"#E1E5ED\", \"showgrid\": false, \"tickfont\": {\"color\": \"#4D5663\"}, \"title\": {\"font\": {\"color\": \"#4D5663\"}, \"text\": \"\"}, \"zerolinecolor\": \"#E1E5ED\"}, \"xaxis13\": {\"anchor\": \"y13\", \"domain\": [0.0, 0.2125], \"gridcolor\": \"#E1E5ED\", \"showgrid\": false, \"tickfont\": {\"color\": \"#4D5663\"}, \"title\": {\"font\": {\"color\": \"#4D5663\"}, \"text\": \"\"}, \"zerolinecolor\": \"#E1E5ED\"}, \"xaxis14\": {\"anchor\": \"y14\", \"domain\": [0.2625, 0.475], \"gridcolor\": \"#E1E5ED\", \"showgrid\": false, \"tickfont\": {\"color\": \"#4D5663\"}, \"title\": {\"font\": {\"color\": \"#4D5663\"}, \"text\": \"\"}, \"zerolinecolor\": \"#E1E5ED\"}, \"xaxis15\": {\"anchor\": \"y15\", \"domain\": [0.525, 0.7375], \"gridcolor\": \"#E1E5ED\", \"showgrid\": false, \"tickfont\": {\"color\": \"#4D5663\"}, \"title\": {\"font\": {\"color\": \"#4D5663\"}, \"text\": \"\"}, \"zerolinecolor\": \"#E1E5ED\"}, \"xaxis16\": {\"anchor\": \"y16\", \"domain\": [0.7875, 1.0], \"gridcolor\": \"#E1E5ED\", \"showgrid\": false, \"tickfont\": {\"color\": \"#4D5663\"}, \"title\": {\"font\": {\"color\": \"#4D5663\"}, \"text\": \"\"}, \"zerolinecolor\": \"#E1E5ED\"}, \"xaxis2\": {\"anchor\": \"y2\", \"domain\": [0.2625, 0.475], \"gridcolor\": \"#E1E5ED\", \"showgrid\": false, \"tickfont\": {\"color\": \"#4D5663\"}, \"title\": {\"font\": {\"color\": \"#4D5663\"}, \"text\": \"\"}, \"zerolinecolor\": \"#E1E5ED\"}, \"xaxis3\": {\"anchor\": \"y3\", \"domain\": [0.525, 0.7375], \"gridcolor\": \"#E1E5ED\", \"showgrid\": false, \"tickfont\": {\"color\": \"#4D5663\"}, \"title\": {\"font\": {\"color\": \"#4D5663\"}, \"text\": \"\"}, \"zerolinecolor\": \"#E1E5ED\"}, \"xaxis4\": {\"anchor\": \"y4\", \"domain\": [0.7875, 1.0], \"gridcolor\": \"#E1E5ED\", \"showgrid\": false, \"tickfont\": {\"color\": \"#4D5663\"}, \"title\": {\"font\": {\"color\": \"#4D5663\"}, \"text\": \"\"}, \"zerolinecolor\": \"#E1E5ED\"}, \"xaxis5\": {\"anchor\": \"y5\", \"domain\": [0.0, 0.2125], \"gridcolor\": \"#E1E5ED\", \"showgrid\": false, \"tickfont\": {\"color\": \"#4D5663\"}, \"title\": {\"font\": {\"color\": \"#4D5663\"}, \"text\": \"\"}, \"zerolinecolor\": \"#E1E5ED\"}, \"xaxis6\": {\"anchor\": \"y6\", \"domain\": [0.2625, 0.475], \"gridcolor\": \"#E1E5ED\", \"showgrid\": false, \"tickfont\": {\"color\": \"#4D5663\"}, \"title\": {\"font\": {\"color\": \"#4D5663\"}, \"text\": \"\"}, \"zerolinecolor\": \"#E1E5ED\"}, \"xaxis7\": {\"anchor\": \"y7\", \"domain\": [0.525, 0.7375], \"gridcolor\": \"#E1E5ED\", \"showgrid\": false, \"tickfont\": {\"color\": \"#4D5663\"}, \"title\": {\"font\": {\"color\": \"#4D5663\"}, \"text\": \"\"}, \"zerolinecolor\": \"#E1E5ED\"}, \"xaxis8\": {\"anchor\": \"y8\", \"domain\": [0.7875, 1.0], \"gridcolor\": \"#E1E5ED\", \"showgrid\": false, \"tickfont\": {\"color\": \"#4D5663\"}, \"title\": {\"font\": {\"color\": \"#4D5663\"}, \"text\": \"\"}, \"zerolinecolor\": \"#E1E5ED\"}, \"xaxis9\": {\"anchor\": \"y9\", \"domain\": [0.0, 0.2125], \"gridcolor\": \"#E1E5ED\", \"showgrid\": false, \"tickfont\": {\"color\": \"#4D5663\"}, \"title\": {\"font\": {\"color\": \"#4D5663\"}, \"text\": \"\"}, \"zerolinecolor\": \"#E1E5ED\"}, \"yaxis\": {\"anchor\": \"x\", \"domain\": [0.8025, 1.0], \"gridcolor\": \"#E1E5ED\", \"showgrid\": false, \"tickfont\": {\"color\": \"#4D5663\"}, \"title\": {\"font\": {\"color\": \"#4D5663\"}, \"text\": \"\"}, \"zerolinecolor\": \"#E1E5ED\"}, \"yaxis10\": {\"anchor\": \"x10\", \"domain\": [0.2675, 0.465], \"gridcolor\": \"#E1E5ED\", \"showgrid\": false, \"tickfont\": {\"color\": \"#4D5663\"}, \"title\": {\"font\": {\"color\": \"#4D5663\"}, \"text\": \"\"}, \"zerolinecolor\": \"#E1E5ED\"}, \"yaxis11\": {\"anchor\": \"x11\", \"domain\": [0.2675, 0.465], \"gridcolor\": \"#E1E5ED\", \"showgrid\": false, \"tickfont\": {\"color\": \"#4D5663\"}, \"title\": {\"font\": {\"color\": \"#4D5663\"}, \"text\": \"\"}, \"zerolinecolor\": \"#E1E5ED\"}, \"yaxis12\": {\"anchor\": \"x12\", \"domain\": [0.2675, 0.465], \"gridcolor\": \"#E1E5ED\", \"showgrid\": false, \"tickfont\": {\"color\": \"#4D5663\"}, \"title\": {\"font\": {\"color\": \"#4D5663\"}, \"text\": \"\"}, \"zerolinecolor\": \"#E1E5ED\"}, \"yaxis13\": {\"anchor\": \"x13\", \"domain\": [0.0, 0.1975], \"gridcolor\": \"#E1E5ED\", \"showgrid\": false, \"tickfont\": {\"color\": \"#4D5663\"}, \"title\": {\"font\": {\"color\": \"#4D5663\"}, \"text\": \"\"}, \"zerolinecolor\": \"#E1E5ED\"}, \"yaxis14\": {\"anchor\": \"x14\", \"domain\": [0.0, 0.1975], \"gridcolor\": \"#E1E5ED\", \"showgrid\": false, \"tickfont\": {\"color\": \"#4D5663\"}, \"title\": {\"font\": {\"color\": \"#4D5663\"}, \"text\": \"\"}, \"zerolinecolor\": \"#E1E5ED\"}, \"yaxis15\": {\"anchor\": \"x15\", \"domain\": [0.0, 0.1975], \"gridcolor\": \"#E1E5ED\", \"showgrid\": false, \"tickfont\": {\"color\": \"#4D5663\"}, \"title\": {\"font\": {\"color\": \"#4D5663\"}, \"text\": \"\"}, \"zerolinecolor\": \"#E1E5ED\"}, \"yaxis16\": {\"anchor\": \"x16\", \"domain\": [0.0, 0.1975], \"gridcolor\": \"#E1E5ED\", \"showgrid\": false, \"tickfont\": {\"color\": \"#4D5663\"}, \"title\": {\"font\": {\"color\": \"#4D5663\"}, \"text\": \"\"}, \"zerolinecolor\": \"#E1E5ED\"}, \"yaxis2\": {\"anchor\": \"x2\", \"domain\": [0.8025, 1.0], \"gridcolor\": \"#E1E5ED\", \"showgrid\": false, \"tickfont\": {\"color\": \"#4D5663\"}, \"title\": {\"font\": {\"color\": \"#4D5663\"}, \"text\": \"\"}, \"zerolinecolor\": \"#E1E5ED\"}, \"yaxis3\": {\"anchor\": \"x3\", \"domain\": [0.8025, 1.0], \"gridcolor\": \"#E1E5ED\", \"showgrid\": false, \"tickfont\": {\"color\": \"#4D5663\"}, \"title\": {\"font\": {\"color\": \"#4D5663\"}, \"text\": \"\"}, \"zerolinecolor\": \"#E1E5ED\"}, \"yaxis4\": {\"anchor\": \"x4\", \"domain\": [0.8025, 1.0], \"gridcolor\": \"#E1E5ED\", \"showgrid\": false, \"tickfont\": {\"color\": \"#4D5663\"}, \"title\": {\"font\": {\"color\": \"#4D5663\"}, \"text\": \"\"}, \"zerolinecolor\": \"#E1E5ED\"}, \"yaxis5\": {\"anchor\": \"x5\", \"domain\": [0.535, 0.7325], \"gridcolor\": \"#E1E5ED\", \"showgrid\": false, \"tickfont\": {\"color\": \"#4D5663\"}, \"title\": {\"font\": {\"color\": \"#4D5663\"}, \"text\": \"\"}, \"zerolinecolor\": \"#E1E5ED\"}, \"yaxis6\": {\"anchor\": \"x6\", \"domain\": [0.535, 0.7325], \"gridcolor\": \"#E1E5ED\", \"showgrid\": false, \"tickfont\": {\"color\": \"#4D5663\"}, \"title\": {\"font\": {\"color\": \"#4D5663\"}, \"text\": \"\"}, \"zerolinecolor\": \"#E1E5ED\"}, \"yaxis7\": {\"anchor\": \"x7\", \"domain\": [0.535, 0.7325], \"gridcolor\": \"#E1E5ED\", \"showgrid\": false, \"tickfont\": {\"color\": \"#4D5663\"}, \"title\": {\"font\": {\"color\": \"#4D5663\"}, \"text\": \"\"}, \"zerolinecolor\": \"#E1E5ED\"}, \"yaxis8\": {\"anchor\": \"x8\", \"domain\": [0.535, 0.7325], \"gridcolor\": \"#E1E5ED\", \"showgrid\": false, \"tickfont\": {\"color\": \"#4D5663\"}, \"title\": {\"font\": {\"color\": \"#4D5663\"}, \"text\": \"\"}, \"zerolinecolor\": \"#E1E5ED\"}, \"yaxis9\": {\"anchor\": \"x9\", \"domain\": [0.2675, 0.465], \"gridcolor\": \"#E1E5ED\", \"showgrid\": false, \"tickfont\": {\"color\": \"#4D5663\"}, \"title\": {\"font\": {\"color\": \"#4D5663\"}, \"text\": \"\"}, \"zerolinecolor\": \"#E1E5ED\"}},                        {\"showLink\": true, \"linkText\": \"Export to plot.ly\", \"plotlyServerURL\": \"https://plot.ly\", \"responsive\": true}                    ).then(function(){\n                            \nvar gd = document.getElementById('e983a6a8-1df4-43c0-bb72-5c5fc5c2da8e');\nvar x = new MutationObserver(function (mutations, observer) {{\n        var display = window.getComputedStyle(gd).display;\n        if (!display || display === 'none') {{\n            console.log([gd, 'removed!']);\n            Plotly.purge(gd);\n            observer.disconnect();\n        }}\n}});\n\n// Listen for the removal of the full notebook cells\nvar notebookContainer = gd.closest('#notebook-container');\nif (notebookContainer) {{\n    x.observe(notebookContainer, {childList: true});\n}}\n\n// Listen for the clearing of the current output cell\nvar outputEl = gd.closest('.output');\nif (outputEl) {{\n    x.observe(outputEl, {childList: true});\n}}\n\n                        })                };                });            </script>        </div>"
     },
     "metadata": {}
    }
   ],
   "source": [
    "df1.scatter_matrix()"
   ]
  },
  {
   "cell_type": "code",
   "execution_count": null,
   "metadata": {},
   "outputs": [],
   "source": []
  }
 ]
}